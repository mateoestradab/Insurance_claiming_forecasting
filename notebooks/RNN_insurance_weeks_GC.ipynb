{
  "nbformat": 4,
  "nbformat_minor": 5,
  "metadata": {
    "kernelspec": {
      "display_name": "Python 3",
      "language": "python",
      "name": "python3"
    },
    "language_info": {
      "codemirror_mode": {
        "name": "ipython",
        "version": 3
      },
      "file_extension": ".py",
      "mimetype": "text/x-python",
      "name": "python",
      "nbconvert_exporter": "python",
      "pygments_lexer": "ipython3",
      "version": "3.8.6"
    },
    "colab": {
      "name": "RNN_insurance-weeks.ipynb",
      "provenance": [],
      "collapsed_sections": []
    },
    "accelerator": "GPU"
  },
  "cells": [
    {
      "cell_type": "markdown",
      "metadata": {
        "id": "fifty-walter"
      },
      "source": [
        "# RNN - Insurance"
      ],
      "id": "fifty-walter"
    },
    {
      "cell_type": "code",
      "metadata": {
        "id": "married-print"
      },
      "source": [
        "import pandas as pd\n",
        "import numpy as np\n",
        "import matplotlib.pyplot as plt"
      ],
      "id": "married-print",
      "execution_count": 1,
      "outputs": []
    },
    {
      "cell_type": "code",
      "metadata": {
        "colab": {
          "resources": {
            "http://localhost:8080/nbextensions/google.colab/files.js": {
              "data": "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",
              "ok": true,
              "headers": [
                [
                  "content-type",
                  "application/javascript"
                ]
              ],
              "status": 200,
              "status_text": ""
            }
          },
          "base_uri": "https://localhost:8080/",
          "height": 73
        },
        "id": "broad-strike",
        "outputId": "4193ef24-8ac5-43e1-a855-2d274b867a8f"
      },
      "source": [
        "from google.colab import files\r\n",
        "uploaded = files.upload()"
      ],
      "id": "broad-strike",
      "execution_count": 2,
      "outputs": [
        {
          "output_type": "display_data",
          "data": {
            "text/html": [
              "\n",
              "     <input type=\"file\" id=\"files-6c9bf51c-0ef2-4fdb-b43b-70586fafb7ab\" name=\"files[]\" multiple disabled\n",
              "        style=\"border:none\" />\n",
              "     <output id=\"result-6c9bf51c-0ef2-4fdb-b43b-70586fafb7ab\">\n",
              "      Upload widget is only available when the cell has been executed in the\n",
              "      current browser session. Please rerun this cell to enable.\n",
              "      </output>\n",
              "      <script src=\"/nbextensions/google.colab/files.js\"></script> "
            ],
            "text/plain": [
              "<IPython.core.display.HTML object>"
            ]
          },
          "metadata": {
            "tags": []
          }
        },
        {
          "output_type": "stream",
          "text": [
            "Saving weekly_data_clean.xlsx to weekly_data_clean (1).xlsx\n"
          ],
          "name": "stdout"
        }
      ]
    },
    {
      "cell_type": "code",
      "metadata": {
        "id": "SDLeU-T4Z2O2"
      },
      "source": [
        "import io\r\n",
        "data = pd.read_excel(io.BytesIO(uploaded['weekly_data_clean.xlsx']))"
      ],
      "id": "SDLeU-T4Z2O2",
      "execution_count": 3,
      "outputs": []
    },
    {
      "cell_type": "code",
      "metadata": {
        "id": "voluntary-magic"
      },
      "source": [
        "data = data.drop(columns=['Unnamed: 0', 'date_issue'])"
      ],
      "id": "voluntary-magic",
      "execution_count": 4,
      "outputs": []
    },
    {
      "cell_type": "code",
      "metadata": {
        "colab": {
          "base_uri": "https://localhost:8080/",
          "height": 402
        },
        "id": "becoming-hindu",
        "outputId": "81abc40c-6446-4b6e-e4c5-0896a2c673e9"
      },
      "source": [
        "data"
      ],
      "id": "becoming-hindu",
      "execution_count": 5,
      "outputs": [
        {
          "output_type": "execute_result",
          "data": {
            "text/html": [
              "<div>\n",
              "<style scoped>\n",
              "    .dataframe tbody tr th:only-of-type {\n",
              "        vertical-align: middle;\n",
              "    }\n",
              "\n",
              "    .dataframe tbody tr th {\n",
              "        vertical-align: top;\n",
              "    }\n",
              "\n",
              "    .dataframe thead th {\n",
              "        text-align: right;\n",
              "    }\n",
              "</style>\n",
              "<table border=\"1\" class=\"dataframe\">\n",
              "  <thead>\n",
              "    <tr style=\"text-align: right;\">\n",
              "      <th></th>\n",
              "      <th>total_amount_claims</th>\n",
              "    </tr>\n",
              "  </thead>\n",
              "  <tbody>\n",
              "    <tr>\n",
              "      <th>0</th>\n",
              "      <td>16683</td>\n",
              "    </tr>\n",
              "    <tr>\n",
              "      <th>1</th>\n",
              "      <td>201774</td>\n",
              "    </tr>\n",
              "    <tr>\n",
              "      <th>2</th>\n",
              "      <td>263661</td>\n",
              "    </tr>\n",
              "    <tr>\n",
              "      <th>3</th>\n",
              "      <td>799703</td>\n",
              "    </tr>\n",
              "    <tr>\n",
              "      <th>4</th>\n",
              "      <td>900305</td>\n",
              "    </tr>\n",
              "    <tr>\n",
              "      <th>...</th>\n",
              "      <td>...</td>\n",
              "    </tr>\n",
              "    <tr>\n",
              "      <th>127</th>\n",
              "      <td>1949930</td>\n",
              "    </tr>\n",
              "    <tr>\n",
              "      <th>128</th>\n",
              "      <td>1725225</td>\n",
              "    </tr>\n",
              "    <tr>\n",
              "      <th>129</th>\n",
              "      <td>2232202</td>\n",
              "    </tr>\n",
              "    <tr>\n",
              "      <th>130</th>\n",
              "      <td>2666662</td>\n",
              "    </tr>\n",
              "    <tr>\n",
              "      <th>131</th>\n",
              "      <td>2111986</td>\n",
              "    </tr>\n",
              "  </tbody>\n",
              "</table>\n",
              "<p>132 rows × 1 columns</p>\n",
              "</div>"
            ],
            "text/plain": [
              "     total_amount_claims\n",
              "0                  16683\n",
              "1                 201774\n",
              "2                 263661\n",
              "3                 799703\n",
              "4                 900305\n",
              "..                   ...\n",
              "127              1949930\n",
              "128              1725225\n",
              "129              2232202\n",
              "130              2666662\n",
              "131              2111986\n",
              "\n",
              "[132 rows x 1 columns]"
            ]
          },
          "metadata": {
            "tags": []
          },
          "execution_count": 5
        }
      ]
    },
    {
      "cell_type": "code",
      "metadata": {
        "colab": {
          "base_uri": "https://localhost:8080/"
        },
        "id": "functioning-deployment",
        "outputId": "ab25aca2-b6fc-4e42-a011-9359654c758d"
      },
      "source": [
        "print(\"min: \",data['total_amount_claims'].min())\n",
        "print(\"max: \",data['total_amount_claims'].max())"
      ],
      "id": "functioning-deployment",
      "execution_count": 6,
      "outputs": [
        {
          "output_type": "stream",
          "text": [
            "min:  16683\n",
            "max:  2666662\n"
          ],
          "name": "stdout"
        }
      ]
    },
    {
      "cell_type": "code",
      "metadata": {
        "colab": {
          "base_uri": "https://localhost:8080/"
        },
        "id": "elder-monday",
        "outputId": "a14d3958-b760-45d5-9a42-4d93417c0c0d"
      },
      "source": [
        "data.shape"
      ],
      "id": "elder-monday",
      "execution_count": 7,
      "outputs": [
        {
          "output_type": "execute_result",
          "data": {
            "text/plain": [
              "(132, 1)"
            ]
          },
          "metadata": {
            "tags": []
          },
          "execution_count": 7
        }
      ]
    },
    {
      "cell_type": "code",
      "metadata": {
        "id": "unnecessary-audio"
      },
      "source": [
        "min_ = data['total_amount_claims'].min()\n",
        "max_ = data['total_amount_claims'].max()\n",
        "\n",
        "data['total_amount_claims'] = [((x - min_) / (max_ - min_)) for x in data['total_amount_claims']]"
      ],
      "id": "unnecessary-audio",
      "execution_count": 8,
      "outputs": []
    },
    {
      "cell_type": "code",
      "metadata": {
        "colab": {
          "base_uri": "https://localhost:8080/",
          "height": 402
        },
        "id": "persistent-circulation",
        "outputId": "06a3f32d-ea33-41de-fde9-234dc0de0a29"
      },
      "source": [
        "data"
      ],
      "id": "persistent-circulation",
      "execution_count": 9,
      "outputs": [
        {
          "output_type": "execute_result",
          "data": {
            "text/html": [
              "<div>\n",
              "<style scoped>\n",
              "    .dataframe tbody tr th:only-of-type {\n",
              "        vertical-align: middle;\n",
              "    }\n",
              "\n",
              "    .dataframe tbody tr th {\n",
              "        vertical-align: top;\n",
              "    }\n",
              "\n",
              "    .dataframe thead th {\n",
              "        text-align: right;\n",
              "    }\n",
              "</style>\n",
              "<table border=\"1\" class=\"dataframe\">\n",
              "  <thead>\n",
              "    <tr style=\"text-align: right;\">\n",
              "      <th></th>\n",
              "      <th>total_amount_claims</th>\n",
              "    </tr>\n",
              "  </thead>\n",
              "  <tbody>\n",
              "    <tr>\n",
              "      <th>0</th>\n",
              "      <td>0.000000</td>\n",
              "    </tr>\n",
              "    <tr>\n",
              "      <th>1</th>\n",
              "      <td>0.069846</td>\n",
              "    </tr>\n",
              "    <tr>\n",
              "      <th>2</th>\n",
              "      <td>0.093200</td>\n",
              "    </tr>\n",
              "    <tr>\n",
              "      <th>3</th>\n",
              "      <td>0.295482</td>\n",
              "    </tr>\n",
              "    <tr>\n",
              "      <th>4</th>\n",
              "      <td>0.333445</td>\n",
              "    </tr>\n",
              "    <tr>\n",
              "      <th>...</th>\n",
              "      <td>...</td>\n",
              "    </tr>\n",
              "    <tr>\n",
              "      <th>127</th>\n",
              "      <td>0.729533</td>\n",
              "    </tr>\n",
              "    <tr>\n",
              "      <th>128</th>\n",
              "      <td>0.644738</td>\n",
              "    </tr>\n",
              "    <tr>\n",
              "      <th>129</th>\n",
              "      <td>0.836052</td>\n",
              "    </tr>\n",
              "    <tr>\n",
              "      <th>130</th>\n",
              "      <td>1.000000</td>\n",
              "    </tr>\n",
              "    <tr>\n",
              "      <th>131</th>\n",
              "      <td>0.790687</td>\n",
              "    </tr>\n",
              "  </tbody>\n",
              "</table>\n",
              "<p>132 rows × 1 columns</p>\n",
              "</div>"
            ],
            "text/plain": [
              "     total_amount_claims\n",
              "0               0.000000\n",
              "1               0.069846\n",
              "2               0.093200\n",
              "3               0.295482\n",
              "4               0.333445\n",
              "..                   ...\n",
              "127             0.729533\n",
              "128             0.644738\n",
              "129             0.836052\n",
              "130             1.000000\n",
              "131             0.790687\n",
              "\n",
              "[132 rows x 1 columns]"
            ]
          },
          "metadata": {
            "tags": []
          },
          "execution_count": 9
        }
      ]
    },
    {
      "cell_type": "markdown",
      "metadata": {
        "id": "bronze-thread"
      },
      "source": [
        "### Split data"
      ],
      "id": "bronze-thread"
    },
    {
      "cell_type": "code",
      "metadata": {
        "id": "suitable-tanzania"
      },
      "source": [
        "len_ = int(0.8*data.shape[0])\n",
        "\n",
        "data_train = data[:len_]\n",
        "data_test = data[len_:]"
      ],
      "id": "suitable-tanzania",
      "execution_count": 10,
      "outputs": []
    },
    {
      "cell_type": "code",
      "metadata": {
        "colab": {
          "base_uri": "https://localhost:8080/"
        },
        "id": "forward-learning",
        "outputId": "a34e4b59-e2d6-437c-b02d-6c0a301c5cd3"
      },
      "source": [
        "print(data_train.shape)\n",
        "print(data_test.shape)"
      ],
      "id": "forward-learning",
      "execution_count": 11,
      "outputs": [
        {
          "output_type": "stream",
          "text": [
            "(105, 1)\n",
            "(27, 1)\n"
          ],
          "name": "stdout"
        }
      ]
    },
    {
      "cell_type": "markdown",
      "metadata": {
        "id": "female-float"
      },
      "source": [
        "### Sequences"
      ],
      "id": "female-float"
    },
    {
      "cell_type": "code",
      "metadata": {
        "id": "illegal-saturday"
      },
      "source": [
        "def subsample_sequence(data, length):\n",
        "    \n",
        "    last_possible = data.shape[0] - length\n",
        "    \n",
        "    random_start = np.random.randint(0, last_possible)\n",
        "    data_sample = data[random_start: random_start+length]\n",
        "    \n",
        "    return data_sample"
      ],
      "id": "illegal-saturday",
      "execution_count": 12,
      "outputs": []
    },
    {
      "cell_type": "code",
      "metadata": {
        "colab": {
          "base_uri": "https://localhost:8080/",
          "height": 343
        },
        "id": "sitting-harvey",
        "outputId": "cf28defd-aaff-4b0c-bd4a-3c75161e10d8"
      },
      "source": [
        "data_subsample = subsample_sequence(data, 10)\n",
        "data_subsample"
      ],
      "id": "sitting-harvey",
      "execution_count": 13,
      "outputs": [
        {
          "output_type": "execute_result",
          "data": {
            "text/html": [
              "<div>\n",
              "<style scoped>\n",
              "    .dataframe tbody tr th:only-of-type {\n",
              "        vertical-align: middle;\n",
              "    }\n",
              "\n",
              "    .dataframe tbody tr th {\n",
              "        vertical-align: top;\n",
              "    }\n",
              "\n",
              "    .dataframe thead th {\n",
              "        text-align: right;\n",
              "    }\n",
              "</style>\n",
              "<table border=\"1\" class=\"dataframe\">\n",
              "  <thead>\n",
              "    <tr style=\"text-align: right;\">\n",
              "      <th></th>\n",
              "      <th>total_amount_claims</th>\n",
              "    </tr>\n",
              "  </thead>\n",
              "  <tbody>\n",
              "    <tr>\n",
              "      <th>15</th>\n",
              "      <td>0.102129</td>\n",
              "    </tr>\n",
              "    <tr>\n",
              "      <th>16</th>\n",
              "      <td>0.171793</td>\n",
              "    </tr>\n",
              "    <tr>\n",
              "      <th>17</th>\n",
              "      <td>0.049786</td>\n",
              "    </tr>\n",
              "    <tr>\n",
              "      <th>18</th>\n",
              "      <td>0.083963</td>\n",
              "    </tr>\n",
              "    <tr>\n",
              "      <th>19</th>\n",
              "      <td>0.052248</td>\n",
              "    </tr>\n",
              "    <tr>\n",
              "      <th>20</th>\n",
              "      <td>0.187774</td>\n",
              "    </tr>\n",
              "    <tr>\n",
              "      <th>21</th>\n",
              "      <td>0.120908</td>\n",
              "    </tr>\n",
              "    <tr>\n",
              "      <th>22</th>\n",
              "      <td>0.164886</td>\n",
              "    </tr>\n",
              "    <tr>\n",
              "      <th>23</th>\n",
              "      <td>0.160679</td>\n",
              "    </tr>\n",
              "    <tr>\n",
              "      <th>24</th>\n",
              "      <td>0.219325</td>\n",
              "    </tr>\n",
              "  </tbody>\n",
              "</table>\n",
              "</div>"
            ],
            "text/plain": [
              "    total_amount_claims\n",
              "15             0.102129\n",
              "16             0.171793\n",
              "17             0.049786\n",
              "18             0.083963\n",
              "19             0.052248\n",
              "20             0.187774\n",
              "21             0.120908\n",
              "22             0.164886\n",
              "23             0.160679\n",
              "24             0.219325"
            ]
          },
          "metadata": {
            "tags": []
          },
          "execution_count": 13
        }
      ]
    },
    {
      "cell_type": "code",
      "metadata": {
        "id": "sealed-remove"
      },
      "source": [
        "def fillna(X, data_mean):\n",
        "    # Replace with NaN of the other hours. \n",
        "    na = X.mean()\n",
        "    \n",
        "    # If the other hours are also nans, then replace with mean value of the dataframe\n",
        "    na.fillna(data_mean)\n",
        "    return na\n",
        "\n",
        "def split_subsample_sequence(data, length, data_mean=None):\n",
        "    # Little trick to improve the time\n",
        "    if data_mean is None:\n",
        "        data_mean = data.mean()\n",
        "              \n",
        "    data_subsample = subsample_sequence(data, length)\n",
        "    y_sample = data_subsample.iloc[data_subsample.shape[0]-1]['total_amount_claims']\n",
        "    \n",
        "    if y_sample != y_sample: # A value is not equal to itself only for NaN. So it will be True if y_sample is nan\n",
        "        X_sample, y_sample = split_subsample_sequence(data, length, data_mean)\n",
        "        return np.array(X_sample), np.array(y_sample)\n",
        "    \n",
        "    X_sample = data_subsample[0:data_subsample.shape[0]-1]\n",
        "    X_sample = X_sample.fillna(fillna(X_sample, data_mean))\n",
        "    X_sample = X_sample.values\n",
        "    \n",
        "    return np.array(X_sample), np.array(y_sample)"
      ],
      "id": "sealed-remove",
      "execution_count": 14,
      "outputs": []
    },
    {
      "cell_type": "code",
      "metadata": {
        "id": "comparable-association"
      },
      "source": [
        "def get_X_y(data, number_of_sequences, length):\n",
        "    X, y = [], []\n",
        "\n",
        "    for i in range(number_of_sequences):\n",
        "        xi, yi = split_subsample_sequence(data, length)\n",
        "        X.append(xi)\n",
        "        y.append(yi)\n",
        "        \n",
        "    X = np.array(X)\n",
        "    y = np.array(y)\n",
        "        \n",
        "    return X, y"
      ],
      "id": "comparable-association",
      "execution_count": 15,
      "outputs": []
    },
    {
      "cell_type": "code",
      "metadata": {
        "id": "vertical-affiliation"
      },
      "source": [
        "X_train, y_train = get_X_y(data_train, 80, 10)\n",
        "X_test, y_test = get_X_y(data_test, 20, 10)"
      ],
      "id": "vertical-affiliation",
      "execution_count": 16,
      "outputs": []
    },
    {
      "cell_type": "code",
      "metadata": {
        "id": "confidential-literacy"
      },
      "source": [
        "# !pip install tensorflow"
      ],
      "id": "confidential-literacy",
      "execution_count": null,
      "outputs": []
    },
    {
      "cell_type": "code",
      "metadata": {
        "colab": {
          "base_uri": "https://localhost:8080/"
        },
        "id": "special-pennsylvania",
        "outputId": "7c2836a8-0264-4650-c9d4-d5870d277ee1"
      },
      "source": [
        "print(f'X train size:{X_train.shape}')\n",
        "print(f'X test size:{X_test.shape}')\n",
        "print(f'y train size:{y_train.shape}')\n",
        "print(f'y test size:{y_test.shape}')"
      ],
      "id": "special-pennsylvania",
      "execution_count": 17,
      "outputs": [
        {
          "output_type": "stream",
          "text": [
            "X train size:(80, 9, 1)\n",
            "X test size:(20, 9, 1)\n",
            "y train size:(80,)\n",
            "y test size:(20,)\n"
          ],
          "name": "stdout"
        }
      ]
    },
    {
      "cell_type": "code",
      "metadata": {
        "id": "green-reminder"
      },
      "source": [
        "from tensorflow.keras import models\n",
        "from tensorflow.keras import layers\n",
        "\n",
        "model = models.Sequential()\n",
        "\n",
        "model.add(layers.LSTM(20, activation='tanh', return_sequences=True))\n",
        "model.add(layers.LSTM(20, activation='tanh'))\n",
        "\n",
        "model.add(layers.Dense(20, activation='relu'))\n",
        "model.add(layers.Dense(20, activation='relu'))\n",
        "model.add(layers.Dense(10, activation='relu'))\n",
        "model.add(layers.Dense(10, activation='relu'))\n",
        "\n",
        "model.add(layers.Dense(1, activation='linear'))"
      ],
      "id": "green-reminder",
      "execution_count": 45,
      "outputs": []
    },
    {
      "cell_type": "code",
      "metadata": {
        "id": "chubby-anthony"
      },
      "source": [
        "model.compile(loss='mse', \n",
        "              optimizer='rmsprop', \n",
        "              metrics=['mse', 'mae', 'mape'])"
      ],
      "id": "chubby-anthony",
      "execution_count": 46,
      "outputs": []
    },
    {
      "cell_type": "code",
      "metadata": {
        "colab": {
          "base_uri": "https://localhost:8080/"
        },
        "id": "julian-palestinian",
        "outputId": "9f65eea2-112d-43b6-ffb9-bdf32446cd32"
      },
      "source": [
        "from tensorflow.keras.callbacks import EarlyStopping\n",
        "\n",
        "es = EarlyStopping(patience=10, restore_best_weights=True)\n",
        "\n",
        "history = model.fit(X_train, y_train,\n",
        "            validation_split=0.2,\n",
        "            epochs=200, \n",
        "            batch_size=32,\n",
        "            verbose=1,\n",
        "            callbacks=[es])"
      ],
      "id": "julian-palestinian",
      "execution_count": 48,
      "outputs": [
        {
          "output_type": "stream",
          "text": [
            "Epoch 1/200\n",
            "2/2 [==============================] - 4s 1s/step - loss: 0.0477 - mse: 0.0477 - mae: 0.1965 - mape: 96.6054 - val_loss: 0.0571 - val_mse: 0.0571 - val_mae: 0.1899 - val_mape: 82.2657\n",
            "Epoch 2/200\n",
            "2/2 [==============================] - 0s 37ms/step - loss: 0.0372 - mse: 0.0372 - mae: 0.1681 - mape: 79.1313 - val_loss: 0.0478 - val_mse: 0.0478 - val_mae: 0.1646 - val_mape: 66.3264\n",
            "Epoch 3/200\n",
            "2/2 [==============================] - 0s 34ms/step - loss: 0.0286 - mse: 0.0286 - mae: 0.1425 - mape: 66.7180 - val_loss: 0.0398 - val_mse: 0.0398 - val_mae: 0.1423 - val_mape: 55.5668\n",
            "Epoch 4/200\n",
            "2/2 [==============================] - 0s 34ms/step - loss: 0.0258 - mse: 0.0258 - mae: 0.1228 - mape: 53.5133 - val_loss: 0.0318 - val_mse: 0.0318 - val_mae: 0.1175 - val_mape: 46.1296\n",
            "Epoch 5/200\n",
            "2/2 [==============================] - 0s 33ms/step - loss: 0.0149 - mse: 0.0149 - mae: 0.0937 - mape: 46.4739 - val_loss: 0.0254 - val_mse: 0.0254 - val_mae: 0.0963 - val_mape: 40.3015\n",
            "Epoch 6/200\n",
            "2/2 [==============================] - 0s 36ms/step - loss: 0.0134 - mse: 0.0134 - mae: 0.0789 - mape: 42.6541 - val_loss: 0.0212 - val_mse: 0.0212 - val_mae: 0.0857 - val_mape: 40.8703\n",
            "Epoch 7/200\n",
            "2/2 [==============================] - 0s 34ms/step - loss: 0.0114 - mse: 0.0114 - mae: 0.0695 - mape: 41.5916 - val_loss: 0.0193 - val_mse: 0.0193 - val_mae: 0.0822 - val_mape: 43.6203\n",
            "Epoch 8/200\n",
            "2/2 [==============================] - 0s 36ms/step - loss: 0.0099 - mse: 0.0099 - mae: 0.0659 - mape: 41.9522 - val_loss: 0.0188 - val_mse: 0.0188 - val_mae: 0.0818 - val_mape: 45.0406\n",
            "Epoch 9/200\n",
            "2/2 [==============================] - 0s 36ms/step - loss: 0.0099 - mse: 0.0099 - mae: 0.0672 - mape: 51.1875 - val_loss: 0.0182 - val_mse: 0.0182 - val_mae: 0.0820 - val_mape: 46.9506\n",
            "Epoch 10/200\n",
            "2/2 [==============================] - 0s 34ms/step - loss: 0.0081 - mse: 0.0081 - mae: 0.0652 - mape: 52.4589 - val_loss: 0.0179 - val_mse: 0.0179 - val_mae: 0.0833 - val_mape: 49.3889\n",
            "Epoch 11/200\n",
            "2/2 [==============================] - 0s 37ms/step - loss: 0.0076 - mse: 0.0076 - mae: 0.0633 - mape: 44.6950 - val_loss: 0.0186 - val_mse: 0.0186 - val_mae: 0.0812 - val_mape: 44.3443\n",
            "Epoch 12/200\n",
            "2/2 [==============================] - 0s 38ms/step - loss: 0.0072 - mse: 0.0072 - mae: 0.0593 - mape: 40.9964 - val_loss: 0.0177 - val_mse: 0.0177 - val_mae: 0.0823 - val_mape: 48.3635\n",
            "Epoch 13/200\n",
            "2/2 [==============================] - 0s 34ms/step - loss: 0.0094 - mse: 0.0094 - mae: 0.0651 - mape: 50.8090 - val_loss: 0.0180 - val_mse: 0.0180 - val_mae: 0.0805 - val_mape: 45.3603\n",
            "Epoch 14/200\n",
            "2/2 [==============================] - 0s 33ms/step - loss: 0.0093 - mse: 0.0093 - mae: 0.0654 - mape: 44.6380 - val_loss: 0.0183 - val_mse: 0.0183 - val_mae: 0.0803 - val_mape: 43.5522\n",
            "Epoch 15/200\n",
            "2/2 [==============================] - 0s 33ms/step - loss: 0.0077 - mse: 0.0077 - mae: 0.0619 - mape: 46.2281 - val_loss: 0.0173 - val_mse: 0.0173 - val_mae: 0.0818 - val_mape: 48.7750\n",
            "Epoch 16/200\n",
            "2/2 [==============================] - 0s 34ms/step - loss: 0.0080 - mse: 0.0080 - mae: 0.0652 - mape: 52.3434 - val_loss: 0.0172 - val_mse: 0.0172 - val_mae: 0.0821 - val_mape: 49.3759\n",
            "Epoch 17/200\n",
            "2/2 [==============================] - 0s 33ms/step - loss: 0.0073 - mse: 0.0073 - mae: 0.0626 - mape: 45.7605 - val_loss: 0.0174 - val_mse: 0.0174 - val_mae: 0.0798 - val_mape: 45.8368\n",
            "Epoch 18/200\n",
            "2/2 [==============================] - 0s 37ms/step - loss: 0.0073 - mse: 0.0073 - mae: 0.0590 - mape: 43.6125 - val_loss: 0.0169 - val_mse: 0.0169 - val_mae: 0.0811 - val_mape: 48.5553\n",
            "Epoch 19/200\n",
            "2/2 [==============================] - 0s 34ms/step - loss: 0.0092 - mse: 0.0092 - mae: 0.0678 - mape: 49.6002 - val_loss: 0.0184 - val_mse: 0.0184 - val_mae: 0.0805 - val_mape: 41.3119\n",
            "Epoch 20/200\n",
            "2/2 [==============================] - 0s 33ms/step - loss: 0.0076 - mse: 0.0076 - mae: 0.0621 - mape: 41.3227 - val_loss: 0.0168 - val_mse: 0.0168 - val_mae: 0.0806 - val_mape: 48.0529\n",
            "Epoch 21/200\n",
            "2/2 [==============================] - 0s 34ms/step - loss: 0.0074 - mse: 0.0074 - mae: 0.0623 - mape: 48.8774 - val_loss: 0.0173 - val_mse: 0.0173 - val_mae: 0.0778 - val_mape: 42.7451\n",
            "Epoch 22/200\n",
            "2/2 [==============================] - 0s 33ms/step - loss: 0.0098 - mse: 0.0098 - mae: 0.0687 - mape: 50.0272 - val_loss: 0.0182 - val_mse: 0.0182 - val_mae: 0.0804 - val_mape: 41.2258\n",
            "Epoch 23/200\n",
            "2/2 [==============================] - 0s 39ms/step - loss: 0.0098 - mse: 0.0098 - mae: 0.0667 - mape: 43.4791 - val_loss: 0.0170 - val_mse: 0.0170 - val_mae: 0.0771 - val_mape: 42.5356\n",
            "Epoch 24/200\n",
            "2/2 [==============================] - 0s 35ms/step - loss: 0.0077 - mse: 0.0077 - mae: 0.0612 - mape: 44.4977 - val_loss: 0.0163 - val_mse: 0.0163 - val_mae: 0.0800 - val_mape: 48.3198\n",
            "Epoch 25/200\n",
            "2/2 [==============================] - 0s 35ms/step - loss: 0.0078 - mse: 0.0078 - mae: 0.0667 - mape: 53.9818 - val_loss: 0.0163 - val_mse: 0.0163 - val_mae: 0.0781 - val_mape: 46.0753\n",
            "Epoch 26/200\n",
            "2/2 [==============================] - 0s 33ms/step - loss: 0.0077 - mse: 0.0077 - mae: 0.0643 - mape: 45.7328 - val_loss: 0.0163 - val_mse: 0.0163 - val_mae: 0.0772 - val_mape: 44.7571\n",
            "Epoch 27/200\n",
            "2/2 [==============================] - 0s 33ms/step - loss: 0.0092 - mse: 0.0092 - mae: 0.0683 - mape: 47.1997 - val_loss: 0.0169 - val_mse: 0.0169 - val_mae: 0.0772 - val_mape: 41.5091\n",
            "Epoch 28/200\n",
            "2/2 [==============================] - 0s 34ms/step - loss: 0.0091 - mse: 0.0091 - mae: 0.0643 - mape: 49.1222 - val_loss: 0.0160 - val_mse: 0.0160 - val_mae: 0.0765 - val_mape: 44.6671\n",
            "Epoch 29/200\n",
            "2/2 [==============================] - 0s 38ms/step - loss: 0.0081 - mse: 0.0081 - mae: 0.0654 - mape: 54.9547 - val_loss: 0.0158 - val_mse: 0.0158 - val_mae: 0.0780 - val_mape: 46.8320\n",
            "Epoch 30/200\n",
            "2/2 [==============================] - 0s 36ms/step - loss: 0.0070 - mse: 0.0070 - mae: 0.0609 - mape: 48.5877 - val_loss: 0.0165 - val_mse: 0.0165 - val_mae: 0.0768 - val_mape: 40.9815\n",
            "Epoch 31/200\n",
            "2/2 [==============================] - 0s 34ms/step - loss: 0.0070 - mse: 0.0070 - mae: 0.0602 - mape: 48.1060 - val_loss: 0.0153 - val_mse: 0.0153 - val_mae: 0.0782 - val_mape: 47.7781\n",
            "Epoch 32/200\n",
            "2/2 [==============================] - 0s 33ms/step - loss: 0.0066 - mse: 0.0066 - mae: 0.0586 - mape: 44.4961 - val_loss: 0.0160 - val_mse: 0.0160 - val_mae: 0.0756 - val_mape: 41.0616\n",
            "Epoch 33/200\n",
            "2/2 [==============================] - 0s 37ms/step - loss: 0.0094 - mse: 0.0094 - mae: 0.0677 - mape: 45.5901 - val_loss: 0.0177 - val_mse: 0.0177 - val_mae: 0.0811 - val_mape: 39.1101\n",
            "Epoch 34/200\n",
            "2/2 [==============================] - 0s 33ms/step - loss: 0.0088 - mse: 0.0088 - mae: 0.0626 - mape: 40.9422 - val_loss: 0.0155 - val_mse: 0.0155 - val_mae: 0.0746 - val_mape: 41.7956\n",
            "Epoch 35/200\n",
            "2/2 [==============================] - 0s 33ms/step - loss: 0.0087 - mse: 0.0087 - mae: 0.0646 - mape: 49.9099 - val_loss: 0.0171 - val_mse: 0.0171 - val_mae: 0.0799 - val_mape: 39.3153\n",
            "Epoch 36/200\n",
            "2/2 [==============================] - 0s 33ms/step - loss: 0.0098 - mse: 0.0098 - mae: 0.0670 - mape: 42.2436 - val_loss: 0.0172 - val_mse: 0.0172 - val_mae: 0.0801 - val_mape: 39.1850\n",
            "Epoch 37/200\n",
            "2/2 [==============================] - 0s 37ms/step - loss: 0.0069 - mse: 0.0069 - mae: 0.0596 - mape: 40.9824 - val_loss: 0.0150 - val_mse: 0.0150 - val_mae: 0.0736 - val_mape: 43.2015\n",
            "Epoch 38/200\n",
            "2/2 [==============================] - 0s 35ms/step - loss: 0.0065 - mse: 0.0065 - mae: 0.0584 - mape: 41.8545 - val_loss: 0.0155 - val_mse: 0.0155 - val_mae: 0.0749 - val_mape: 40.8747\n",
            "Epoch 39/200\n",
            "2/2 [==============================] - 0s 33ms/step - loss: 0.0089 - mse: 0.0089 - mae: 0.0661 - mape: 44.7632 - val_loss: 0.0170 - val_mse: 0.0170 - val_mae: 0.0799 - val_mape: 38.8764\n",
            "Epoch 40/200\n",
            "2/2 [==============================] - 0s 37ms/step - loss: 0.0096 - mse: 0.0096 - mae: 0.0680 - mape: 45.0458 - val_loss: 0.0171 - val_mse: 0.0171 - val_mae: 0.0797 - val_mape: 39.2431\n",
            "Epoch 41/200\n",
            "2/2 [==============================] - 0s 36ms/step - loss: 0.0073 - mse: 0.0073 - mae: 0.0634 - mape: 45.5806 - val_loss: 0.0154 - val_mse: 0.0154 - val_mae: 0.0749 - val_mape: 40.9592\n",
            "Epoch 42/200\n",
            "2/2 [==============================] - 0s 36ms/step - loss: 0.0083 - mse: 0.0083 - mae: 0.0644 - mape: 45.4372 - val_loss: 0.0158 - val_mse: 0.0158 - val_mae: 0.0765 - val_mape: 39.6577\n",
            "Epoch 43/200\n",
            "2/2 [==============================] - 0s 33ms/step - loss: 0.0073 - mse: 0.0073 - mae: 0.0624 - mape: 48.0150 - val_loss: 0.0146 - val_mse: 0.0146 - val_mae: 0.0730 - val_mape: 42.6289\n",
            "Epoch 44/200\n",
            "2/2 [==============================] - 0s 38ms/step - loss: 0.0078 - mse: 0.0078 - mae: 0.0636 - mape: 52.9930 - val_loss: 0.0147 - val_mse: 0.0147 - val_mae: 0.0733 - val_mape: 42.9448\n",
            "Epoch 45/200\n",
            "2/2 [==============================] - 0s 36ms/step - loss: 0.0087 - mse: 0.0087 - mae: 0.0668 - mape: 47.5125 - val_loss: 0.0169 - val_mse: 0.0169 - val_mae: 0.0801 - val_mape: 38.3128\n",
            "Epoch 46/200\n",
            "2/2 [==============================] - 0s 35ms/step - loss: 0.0068 - mse: 0.0068 - mae: 0.0598 - mape: 43.3985 - val_loss: 0.0146 - val_mse: 0.0146 - val_mae: 0.0733 - val_mape: 41.3390\n",
            "Epoch 47/200\n",
            "2/2 [==============================] - 0s 34ms/step - loss: 0.0087 - mse: 0.0087 - mae: 0.0655 - mape: 51.0942 - val_loss: 0.0159 - val_mse: 0.0159 - val_mae: 0.0777 - val_mape: 38.7896\n",
            "Epoch 48/200\n",
            "2/2 [==============================] - 0s 33ms/step - loss: 0.0085 - mse: 0.0085 - mae: 0.0635 - mape: 46.0911 - val_loss: 0.0158 - val_mse: 0.0158 - val_mae: 0.0774 - val_mape: 38.7764\n",
            "Epoch 49/200\n",
            "2/2 [==============================] - 0s 35ms/step - loss: 0.0082 - mse: 0.0082 - mae: 0.0620 - mape: 45.3037 - val_loss: 0.0147 - val_mse: 0.0147 - val_mae: 0.0739 - val_mape: 40.1919\n",
            "Epoch 50/200\n",
            "2/2 [==============================] - 0s 34ms/step - loss: 0.0076 - mse: 0.0076 - mae: 0.0649 - mape: 45.9825 - val_loss: 0.0142 - val_mse: 0.0142 - val_mae: 0.0742 - val_mape: 43.6090\n",
            "Epoch 51/200\n",
            "2/2 [==============================] - 0s 41ms/step - loss: 0.0068 - mse: 0.0068 - mae: 0.0610 - mape: 48.9410 - val_loss: 0.0149 - val_mse: 0.0149 - val_mae: 0.0747 - val_mape: 39.2444\n",
            "Epoch 52/200\n",
            "2/2 [==============================] - 0s 34ms/step - loss: 0.0069 - mse: 0.0069 - mae: 0.0604 - mape: 42.2631 - val_loss: 0.0141 - val_mse: 0.0141 - val_mae: 0.0725 - val_mape: 41.2166\n",
            "Epoch 53/200\n",
            "2/2 [==============================] - 0s 34ms/step - loss: 0.0079 - mse: 0.0079 - mae: 0.0635 - mape: 49.4114 - val_loss: 0.0163 - val_mse: 0.0163 - val_mae: 0.0792 - val_mape: 37.5325\n",
            "Epoch 54/200\n",
            "2/2 [==============================] - 0s 38ms/step - loss: 0.0065 - mse: 0.0065 - mae: 0.0569 - mape: 37.7961 - val_loss: 0.0138 - val_mse: 0.0138 - val_mae: 0.0764 - val_mape: 45.6753\n",
            "Epoch 55/200\n",
            "2/2 [==============================] - 0s 33ms/step - loss: 0.0084 - mse: 0.0084 - mae: 0.0668 - mape: 54.3359 - val_loss: 0.0163 - val_mse: 0.0163 - val_mae: 0.0794 - val_mape: 37.3759\n",
            "Epoch 56/200\n",
            "2/2 [==============================] - 0s 36ms/step - loss: 0.0085 - mse: 0.0085 - mae: 0.0629 - mape: 42.1912 - val_loss: 0.0159 - val_mse: 0.0159 - val_mae: 0.0782 - val_mape: 37.6207\n",
            "Epoch 57/200\n",
            "2/2 [==============================] - 0s 33ms/step - loss: 0.0068 - mse: 0.0068 - mae: 0.0598 - mape: 38.6437 - val_loss: 0.0138 - val_mse: 0.0138 - val_mae: 0.0724 - val_mape: 41.1863\n",
            "Epoch 58/200\n",
            "2/2 [==============================] - 0s 35ms/step - loss: 0.0079 - mse: 0.0079 - mae: 0.0636 - mape: 49.7950 - val_loss: 0.0146 - val_mse: 0.0146 - val_mae: 0.0744 - val_mape: 38.5858\n",
            "Epoch 59/200\n",
            "2/2 [==============================] - 0s 35ms/step - loss: 0.0065 - mse: 0.0065 - mae: 0.0592 - mape: 41.2404 - val_loss: 0.0143 - val_mse: 0.0143 - val_mae: 0.0735 - val_mape: 38.8979\n",
            "Epoch 60/200\n",
            "2/2 [==============================] - 0s 35ms/step - loss: 0.0063 - mse: 0.0063 - mae: 0.0572 - mape: 39.7224 - val_loss: 0.0136 - val_mse: 0.0136 - val_mae: 0.0727 - val_mape: 41.1504\n",
            "Epoch 61/200\n",
            "2/2 [==============================] - 0s 34ms/step - loss: 0.0074 - mse: 0.0074 - mae: 0.0654 - mape: 51.5224 - val_loss: 0.0135 - val_mse: 0.0135 - val_mae: 0.0729 - val_mape: 41.3552\n",
            "Epoch 62/200\n",
            "2/2 [==============================] - 0s 37ms/step - loss: 0.0072 - mse: 0.0072 - mae: 0.0620 - mape: 41.5727 - val_loss: 0.0134 - val_mse: 0.0134 - val_mae: 0.0734 - val_mape: 42.0573\n",
            "Epoch 63/200\n",
            "2/2 [==============================] - 0s 35ms/step - loss: 0.0065 - mse: 0.0065 - mae: 0.0610 - mape: 48.1321 - val_loss: 0.0143 - val_mse: 0.0143 - val_mae: 0.0737 - val_mape: 38.2049\n",
            "Epoch 64/200\n",
            "2/2 [==============================] - 0s 37ms/step - loss: 0.0086 - mse: 0.0086 - mae: 0.0662 - mape: 46.1208 - val_loss: 0.0166 - val_mse: 0.0166 - val_mae: 0.0802 - val_mape: 36.2177\n",
            "Epoch 65/200\n",
            "2/2 [==============================] - 0s 34ms/step - loss: 0.0093 - mse: 0.0093 - mae: 0.0661 - mape: 43.6828 - val_loss: 0.0155 - val_mse: 0.0155 - val_mae: 0.0775 - val_mape: 37.0036\n",
            "Epoch 66/200\n",
            "2/2 [==============================] - 0s 35ms/step - loss: 0.0064 - mse: 0.0064 - mae: 0.0582 - mape: 37.4792 - val_loss: 0.0135 - val_mse: 0.0135 - val_mae: 0.0724 - val_mape: 39.9733\n",
            "Epoch 67/200\n",
            "2/2 [==============================] - 0s 35ms/step - loss: 0.0067 - mse: 0.0067 - mae: 0.0604 - mape: 40.8332 - val_loss: 0.0134 - val_mse: 0.0134 - val_mae: 0.0724 - val_mape: 40.3638\n",
            "Epoch 68/200\n",
            "2/2 [==============================] - 0s 34ms/step - loss: 0.0080 - mse: 0.0080 - mae: 0.0650 - mape: 45.6062 - val_loss: 0.0141 - val_mse: 0.0141 - val_mae: 0.0731 - val_mape: 38.0904\n",
            "Epoch 69/200\n",
            "2/2 [==============================] - 0s 37ms/step - loss: 0.0062 - mse: 0.0062 - mae: 0.0561 - mape: 44.4588 - val_loss: 0.0131 - val_mse: 0.0131 - val_mae: 0.0736 - val_mape: 41.9893\n",
            "Epoch 70/200\n",
            "2/2 [==============================] - 0s 38ms/step - loss: 0.0081 - mse: 0.0081 - mae: 0.0652 - mape: 51.1291 - val_loss: 0.0141 - val_mse: 0.0141 - val_mae: 0.0733 - val_mape: 37.7720\n",
            "Epoch 71/200\n",
            "2/2 [==============================] - 0s 33ms/step - loss: 0.0066 - mse: 0.0066 - mae: 0.0597 - mape: 41.0549 - val_loss: 0.0132 - val_mse: 0.0132 - val_mae: 0.0725 - val_mape: 40.3880\n",
            "Epoch 72/200\n",
            "2/2 [==============================] - 0s 36ms/step - loss: 0.0083 - mse: 0.0083 - mae: 0.0674 - mape: 52.0215 - val_loss: 0.0149 - val_mse: 0.0149 - val_mae: 0.0762 - val_mape: 36.7137\n",
            "Epoch 73/200\n",
            "2/2 [==============================] - 0s 34ms/step - loss: 0.0091 - mse: 0.0091 - mae: 0.0687 - mape: 46.8743 - val_loss: 0.0167 - val_mse: 0.0167 - val_mae: 0.0807 - val_mape: 35.4971\n",
            "Epoch 74/200\n",
            "2/2 [==============================] - 0s 42ms/step - loss: 0.0060 - mse: 0.0060 - mae: 0.0558 - mape: 35.7295 - val_loss: 0.0133 - val_mse: 0.0133 - val_mae: 0.0722 - val_mape: 39.6404\n",
            "Epoch 75/200\n",
            "2/2 [==============================] - 0s 33ms/step - loss: 0.0073 - mse: 0.0073 - mae: 0.0597 - mape: 42.4825 - val_loss: 0.0139 - val_mse: 0.0139 - val_mae: 0.0728 - val_mape: 37.5740\n",
            "Epoch 76/200\n",
            "2/2 [==============================] - 0s 35ms/step - loss: 0.0086 - mse: 0.0086 - mae: 0.0640 - mape: 43.0632 - val_loss: 0.0162 - val_mse: 0.0162 - val_mae: 0.0794 - val_mape: 35.6413\n",
            "Epoch 77/200\n",
            "2/2 [==============================] - 0s 34ms/step - loss: 0.0066 - mse: 0.0066 - mae: 0.0598 - mape: 38.2909 - val_loss: 0.0141 - val_mse: 0.0141 - val_mae: 0.0734 - val_mape: 37.3628\n",
            "Epoch 78/200\n",
            "2/2 [==============================] - 0s 34ms/step - loss: 0.0066 - mse: 0.0066 - mae: 0.0603 - mape: 43.4481 - val_loss: 0.0143 - val_mse: 0.0143 - val_mae: 0.0744 - val_mape: 36.8770\n",
            "Epoch 79/200\n",
            "2/2 [==============================] - 0s 34ms/step - loss: 0.0076 - mse: 0.0076 - mae: 0.0612 - mape: 45.3935 - val_loss: 0.0143 - val_mse: 0.0143 - val_mae: 0.0744 - val_mape: 36.8110\n"
          ],
          "name": "stdout"
        }
      ]
    },
    {
      "cell_type": "code",
      "metadata": {
        "colab": {
          "base_uri": "https://localhost:8080/"
        },
        "id": "quality-collect",
        "outputId": "1718882f-5b21-4175-96b9-88a0ac3f2143"
      },
      "source": [
        "model.summary()"
      ],
      "id": "quality-collect",
      "execution_count": 49,
      "outputs": [
        {
          "output_type": "stream",
          "text": [
            "Model: \"sequential_3\"\n",
            "_________________________________________________________________\n",
            "Layer (type)                 Output Shape              Param #   \n",
            "=================================================================\n",
            "lstm_3 (LSTM)                (None, 9, 20)             1760      \n",
            "_________________________________________________________________\n",
            "lstm_4 (LSTM)                (None, 20)                3280      \n",
            "_________________________________________________________________\n",
            "dense_4 (Dense)              (None, 20)                420       \n",
            "_________________________________________________________________\n",
            "dense_5 (Dense)              (None, 20)                420       \n",
            "_________________________________________________________________\n",
            "dense_6 (Dense)              (None, 10)                210       \n",
            "_________________________________________________________________\n",
            "dense_7 (Dense)              (None, 10)                110       \n",
            "_________________________________________________________________\n",
            "dense_8 (Dense)              (None, 1)                 11        \n",
            "=================================================================\n",
            "Total params: 6,211\n",
            "Trainable params: 6,211\n",
            "Non-trainable params: 0\n",
            "_________________________________________________________________\n"
          ],
          "name": "stdout"
        }
      ]
    },
    {
      "cell_type": "code",
      "metadata": {
        "colab": {
          "base_uri": "https://localhost:8080/"
        },
        "id": "hairy-composition",
        "outputId": "c0431896-61ed-4424-bdf3-a3b631514d43"
      },
      "source": [
        "model_eval = model.evaluate(X_test, y_test, verbose=0)\n",
        "print(f'Model Mean Absolute Error {model_eval[1]:.4f}')\n",
        "print(f'Model Mean Absolute Porcentual Error {model_eval[2]:.4f}')"
      ],
      "id": "hairy-composition",
      "execution_count": 52,
      "outputs": [
        {
          "output_type": "stream",
          "text": [
            "Model Mean Absolute Error 0.0188\n",
            "Model Mean Absolute Porcentual Error 0.1053\n"
          ],
          "name": "stdout"
        }
      ]
    },
    {
      "cell_type": "markdown",
      "metadata": {
        "id": "suffering-violation"
      },
      "source": [
        "#### Prediction"
      ],
      "id": "suffering-violation"
    },
    {
      "cell_type": "code",
      "metadata": {
        "tags": [],
        "id": "jewish-panel"
      },
      "source": [
        "predict = model.predict(X_test)"
      ],
      "id": "jewish-panel",
      "execution_count": 53,
      "outputs": []
    },
    {
      "cell_type": "code",
      "metadata": {
        "colab": {
          "base_uri": "https://localhost:8080/"
        },
        "id": "asian-memorabilia",
        "outputId": "bda1f449-2f95-474b-e392-cf9b04e6b36b"
      },
      "source": [
        "import tensorflow as tf\r\n",
        "mape = tf.keras.metrics.mape(y_test, predict)\r\n",
        "mape_metric = model.compile(metrics=mape)\r\n",
        "mape"
      ],
      "id": "asian-memorabilia",
      "execution_count": 60,
      "outputs": [
        {
          "output_type": "execute_result",
          "data": {
            "text/plain": [
              "<tf.Tensor: shape=(20,), dtype=float32, numpy=\n",
              "array([16.104607, 18.423315, 18.423315, 17.355072, 27.003586, 17.355072,\n",
              "       16.001001, 18.423315, 16.104607, 15.37399 , 15.650686, 19.638023,\n",
              "       16.001001, 15.976557, 16.508095, 19.638023, 15.650686, 22.697037,\n",
              "       22.8645  , 18.423315], dtype=float32)>"
            ]
          },
          "metadata": {
            "tags": []
          },
          "execution_count": 60
        }
      ]
    },
    {
      "cell_type": "code",
      "metadata": {
        "colab": {
          "base_uri": "https://localhost:8080/"
        },
        "id": "YQLPlYS1mGHE",
        "outputId": "31ebe865-357d-4676-d882-9aaaba8fd696"
      },
      "source": [
        "loss = 100 * np.mean(abs((y_test - predict) / y_test), axis=-1)\r\n",
        "loss"
      ],
      "id": "YQLPlYS1mGHE",
      "execution_count": 59,
      "outputs": [
        {
          "output_type": "execute_result",
          "data": {
            "text/plain": [
              "array([16.10460552, 18.42331662, 18.42331662, 17.35507237, 27.003585  ,\n",
              "       17.35507237, 16.00099928, 18.42331662, 16.10460552, 15.37399042,\n",
              "       15.65068727, 19.63802245, 16.00099928, 15.97655722, 16.50809571,\n",
              "       19.63802245, 15.65068727, 22.6970361 , 22.86449907, 18.42331662])"
            ]
          },
          "metadata": {
            "tags": []
          },
          "execution_count": 59
        }
      ]
    },
    {
      "cell_type": "code",
      "metadata": {
        "colab": {
          "base_uri": "https://localhost:8080/",
          "height": 592
        },
        "id": "following-jenny",
        "outputId": "6c692b8e-4813-404c-a92b-24a43f8ef453"
      },
      "source": [
        "plt.figure(figsize=(15,10))\n",
        "plt.plot(y_test,label = 'Test')\n",
        "plt.plot(predict, label = 'Prediction')\n",
        "plt.legend(loc='best')\n",
        "plt.show()"
      ],
      "id": "following-jenny",
      "execution_count": 55,
      "outputs": [
        {
          "output_type": "display_data",
          "data": {
            "image/png": "[encoded data removed]",
            "text/plain": [
              "<Figure size 1080x720 with 1 Axes>"
            ]
          },
          "metadata": {
            "tags": [],
            "needs_background": "light"
          }
        }
      ]
    },
    {
      "cell_type": "code",
      "metadata": {
        "id": "severe-living"
      },
      "source": [
        ""
      ],
      "id": "severe-living",
      "execution_count": null,
      "outputs": []
    }
  ]
}