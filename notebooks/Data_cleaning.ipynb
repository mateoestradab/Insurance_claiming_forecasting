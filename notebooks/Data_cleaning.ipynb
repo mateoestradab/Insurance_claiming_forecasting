{
 "cells": [
  {
   "cell_type": "markdown",
   "id": "minus-hopkins",
   "metadata": {},
   "source": [
    "# PROJECT: Insurance_claiming_forecasting"
   ]
  },
  {
   "cell_type": "markdown",
   "id": "latest-portfolio",
   "metadata": {},
   "source": [
    "### *Imports*"
   ]
  },
  {
   "cell_type": "markdown",
   "id": "religious-championship",
   "metadata": {},
   "source": [
    "#### ⚠ *CHEEK REQUIREMENTS*"
   ]
  },
  {
   "cell_type": "code",
   "execution_count": 1,
   "id": "opponent-lightweight",
   "metadata": {},
   "outputs": [],
   "source": [
    "import pandas as pd\n",
    "import numpy as np\n",
    "import matplotlib.pyplot as plt\n",
    "import seaborn as sns\n",
    "from datetime import datetime\n",
    "import xlsxwriter"
   ]
  },
  {
   "cell_type": "markdown",
   "id": "periodic-georgia",
   "metadata": {},
   "source": [
    "### *Install*"
   ]
  },
  {
   "cell_type": "code",
   "execution_count": 2,
   "id": "disturbed-enzyme",
   "metadata": {},
   "outputs": [],
   "source": [
    "# !pip install xlsxwriter"
   ]
  },
  {
   "cell_type": "code",
   "execution_count": 3,
   "id": "industrial-clerk",
   "metadata": {},
   "outputs": [],
   "source": [
    "# !pip install xlrd==1.2.0"
   ]
  },
  {
   "cell_type": "code",
   "execution_count": 4,
   "id": "sharp-tract",
   "metadata": {},
   "outputs": [],
   "source": [
    "# !pip install openpyxl"
   ]
  },
  {
   "cell_type": "markdown",
   "id": "linear-manufacturer",
   "metadata": {},
   "source": [
    "## 🗃 DATASET"
   ]
  },
  {
   "cell_type": "code",
   "execution_count": 5,
   "id": "jewish-dream",
   "metadata": {},
   "outputs": [],
   "source": [
    "data = pd.read_excel('../raw_data/data_siniestros.xlsx', engine='openpyxl')"
   ]
  },
  {
   "cell_type": "code",
   "execution_count": 6,
   "id": "sitting-theme",
   "metadata": {},
   "outputs": [
    {
     "data": {
      "text/html": [
       "<div>\n",
       "<style scoped>\n",
       "    .dataframe tbody tr th:only-of-type {\n",
       "        vertical-align: middle;\n",
       "    }\n",
       "\n",
       "    .dataframe tbody tr th {\n",
       "        vertical-align: top;\n",
       "    }\n",
       "\n",
       "    .dataframe thead th {\n",
       "        text-align: right;\n",
       "    }\n",
       "</style>\n",
       "<table border=\"1\" class=\"dataframe\">\n",
       "  <thead>\n",
       "    <tr style=\"text-align: right;\">\n",
       "      <th></th>\n",
       "      <th>SINIESTRO</th>\n",
       "      <th>ESTATUS</th>\n",
       "      <th>RAMOID</th>\n",
       "      <th>ENFERMEDAD</th>\n",
       "      <th>TIPO_SIN</th>\n",
       "      <th>TP_PROVEEDOR</th>\n",
       "      <th>ESTADO</th>\n",
       "      <th>SEXO</th>\n",
       "      <th>EDAD</th>\n",
       "      <th>CD_PAIS</th>\n",
       "      <th>MONTO USD</th>\n",
       "      <th>FECHA CONTITUCION</th>\n",
       "      <th>Rango Edad</th>\n",
       "      <th>Hospitalizacion-Ambulatorio</th>\n",
       "    </tr>\n",
       "  </thead>\n",
       "  <tbody>\n",
       "    <tr>\n",
       "      <th>0</th>\n",
       "      <td>1</td>\n",
       "      <td>PAGADO</td>\n",
       "      <td>COLECTIVO</td>\n",
       "      <td>Trastorno Interno De La Rodilla</td>\n",
       "      <td>CARTA AVAL</td>\n",
       "      <td>CLINICA</td>\n",
       "      <td>Distrito Capital</td>\n",
       "      <td>F</td>\n",
       "      <td>69</td>\n",
       "      <td>29</td>\n",
       "      <td>397</td>\n",
       "      <td>2020-12-11</td>\n",
       "      <td>60-69</td>\n",
       "      <td>Ambulatorio</td>\n",
       "    </tr>\n",
       "    <tr>\n",
       "      <th>1</th>\n",
       "      <td>2</td>\n",
       "      <td>PAGADO</td>\n",
       "      <td>COLECTIVO</td>\n",
       "      <td>Gonartrosis [Artrosis De La Rodilla]</td>\n",
       "      <td>CARTA AVAL</td>\n",
       "      <td>CLINICA</td>\n",
       "      <td>Distrito Capital</td>\n",
       "      <td>M</td>\n",
       "      <td>76</td>\n",
       "      <td>29</td>\n",
       "      <td>457</td>\n",
       "      <td>2021-01-15</td>\n",
       "      <td>Mayor a 70</td>\n",
       "      <td>Ambulatorio</td>\n",
       "    </tr>\n",
       "    <tr>\n",
       "      <th>2</th>\n",
       "      <td>3</td>\n",
       "      <td>PAGADO</td>\n",
       "      <td>COLECTIVO</td>\n",
       "      <td>Trastorno Interno De La Rodilla</td>\n",
       "      <td>CARTA AVAL</td>\n",
       "      <td>CLINICA</td>\n",
       "      <td>Distrito Capital</td>\n",
       "      <td>F</td>\n",
       "      <td>69</td>\n",
       "      <td>29</td>\n",
       "      <td>188</td>\n",
       "      <td>2021-01-27</td>\n",
       "      <td>60-69</td>\n",
       "      <td>Ambulatorio</td>\n",
       "    </tr>\n",
       "    <tr>\n",
       "      <th>3</th>\n",
       "      <td>4</td>\n",
       "      <td>PAGADO</td>\n",
       "      <td>COLECTIVO</td>\n",
       "      <td>Traumatismo Superficial Del Hombro Y Del Brazo</td>\n",
       "      <td>CARTA AVAL</td>\n",
       "      <td>CLINICA</td>\n",
       "      <td>Distrito Capital</td>\n",
       "      <td>M</td>\n",
       "      <td>45</td>\n",
       "      <td>29</td>\n",
       "      <td>45</td>\n",
       "      <td>2019-11-11</td>\n",
       "      <td>40-49</td>\n",
       "      <td>Ambulatorio</td>\n",
       "    </tr>\n",
       "    <tr>\n",
       "      <th>4</th>\n",
       "      <td>5</td>\n",
       "      <td>PAGADO</td>\n",
       "      <td>COLECTIVO</td>\n",
       "      <td>Cervicalalgia/Hernia Discal</td>\n",
       "      <td>CARTA AVAL</td>\n",
       "      <td>CLINICA</td>\n",
       "      <td>Distrito Capital</td>\n",
       "      <td>F</td>\n",
       "      <td>54</td>\n",
       "      <td>29</td>\n",
       "      <td>30</td>\n",
       "      <td>2019-11-25</td>\n",
       "      <td>50-59</td>\n",
       "      <td>Ambulatorio</td>\n",
       "    </tr>\n",
       "  </tbody>\n",
       "</table>\n",
       "</div>"
      ],
      "text/plain": [
       "   SINIESTRO ESTATUS     RAMOID  \\\n",
       "0          1  PAGADO  COLECTIVO   \n",
       "1          2  PAGADO  COLECTIVO   \n",
       "2          3  PAGADO  COLECTIVO   \n",
       "3          4  PAGADO  COLECTIVO   \n",
       "4          5  PAGADO  COLECTIVO   \n",
       "\n",
       "                                       ENFERMEDAD    TIPO_SIN TP_PROVEEDOR  \\\n",
       "0                 Trastorno Interno De La Rodilla  CARTA AVAL      CLINICA   \n",
       "1            Gonartrosis [Artrosis De La Rodilla]  CARTA AVAL      CLINICA   \n",
       "2                 Trastorno Interno De La Rodilla  CARTA AVAL      CLINICA   \n",
       "3  Traumatismo Superficial Del Hombro Y Del Brazo  CARTA AVAL      CLINICA   \n",
       "4                     Cervicalalgia/Hernia Discal  CARTA AVAL      CLINICA   \n",
       "\n",
       "             ESTADO SEXO  EDAD  CD_PAIS  MONTO USD FECHA CONTITUCION  \\\n",
       "0  Distrito Capital    F    69       29        397        2020-12-11   \n",
       "1  Distrito Capital    M    76       29        457        2021-01-15   \n",
       "2  Distrito Capital    F    69       29        188        2021-01-27   \n",
       "3  Distrito Capital    M    45       29         45        2019-11-11   \n",
       "4  Distrito Capital    F    54       29         30        2019-11-25   \n",
       "\n",
       "   Rango Edad Hospitalizacion-Ambulatorio  \n",
       "0       60-69                 Ambulatorio  \n",
       "1  Mayor a 70                 Ambulatorio  \n",
       "2       60-69                 Ambulatorio  \n",
       "3       40-49                 Ambulatorio  \n",
       "4       50-59                 Ambulatorio  "
      ]
     },
     "execution_count": 6,
     "metadata": {},
     "output_type": "execute_result"
    }
   ],
   "source": [
    "data.head()"
   ]
  },
  {
   "cell_type": "markdown",
   "id": "handmade-kingston",
   "metadata": {},
   "source": [
    "## 🔍 DATA EXPLORATION"
   ]
  },
  {
   "cell_type": "code",
   "execution_count": 7,
   "id": "suitable-revolution",
   "metadata": {},
   "outputs": [
    {
     "data": {
      "text/plain": [
       "(183619, 14)"
      ]
     },
     "execution_count": 7,
     "metadata": {},
     "output_type": "execute_result"
    }
   ],
   "source": [
    "data.shape"
   ]
  },
  {
   "cell_type": "code",
   "execution_count": 8,
   "id": "surprised-studio",
   "metadata": {},
   "outputs": [
    {
     "data": {
      "text/html": [
       "<div>\n",
       "<style scoped>\n",
       "    .dataframe tbody tr th:only-of-type {\n",
       "        vertical-align: middle;\n",
       "    }\n",
       "\n",
       "    .dataframe tbody tr th {\n",
       "        vertical-align: top;\n",
       "    }\n",
       "\n",
       "    .dataframe thead th {\n",
       "        text-align: right;\n",
       "    }\n",
       "</style>\n",
       "<table border=\"1\" class=\"dataframe\">\n",
       "  <thead>\n",
       "    <tr style=\"text-align: right;\">\n",
       "      <th></th>\n",
       "      <th>SINIESTRO</th>\n",
       "      <th>EDAD</th>\n",
       "      <th>CD_PAIS</th>\n",
       "      <th>MONTO USD</th>\n",
       "    </tr>\n",
       "  </thead>\n",
       "  <tbody>\n",
       "    <tr>\n",
       "      <th>count</th>\n",
       "      <td>183619.000000</td>\n",
       "      <td>183619.000000</td>\n",
       "      <td>183619.000000</td>\n",
       "      <td>1.836190e+05</td>\n",
       "    </tr>\n",
       "    <tr>\n",
       "      <th>mean</th>\n",
       "      <td>91810.000000</td>\n",
       "      <td>44.501506</td>\n",
       "      <td>27.801017</td>\n",
       "      <td>1.443752e+04</td>\n",
       "    </tr>\n",
       "    <tr>\n",
       "      <th>std</th>\n",
       "      <td>53006.383877</td>\n",
       "      <td>22.409870</td>\n",
       "      <td>5.810547</td>\n",
       "      <td>3.253159e+05</td>\n",
       "    </tr>\n",
       "    <tr>\n",
       "      <th>min</th>\n",
       "      <td>1.000000</td>\n",
       "      <td>0.000000</td>\n",
       "      <td>1.000000</td>\n",
       "      <td>0.000000e+00</td>\n",
       "    </tr>\n",
       "    <tr>\n",
       "      <th>25%</th>\n",
       "      <td>45905.500000</td>\n",
       "      <td>30.000000</td>\n",
       "      <td>29.000000</td>\n",
       "      <td>2.200000e+01</td>\n",
       "    </tr>\n",
       "    <tr>\n",
       "      <th>50%</th>\n",
       "      <td>91810.000000</td>\n",
       "      <td>46.000000</td>\n",
       "      <td>29.000000</td>\n",
       "      <td>8.500000e+01</td>\n",
       "    </tr>\n",
       "    <tr>\n",
       "      <th>75%</th>\n",
       "      <td>137714.500000</td>\n",
       "      <td>62.000000</td>\n",
       "      <td>29.000000</td>\n",
       "      <td>4.100000e+02</td>\n",
       "    </tr>\n",
       "    <tr>\n",
       "      <th>max</th>\n",
       "      <td>183619.000000</td>\n",
       "      <td>100.000000</td>\n",
       "      <td>100.000000</td>\n",
       "      <td>6.317898e+07</td>\n",
       "    </tr>\n",
       "  </tbody>\n",
       "</table>\n",
       "</div>"
      ],
      "text/plain": [
       "           SINIESTRO           EDAD        CD_PAIS     MONTO USD\n",
       "count  183619.000000  183619.000000  183619.000000  1.836190e+05\n",
       "mean    91810.000000      44.501506      27.801017  1.443752e+04\n",
       "std     53006.383877      22.409870       5.810547  3.253159e+05\n",
       "min         1.000000       0.000000       1.000000  0.000000e+00\n",
       "25%     45905.500000      30.000000      29.000000  2.200000e+01\n",
       "50%     91810.000000      46.000000      29.000000  8.500000e+01\n",
       "75%    137714.500000      62.000000      29.000000  4.100000e+02\n",
       "max    183619.000000     100.000000     100.000000  6.317898e+07"
      ]
     },
     "execution_count": 8,
     "metadata": {},
     "output_type": "execute_result"
    }
   ],
   "source": [
    "data.describe()"
   ]
  },
  {
   "cell_type": "code",
   "execution_count": 9,
   "id": "superb-knowing",
   "metadata": {},
   "outputs": [
    {
     "data": {
      "text/plain": [
       "SINIESTRO                               int64\n",
       "ESTATUS                                object\n",
       "RAMOID                                 object\n",
       "ENFERMEDAD                             object\n",
       "TIPO_SIN                               object\n",
       "TP_PROVEEDOR                           object\n",
       "ESTADO                                 object\n",
       "SEXO                                   object\n",
       "EDAD                                    int64\n",
       "CD_PAIS                                 int64\n",
       "MONTO USD                               int64\n",
       "FECHA CONTITUCION              datetime64[ns]\n",
       "Rango Edad                             object\n",
       "Hospitalizacion-Ambulatorio            object\n",
       "dtype: object"
      ]
     },
     "execution_count": 9,
     "metadata": {},
     "output_type": "execute_result"
    }
   ],
   "source": [
    "data.dtypes"
   ]
  },
  {
   "cell_type": "markdown",
   "id": "enormous-bernard",
   "metadata": {},
   "source": [
    "## 🧹 DATA CLEANING"
   ]
  },
  {
   "cell_type": "markdown",
   "id": "coordinated-malawi",
   "metadata": {},
   "source": [
    "### *Renaming columns*"
   ]
  },
  {
   "cell_type": "code",
   "execution_count": 10,
   "id": "sacred-death",
   "metadata": {},
   "outputs": [
    {
     "data": {
      "text/html": [
       "<div>\n",
       "<style scoped>\n",
       "    .dataframe tbody tr th:only-of-type {\n",
       "        vertical-align: middle;\n",
       "    }\n",
       "\n",
       "    .dataframe tbody tr th {\n",
       "        vertical-align: top;\n",
       "    }\n",
       "\n",
       "    .dataframe thead th {\n",
       "        text-align: right;\n",
       "    }\n",
       "</style>\n",
       "<table border=\"1\" class=\"dataframe\">\n",
       "  <thead>\n",
       "    <tr style=\"text-align: right;\">\n",
       "      <th></th>\n",
       "      <th>SINIESTRO</th>\n",
       "      <th>status</th>\n",
       "      <th>insurance_type</th>\n",
       "      <th>disease</th>\n",
       "      <th>claim_type</th>\n",
       "      <th>provider_type</th>\n",
       "      <th>state</th>\n",
       "      <th>sex</th>\n",
       "      <th>age</th>\n",
       "      <th>country_id</th>\n",
       "      <th>amount</th>\n",
       "      <th>date_issue</th>\n",
       "      <th>age_range</th>\n",
       "      <th>h_type</th>\n",
       "    </tr>\n",
       "  </thead>\n",
       "  <tbody>\n",
       "    <tr>\n",
       "      <th>0</th>\n",
       "      <td>1</td>\n",
       "      <td>PAGADO</td>\n",
       "      <td>COLECTIVO</td>\n",
       "      <td>Trastorno Interno De La Rodilla</td>\n",
       "      <td>CARTA AVAL</td>\n",
       "      <td>CLINICA</td>\n",
       "      <td>Distrito Capital</td>\n",
       "      <td>F</td>\n",
       "      <td>69</td>\n",
       "      <td>29</td>\n",
       "      <td>397</td>\n",
       "      <td>2020-12-11</td>\n",
       "      <td>60-69</td>\n",
       "      <td>Ambulatorio</td>\n",
       "    </tr>\n",
       "    <tr>\n",
       "      <th>1</th>\n",
       "      <td>2</td>\n",
       "      <td>PAGADO</td>\n",
       "      <td>COLECTIVO</td>\n",
       "      <td>Gonartrosis [Artrosis De La Rodilla]</td>\n",
       "      <td>CARTA AVAL</td>\n",
       "      <td>CLINICA</td>\n",
       "      <td>Distrito Capital</td>\n",
       "      <td>M</td>\n",
       "      <td>76</td>\n",
       "      <td>29</td>\n",
       "      <td>457</td>\n",
       "      <td>2021-01-15</td>\n",
       "      <td>Mayor a 70</td>\n",
       "      <td>Ambulatorio</td>\n",
       "    </tr>\n",
       "    <tr>\n",
       "      <th>2</th>\n",
       "      <td>3</td>\n",
       "      <td>PAGADO</td>\n",
       "      <td>COLECTIVO</td>\n",
       "      <td>Trastorno Interno De La Rodilla</td>\n",
       "      <td>CARTA AVAL</td>\n",
       "      <td>CLINICA</td>\n",
       "      <td>Distrito Capital</td>\n",
       "      <td>F</td>\n",
       "      <td>69</td>\n",
       "      <td>29</td>\n",
       "      <td>188</td>\n",
       "      <td>2021-01-27</td>\n",
       "      <td>60-69</td>\n",
       "      <td>Ambulatorio</td>\n",
       "    </tr>\n",
       "    <tr>\n",
       "      <th>3</th>\n",
       "      <td>4</td>\n",
       "      <td>PAGADO</td>\n",
       "      <td>COLECTIVO</td>\n",
       "      <td>Traumatismo Superficial Del Hombro Y Del Brazo</td>\n",
       "      <td>CARTA AVAL</td>\n",
       "      <td>CLINICA</td>\n",
       "      <td>Distrito Capital</td>\n",
       "      <td>M</td>\n",
       "      <td>45</td>\n",
       "      <td>29</td>\n",
       "      <td>45</td>\n",
       "      <td>2019-11-11</td>\n",
       "      <td>40-49</td>\n",
       "      <td>Ambulatorio</td>\n",
       "    </tr>\n",
       "    <tr>\n",
       "      <th>4</th>\n",
       "      <td>5</td>\n",
       "      <td>PAGADO</td>\n",
       "      <td>COLECTIVO</td>\n",
       "      <td>Cervicalalgia/Hernia Discal</td>\n",
       "      <td>CARTA AVAL</td>\n",
       "      <td>CLINICA</td>\n",
       "      <td>Distrito Capital</td>\n",
       "      <td>F</td>\n",
       "      <td>54</td>\n",
       "      <td>29</td>\n",
       "      <td>30</td>\n",
       "      <td>2019-11-25</td>\n",
       "      <td>50-59</td>\n",
       "      <td>Ambulatorio</td>\n",
       "    </tr>\n",
       "  </tbody>\n",
       "</table>\n",
       "</div>"
      ],
      "text/plain": [
       "   SINIESTRO  status insurance_type  \\\n",
       "0          1  PAGADO      COLECTIVO   \n",
       "1          2  PAGADO      COLECTIVO   \n",
       "2          3  PAGADO      COLECTIVO   \n",
       "3          4  PAGADO      COLECTIVO   \n",
       "4          5  PAGADO      COLECTIVO   \n",
       "\n",
       "                                          disease  claim_type provider_type  \\\n",
       "0                 Trastorno Interno De La Rodilla  CARTA AVAL       CLINICA   \n",
       "1            Gonartrosis [Artrosis De La Rodilla]  CARTA AVAL       CLINICA   \n",
       "2                 Trastorno Interno De La Rodilla  CARTA AVAL       CLINICA   \n",
       "3  Traumatismo Superficial Del Hombro Y Del Brazo  CARTA AVAL       CLINICA   \n",
       "4                     Cervicalalgia/Hernia Discal  CARTA AVAL       CLINICA   \n",
       "\n",
       "              state sex  age  country_id  amount date_issue   age_range  \\\n",
       "0  Distrito Capital   F   69          29     397 2020-12-11       60-69   \n",
       "1  Distrito Capital   M   76          29     457 2021-01-15  Mayor a 70   \n",
       "2  Distrito Capital   F   69          29     188 2021-01-27       60-69   \n",
       "3  Distrito Capital   M   45          29      45 2019-11-11       40-49   \n",
       "4  Distrito Capital   F   54          29      30 2019-11-25       50-59   \n",
       "\n",
       "        h_type  \n",
       "0  Ambulatorio  \n",
       "1  Ambulatorio  \n",
       "2  Ambulatorio  \n",
       "3  Ambulatorio  \n",
       "4  Ambulatorio  "
      ]
     },
     "execution_count": 10,
     "metadata": {},
     "output_type": "execute_result"
    }
   ],
   "source": [
    "data = data.rename(columns={'ESTATUS': 'status', 'RAMOID': 'insurance_type', 'ENFERMEDAD': 'disease'\\\n",
    "                            ,'TIPO_SIN':'claim_type', 'TP_PROVEEDOR': 'provider_type', 'ESTADO':'state','SEXO':'sex'\\\n",
    "                            ,'EDAD':'age','CD_PAIS':'country_id', 'MONTO USD':'amount', 'FECHA CONTITUCION': 'date_issue'\\\n",
    "                            ,'Rango Edad':'age_range', 'Hospitalizacion-Ambulatorio': 'h_type'})\n",
    "data.head()"
   ]
  },
  {
   "cell_type": "markdown",
   "id": "adolescent-click",
   "metadata": {},
   "source": [
    "### *Checking duplicates*"
   ]
  },
  {
   "cell_type": "markdown",
   "id": "bibliographic-ceremony",
   "metadata": {},
   "source": [
    "##### *Drop columns 'SINIESTRO' which have unique values*"
   ]
  },
  {
   "cell_type": "code",
   "execution_count": 11,
   "id": "italian-damage",
   "metadata": {},
   "outputs": [],
   "source": [
    "data = data.drop(columns= 'SINIESTRO')"
   ]
  },
  {
   "cell_type": "code",
   "execution_count": 12,
   "id": "necessary-trailer",
   "metadata": {},
   "outputs": [
    {
     "name": "stdout",
     "output_type": "stream",
     "text": [
      "total values: 183619\n",
      "duplicates values: 763\n"
     ]
    }
   ],
   "source": [
    "# Before removing duplicates\n",
    "print('total values:', len(data))\n",
    "print('duplicates values:', data.duplicated().sum())"
   ]
  },
  {
   "cell_type": "code",
   "execution_count": 13,
   "id": "hollywood-stretch",
   "metadata": {},
   "outputs": [],
   "source": [
    "data = data.drop_duplicates()"
   ]
  },
  {
   "cell_type": "code",
   "execution_count": 14,
   "id": "statistical-september",
   "metadata": {},
   "outputs": [
    {
     "name": "stdout",
     "output_type": "stream",
     "text": [
      "total values: 182856\n",
      "duplicates values: 0\n"
     ]
    }
   ],
   "source": [
    "# After removing duplicates\n",
    "print('total values:', len(data))\n",
    "print('duplicates values:', data.duplicated().sum())\n",
    "\n",
    "#182856 rows remaining"
   ]
  },
  {
   "cell_type": "markdown",
   "id": "proud-stevens",
   "metadata": {},
   "source": [
    "### *Checking null values*"
   ]
  },
  {
   "cell_type": "code",
   "execution_count": 15,
   "id": "anonymous-sodium",
   "metadata": {
    "scrolled": true
   },
   "outputs": [
    {
     "name": "stdout",
     "output_type": "stream",
     "text": [
      "NaN count for each column:\n",
      "state             127521\n",
      "provider_type     127486\n",
      "status                 0\n",
      "insurance_type         0\n",
      "disease                0\n",
      "claim_type             0\n",
      "sex                    0\n",
      "age                    0\n",
      "country_id             0\n",
      "amount                 0\n",
      "date_issue             0\n",
      "age_range              0\n",
      "h_type                 0\n",
      "dtype: int64\n"
     ]
    }
   ],
   "source": [
    "print('NaN count for each column:')\n",
    "print(data.isnull().sum().sort_values(ascending=False))"
   ]
  },
  {
   "cell_type": "code",
   "execution_count": 16,
   "id": "understanding-purple",
   "metadata": {},
   "outputs": [
    {
     "name": "stdout",
     "output_type": "stream",
     "text": [
      "NaN percentage for each column:\n"
     ]
    },
    {
     "data": {
      "text/plain": [
       "state             0.697385\n",
       "provider_type     0.697193\n",
       "status            0.000000\n",
       "insurance_type    0.000000\n",
       "disease           0.000000\n",
       "claim_type        0.000000\n",
       "sex               0.000000\n",
       "age               0.000000\n",
       "country_id        0.000000\n",
       "amount            0.000000\n",
       "date_issue        0.000000\n",
       "age_range         0.000000\n",
       "h_type            0.000000\n",
       "dtype: float64"
      ]
     },
     "execution_count": 16,
     "metadata": {},
     "output_type": "execute_result"
    }
   ],
   "source": [
    "print('NaN percentage for each column:')\n",
    "data.isnull().sum().sort_values(ascending=False)/len(data) "
   ]
  },
  {
   "cell_type": "markdown",
   "id": "earned-maximum",
   "metadata": {},
   "source": [
    "👉 state and provider_type have 70% of null values"
   ]
  },
  {
   "cell_type": "markdown",
   "id": "cognitive-banking",
   "metadata": {},
   "source": [
    "##### *Replacing nulls values with non-null values*"
   ]
  },
  {
   "cell_type": "markdown",
   "id": "prerequisite-craft",
   "metadata": {},
   "source": [
    "###### data['state']"
   ]
  },
  {
   "cell_type": "code",
   "execution_count": 21,
   "id": "direct-imaging",
   "metadata": {},
   "outputs": [
    {
     "name": "stdout",
     "output_type": "stream",
     "text": [
      "['Distrito Capital' 'Miranda' 'Bolivar' 'Aragua' 'Zulia' 'Carabobo'\n",
      " 'Nueva Esparta' 'Lara' 'Vargas' 'Falcon' 'Trujillo' 'Anzoategui'\n",
      " 'Monagas' 'Portuguesa' 'Yaracuy' 'Estado No Identificado' 'Sucre'\n",
      " 'Merida' 'Barinas' 'Tachira' 'Guarico' 'Cojedes' 'Apure' 'Delta Amacuro']\n"
     ]
    }
   ],
   "source": [
    "# Values of 'state' columns\n",
    "print(data['state'].unique())"
   ]
  },
  {
   "cell_type": "code",
   "execution_count": 22,
   "id": "strategic-guitar",
   "metadata": {},
   "outputs": [],
   "source": [
    "# Replace nan with \"Estado No Identificado\" (which is an existing value)\n",
    "data['state'].replace(np.nan, \"Estado No Identificado\", inplace=True)"
   ]
  },
  {
   "cell_type": "markdown",
   "id": "numerical-annual",
   "metadata": {},
   "source": [
    "###### data['provider_type']"
   ]
  },
  {
   "cell_type": "code",
   "execution_count": 24,
   "id": "official-honor",
   "metadata": {},
   "outputs": [
    {
     "name": "stdout",
     "output_type": "stream",
     "text": [
      "['CLINICA' 'CENTROS DE RADIOLOGIA' 'MATERIALES DE SINTESIS Y PROTESIS'\n",
      " 'CENTROS DE FISIOTERAPIA Y REHABILITACIÓN' 'MEDICO' 'FARMACIAS'\n",
      " 'LABORATORIOS' 'COMPRAS Y SUMINISTROS' nan 'FUNERARIAS' 'AMBULANCIA']\n"
     ]
    }
   ],
   "source": [
    "# Values of 'provider_type' columns\n",
    "print(data['provider_type'].unique())"
   ]
  },
  {
   "cell_type": "code",
   "execution_count": 25,
   "id": "engaged-argument",
   "metadata": {},
   "outputs": [],
   "source": [
    "# Replace nan with \"No Informado\"\n",
    "data['provider_type'].replace(np.nan, \"No Informado\", inplace=True)"
   ]
  },
  {
   "cell_type": "code",
   "execution_count": 26,
   "id": "prescription-illustration",
   "metadata": {},
   "outputs": [
    {
     "data": {
      "text/plain": [
       "status            0.0\n",
       "insurance_type    0.0\n",
       "disease           0.0\n",
       "claim_type        0.0\n",
       "provider_type     0.0\n",
       "state             0.0\n",
       "sex               0.0\n",
       "age               0.0\n",
       "country_id        0.0\n",
       "amount            0.0\n",
       "date_issue        0.0\n",
       "age_range         0.0\n",
       "h_type            0.0\n",
       "dtype: float64"
      ]
     },
     "execution_count": 26,
     "metadata": {},
     "output_type": "execute_result"
    }
   ],
   "source": [
    "# Check:\n",
    "data.isnull().sum().sort_values(ascending=False)/len(data) "
   ]
  },
  {
   "cell_type": "markdown",
   "id": "imperial-mauritius",
   "metadata": {},
   "source": [
    "##### *NOT USED*"
   ]
  },
  {
   "cell_type": "code",
   "execution_count": 32,
   "id": "dominican-exception",
   "metadata": {},
   "outputs": [],
   "source": [
    "# Changing FECHA CONSTITUCION to date time type:\n",
    "#data['FECHA CONTITUCION'] = pd.to_datetime(data['FECHA CONTITUCION'], infer_datetime_format=True)"
   ]
  },
  {
   "cell_type": "code",
   "execution_count": 33,
   "id": "dynamic-advocate",
   "metadata": {},
   "outputs": [],
   "source": [
    "# Changing MONTO USD to float type:\n",
    "# data['MONTO USD'] = [x.replace('.', '') for x in data['MONTO USD']]\n",
    "# data['MONTO USD'] = [x.replace(',', '.') for x in data['MONTO USD']]\n",
    "# data['MONTO USD'] = data['MONTO USD'].astype(float)"
   ]
  },
  {
   "cell_type": "markdown",
   "id": "consolidated-isaac",
   "metadata": {},
   "source": [
    "### ✔ *Final checks*"
   ]
  },
  {
   "cell_type": "code",
   "execution_count": 27,
   "id": "paperback-bathroom",
   "metadata": {},
   "outputs": [
    {
     "data": {
      "text/html": [
       "<div>\n",
       "<style scoped>\n",
       "    .dataframe tbody tr th:only-of-type {\n",
       "        vertical-align: middle;\n",
       "    }\n",
       "\n",
       "    .dataframe tbody tr th {\n",
       "        vertical-align: top;\n",
       "    }\n",
       "\n",
       "    .dataframe thead th {\n",
       "        text-align: right;\n",
       "    }\n",
       "</style>\n",
       "<table border=\"1\" class=\"dataframe\">\n",
       "  <thead>\n",
       "    <tr style=\"text-align: right;\">\n",
       "      <th></th>\n",
       "      <th>age</th>\n",
       "      <th>country_id</th>\n",
       "      <th>amount</th>\n",
       "    </tr>\n",
       "  </thead>\n",
       "  <tbody>\n",
       "    <tr>\n",
       "      <th>count</th>\n",
       "      <td>182856.000000</td>\n",
       "      <td>182856.000000</td>\n",
       "      <td>1.828560e+05</td>\n",
       "    </tr>\n",
       "    <tr>\n",
       "      <th>mean</th>\n",
       "      <td>44.496369</td>\n",
       "      <td>27.804814</td>\n",
       "      <td>1.448557e+04</td>\n",
       "    </tr>\n",
       "    <tr>\n",
       "      <th>std</th>\n",
       "      <td>22.414890</td>\n",
       "      <td>5.803874</td>\n",
       "      <td>3.259869e+05</td>\n",
       "    </tr>\n",
       "    <tr>\n",
       "      <th>min</th>\n",
       "      <td>0.000000</td>\n",
       "      <td>1.000000</td>\n",
       "      <td>0.000000e+00</td>\n",
       "    </tr>\n",
       "    <tr>\n",
       "      <th>25%</th>\n",
       "      <td>30.000000</td>\n",
       "      <td>29.000000</td>\n",
       "      <td>2.200000e+01</td>\n",
       "    </tr>\n",
       "    <tr>\n",
       "      <th>50%</th>\n",
       "      <td>46.000000</td>\n",
       "      <td>29.000000</td>\n",
       "      <td>8.500000e+01</td>\n",
       "    </tr>\n",
       "    <tr>\n",
       "      <th>75%</th>\n",
       "      <td>62.000000</td>\n",
       "      <td>29.000000</td>\n",
       "      <td>4.120000e+02</td>\n",
       "    </tr>\n",
       "    <tr>\n",
       "      <th>max</th>\n",
       "      <td>100.000000</td>\n",
       "      <td>100.000000</td>\n",
       "      <td>6.317898e+07</td>\n",
       "    </tr>\n",
       "  </tbody>\n",
       "</table>\n",
       "</div>"
      ],
      "text/plain": [
       "                 age     country_id        amount\n",
       "count  182856.000000  182856.000000  1.828560e+05\n",
       "mean       44.496369      27.804814  1.448557e+04\n",
       "std        22.414890       5.803874  3.259869e+05\n",
       "min         0.000000       1.000000  0.000000e+00\n",
       "25%        30.000000      29.000000  2.200000e+01\n",
       "50%        46.000000      29.000000  8.500000e+01\n",
       "75%        62.000000      29.000000  4.120000e+02\n",
       "max       100.000000     100.000000  6.317898e+07"
      ]
     },
     "execution_count": 27,
     "metadata": {},
     "output_type": "execute_result"
    }
   ],
   "source": [
    "data.describe()"
   ]
  },
  {
   "cell_type": "code",
   "execution_count": 28,
   "id": "confident-religious",
   "metadata": {},
   "outputs": [
    {
     "data": {
      "text/html": [
       "<div>\n",
       "<style scoped>\n",
       "    .dataframe tbody tr th:only-of-type {\n",
       "        vertical-align: middle;\n",
       "    }\n",
       "\n",
       "    .dataframe tbody tr th {\n",
       "        vertical-align: top;\n",
       "    }\n",
       "\n",
       "    .dataframe thead th {\n",
       "        text-align: right;\n",
       "    }\n",
       "</style>\n",
       "<table border=\"1\" class=\"dataframe\">\n",
       "  <thead>\n",
       "    <tr style=\"text-align: right;\">\n",
       "      <th></th>\n",
       "      <th>status</th>\n",
       "      <th>insurance_type</th>\n",
       "      <th>disease</th>\n",
       "      <th>claim_type</th>\n",
       "      <th>provider_type</th>\n",
       "      <th>state</th>\n",
       "      <th>sex</th>\n",
       "      <th>age</th>\n",
       "      <th>country_id</th>\n",
       "      <th>amount</th>\n",
       "      <th>date_issue</th>\n",
       "      <th>age_range</th>\n",
       "      <th>h_type</th>\n",
       "    </tr>\n",
       "  </thead>\n",
       "  <tbody>\n",
       "    <tr>\n",
       "      <th>0</th>\n",
       "      <td>PAGADO</td>\n",
       "      <td>COLECTIVO</td>\n",
       "      <td>Trastorno Interno De La Rodilla</td>\n",
       "      <td>CARTA AVAL</td>\n",
       "      <td>CLINICA</td>\n",
       "      <td>Distrito Capital</td>\n",
       "      <td>F</td>\n",
       "      <td>69</td>\n",
       "      <td>29</td>\n",
       "      <td>397</td>\n",
       "      <td>2020-12-11</td>\n",
       "      <td>60-69</td>\n",
       "      <td>Ambulatorio</td>\n",
       "    </tr>\n",
       "    <tr>\n",
       "      <th>1</th>\n",
       "      <td>PAGADO</td>\n",
       "      <td>COLECTIVO</td>\n",
       "      <td>Gonartrosis [Artrosis De La Rodilla]</td>\n",
       "      <td>CARTA AVAL</td>\n",
       "      <td>CLINICA</td>\n",
       "      <td>Distrito Capital</td>\n",
       "      <td>M</td>\n",
       "      <td>76</td>\n",
       "      <td>29</td>\n",
       "      <td>457</td>\n",
       "      <td>2021-01-15</td>\n",
       "      <td>Mayor a 70</td>\n",
       "      <td>Ambulatorio</td>\n",
       "    </tr>\n",
       "    <tr>\n",
       "      <th>2</th>\n",
       "      <td>PAGADO</td>\n",
       "      <td>COLECTIVO</td>\n",
       "      <td>Trastorno Interno De La Rodilla</td>\n",
       "      <td>CARTA AVAL</td>\n",
       "      <td>CLINICA</td>\n",
       "      <td>Distrito Capital</td>\n",
       "      <td>F</td>\n",
       "      <td>69</td>\n",
       "      <td>29</td>\n",
       "      <td>188</td>\n",
       "      <td>2021-01-27</td>\n",
       "      <td>60-69</td>\n",
       "      <td>Ambulatorio</td>\n",
       "    </tr>\n",
       "    <tr>\n",
       "      <th>3</th>\n",
       "      <td>PAGADO</td>\n",
       "      <td>COLECTIVO</td>\n",
       "      <td>Traumatismo Superficial Del Hombro Y Del Brazo</td>\n",
       "      <td>CARTA AVAL</td>\n",
       "      <td>CLINICA</td>\n",
       "      <td>Distrito Capital</td>\n",
       "      <td>M</td>\n",
       "      <td>45</td>\n",
       "      <td>29</td>\n",
       "      <td>45</td>\n",
       "      <td>2019-11-11</td>\n",
       "      <td>40-49</td>\n",
       "      <td>Ambulatorio</td>\n",
       "    </tr>\n",
       "    <tr>\n",
       "      <th>4</th>\n",
       "      <td>PAGADO</td>\n",
       "      <td>COLECTIVO</td>\n",
       "      <td>Cervicalalgia/Hernia Discal</td>\n",
       "      <td>CARTA AVAL</td>\n",
       "      <td>CLINICA</td>\n",
       "      <td>Distrito Capital</td>\n",
       "      <td>F</td>\n",
       "      <td>54</td>\n",
       "      <td>29</td>\n",
       "      <td>30</td>\n",
       "      <td>2019-11-25</td>\n",
       "      <td>50-59</td>\n",
       "      <td>Ambulatorio</td>\n",
       "    </tr>\n",
       "  </tbody>\n",
       "</table>\n",
       "</div>"
      ],
      "text/plain": [
       "   status insurance_type                                         disease  \\\n",
       "0  PAGADO      COLECTIVO                 Trastorno Interno De La Rodilla   \n",
       "1  PAGADO      COLECTIVO            Gonartrosis [Artrosis De La Rodilla]   \n",
       "2  PAGADO      COLECTIVO                 Trastorno Interno De La Rodilla   \n",
       "3  PAGADO      COLECTIVO  Traumatismo Superficial Del Hombro Y Del Brazo   \n",
       "4  PAGADO      COLECTIVO                     Cervicalalgia/Hernia Discal   \n",
       "\n",
       "   claim_type provider_type             state sex  age  country_id  amount  \\\n",
       "0  CARTA AVAL       CLINICA  Distrito Capital   F   69          29     397   \n",
       "1  CARTA AVAL       CLINICA  Distrito Capital   M   76          29     457   \n",
       "2  CARTA AVAL       CLINICA  Distrito Capital   F   69          29     188   \n",
       "3  CARTA AVAL       CLINICA  Distrito Capital   M   45          29      45   \n",
       "4  CARTA AVAL       CLINICA  Distrito Capital   F   54          29      30   \n",
       "\n",
       "  date_issue   age_range       h_type  \n",
       "0 2020-12-11       60-69  Ambulatorio  \n",
       "1 2021-01-15  Mayor a 70  Ambulatorio  \n",
       "2 2021-01-27       60-69  Ambulatorio  \n",
       "3 2019-11-11       40-49  Ambulatorio  \n",
       "4 2019-11-25       50-59  Ambulatorio  "
      ]
     },
     "execution_count": 28,
     "metadata": {},
     "output_type": "execute_result"
    }
   ],
   "source": [
    "data.head()"
   ]
  },
  {
   "cell_type": "markdown",
   "id": "altered-charge",
   "metadata": {},
   "source": [
    "## 🔺🔻 ORDERED DATA"
   ]
  },
  {
   "cell_type": "code",
   "execution_count": 29,
   "id": "chicken-worst",
   "metadata": {},
   "outputs": [],
   "source": [
    "#Order by date\n",
    "data = data.sort_values('date_issue')"
   ]
  },
  {
   "cell_type": "code",
   "execution_count": 30,
   "id": "cutting-aquatic",
   "metadata": {},
   "outputs": [
    {
     "data": {
      "text/html": [
       "<div>\n",
       "<style scoped>\n",
       "    .dataframe tbody tr th:only-of-type {\n",
       "        vertical-align: middle;\n",
       "    }\n",
       "\n",
       "    .dataframe tbody tr th {\n",
       "        vertical-align: top;\n",
       "    }\n",
       "\n",
       "    .dataframe thead th {\n",
       "        text-align: right;\n",
       "    }\n",
       "</style>\n",
       "<table border=\"1\" class=\"dataframe\">\n",
       "  <thead>\n",
       "    <tr style=\"text-align: right;\">\n",
       "      <th></th>\n",
       "      <th>status</th>\n",
       "      <th>insurance_type</th>\n",
       "      <th>disease</th>\n",
       "      <th>claim_type</th>\n",
       "      <th>provider_type</th>\n",
       "      <th>state</th>\n",
       "      <th>sex</th>\n",
       "      <th>age</th>\n",
       "      <th>country_id</th>\n",
       "      <th>amount</th>\n",
       "      <th>date_issue</th>\n",
       "      <th>age_range</th>\n",
       "      <th>h_type</th>\n",
       "    </tr>\n",
       "  </thead>\n",
       "  <tbody>\n",
       "    <tr>\n",
       "      <th>177117</th>\n",
       "      <td>PAGADO</td>\n",
       "      <td>INDIVIDUAL</td>\n",
       "      <td>Tumor Maligno Del Colon</td>\n",
       "      <td>EMERGENCIA</td>\n",
       "      <td>CLINICA</td>\n",
       "      <td>Lara</td>\n",
       "      <td>M</td>\n",
       "      <td>67</td>\n",
       "      <td>29</td>\n",
       "      <td>57703</td>\n",
       "      <td>2017-01-01</td>\n",
       "      <td>60-69</td>\n",
       "      <td>Hospitalización</td>\n",
       "    </tr>\n",
       "    <tr>\n",
       "      <th>179769</th>\n",
       "      <td>PAGADO</td>\n",
       "      <td>INDIVIDUAL</td>\n",
       "      <td>Colico Nefritico/Calculo Renal</td>\n",
       "      <td>EMERGENCIA</td>\n",
       "      <td>CLINICA</td>\n",
       "      <td>Distrito Capital</td>\n",
       "      <td>F</td>\n",
       "      <td>38</td>\n",
       "      <td>29</td>\n",
       "      <td>320657</td>\n",
       "      <td>2017-01-02</td>\n",
       "      <td>30-39</td>\n",
       "      <td>Hospitalización</td>\n",
       "    </tr>\n",
       "    <tr>\n",
       "      <th>36908</th>\n",
       "      <td>PAGADO</td>\n",
       "      <td>INDIVIDUAL</td>\n",
       "      <td>Tumor Benigno De Otros Organos Intratoracicos ...</td>\n",
       "      <td>REEMBOLSO</td>\n",
       "      <td>No Informado</td>\n",
       "      <td>Estado No Identificado</td>\n",
       "      <td>F</td>\n",
       "      <td>66</td>\n",
       "      <td>29</td>\n",
       "      <td>1048</td>\n",
       "      <td>2017-01-02</td>\n",
       "      <td>60-69</td>\n",
       "      <td>Hospitalización</td>\n",
       "    </tr>\n",
       "    <tr>\n",
       "      <th>137362</th>\n",
       "      <td>PAGADO</td>\n",
       "      <td>COLECTIVO</td>\n",
       "      <td>Infeccion Viral</td>\n",
       "      <td>EMERGENCIA</td>\n",
       "      <td>CLINICA</td>\n",
       "      <td>Distrito Capital</td>\n",
       "      <td>F</td>\n",
       "      <td>34</td>\n",
       "      <td>29</td>\n",
       "      <td>6516</td>\n",
       "      <td>2017-01-02</td>\n",
       "      <td>30-39</td>\n",
       "      <td>Ambulatorio</td>\n",
       "    </tr>\n",
       "    <tr>\n",
       "      <th>48661</th>\n",
       "      <td>PAGADO</td>\n",
       "      <td>INDIVIDUAL</td>\n",
       "      <td>Tumor Maligno De Los Bronquios Y Del Pulmon</td>\n",
       "      <td>REEMBOLSO</td>\n",
       "      <td>No Informado</td>\n",
       "      <td>Estado No Identificado</td>\n",
       "      <td>M</td>\n",
       "      <td>65</td>\n",
       "      <td>29</td>\n",
       "      <td>69386</td>\n",
       "      <td>2017-01-02</td>\n",
       "      <td>60-69</td>\n",
       "      <td>Hospitalización</td>\n",
       "    </tr>\n",
       "  </tbody>\n",
       "</table>\n",
       "</div>"
      ],
      "text/plain": [
       "        status insurance_type  \\\n",
       "177117  PAGADO     INDIVIDUAL   \n",
       "179769  PAGADO     INDIVIDUAL   \n",
       "36908   PAGADO     INDIVIDUAL   \n",
       "137362  PAGADO      COLECTIVO   \n",
       "48661   PAGADO     INDIVIDUAL   \n",
       "\n",
       "                                                  disease  claim_type  \\\n",
       "177117                            Tumor Maligno Del Colon  EMERGENCIA   \n",
       "179769                     Colico Nefritico/Calculo Renal  EMERGENCIA   \n",
       "36908   Tumor Benigno De Otros Organos Intratoracicos ...   REEMBOLSO   \n",
       "137362                                    Infeccion Viral  EMERGENCIA   \n",
       "48661         Tumor Maligno De Los Bronquios Y Del Pulmon   REEMBOLSO   \n",
       "\n",
       "       provider_type                   state sex  age  country_id  amount  \\\n",
       "177117       CLINICA                    Lara   M   67          29   57703   \n",
       "179769       CLINICA        Distrito Capital   F   38          29  320657   \n",
       "36908   No Informado  Estado No Identificado   F   66          29    1048   \n",
       "137362       CLINICA        Distrito Capital   F   34          29    6516   \n",
       "48661   No Informado  Estado No Identificado   M   65          29   69386   \n",
       "\n",
       "       date_issue age_range           h_type  \n",
       "177117 2017-01-01     60-69  Hospitalización  \n",
       "179769 2017-01-02     30-39  Hospitalización  \n",
       "36908  2017-01-02     60-69  Hospitalización  \n",
       "137362 2017-01-02     30-39      Ambulatorio  \n",
       "48661  2017-01-02     60-69  Hospitalización  "
      ]
     },
     "execution_count": 30,
     "metadata": {},
     "output_type": "execute_result"
    }
   ],
   "source": [
    "data.head()"
   ]
  },
  {
   "cell_type": "code",
   "execution_count": 31,
   "id": "dress-little",
   "metadata": {},
   "outputs": [
    {
     "data": {
      "text/plain": [
       "[<matplotlib.lines.Line2D at 0x7fec07c78790>]"
      ]
     },
     "execution_count": 31,
     "metadata": {},
     "output_type": "execute_result"
    },
    {
     "data": {
      "image/png": "[encoded data removed]",
      "text/plain": [
       "<Figure size 720x360 with 1 Axes>"
      ]
     },
     "metadata": {
      "needs_background": "light"
     },
     "output_type": "display_data"
    }
   ],
   "source": [
    "plt.figure(figsize=(10, 5))\n",
    "plt.plot(data[\"date_issue\"], data[\"amount\"])"
   ]
  },
  {
   "cell_type": "markdown",
   "id": "interesting-wagner",
   "metadata": {},
   "source": [
    "##### *Plot looks normal from 09-2018 (currency reconversion), so we will trim the dataset and keep data from 09-2018 onwards*"
   ]
  },
  {
   "cell_type": "markdown",
   "id": "unique-lemon",
   "metadata": {},
   "source": [
    "## ✂ DATA TRIM"
   ]
  },
  {
   "cell_type": "code",
   "execution_count": 32,
   "id": "interested-transparency",
   "metadata": {},
   "outputs": [],
   "source": [
    "data_trim = data.loc[(data['date_issue'] >= datetime(2018, 9, 1))]"
   ]
  },
  {
   "cell_type": "code",
   "execution_count": 33,
   "id": "terminal-discrimination",
   "metadata": {},
   "outputs": [
    {
     "data": {
      "text/html": [
       "<div>\n",
       "<style scoped>\n",
       "    .dataframe tbody tr th:only-of-type {\n",
       "        vertical-align: middle;\n",
       "    }\n",
       "\n",
       "    .dataframe tbody tr th {\n",
       "        vertical-align: top;\n",
       "    }\n",
       "\n",
       "    .dataframe thead th {\n",
       "        text-align: right;\n",
       "    }\n",
       "</style>\n",
       "<table border=\"1\" class=\"dataframe\">\n",
       "  <thead>\n",
       "    <tr style=\"text-align: right;\">\n",
       "      <th></th>\n",
       "      <th>status</th>\n",
       "      <th>insurance_type</th>\n",
       "      <th>disease</th>\n",
       "      <th>claim_type</th>\n",
       "      <th>provider_type</th>\n",
       "      <th>state</th>\n",
       "      <th>sex</th>\n",
       "      <th>age</th>\n",
       "      <th>country_id</th>\n",
       "      <th>amount</th>\n",
       "      <th>date_issue</th>\n",
       "      <th>age_range</th>\n",
       "      <th>h_type</th>\n",
       "    </tr>\n",
       "  </thead>\n",
       "  <tbody>\n",
       "    <tr>\n",
       "      <th>170734</th>\n",
       "      <td>PAGADO</td>\n",
       "      <td>INDIVIDUAL</td>\n",
       "      <td>Laringitis Y Traqueitis Agudas</td>\n",
       "      <td>EMERGENCIA</td>\n",
       "      <td>CLINICA</td>\n",
       "      <td>Distrito Capital</td>\n",
       "      <td>F</td>\n",
       "      <td>48</td>\n",
       "      <td>29</td>\n",
       "      <td>26</td>\n",
       "      <td>2018-09-01</td>\n",
       "      <td>40-49</td>\n",
       "      <td>Ambulatorio</td>\n",
       "    </tr>\n",
       "    <tr>\n",
       "      <th>171773</th>\n",
       "      <td>PAGADO</td>\n",
       "      <td>INDIVIDUAL</td>\n",
       "      <td>Hepatitis Viral(A-B-C)</td>\n",
       "      <td>EMERGENCIA</td>\n",
       "      <td>CLINICA</td>\n",
       "      <td>Distrito Capital</td>\n",
       "      <td>F</td>\n",
       "      <td>50</td>\n",
       "      <td>29</td>\n",
       "      <td>142</td>\n",
       "      <td>2018-09-01</td>\n",
       "      <td>50-59</td>\n",
       "      <td>Ambulatorio</td>\n",
       "    </tr>\n",
       "    <tr>\n",
       "      <th>167138</th>\n",
       "      <td>PAGADO</td>\n",
       "      <td>INDIVIDUAL</td>\n",
       "      <td>Amigdalo-Faringitis Aguda</td>\n",
       "      <td>EMERGENCIA</td>\n",
       "      <td>CLINICA</td>\n",
       "      <td>Zulia</td>\n",
       "      <td>M</td>\n",
       "      <td>42</td>\n",
       "      <td>29</td>\n",
       "      <td>21</td>\n",
       "      <td>2018-09-02</td>\n",
       "      <td>40-49</td>\n",
       "      <td>Ambulatorio</td>\n",
       "    </tr>\n",
       "    <tr>\n",
       "      <th>180517</th>\n",
       "      <td>PAGADO</td>\n",
       "      <td>INDIVIDUAL</td>\n",
       "      <td>Bronquitis Aguda</td>\n",
       "      <td>EMERGENCIA</td>\n",
       "      <td>CLINICA</td>\n",
       "      <td>Distrito Capital</td>\n",
       "      <td>F</td>\n",
       "      <td>59</td>\n",
       "      <td>29</td>\n",
       "      <td>311</td>\n",
       "      <td>2018-09-02</td>\n",
       "      <td>50-59</td>\n",
       "      <td>Hospitalización</td>\n",
       "    </tr>\n",
       "    <tr>\n",
       "      <th>149033</th>\n",
       "      <td>PAGADO</td>\n",
       "      <td>COLECTIVO</td>\n",
       "      <td>Dolor Abdominal Y Pelvico</td>\n",
       "      <td>EMERGENCIA</td>\n",
       "      <td>CLINICA</td>\n",
       "      <td>Miranda</td>\n",
       "      <td>F</td>\n",
       "      <td>47</td>\n",
       "      <td>29</td>\n",
       "      <td>14</td>\n",
       "      <td>2018-09-02</td>\n",
       "      <td>40-49</td>\n",
       "      <td>Ambulatorio</td>\n",
       "    </tr>\n",
       "    <tr>\n",
       "      <th>...</th>\n",
       "      <td>...</td>\n",
       "      <td>...</td>\n",
       "      <td>...</td>\n",
       "      <td>...</td>\n",
       "      <td>...</td>\n",
       "      <td>...</td>\n",
       "      <td>...</td>\n",
       "      <td>...</td>\n",
       "      <td>...</td>\n",
       "      <td>...</td>\n",
       "      <td>...</td>\n",
       "      <td>...</td>\n",
       "      <td>...</td>\n",
       "    </tr>\n",
       "    <tr>\n",
       "      <th>4715</th>\n",
       "      <td>PENDIENTE</td>\n",
       "      <td>INDIVIDUAL</td>\n",
       "      <td>Fiebre Del Dengue Clasico/Hemorragico</td>\n",
       "      <td>EMERGENCIA</td>\n",
       "      <td>CLINICA</td>\n",
       "      <td>Falcon</td>\n",
       "      <td>F</td>\n",
       "      <td>42</td>\n",
       "      <td>29</td>\n",
       "      <td>1351</td>\n",
       "      <td>2021-03-08</td>\n",
       "      <td>40-49</td>\n",
       "      <td>Hospitalización</td>\n",
       "    </tr>\n",
       "    <tr>\n",
       "      <th>151757</th>\n",
       "      <td>PENDIENTE</td>\n",
       "      <td>COLECTIVO</td>\n",
       "      <td>Infeccion Viral - Covid 19 Sospechoso</td>\n",
       "      <td>EMERGENCIA</td>\n",
       "      <td>CLINICA</td>\n",
       "      <td>Bolivar</td>\n",
       "      <td>F</td>\n",
       "      <td>27</td>\n",
       "      <td>29</td>\n",
       "      <td>609</td>\n",
       "      <td>2021-03-08</td>\n",
       "      <td>20-29</td>\n",
       "      <td>Ambulatorio</td>\n",
       "    </tr>\n",
       "    <tr>\n",
       "      <th>143438</th>\n",
       "      <td>PENDIENTE</td>\n",
       "      <td>COLECTIVO</td>\n",
       "      <td>Mordedura De Animales</td>\n",
       "      <td>EMERGENCIA</td>\n",
       "      <td>CLINICA</td>\n",
       "      <td>Sucre</td>\n",
       "      <td>F</td>\n",
       "      <td>28</td>\n",
       "      <td>29</td>\n",
       "      <td>54</td>\n",
       "      <td>2021-03-08</td>\n",
       "      <td>20-29</td>\n",
       "      <td>Ambulatorio</td>\n",
       "    </tr>\n",
       "    <tr>\n",
       "      <th>5098</th>\n",
       "      <td>PENDIENTE</td>\n",
       "      <td>INDIVIDUAL</td>\n",
       "      <td>Neumonia Bacteriana/Viral</td>\n",
       "      <td>EMERGENCIA</td>\n",
       "      <td>CLINICA</td>\n",
       "      <td>Monagas</td>\n",
       "      <td>M</td>\n",
       "      <td>48</td>\n",
       "      <td>29</td>\n",
       "      <td>4962</td>\n",
       "      <td>2021-03-08</td>\n",
       "      <td>40-49</td>\n",
       "      <td>Hospitalización</td>\n",
       "    </tr>\n",
       "    <tr>\n",
       "      <th>151431</th>\n",
       "      <td>PENDIENTE</td>\n",
       "      <td>INDIVIDUAL</td>\n",
       "      <td>Rinitis Alergica Y Vasomotora</td>\n",
       "      <td>EMERGENCIA</td>\n",
       "      <td>CLINICA</td>\n",
       "      <td>Distrito Capital</td>\n",
       "      <td>M</td>\n",
       "      <td>50</td>\n",
       "      <td>29</td>\n",
       "      <td>797</td>\n",
       "      <td>2021-03-08</td>\n",
       "      <td>50-59</td>\n",
       "      <td>Ambulatorio</td>\n",
       "    </tr>\n",
       "  </tbody>\n",
       "</table>\n",
       "<p>151251 rows × 13 columns</p>\n",
       "</div>"
      ],
      "text/plain": [
       "           status insurance_type                                disease  \\\n",
       "170734     PAGADO     INDIVIDUAL         Laringitis Y Traqueitis Agudas   \n",
       "171773     PAGADO     INDIVIDUAL                 Hepatitis Viral(A-B-C)   \n",
       "167138     PAGADO     INDIVIDUAL              Amigdalo-Faringitis Aguda   \n",
       "180517     PAGADO     INDIVIDUAL                       Bronquitis Aguda   \n",
       "149033     PAGADO      COLECTIVO              Dolor Abdominal Y Pelvico   \n",
       "...           ...            ...                                    ...   \n",
       "4715    PENDIENTE     INDIVIDUAL  Fiebre Del Dengue Clasico/Hemorragico   \n",
       "151757  PENDIENTE      COLECTIVO  Infeccion Viral - Covid 19 Sospechoso   \n",
       "143438  PENDIENTE      COLECTIVO                  Mordedura De Animales   \n",
       "5098    PENDIENTE     INDIVIDUAL              Neumonia Bacteriana/Viral   \n",
       "151431  PENDIENTE     INDIVIDUAL          Rinitis Alergica Y Vasomotora   \n",
       "\n",
       "        claim_type provider_type             state sex  age  country_id  \\\n",
       "170734  EMERGENCIA       CLINICA  Distrito Capital   F   48          29   \n",
       "171773  EMERGENCIA       CLINICA  Distrito Capital   F   50          29   \n",
       "167138  EMERGENCIA       CLINICA             Zulia   M   42          29   \n",
       "180517  EMERGENCIA       CLINICA  Distrito Capital   F   59          29   \n",
       "149033  EMERGENCIA       CLINICA           Miranda   F   47          29   \n",
       "...            ...           ...               ...  ..  ...         ...   \n",
       "4715    EMERGENCIA       CLINICA            Falcon   F   42          29   \n",
       "151757  EMERGENCIA       CLINICA           Bolivar   F   27          29   \n",
       "143438  EMERGENCIA       CLINICA             Sucre   F   28          29   \n",
       "5098    EMERGENCIA       CLINICA           Monagas   M   48          29   \n",
       "151431  EMERGENCIA       CLINICA  Distrito Capital   M   50          29   \n",
       "\n",
       "        amount date_issue age_range           h_type  \n",
       "170734      26 2018-09-01     40-49      Ambulatorio  \n",
       "171773     142 2018-09-01     50-59      Ambulatorio  \n",
       "167138      21 2018-09-02     40-49      Ambulatorio  \n",
       "180517     311 2018-09-02     50-59  Hospitalización  \n",
       "149033      14 2018-09-02     40-49      Ambulatorio  \n",
       "...        ...        ...       ...              ...  \n",
       "4715      1351 2021-03-08     40-49  Hospitalización  \n",
       "151757     609 2021-03-08     20-29      Ambulatorio  \n",
       "143438      54 2021-03-08     20-29      Ambulatorio  \n",
       "5098      4962 2021-03-08     40-49  Hospitalización  \n",
       "151431     797 2021-03-08     50-59      Ambulatorio  \n",
       "\n",
       "[151251 rows x 13 columns]"
      ]
     },
     "execution_count": 33,
     "metadata": {},
     "output_type": "execute_result"
    }
   ],
   "source": [
    "data_trim"
   ]
  },
  {
   "cell_type": "code",
   "execution_count": 34,
   "id": "alpine-farming",
   "metadata": {},
   "outputs": [
    {
     "data": {
      "text/plain": [
       "(182856, 13)"
      ]
     },
     "execution_count": 34,
     "metadata": {},
     "output_type": "execute_result"
    }
   ],
   "source": [
    "data.shape"
   ]
  },
  {
   "cell_type": "markdown",
   "id": "satisfactory-turkish",
   "metadata": {},
   "source": [
    "### 📤 *#1 Exporting to excel: FULL_CLEAN_DATA*"
   ]
  },
  {
   "cell_type": "code",
   "execution_count": 53,
   "id": "about-scout",
   "metadata": {},
   "outputs": [],
   "source": [
    "# full_data_clean = data_trim.to_excel('../raw_data/full_data_clean.xlsx', engine='xlsxwriter')"
   ]
  },
  {
   "cell_type": "markdown",
   "id": "czech-prediction",
   "metadata": {},
   "source": [
    "## 📆 DAILY DATA"
   ]
  },
  {
   "cell_type": "markdown",
   "id": "improved-stevens",
   "metadata": {},
   "source": [
    "##### *Grouping data by days, each day will have only one row*"
   ]
  },
  {
   "cell_type": "code",
   "execution_count": 35,
   "id": "integral-criterion",
   "metadata": {},
   "outputs": [],
   "source": [
    "data_days = data_trim.groupby('date_issue', as_index = False).agg({'amount': 'sum'})"
   ]
  },
  {
   "cell_type": "code",
   "execution_count": 36,
   "id": "rotary-appendix",
   "metadata": {},
   "outputs": [],
   "source": [
    "# Renaming columns\n",
    "data_days.columns = ['date_issue','total_amount_claims']"
   ]
  },
  {
   "cell_type": "code",
   "execution_count": 37,
   "id": "announced-order",
   "metadata": {},
   "outputs": [
    {
     "data": {
      "text/html": [
       "<div>\n",
       "<style scoped>\n",
       "    .dataframe tbody tr th:only-of-type {\n",
       "        vertical-align: middle;\n",
       "    }\n",
       "\n",
       "    .dataframe tbody tr th {\n",
       "        vertical-align: top;\n",
       "    }\n",
       "\n",
       "    .dataframe thead th {\n",
       "        text-align: right;\n",
       "    }\n",
       "</style>\n",
       "<table border=\"1\" class=\"dataframe\">\n",
       "  <thead>\n",
       "    <tr style=\"text-align: right;\">\n",
       "      <th></th>\n",
       "      <th>date_issue</th>\n",
       "      <th>total_amount_claims</th>\n",
       "    </tr>\n",
       "  </thead>\n",
       "  <tbody>\n",
       "    <tr>\n",
       "      <th>0</th>\n",
       "      <td>2018-09-01</td>\n",
       "      <td>168</td>\n",
       "    </tr>\n",
       "    <tr>\n",
       "      <th>1</th>\n",
       "      <td>2018-09-02</td>\n",
       "      <td>346</td>\n",
       "    </tr>\n",
       "    <tr>\n",
       "      <th>2</th>\n",
       "      <td>2018-09-03</td>\n",
       "      <td>16169</td>\n",
       "    </tr>\n",
       "    <tr>\n",
       "      <th>3</th>\n",
       "      <td>2018-09-04</td>\n",
       "      <td>28529</td>\n",
       "    </tr>\n",
       "    <tr>\n",
       "      <th>4</th>\n",
       "      <td>2018-09-05</td>\n",
       "      <td>64135</td>\n",
       "    </tr>\n",
       "  </tbody>\n",
       "</table>\n",
       "</div>"
      ],
      "text/plain": [
       "  date_issue  total_amount_claims\n",
       "0 2018-09-01                  168\n",
       "1 2018-09-02                  346\n",
       "2 2018-09-03                16169\n",
       "3 2018-09-04                28529\n",
       "4 2018-09-05                64135"
      ]
     },
     "execution_count": 37,
     "metadata": {},
     "output_type": "execute_result"
    }
   ],
   "source": [
    "data_days.head()"
   ]
  },
  {
   "cell_type": "code",
   "execution_count": 38,
   "id": "binary-shade",
   "metadata": {},
   "outputs": [
    {
     "data": {
      "text/plain": [
       "920"
      ]
     },
     "execution_count": 38,
     "metadata": {},
     "output_type": "execute_result"
    }
   ],
   "source": [
    "len(data_days)"
   ]
  },
  {
   "cell_type": "code",
   "execution_count": 39,
   "id": "changed-veteran",
   "metadata": {},
   "outputs": [
    {
     "data": {
      "text/plain": [
       "(920, 2)"
      ]
     },
     "execution_count": 39,
     "metadata": {},
     "output_type": "execute_result"
    }
   ],
   "source": [
    "data_days.shape"
   ]
  },
  {
   "cell_type": "code",
   "execution_count": 41,
   "id": "increased-color",
   "metadata": {},
   "outputs": [
    {
     "data": {
      "text/html": [
       "<div>\n",
       "<style scoped>\n",
       "    .dataframe tbody tr th:only-of-type {\n",
       "        vertical-align: middle;\n",
       "    }\n",
       "\n",
       "    .dataframe tbody tr th {\n",
       "        vertical-align: top;\n",
       "    }\n",
       "\n",
       "    .dataframe thead th {\n",
       "        text-align: right;\n",
       "    }\n",
       "</style>\n",
       "<table border=\"1\" class=\"dataframe\">\n",
       "  <thead>\n",
       "    <tr style=\"text-align: right;\">\n",
       "      <th></th>\n",
       "      <th>total_amount_claims</th>\n",
       "    </tr>\n",
       "  </thead>\n",
       "  <tbody>\n",
       "    <tr>\n",
       "      <th>count</th>\n",
       "      <td>920.000000</td>\n",
       "    </tr>\n",
       "    <tr>\n",
       "      <th>mean</th>\n",
       "      <td>106419.338043</td>\n",
       "    </tr>\n",
       "    <tr>\n",
       "      <th>std</th>\n",
       "      <td>104644.635744</td>\n",
       "    </tr>\n",
       "    <tr>\n",
       "      <th>min</th>\n",
       "      <td>31.000000</td>\n",
       "    </tr>\n",
       "    <tr>\n",
       "      <th>25%</th>\n",
       "      <td>31063.250000</td>\n",
       "    </tr>\n",
       "    <tr>\n",
       "      <th>50%</th>\n",
       "      <td>76229.000000</td>\n",
       "    </tr>\n",
       "    <tr>\n",
       "      <th>75%</th>\n",
       "      <td>143763.250000</td>\n",
       "    </tr>\n",
       "    <tr>\n",
       "      <th>max</th>\n",
       "      <td>713904.000000</td>\n",
       "    </tr>\n",
       "  </tbody>\n",
       "</table>\n",
       "</div>"
      ],
      "text/plain": [
       "       total_amount_claims\n",
       "count           920.000000\n",
       "mean         106419.338043\n",
       "std          104644.635744\n",
       "min              31.000000\n",
       "25%           31063.250000\n",
       "50%           76229.000000\n",
       "75%          143763.250000\n",
       "max          713904.000000"
      ]
     },
     "execution_count": 41,
     "metadata": {},
     "output_type": "execute_result"
    }
   ],
   "source": [
    "data_days[['total_amount_claims']].describe()"
   ]
  },
  {
   "cell_type": "markdown",
   "id": "tribal-cleveland",
   "metadata": {},
   "source": [
    "### 📈 *Some plots*"
   ]
  },
  {
   "cell_type": "code",
   "execution_count": 42,
   "id": "republican-snapshot",
   "metadata": {},
   "outputs": [
    {
     "name": "stderr",
     "output_type": "stream",
     "text": [
      "/home/lucila/.pyenv/versions/3.8.6/envs/Insurance_claiming_forecasting/lib/python3.8/site-packages/seaborn/distributions.py:2557: FutureWarning: `distplot` is a deprecated function and will be removed in a future version. Please adapt your code to use either `displot` (a figure-level function with similar flexibility) or `histplot` (an axes-level function for histograms).\n",
      "  warnings.warn(msg, FutureWarning)\n"
     ]
    },
    {
     "data": {
      "image/png": "[encoded data removed]",
      "text/plain": [
       "<Figure size 432x288 with 1 Axes>"
      ]
     },
     "metadata": {
      "needs_background": "light"
     },
     "output_type": "display_data"
    }
   ],
   "source": [
    "sns.distplot(data_days['total_amount_claims']);"
   ]
  },
  {
   "cell_type": "code",
   "execution_count": 43,
   "id": "detected-veteran",
   "metadata": {},
   "outputs": [
    {
     "data": {
      "text/plain": [
       "<AxesSubplot:xlabel='total_amount_claims', ylabel='date_issue'>"
      ]
     },
     "execution_count": 43,
     "metadata": {},
     "output_type": "execute_result"
    },
    {
     "data": {
      "image/png": "[encoded data removed]",
      "text/plain": [
       "<Figure size 432x288 with 1 Axes>"
      ]
     },
     "metadata": {
      "needs_background": "light"
     },
     "output_type": "display_data"
    }
   ],
   "source": [
    "sns.scatterplot(x=\"total_amount_claims\", y=\"date_issue\", data=data_days)"
   ]
  },
  {
   "cell_type": "markdown",
   "id": "satisfactory-buddy",
   "metadata": {},
   "source": [
    "### 📈 *Time series plots*"
   ]
  },
  {
   "cell_type": "code",
   "execution_count": 44,
   "id": "directed-samoa",
   "metadata": {},
   "outputs": [],
   "source": [
    "# Setting index as date\n",
    "data_days_plotting = data_days.set_index('date_issue')"
   ]
  },
  {
   "cell_type": "code",
   "execution_count": 45,
   "id": "accepted-coordinator",
   "metadata": {},
   "outputs": [
    {
     "data": {
      "image/png": "[encoded data removed]",
      "text/plain": [
       "<Figure size 1080x360 with 1 Axes>"
      ]
     },
     "metadata": {
      "needs_background": "light"
     },
     "output_type": "display_data"
    }
   ],
   "source": [
    "data_days_plotting.plot(grid=True, figsize=(15,5));"
   ]
  },
  {
   "cell_type": "markdown",
   "id": "cooked-democracy",
   "metadata": {},
   "source": [
    "### 📤 *#2 Exporting to excel: DAILY_CLEAN_DATA*"
   ]
  },
  {
   "cell_type": "code",
   "execution_count": 74,
   "id": "critical-thumb",
   "metadata": {},
   "outputs": [],
   "source": [
    "# daily_data_clean = data_days.to_excel('../raw_data/daily_data_clean.xlsx', engine='xlsxwriter')"
   ]
  },
  {
   "cell_type": "markdown",
   "id": "finite-jewel",
   "metadata": {},
   "source": [
    "## 📅 WEEKLY DATA"
   ]
  },
  {
   "cell_type": "code",
   "execution_count": 46,
   "id": "anticipated-brown",
   "metadata": {},
   "outputs": [],
   "source": [
    "data_weekly = data_days.resample('W-Mon', on='date_issue').sum().reset_index().sort_values(by='date_issue')"
   ]
  },
  {
   "cell_type": "code",
   "execution_count": 47,
   "id": "sacred-player",
   "metadata": {},
   "outputs": [
    {
     "data": {
      "text/html": [
       "<div>\n",
       "<style scoped>\n",
       "    .dataframe tbody tr th:only-of-type {\n",
       "        vertical-align: middle;\n",
       "    }\n",
       "\n",
       "    .dataframe tbody tr th {\n",
       "        vertical-align: top;\n",
       "    }\n",
       "\n",
       "    .dataframe thead th {\n",
       "        text-align: right;\n",
       "    }\n",
       "</style>\n",
       "<table border=\"1\" class=\"dataframe\">\n",
       "  <thead>\n",
       "    <tr style=\"text-align: right;\">\n",
       "      <th></th>\n",
       "      <th>date_issue</th>\n",
       "      <th>total_amount_claims</th>\n",
       "    </tr>\n",
       "  </thead>\n",
       "  <tbody>\n",
       "    <tr>\n",
       "      <th>0</th>\n",
       "      <td>2018-09-03</td>\n",
       "      <td>16683</td>\n",
       "    </tr>\n",
       "    <tr>\n",
       "      <th>1</th>\n",
       "      <td>2018-09-10</td>\n",
       "      <td>201774</td>\n",
       "    </tr>\n",
       "    <tr>\n",
       "      <th>2</th>\n",
       "      <td>2018-09-17</td>\n",
       "      <td>263661</td>\n",
       "    </tr>\n",
       "    <tr>\n",
       "      <th>3</th>\n",
       "      <td>2018-09-24</td>\n",
       "      <td>799703</td>\n",
       "    </tr>\n",
       "    <tr>\n",
       "      <th>4</th>\n",
       "      <td>2018-10-01</td>\n",
       "      <td>900305</td>\n",
       "    </tr>\n",
       "    <tr>\n",
       "      <th>...</th>\n",
       "      <td>...</td>\n",
       "      <td>...</td>\n",
       "    </tr>\n",
       "    <tr>\n",
       "      <th>127</th>\n",
       "      <td>2021-02-08</td>\n",
       "      <td>1949930</td>\n",
       "    </tr>\n",
       "    <tr>\n",
       "      <th>128</th>\n",
       "      <td>2021-02-15</td>\n",
       "      <td>1725225</td>\n",
       "    </tr>\n",
       "    <tr>\n",
       "      <th>129</th>\n",
       "      <td>2021-02-22</td>\n",
       "      <td>2232202</td>\n",
       "    </tr>\n",
       "    <tr>\n",
       "      <th>130</th>\n",
       "      <td>2021-03-01</td>\n",
       "      <td>2666662</td>\n",
       "    </tr>\n",
       "    <tr>\n",
       "      <th>131</th>\n",
       "      <td>2021-03-08</td>\n",
       "      <td>2111986</td>\n",
       "    </tr>\n",
       "  </tbody>\n",
       "</table>\n",
       "<p>132 rows × 2 columns</p>\n",
       "</div>"
      ],
      "text/plain": [
       "    date_issue  total_amount_claims\n",
       "0   2018-09-03                16683\n",
       "1   2018-09-10               201774\n",
       "2   2018-09-17               263661\n",
       "3   2018-09-24               799703\n",
       "4   2018-10-01               900305\n",
       "..         ...                  ...\n",
       "127 2021-02-08              1949930\n",
       "128 2021-02-15              1725225\n",
       "129 2021-02-22              2232202\n",
       "130 2021-03-01              2666662\n",
       "131 2021-03-08              2111986\n",
       "\n",
       "[132 rows x 2 columns]"
      ]
     },
     "execution_count": 47,
     "metadata": {},
     "output_type": "execute_result"
    }
   ],
   "source": [
    "data_weekly"
   ]
  },
  {
   "cell_type": "code",
   "execution_count": 48,
   "id": "proprietary-exercise",
   "metadata": {},
   "outputs": [
    {
     "data": {
      "text/plain": [
       "(132, 2)"
      ]
     },
     "execution_count": 48,
     "metadata": {},
     "output_type": "execute_result"
    }
   ],
   "source": [
    "data_weekly.shape"
   ]
  },
  {
   "cell_type": "markdown",
   "id": "fantastic-organic",
   "metadata": {},
   "source": [
    "### 📤 *#3 Exporting to excel: WEEKLY_CLEAN_DATA*"
   ]
  },
  {
   "cell_type": "code",
   "execution_count": 67,
   "id": "developing-dublin",
   "metadata": {},
   "outputs": [],
   "source": [
    "# data_weekly = data_weekly.to_excel('../raw_data/weekly_data_clean.xlsx', engine='xlsxwriter')"
   ]
  },
  {
   "cell_type": "markdown",
   "id": "automatic-schema",
   "metadata": {},
   "source": [
    "##### *NOT USED*"
   ]
  },
  {
   "cell_type": "code",
   "execution_count": 76,
   "id": "instructional-question",
   "metadata": {
    "scrolled": true
   },
   "outputs": [],
   "source": [
    "# DATA WAS TRIMMED BEFORE SO NO NEED TO TRIM AGAIN\n",
    "# Exchange rate difference before 09-2018 so we will trim the plot\n",
    "\n",
    "# start_date = datetime(2018, 9, 1)\n",
    "# end_date = datetime(2021, 3, 8)\n",
    "# date_filter = (data_days_plotting.index >= start_date) & (data_days_plotting.index <= end_date)\n",
    "# data_days_plotting[date_filter].plot(grid=True, figsize=(15,5))"
   ]
  }
 ],
 "metadata": {
  "kernelspec": {
   "display_name": "Python 3",
   "language": "python",
   "name": "python3"
  },
  "language_info": {
   "codemirror_mode": {
    "name": "ipython",
    "version": 3
   },
   "file_extension": ".py",
   "mimetype": "text/x-python",
   "name": "python",
   "nbconvert_exporter": "python",
   "pygments_lexer": "ipython3",
   "version": "3.8.6"
  }
 },
 "nbformat": 4,
 "nbformat_minor": 5
}
