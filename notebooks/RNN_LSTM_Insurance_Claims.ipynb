{
 "cells": [
  {
   "cell_type": "code",
   "execution_count": 1,
   "id": "fitted-dylan",
   "metadata": {},
   "outputs": [],
   "source": [
    "#Import data and libraries"
   ]
  },
  {
   "cell_type": "code",
   "execution_count": 2,
   "id": "different-phase",
   "metadata": {},
   "outputs": [],
   "source": [
    "import numpy as np \n",
    "import pandas as pd \n",
    "import matplotlib.pyplot as plt \n",
    "from tensorflow.keras.models import Sequential\n",
    "from tensorflow.keras.layers import Dense,  LSTM\n",
    "from tensorflow.keras import metrics\n",
    "from sklearn.preprocessing import MinMaxScaler\n",
    "from sklearn.model_selection import train_test_split \n",
    "from sklearn.metrics import mean_absolute_percentage_error"
   ]
  },
  {
   "cell_type": "code",
   "execution_count": 4,
   "id": "matched-quarter",
   "metadata": {},
   "outputs": [],
   "source": [
    "# Have a look at our data"
   ]
  },
  {
   "cell_type": "code",
   "execution_count": 5,
   "id": "vital-disclosure",
   "metadata": {},
   "outputs": [],
   "source": [
    "data = pd.read_excel('../raw_data/daily_data_clean.xlsx', engine='openpyxl').drop(columns='Unnamed: 0')"
   ]
  },
  {
   "cell_type": "code",
   "execution_count": 6,
   "id": "velvet-measure",
   "metadata": {},
   "outputs": [
    {
     "data": {
      "text/html": [
       "<div>\n",
       "<style scoped>\n",
       "    .dataframe tbody tr th:only-of-type {\n",
       "        vertical-align: middle;\n",
       "    }\n",
       "\n",
       "    .dataframe tbody tr th {\n",
       "        vertical-align: top;\n",
       "    }\n",
       "\n",
       "    .dataframe thead th {\n",
       "        text-align: right;\n",
       "    }\n",
       "</style>\n",
       "<table border=\"1\" class=\"dataframe\">\n",
       "  <thead>\n",
       "    <tr style=\"text-align: right;\">\n",
       "      <th></th>\n",
       "      <th>date_issue</th>\n",
       "      <th>total_amount_claims</th>\n",
       "    </tr>\n",
       "  </thead>\n",
       "  <tbody>\n",
       "    <tr>\n",
       "      <th>0</th>\n",
       "      <td>2018-09-01</td>\n",
       "      <td>168</td>\n",
       "    </tr>\n",
       "    <tr>\n",
       "      <th>1</th>\n",
       "      <td>2018-09-02</td>\n",
       "      <td>346</td>\n",
       "    </tr>\n",
       "    <tr>\n",
       "      <th>2</th>\n",
       "      <td>2018-09-03</td>\n",
       "      <td>16169</td>\n",
       "    </tr>\n",
       "    <tr>\n",
       "      <th>3</th>\n",
       "      <td>2018-09-04</td>\n",
       "      <td>28529</td>\n",
       "    </tr>\n",
       "    <tr>\n",
       "      <th>4</th>\n",
       "      <td>2018-09-05</td>\n",
       "      <td>64135</td>\n",
       "    </tr>\n",
       "  </tbody>\n",
       "</table>\n",
       "</div>"
      ],
      "text/plain": [
       "  date_issue  total_amount_claims\n",
       "0 2018-09-01                  168\n",
       "1 2018-09-02                  346\n",
       "2 2018-09-03                16169\n",
       "3 2018-09-04                28529\n",
       "4 2018-09-05                64135"
      ]
     },
     "execution_count": 6,
     "metadata": {},
     "output_type": "execute_result"
    }
   ],
   "source": [
    "data.head()"
   ]
  },
  {
   "cell_type": "code",
   "execution_count": 6,
   "id": "genetic-jesus",
   "metadata": {},
   "outputs": [],
   "source": [
    "# The value to predict is the column total_amount_claims. Let's define \"y\" and have a look at its trend"
   ]
  },
  {
   "cell_type": "code",
   "execution_count": 7,
   "id": "immediate-subcommittee",
   "metadata": {},
   "outputs": [],
   "source": [
    "# length of data frame"
   ]
  },
  {
   "cell_type": "code",
   "execution_count": 7,
   "id": "sudden-rebecca",
   "metadata": {},
   "outputs": [
    {
     "data": {
      "text/plain": [
       "920"
      ]
     },
     "execution_count": 7,
     "metadata": {},
     "output_type": "execute_result"
    }
   ],
   "source": [
    "len_data = len(data)\n",
    "len_data"
   ]
  },
  {
   "cell_type": "code",
   "execution_count": 9,
   "id": "expected-breathing",
   "metadata": {},
   "outputs": [],
   "source": [
    "# Select feature to predict"
   ]
  },
  {
   "cell_type": "code",
   "execution_count": 8,
   "id": "fossil-scanning",
   "metadata": {},
   "outputs": [
    {
     "data": {
      "text/plain": [
       "0      168\n",
       "1      346\n",
       "2    16169\n",
       "3    28529\n",
       "4    64135\n",
       "Name: total_amount_claims, dtype: int64"
      ]
     },
     "execution_count": 8,
     "metadata": {},
     "output_type": "execute_result"
    }
   ],
   "source": [
    "y = data['total_amount_claims']\n",
    "y.head()"
   ]
  },
  {
   "cell_type": "code",
   "execution_count": 11,
   "id": "recognized-square",
   "metadata": {},
   "outputs": [],
   "source": [
    "# Convert feature to array"
   ]
  },
  {
   "cell_type": "code",
   "execution_count": 11,
   "id": "foreign-surrey",
   "metadata": {},
   "outputs": [],
   "source": [
    "y = np.array(y)"
   ]
  },
  {
   "cell_type": "code",
   "execution_count": 12,
   "id": "grave-facing",
   "metadata": {},
   "outputs": [
    {
     "data": {
      "text/plain": [
       "(920,)"
      ]
     },
     "execution_count": 12,
     "metadata": {},
     "output_type": "execute_result"
    }
   ],
   "source": [
    "y.shape"
   ]
  },
  {
   "cell_type": "code",
   "execution_count": 13,
   "id": "liked-quebec",
   "metadata": {},
   "outputs": [],
   "source": [
    "y = y.reshape(-1,1)"
   ]
  },
  {
   "cell_type": "code",
   "execution_count": 14,
   "id": "precise-terrace",
   "metadata": {},
   "outputs": [
    {
     "data": {
      "text/plain": [
       "(920, 1)"
      ]
     },
     "execution_count": 14,
     "metadata": {},
     "output_type": "execute_result"
    }
   ],
   "source": [
    "y.shape"
   ]
  },
  {
   "cell_type": "code",
   "execution_count": 16,
   "id": "associate-panic",
   "metadata": {},
   "outputs": [],
   "source": [
    "# Plot y"
   ]
  },
  {
   "cell_type": "code",
   "execution_count": 15,
   "id": "tested-universe",
   "metadata": {},
   "outputs": [
    {
     "data": {
      "image/png": "[encoded data removed]",
      "text/plain": [
       "<Figure size 432x288 with 1 Axes>"
      ]
     },
     "metadata": {
      "needs_background": "light"
     },
     "output_type": "display_data"
    }
   ],
   "source": [
    "plt.plot(y);"
   ]
  },
  {
   "cell_type": "code",
   "execution_count": 18,
   "id": "amber-consequence",
   "metadata": {},
   "outputs": [],
   "source": [
    "# We will use shifted versions of the column Y as independent variables, that is to say use 3 delays of Y\n",
    "# as inputs to predict the output of our data."
   ]
  },
  {
   "cell_type": "code",
   "execution_count": 16,
   "id": "sapphire-appliance",
   "metadata": {},
   "outputs": [],
   "source": [
    "X1 = y[0:len_data-6,:]\n",
    "X2 = y[1:len_data-5,:]\n",
    "X3 = y[2:len_data-4,:]\n",
    "X4 = y[3:len_data-3,:]\n",
    "X5 = y[4:len_data-2,:]\n",
    "X6 = y[5:len_data-1,:]\n",
    "y = y[6:len_data,:]"
   ]
  },
  {
   "cell_type": "code",
   "execution_count": 17,
   "id": "dated-preservation",
   "metadata": {},
   "outputs": [
    {
     "data": {
      "text/plain": [
       "914"
      ]
     },
     "execution_count": 17,
     "metadata": {},
     "output_type": "execute_result"
    }
   ],
   "source": [
    "X1.size"
   ]
  },
  {
   "cell_type": "code",
   "execution_count": 18,
   "id": "ethical-primary",
   "metadata": {},
   "outputs": [
    {
     "data": {
      "text/plain": [
       "914"
      ]
     },
     "execution_count": 18,
     "metadata": {},
     "output_type": "execute_result"
    }
   ],
   "source": [
    "X2.size"
   ]
  },
  {
   "cell_type": "code",
   "execution_count": 19,
   "id": "suitable-stretch",
   "metadata": {},
   "outputs": [
    {
     "data": {
      "text/plain": [
       "914"
      ]
     },
     "execution_count": 19,
     "metadata": {},
     "output_type": "execute_result"
    }
   ],
   "source": [
    "X3.size"
   ]
  },
  {
   "cell_type": "code",
   "execution_count": 20,
   "id": "turned-zoning",
   "metadata": {},
   "outputs": [
    {
     "data": {
      "text/plain": [
       "914"
      ]
     },
     "execution_count": 20,
     "metadata": {},
     "output_type": "execute_result"
    }
   ],
   "source": [
    "y.size"
   ]
  },
  {
   "cell_type": "code",
   "execution_count": 21,
   "id": "professional-technical",
   "metadata": {},
   "outputs": [],
   "source": [
    "X = np.concatenate([X1,X2,X3,X4,X5,X6],axis=1)"
   ]
  },
  {
   "cell_type": "code",
   "execution_count": 22,
   "id": "intended-superintendent",
   "metadata": {},
   "outputs": [
    {
     "data": {
      "text/plain": [
       "array([[   168,    346,  16169,  28529,  64135,  21725],\n",
       "       [   346,  16169,  28529,  64135,  21725,  76122],\n",
       "       [ 16169,  28529,  64135,  21725,  76122,    260],\n",
       "       ...,\n",
       "       [190314, 387276, 433447, 449803, 350720, 293427],\n",
       "       [387276, 433447, 449803, 350720, 293427, 333658],\n",
       "       [433447, 449803, 350720, 293427, 333658, 139824]])"
      ]
     },
     "execution_count": 22,
     "metadata": {},
     "output_type": "execute_result"
    }
   ],
   "source": [
    "X"
   ]
  },
  {
   "cell_type": "code",
   "execution_count": 23,
   "id": "viral-cameroon",
   "metadata": {},
   "outputs": [
    {
     "name": "stdout",
     "output_type": "stream",
     "text": [
      "X shape is (914, 6)\n",
      "Y shape is (914, 1)\n"
     ]
    }
   ],
   "source": [
    "print(f'X shape is {X.shape}')\n",
    "print(f'Y shape is {y.shape}')"
   ]
  },
  {
   "cell_type": "code",
   "execution_count": 27,
   "id": "deluxe-nature",
   "metadata": {},
   "outputs": [],
   "source": [
    "# we standardize our data both our variable x and our variable y between 0 and 1"
   ]
  },
  {
   "cell_type": "code",
   "execution_count": 28,
   "id": "optional-guinea",
   "metadata": {},
   "outputs": [],
   "source": [
    "# LSTM needs 3 dimensional input so we have to reshape the X input into 3 dimensions."
   ]
  },
  {
   "cell_type": "code",
   "execution_count": 24,
   "id": "found-zoning",
   "metadata": {},
   "outputs": [],
   "source": [
    "scaler = MinMaxScaler()\n",
    "scaler.fit(X)\n",
    "X = scaler.transform(X)\n",
    "\n",
    "scaler.fit(y)\n",
    "y = scaler.transform(y)\n",
    "\n",
    "X= np.reshape(X, (X.shape[0],1,X.shape[1]))"
   ]
  },
  {
   "cell_type": "code",
   "execution_count": 25,
   "id": "chinese-offering",
   "metadata": {},
   "outputs": [
    {
     "data": {
      "text/plain": [
       "(914, 1, 6)"
      ]
     },
     "execution_count": 25,
     "metadata": {},
     "output_type": "execute_result"
    }
   ],
   "source": [
    "X.shape"
   ]
  },
  {
   "cell_type": "code",
   "execution_count": 31,
   "id": "fifteen-patrol",
   "metadata": {},
   "outputs": [],
   "source": [
    "# Define training and test sets for our model"
   ]
  },
  {
   "cell_type": "code",
   "execution_count": 32,
   "id": "hundred-background",
   "metadata": {},
   "outputs": [],
   "source": [
    "# from sklearn.model_selection import train_test_split\n",
    "\n",
    "# X_train, X_test, y_train, y_test = train_test_split(X, y, test_size=0.20)"
   ]
  },
  {
   "cell_type": "code",
   "execution_count": 26,
   "id": "developing-missile",
   "metadata": {},
   "outputs": [],
   "source": [
    "len_ = int(0.8*X.shape[0])\n",
    "X_train = X[:len_,:,:]\n",
    "X_test = X[len_:,:,:]\n",
    "y_train = y[:len_,:]\n",
    "y_test = y[len_:,:]"
   ]
  },
  {
   "cell_type": "code",
   "execution_count": 27,
   "id": "professional-works",
   "metadata": {},
   "outputs": [
    {
     "name": "stdout",
     "output_type": "stream",
     "text": [
      "X train size:(731, 1, 6)\n",
      "X test size:(183, 1, 6)\n",
      "y train size:(731, 1)\n",
      "y test size:(183, 1)\n"
     ]
    }
   ],
   "source": [
    "print(f'X train size:{X_train.shape}')\n",
    "print(f'X test size:{X_test.shape}')\n",
    "print(f'y train size:{y_train.shape}')\n",
    "print(f'y test size:{y_test.shape}')"
   ]
  },
  {
   "cell_type": "code",
   "execution_count": 36,
   "id": "outstanding-clearing",
   "metadata": {},
   "outputs": [],
   "source": [
    "# model building"
   ]
  },
  {
   "cell_type": "code",
   "execution_count": 28,
   "id": "opposite-arrow",
   "metadata": {},
   "outputs": [],
   "source": [
    "from tensorflow.keras import models\n",
    "from tensorflow.keras import layers\n",
    "from tensorflow.keras import optimizers"
   ]
  },
  {
   "cell_type": "code",
   "execution_count": 29,
   "id": "western-restriction",
   "metadata": {},
   "outputs": [],
   "source": [
    "model = models.Sequential()\n",
    "model.add(layers.LSTM(64, activation='tanh', return_sequences=False))\n",
    "model.add(layers.Dense(32, activation='relu'))\n",
    "model.add(layers.Dense(16, activation='relu'))\n",
    "model.add(layers.Dense(8, activation='relu'))\n",
    "model.add(layers.Dense(1, activation='linear'))"
   ]
  },
  {
   "cell_type": "code",
   "execution_count": 39,
   "id": "congressional-problem",
   "metadata": {},
   "outputs": [],
   "source": [
    "# We use mean absolute error to assess our model and then we fit our model to the training set and launch the prediction"
   ]
  },
  {
   "cell_type": "code",
   "execution_count": 30,
   "id": "south-preliminary",
   "metadata": {},
   "outputs": [],
   "source": [
    "model.compile(optimizer='RMSprop',\n",
    "            loss='MeanSquaredError',\n",
    "            metrics=['mse', 'mae', 'mape'])\n"
   ]
  },
  {
   "cell_type": "code",
   "execution_count": 31,
   "id": "inappropriate-singles",
   "metadata": {},
   "outputs": [
    {
     "name": "stdout",
     "output_type": "stream",
     "text": [
      "Epoch 1/200\n",
      "19/19 [==============================] - 7s 108ms/step - loss: 0.0227 - mse: 0.0227 - mae: 0.0880 - mape: 58514.3217 - val_loss: 0.0237 - val_mse: 0.0237 - val_mae: 0.1014 - val_mape: 59.1719\n",
      "Epoch 2/200\n",
      "19/19 [==============================] - 0s 10ms/step - loss: 0.0192 - mse: 0.0192 - mae: 0.0793 - mape: 97004.7991 - val_loss: 0.0224 - val_mse: 0.0224 - val_mae: 0.0975 - val_mape: 59.1878\n",
      "Epoch 3/200\n",
      "19/19 [==============================] - 0s 8ms/step - loss: 0.0160 - mse: 0.0160 - mae: 0.0762 - mape: 134260.9369 - val_loss: 0.0204 - val_mse: 0.0204 - val_mae: 0.0917 - val_mape: 60.7570\n",
      "Epoch 4/200\n",
      "19/19 [==============================] - 0s 9ms/step - loss: 0.0122 - mse: 0.0122 - mae: 0.0680 - mape: 52700.9434 - val_loss: 0.0197 - val_mse: 0.0197 - val_mae: 0.0899 - val_mape: 61.5940\n",
      "Epoch 5/200\n",
      "19/19 [==============================] - 0s 9ms/step - loss: 0.0137 - mse: 0.0137 - mae: 0.0711 - mape: 114906.7898 - val_loss: 0.0192 - val_mse: 0.0192 - val_mae: 0.0888 - val_mape: 62.8333\n",
      "Epoch 6/200\n",
      "19/19 [==============================] - 0s 7ms/step - loss: 0.0129 - mse: 0.0129 - mae: 0.0713 - mape: 56624.3145 - val_loss: 0.0191 - val_mse: 0.0191 - val_mae: 0.0884 - val_mape: 63.0902\n",
      "Epoch 7/200\n",
      "19/19 [==============================] - 0s 8ms/step - loss: 0.0121 - mse: 0.0121 - mae: 0.0672 - mape: 44960.8673 - val_loss: 0.0169 - val_mse: 0.0169 - val_mae: 0.0842 - val_mape: 69.9363\n",
      "Epoch 8/200\n",
      "19/19 [==============================] - 0s 8ms/step - loss: 0.0128 - mse: 0.0128 - mae: 0.0728 - mape: 103732.8005 - val_loss: 0.0183 - val_mse: 0.0183 - val_mae: 0.0867 - val_mape: 63.6513\n",
      "Epoch 9/200\n",
      "19/19 [==============================] - 0s 9ms/step - loss: 0.0119 - mse: 0.0119 - mae: 0.0672 - mape: 69853.9355 - val_loss: 0.0174 - val_mse: 0.0174 - val_mae: 0.0847 - val_mape: 67.2219\n",
      "Epoch 10/200\n",
      "19/19 [==============================] - 0s 8ms/step - loss: 0.0150 - mse: 0.0150 - mae: 0.0746 - mape: 19454.5332 - val_loss: 0.0192 - val_mse: 0.0192 - val_mae: 0.0888 - val_mape: 59.9100\n",
      "Epoch 11/200\n",
      "19/19 [==============================] - 0s 8ms/step - loss: 0.0117 - mse: 0.0117 - mae: 0.0671 - mape: 41227.8055 - val_loss: 0.0165 - val_mse: 0.0165 - val_mae: 0.0832 - val_mape: 70.8020\n",
      "Epoch 12/200\n",
      "19/19 [==============================] - 0s 8ms/step - loss: 0.0172 - mse: 0.0172 - mae: 0.0776 - mape: 73060.9678 - val_loss: 0.0212 - val_mse: 0.0212 - val_mae: 0.0942 - val_mape: 57.5307\n",
      "Epoch 13/200\n",
      "19/19 [==============================] - 0s 8ms/step - loss: 0.0173 - mse: 0.0173 - mae: 0.0744 - mape: 42956.8879 - val_loss: 0.0201 - val_mse: 0.0201 - val_mae: 0.0911 - val_mape: 58.1494\n",
      "Epoch 14/200\n",
      "19/19 [==============================] - 0s 8ms/step - loss: 0.0162 - mse: 0.0162 - mae: 0.0713 - mape: 27678.1026 - val_loss: 0.0166 - val_mse: 0.0166 - val_mae: 0.0828 - val_mape: 67.3661\n",
      "Epoch 15/200\n",
      "19/19 [==============================] - 0s 10ms/step - loss: 0.0118 - mse: 0.0118 - mae: 0.0698 - mape: 163052.8007 - val_loss: 0.0192 - val_mse: 0.0192 - val_mae: 0.0887 - val_mape: 58.7783\n",
      "Epoch 16/200\n",
      "19/19 [==============================] - 0s 9ms/step - loss: 0.0152 - mse: 0.0152 - mae: 0.0718 - mape: 102270.2505 - val_loss: 0.0204 - val_mse: 0.0204 - val_mae: 0.0919 - val_mape: 55.6774\n",
      "Epoch 17/200\n",
      "19/19 [==============================] - 0s 9ms/step - loss: 0.0118 - mse: 0.0118 - mae: 0.0646 - mape: 139148.6372 - val_loss: 0.0197 - val_mse: 0.0197 - val_mae: 0.0898 - val_mape: 56.3305\n",
      "Epoch 18/200\n",
      "19/19 [==============================] - 0s 11ms/step - loss: 0.0153 - mse: 0.0153 - mae: 0.0737 - mape: 92196.3768 - val_loss: 0.0183 - val_mse: 0.0183 - val_mae: 0.0857 - val_mape: 59.0291\n",
      "Epoch 19/200\n",
      "19/19 [==============================] - 0s 9ms/step - loss: 0.0129 - mse: 0.0129 - mae: 0.0695 - mape: 26974.2288 - val_loss: 0.0186 - val_mse: 0.0186 - val_mae: 0.0866 - val_mape: 57.1579\n",
      "Epoch 20/200\n",
      "19/19 [==============================] - 0s 11ms/step - loss: 0.0128 - mse: 0.0128 - mae: 0.0656 - mape: 328536.1906 - val_loss: 0.0164 - val_mse: 0.0164 - val_mae: 0.0824 - val_mape: 67.2889\n",
      "Epoch 21/200\n",
      "19/19 [==============================] - 0s 12ms/step - loss: 0.0124 - mse: 0.0124 - mae: 0.0694 - mape: 212259.8156 - val_loss: 0.0174 - val_mse: 0.0174 - val_mae: 0.0832 - val_mape: 59.9059\n",
      "Epoch 22/200\n",
      "19/19 [==============================] - 0s 9ms/step - loss: 0.0145 - mse: 0.0145 - mae: 0.0670 - mape: 342215.1879 - val_loss: 0.0159 - val_mse: 0.0159 - val_mae: 0.0811 - val_mape: 68.4033\n",
      "Epoch 23/200\n",
      "19/19 [==============================] - 0s 8ms/step - loss: 0.0141 - mse: 0.0141 - mae: 0.0706 - mape: 106159.2305 - val_loss: 0.0189 - val_mse: 0.0189 - val_mae: 0.0863 - val_mape: 55.3158\n",
      "Epoch 24/200\n",
      "19/19 [==============================] - 0s 8ms/step - loss: 0.0127 - mse: 0.0127 - mae: 0.0671 - mape: 61543.7158 - val_loss: 0.0182 - val_mse: 0.0182 - val_mae: 0.0848 - val_mape: 56.9053\n",
      "Epoch 25/200\n",
      "19/19 [==============================] - 0s 11ms/step - loss: 0.0166 - mse: 0.0166 - mae: 0.0734 - mape: 119931.5290 - val_loss: 0.0206 - val_mse: 0.0206 - val_mae: 0.0910 - val_mape: 51.6138\n",
      "Epoch 26/200\n",
      "19/19 [==============================] - 0s 16ms/step - loss: 0.0185 - mse: 0.0185 - mae: 0.0719 - mape: 14531.5799 - val_loss: 0.0155 - val_mse: 0.0155 - val_mae: 0.0809 - val_mape: 70.8545\n",
      "Epoch 27/200\n",
      "19/19 [==============================] - 0s 8ms/step - loss: 0.0120 - mse: 0.0120 - mae: 0.0659 - mape: 36033.8766 - val_loss: 0.0168 - val_mse: 0.0168 - val_mae: 0.0818 - val_mape: 60.2449\n",
      "Epoch 28/200\n",
      "19/19 [==============================] - 0s 11ms/step - loss: 0.0136 - mse: 0.0136 - mae: 0.0686 - mape: 48552.8143 - val_loss: 0.0172 - val_mse: 0.0172 - val_mae: 0.0825 - val_mape: 58.0430\n",
      "Epoch 29/200\n",
      "19/19 [==============================] - 0s 12ms/step - loss: 0.0137 - mse: 0.0137 - mae: 0.0662 - mape: 36403.3772 - val_loss: 0.0164 - val_mse: 0.0164 - val_mae: 0.0806 - val_mape: 60.6619\n",
      "Epoch 30/200\n",
      "19/19 [==============================] - 0s 8ms/step - loss: 0.0157 - mse: 0.0157 - mae: 0.0721 - mape: 264201.5443 - val_loss: 0.0171 - val_mse: 0.0171 - val_mae: 0.0822 - val_mape: 57.9709\n",
      "Epoch 31/200\n",
      "19/19 [==============================] - 0s 10ms/step - loss: 0.0163 - mse: 0.0163 - mae: 0.0739 - mape: 11861.0617 - val_loss: 0.0161 - val_mse: 0.0161 - val_mae: 0.0798 - val_mape: 59.3616\n",
      "Epoch 32/200\n",
      "19/19 [==============================] - 0s 11ms/step - loss: 0.0116 - mse: 0.0116 - mae: 0.0615 - mape: 68803.7815 - val_loss: 0.0189 - val_mse: 0.0189 - val_mae: 0.0865 - val_mape: 52.8926\n",
      "Epoch 33/200\n",
      "19/19 [==============================] - 0s 8ms/step - loss: 0.0146 - mse: 0.0146 - mae: 0.0675 - mape: 53907.9417 - val_loss: 0.0186 - val_mse: 0.0186 - val_mae: 0.0854 - val_mape: 52.7533\n",
      "Epoch 34/200\n",
      "19/19 [==============================] - 0s 10ms/step - loss: 0.0130 - mse: 0.0130 - mae: 0.0650 - mape: 79629.9207 - val_loss: 0.0151 - val_mse: 0.0151 - val_mae: 0.0812 - val_mape: 74.2701\n",
      "Epoch 35/200\n",
      "19/19 [==============================] - 0s 10ms/step - loss: 0.0118 - mse: 0.0118 - mae: 0.0686 - mape: 74555.2393 - val_loss: 0.0169 - val_mse: 0.0169 - val_mae: 0.0817 - val_mape: 58.0088\n",
      "Epoch 36/200\n",
      "19/19 [==============================] - 0s 10ms/step - loss: 0.0111 - mse: 0.0111 - mae: 0.0655 - mape: 84507.0185 - val_loss: 0.0155 - val_mse: 0.0155 - val_mae: 0.0791 - val_mape: 61.7835\n",
      "Epoch 37/200\n",
      "19/19 [==============================] - 0s 9ms/step - loss: 0.0137 - mse: 0.0137 - mae: 0.0696 - mape: 259298.0347 - val_loss: 0.0166 - val_mse: 0.0166 - val_mae: 0.0810 - val_mape: 56.7740\n",
      "Epoch 38/200\n",
      "19/19 [==============================] - 0s 8ms/step - loss: 0.0156 - mse: 0.0156 - mae: 0.0714 - mape: 208341.8335 - val_loss: 0.0162 - val_mse: 0.0162 - val_mae: 0.0801 - val_mape: 57.5918\n",
      "Epoch 39/200\n",
      "19/19 [==============================] - 0s 8ms/step - loss: 0.0148 - mse: 0.0148 - mae: 0.0694 - mape: 15712.1908 - val_loss: 0.0166 - val_mse: 0.0166 - val_mae: 0.0810 - val_mape: 57.3328\n",
      "Epoch 40/200\n",
      "19/19 [==============================] - 0s 11ms/step - loss: 0.0146 - mse: 0.0146 - mae: 0.0690 - mape: 94528.1030 - val_loss: 0.0183 - val_mse: 0.0183 - val_mae: 0.0847 - val_mape: 53.8850\n",
      "Epoch 41/200\n",
      "19/19 [==============================] - 0s 9ms/step - loss: 0.0120 - mse: 0.0120 - mae: 0.0672 - mape: 92886.8210 - val_loss: 0.0146 - val_mse: 0.0146 - val_mae: 0.0809 - val_mape: 78.2208\n",
      "Epoch 42/200\n",
      "19/19 [==============================] - 0s 9ms/step - loss: 0.0138 - mse: 0.0138 - mae: 0.0719 - mape: 39650.3279 - val_loss: 0.0153 - val_mse: 0.0153 - val_mae: 0.0811 - val_mape: 71.4063\n",
      "Epoch 43/200\n",
      "19/19 [==============================] - 0s 7ms/step - loss: 0.0145 - mse: 0.0145 - mae: 0.0717 - mape: 192619.2672 - val_loss: 0.0166 - val_mse: 0.0166 - val_mae: 0.0809 - val_mape: 56.3414\n",
      "Epoch 44/200\n",
      "19/19 [==============================] - 0s 9ms/step - loss: 0.0139 - mse: 0.0139 - mae: 0.0642 - mape: 105182.7462 - val_loss: 0.0147 - val_mse: 0.0147 - val_mae: 0.0778 - val_mape: 66.3661\n",
      "Epoch 45/200\n",
      "19/19 [==============================] - 0s 9ms/step - loss: 0.0126 - mse: 0.0126 - mae: 0.0666 - mape: 40297.8302 - val_loss: 0.0161 - val_mse: 0.0161 - val_mae: 0.0801 - val_mape: 59.9726\n",
      "Epoch 46/200\n",
      "19/19 [==============================] - 0s 13ms/step - loss: 0.0179 - mse: 0.0179 - mae: 0.0749 - mape: 24601.9408 - val_loss: 0.0192 - val_mse: 0.0192 - val_mae: 0.0879 - val_mape: 56.4425\n",
      "Epoch 47/200\n",
      "19/19 [==============================] - 0s 9ms/step - loss: 0.0149 - mse: 0.0149 - mae: 0.0665 - mape: 206366.7922 - val_loss: 0.0164 - val_mse: 0.0164 - val_mae: 0.0803 - val_mape: 57.9096\n",
      "Epoch 48/200\n",
      "19/19 [==============================] - 0s 10ms/step - loss: 0.0128 - mse: 0.0128 - mae: 0.0658 - mape: 33322.2461 - val_loss: 0.0149 - val_mse: 0.0149 - val_mae: 0.0799 - val_mape: 71.5448\n",
      "Epoch 49/200\n",
      "19/19 [==============================] - 0s 12ms/step - loss: 0.0105 - mse: 0.0105 - mae: 0.0617 - mape: 69307.0060 - val_loss: 0.0164 - val_mse: 0.0164 - val_mae: 0.0810 - val_mape: 59.5852\n",
      "Epoch 50/200\n",
      "19/19 [==============================] - 0s 9ms/step - loss: 0.0127 - mse: 0.0127 - mae: 0.0672 - mape: 78309.4021 - val_loss: 0.0152 - val_mse: 0.0152 - val_mae: 0.0783 - val_mape: 61.9509\n",
      "Epoch 51/200\n",
      "19/19 [==============================] - 0s 9ms/step - loss: 0.0150 - mse: 0.0150 - mae: 0.0692 - mape: 143179.1129 - val_loss: 0.0139 - val_mse: 0.0139 - val_mae: 0.0838 - val_mape: 89.7085\n",
      "Epoch 52/200\n",
      "19/19 [==============================] - 0s 10ms/step - loss: 0.0145 - mse: 0.0145 - mae: 0.0745 - mape: 55457.1543 - val_loss: 0.0167 - val_mse: 0.0167 - val_mae: 0.0816 - val_mape: 55.5559\n",
      "Epoch 53/200\n",
      "19/19 [==============================] - 0s 9ms/step - loss: 0.0113 - mse: 0.0113 - mae: 0.0593 - mape: 33139.6737 - val_loss: 0.0141 - val_mse: 0.0141 - val_mae: 0.0815 - val_mape: 82.2056\n",
      "Epoch 54/200\n",
      "19/19 [==============================] - 0s 9ms/step - loss: 0.0114 - mse: 0.0114 - mae: 0.0656 - mape: 22611.3499 - val_loss: 0.0163 - val_mse: 0.0163 - val_mae: 0.0802 - val_mape: 59.0604\n",
      "Epoch 55/200\n",
      "19/19 [==============================] - 0s 8ms/step - loss: 0.0111 - mse: 0.0111 - mae: 0.0620 - mape: 243917.5898 - val_loss: 0.0158 - val_mse: 0.0158 - val_mae: 0.0803 - val_mape: 64.5640\n",
      "Epoch 56/200\n",
      "19/19 [==============================] - 0s 8ms/step - loss: 0.0115 - mse: 0.0115 - mae: 0.0625 - mape: 21558.4143 - val_loss: 0.0158 - val_mse: 0.0158 - val_mae: 0.0798 - val_mape: 62.7721\n",
      "Epoch 57/200\n",
      "19/19 [==============================] - 0s 9ms/step - loss: 0.0119 - mse: 0.0119 - mae: 0.0657 - mape: 5128.6217 - val_loss: 0.0167 - val_mse: 0.0167 - val_mae: 0.0815 - val_mape: 58.9916\n",
      "Epoch 58/200\n",
      "19/19 [==============================] - 0s 8ms/step - loss: 0.0130 - mse: 0.0130 - mae: 0.0665 - mape: 89438.6372 - val_loss: 0.0162 - val_mse: 0.0162 - val_mae: 0.0821 - val_mape: 65.2595\n",
      "Epoch 59/200\n",
      "19/19 [==============================] - 0s 9ms/step - loss: 0.0121 - mse: 0.0121 - mae: 0.0652 - mape: 21017.0862 - val_loss: 0.0147 - val_mse: 0.0147 - val_mae: 0.0801 - val_mape: 74.3706\n",
      "Epoch 60/200\n",
      "19/19 [==============================] - 0s 10ms/step - loss: 0.0163 - mse: 0.0163 - mae: 0.0751 - mape: 12149.7324 - val_loss: 0.0154 - val_mse: 0.0154 - val_mae: 0.0792 - val_mape: 64.7546\n",
      "Epoch 61/200\n",
      "19/19 [==============================] - 0s 10ms/step - loss: 0.0123 - mse: 0.0123 - mae: 0.0663 - mape: 58339.6657 - val_loss: 0.0163 - val_mse: 0.0163 - val_mae: 0.0806 - val_mape: 59.5832\n",
      "Epoch 62/200\n",
      "19/19 [==============================] - 0s 9ms/step - loss: 0.0124 - mse: 0.0124 - mae: 0.0626 - mape: 29922.2688 - val_loss: 0.0168 - val_mse: 0.0168 - val_mae: 0.0817 - val_mape: 57.8878\n",
      "Epoch 63/200\n",
      "19/19 [==============================] - 0s 8ms/step - loss: 0.0105 - mse: 0.0105 - mae: 0.0614 - mape: 59120.4515 - val_loss: 0.0144 - val_mse: 0.0144 - val_mae: 0.0794 - val_mape: 74.8808\n",
      "Epoch 64/200\n",
      "19/19 [==============================] - 0s 8ms/step - loss: 0.0137 - mse: 0.0137 - mae: 0.0713 - mape: 13027.3083 - val_loss: 0.0155 - val_mse: 0.0155 - val_mae: 0.0803 - val_mape: 67.7941\n",
      "Epoch 65/200\n",
      "19/19 [==============================] - 0s 9ms/step - loss: 0.0106 - mse: 0.0106 - mae: 0.0619 - mape: 14699.8587 - val_loss: 0.0149 - val_mse: 0.0149 - val_mae: 0.0796 - val_mape: 71.3237\n",
      "Epoch 66/200\n",
      "19/19 [==============================] - 0s 15ms/step - loss: 0.0099 - mse: 0.0099 - mae: 0.0628 - mape: 54767.0831 - val_loss: 0.0146 - val_mse: 0.0146 - val_mae: 0.0784 - val_mape: 70.1025\n",
      "Epoch 67/200\n",
      "19/19 [==============================] - 0s 11ms/step - loss: 0.0104 - mse: 0.0104 - mae: 0.0635 - mape: 45935.1296 - val_loss: 0.0147 - val_mse: 0.0147 - val_mae: 0.0811 - val_mape: 76.7222\n",
      "Epoch 68/200\n",
      "19/19 [==============================] - 0s 11ms/step - loss: 0.0127 - mse: 0.0127 - mae: 0.0674 - mape: 67687.0611 - val_loss: 0.0156 - val_mse: 0.0156 - val_mae: 0.0794 - val_mape: 64.0641\n",
      "Epoch 69/200\n",
      "19/19 [==============================] - 0s 10ms/step - loss: 0.0121 - mse: 0.0121 - mae: 0.0643 - mape: 58412.9313 - val_loss: 0.0162 - val_mse: 0.0162 - val_mae: 0.0802 - val_mape: 59.8517\n",
      "Epoch 70/200\n",
      "19/19 [==============================] - 0s 12ms/step - loss: 0.0163 - mse: 0.0163 - mae: 0.0700 - mape: 42095.7071 - val_loss: 0.0171 - val_mse: 0.0171 - val_mae: 0.0831 - val_mape: 57.5522\n",
      "Epoch 71/200\n",
      "19/19 [==============================] - 0s 8ms/step - loss: 0.0109 - mse: 0.0109 - mae: 0.0603 - mape: 43274.9508 - val_loss: 0.0157 - val_mse: 0.0157 - val_mae: 0.0821 - val_mape: 69.3109\n",
      "Epoch 72/200\n",
      "19/19 [==============================] - 0s 9ms/step - loss: 0.0126 - mse: 0.0126 - mae: 0.0639 - mape: 43471.7456 - val_loss: 0.0169 - val_mse: 0.0169 - val_mae: 0.0819 - val_mape: 54.9257\n",
      "Epoch 73/200\n",
      "19/19 [==============================] - 0s 9ms/step - loss: 0.0112 - mse: 0.0112 - mae: 0.0643 - mape: 69153.7580 - val_loss: 0.0144 - val_mse: 0.0144 - val_mae: 0.0820 - val_mape: 81.9057\n",
      "Epoch 74/200\n",
      "19/19 [==============================] - 0s 8ms/step - loss: 0.0110 - mse: 0.0110 - mae: 0.0685 - mape: 8459.4398 - val_loss: 0.0149 - val_mse: 0.0149 - val_mae: 0.0815 - val_mape: 74.6890\n",
      "Epoch 75/200\n",
      "19/19 [==============================] - 0s 9ms/step - loss: 0.0151 - mse: 0.0151 - mae: 0.0709 - mape: 83687.0602 - val_loss: 0.0167 - val_mse: 0.0167 - val_mae: 0.0818 - val_mape: 57.3625\n",
      "Epoch 76/200\n",
      "19/19 [==============================] - 0s 12ms/step - loss: 0.0114 - mse: 0.0114 - mae: 0.0641 - mape: 20953.2483 - val_loss: 0.0180 - val_mse: 0.0180 - val_mae: 0.0852 - val_mape: 57.7842\n",
      "Epoch 77/200\n",
      "19/19 [==============================] - 0s 11ms/step - loss: 0.0112 - mse: 0.0112 - mae: 0.0613 - mape: 94354.3163 - val_loss: 0.0169 - val_mse: 0.0169 - val_mae: 0.0819 - val_mape: 58.1878\n",
      "Epoch 78/200\n",
      "19/19 [==============================] - 0s 8ms/step - loss: 0.0145 - mse: 0.0145 - mae: 0.0692 - mape: 100393.4501 - val_loss: 0.0145 - val_mse: 0.0145 - val_mae: 0.0800 - val_mape: 76.4010\n",
      "Epoch 79/200\n",
      "19/19 [==============================] - 0s 12ms/step - loss: 0.0109 - mse: 0.0109 - mae: 0.0683 - mape: 58087.3987 - val_loss: 0.0158 - val_mse: 0.0158 - val_mae: 0.0797 - val_mape: 61.1359\n",
      "Epoch 80/200\n",
      "19/19 [==============================] - 0s 8ms/step - loss: 0.0096 - mse: 0.0096 - mae: 0.0585 - mape: 18186.5417 - val_loss: 0.0153 - val_mse: 0.0153 - val_mae: 0.0797 - val_mape: 68.3785\n",
      "Epoch 81/200\n",
      "19/19 [==============================] - 0s 8ms/step - loss: 0.0113 - mse: 0.0113 - mae: 0.0667 - mape: 13172.5840 - val_loss: 0.0188 - val_mse: 0.0188 - val_mae: 0.0874 - val_mape: 54.4738\n",
      "Epoch 82/200\n",
      "19/19 [==============================] - 0s 9ms/step - loss: 0.0139 - mse: 0.0139 - mae: 0.0660 - mape: 85921.4545 - val_loss: 0.0195 - val_mse: 0.0195 - val_mae: 0.0892 - val_mape: 53.8888\n",
      "Epoch 83/200\n",
      "19/19 [==============================] - 0s 8ms/step - loss: 0.0097 - mse: 0.0097 - mae: 0.0590 - mape: 31199.7648 - val_loss: 0.0152 - val_mse: 0.0152 - val_mae: 0.0791 - val_mape: 64.7956\n",
      "Epoch 84/200\n",
      "19/19 [==============================] - 0s 9ms/step - loss: 0.0097 - mse: 0.0097 - mae: 0.0592 - mape: 230489.2426 - val_loss: 0.0149 - val_mse: 0.0149 - val_mae: 0.0781 - val_mape: 63.4645\n",
      "Epoch 85/200\n",
      "19/19 [==============================] - 0s 12ms/step - loss: 0.0119 - mse: 0.0119 - mae: 0.0635 - mape: 40386.4369 - val_loss: 0.0155 - val_mse: 0.0155 - val_mae: 0.0791 - val_mape: 63.1305\n",
      "Epoch 86/200\n",
      "19/19 [==============================] - 0s 9ms/step - loss: 0.0137 - mse: 0.0137 - mae: 0.0682 - mape: 88702.2992 - val_loss: 0.0150 - val_mse: 0.0150 - val_mae: 0.0790 - val_mape: 67.3615\n",
      "Epoch 87/200\n",
      "19/19 [==============================] - 0s 8ms/step - loss: 0.0111 - mse: 0.0111 - mae: 0.0637 - mape: 127514.8846 - val_loss: 0.0155 - val_mse: 0.0155 - val_mae: 0.0795 - val_mape: 64.4451\n",
      "Epoch 88/200\n",
      "19/19 [==============================] - 0s 9ms/step - loss: 0.0113 - mse: 0.0113 - mae: 0.0632 - mape: 22827.2107 - val_loss: 0.0196 - val_mse: 0.0196 - val_mae: 0.0900 - val_mape: 53.3580\n",
      "Epoch 89/200\n",
      "19/19 [==============================] - 0s 13ms/step - loss: 0.0132 - mse: 0.0132 - mae: 0.0621 - mape: 23739.2933 - val_loss: 0.0146 - val_mse: 0.0146 - val_mae: 0.0788 - val_mape: 71.3418\n",
      "Epoch 90/200\n",
      "19/19 [==============================] - 0s 9ms/step - loss: 0.0126 - mse: 0.0126 - mae: 0.0689 - mape: 149042.9169 - val_loss: 0.0161 - val_mse: 0.0161 - val_mae: 0.0801 - val_mape: 58.8031\n",
      "Epoch 91/200\n",
      "19/19 [==============================] - 0s 8ms/step - loss: 0.0154 - mse: 0.0154 - mae: 0.0680 - mape: 83631.3651 - val_loss: 0.0142 - val_mse: 0.0142 - val_mae: 0.0797 - val_mape: 77.6384\n",
      "Epoch 92/200\n",
      "19/19 [==============================] - 0s 11ms/step - loss: 0.0126 - mse: 0.0126 - mae: 0.0690 - mape: 138481.5550 - val_loss: 0.0162 - val_mse: 0.0162 - val_mae: 0.0813 - val_mape: 58.1870\n",
      "Epoch 93/200\n",
      "19/19 [==============================] - 0s 12ms/step - loss: 0.0120 - mse: 0.0120 - mae: 0.0663 - mape: 16614.8238 - val_loss: 0.0165 - val_mse: 0.0165 - val_mae: 0.0809 - val_mape: 58.1715\n",
      "Epoch 94/200\n",
      "19/19 [==============================] - 0s 10ms/step - loss: 0.0127 - mse: 0.0127 - mae: 0.0646 - mape: 56347.9133 - val_loss: 0.0186 - val_mse: 0.0186 - val_mae: 0.0865 - val_mape: 53.6705\n",
      "Epoch 95/200\n",
      "19/19 [==============================] - 0s 12ms/step - loss: 0.0106 - mse: 0.0106 - mae: 0.0601 - mape: 195011.6518 - val_loss: 0.0173 - val_mse: 0.0173 - val_mae: 0.0841 - val_mape: 60.4190\n",
      "Epoch 96/200\n",
      "19/19 [==============================] - 0s 11ms/step - loss: 0.0096 - mse: 0.0096 - mae: 0.0600 - mape: 112640.6498 - val_loss: 0.0156 - val_mse: 0.0156 - val_mae: 0.0810 - val_mape: 67.4394\n",
      "Epoch 97/200\n",
      "19/19 [==============================] - 0s 11ms/step - loss: 0.0114 - mse: 0.0114 - mae: 0.0632 - mape: 28529.0546 - val_loss: 0.0143 - val_mse: 0.0143 - val_mae: 0.0861 - val_mape: 91.2864\n",
      "Epoch 98/200\n",
      "19/19 [==============================] - 0s 8ms/step - loss: 0.0138 - mse: 0.0138 - mae: 0.0746 - mape: 8682.8085 - val_loss: 0.0171 - val_mse: 0.0171 - val_mae: 0.0863 - val_mape: 63.9292\n",
      "Epoch 99/200\n",
      "19/19 [==============================] - 0s 9ms/step - loss: 0.0108 - mse: 0.0108 - mae: 0.0607 - mape: 29178.1747 - val_loss: 0.0170 - val_mse: 0.0170 - val_mae: 0.0825 - val_mape: 59.7915\n",
      "Epoch 100/200\n",
      "19/19 [==============================] - 0s 8ms/step - loss: 0.0114 - mse: 0.0114 - mae: 0.0618 - mape: 158700.8041 - val_loss: 0.0149 - val_mse: 0.0149 - val_mae: 0.0789 - val_mape: 70.0617\n",
      "Epoch 101/200\n",
      "19/19 [==============================] - 0s 8ms/step - loss: 0.0122 - mse: 0.0122 - mae: 0.0665 - mape: 100664.6028 - val_loss: 0.0170 - val_mse: 0.0170 - val_mae: 0.0829 - val_mape: 59.7524\n"
     ]
    },
    {
     "data": {
      "text/plain": [
       "<tensorflow.python.keras.callbacks.History at 0x14c107370>"
      ]
     },
     "execution_count": 31,
     "metadata": {},
     "output_type": "execute_result"
    }
   ],
   "source": [
    "from tensorflow.keras.callbacks import EarlyStopping\n",
    "es = EarlyStopping(patience=50, restore_best_weights=True)\n",
    "model.fit(X_train, y_train,\n",
    "        validation_split=0.2,\n",
    "        epochs=200,\n",
    "        verbose=1,\n",
    "        batch_size=32,\n",
    "        callbacks=[es]\n",
    "        )"
   ]
  },
  {
   "cell_type": "code",
   "execution_count": 32,
   "id": "maritime-craft",
   "metadata": {},
   "outputs": [
    {
     "name": "stdout",
     "output_type": "stream",
     "text": [
      "Model: \"sequential\"\n",
      "_________________________________________________________________\n",
      "Layer (type)                 Output Shape              Param #   \n",
      "=================================================================\n",
      "lstm (LSTM)                  (None, 64)                18176     \n",
      "_________________________________________________________________\n",
      "dense (Dense)                (None, 32)                2080      \n",
      "_________________________________________________________________\n",
      "dense_1 (Dense)              (None, 16)                528       \n",
      "_________________________________________________________________\n",
      "dense_2 (Dense)              (None, 8)                 136       \n",
      "_________________________________________________________________\n",
      "dense_3 (Dense)              (None, 1)                 9         \n",
      "=================================================================\n",
      "Total params: 20,929\n",
      "Trainable params: 20,929\n",
      "Non-trainable params: 0\n",
      "_________________________________________________________________\n"
     ]
    }
   ],
   "source": [
    "model.summary()"
   ]
  },
  {
   "cell_type": "code",
   "execution_count": 41,
   "id": "protected-creativity",
   "metadata": {},
   "outputs": [
    {
     "name": "stdout",
     "output_type": "stream",
     "text": [
      "Model Mean Absolute Error 0.0331\n"
     ]
    }
   ],
   "source": [
    "model_mae = model.evaluate(X_test, y_test, verbose=0)\n",
    "print(f'Model Mean Absolute Error {model_mae[1]:.4f}')"
   ]
  },
  {
   "cell_type": "code",
   "execution_count": 42,
   "id": "intense-plaintiff",
   "metadata": {},
   "outputs": [],
   "source": [
    "Predict = model.predict(X_test)"
   ]
  },
  {
   "cell_type": "code",
   "execution_count": 45,
   "id": "suitable-surgeon",
   "metadata": {},
   "outputs": [],
   "source": [
    "# Let’s now have a visualization comparing the prediction versus the test set to see how our model performed"
   ]
  },
  {
   "cell_type": "code",
   "execution_count": 43,
   "id": "detected-missile",
   "metadata": {},
   "outputs": [
    {
     "data": {
      "image/png": "[encoded data removed]",
      "text/plain": [
       "<Figure size 1080x720 with 1 Axes>"
      ]
     },
     "metadata": {
      "needs_background": "light"
     },
     "output_type": "display_data"
    }
   ],
   "source": [
    "plt.figure(figsize=(15,10))\n",
    "plt.plot(y_test,label = 'Test')\n",
    "plt.plot(Predict, label = 'Prediction')\n",
    "plt.legend(loc='best')\n",
    "plt.show()"
   ]
  },
  {
   "cell_type": "code",
   "execution_count": 47,
   "id": "still-joining",
   "metadata": {},
   "outputs": [],
   "source": [
    "# Let’s now add time indexes and scale back to the original scale"
   ]
  },
  {
   "cell_type": "code",
   "execution_count": 44,
   "id": "important-decision",
   "metadata": {},
   "outputs": [],
   "source": [
    "y_train = scaler.inverse_transform(y_train)"
   ]
  },
  {
   "cell_type": "code",
   "execution_count": 47,
   "id": "signed-driver",
   "metadata": {},
   "outputs": [
    {
     "data": {
      "text/html": [
       "<div>\n",
       "<style scoped>\n",
       "    .dataframe tbody tr th:only-of-type {\n",
       "        vertical-align: middle;\n",
       "    }\n",
       "\n",
       "    .dataframe tbody tr th {\n",
       "        vertical-align: top;\n",
       "    }\n",
       "\n",
       "    .dataframe thead th {\n",
       "        text-align: right;\n",
       "    }\n",
       "</style>\n",
       "<table border=\"1\" class=\"dataframe\">\n",
       "  <thead>\n",
       "    <tr style=\"text-align: right;\">\n",
       "      <th></th>\n",
       "      <th>0</th>\n",
       "    </tr>\n",
       "    <tr>\n",
       "      <th>date_issue</th>\n",
       "      <th></th>\n",
       "    </tr>\n",
       "  </thead>\n",
       "  <tbody>\n",
       "    <tr>\n",
       "      <th>2018-10-15</th>\n",
       "      <td>562184.0</td>\n",
       "    </tr>\n",
       "    <tr>\n",
       "      <th>2018-10-22</th>\n",
       "      <td>198726.0</td>\n",
       "    </tr>\n",
       "    <tr>\n",
       "      <th>2018-10-29</th>\n",
       "      <td>554402.0</td>\n",
       "    </tr>\n",
       "    <tr>\n",
       "      <th>2018-11-05</th>\n",
       "      <td>248895.0</td>\n",
       "    </tr>\n",
       "    <tr>\n",
       "      <th>2018-11-12</th>\n",
       "      <td>282952.0</td>\n",
       "    </tr>\n",
       "    <tr>\n",
       "      <th>...</th>\n",
       "      <td>...</td>\n",
       "    </tr>\n",
       "    <tr>\n",
       "      <th>2020-08-10</th>\n",
       "      <td>967879.0</td>\n",
       "    </tr>\n",
       "    <tr>\n",
       "      <th>2020-08-17</th>\n",
       "      <td>1119975.0</td>\n",
       "    </tr>\n",
       "    <tr>\n",
       "      <th>2020-08-24</th>\n",
       "      <td>1858704.0</td>\n",
       "    </tr>\n",
       "    <tr>\n",
       "      <th>2020-08-31</th>\n",
       "      <td>1578698.0</td>\n",
       "    </tr>\n",
       "    <tr>\n",
       "      <th>2020-09-07</th>\n",
       "      <td>1162316.0</td>\n",
       "    </tr>\n",
       "  </tbody>\n",
       "</table>\n",
       "<p>100 rows × 1 columns</p>\n",
       "</div>"
      ],
      "text/plain": [
       "                    0\n",
       "date_issue           \n",
       "2018-10-15   562184.0\n",
       "2018-10-22   198726.0\n",
       "2018-10-29   554402.0\n",
       "2018-11-05   248895.0\n",
       "2018-11-12   282952.0\n",
       "...               ...\n",
       "2020-08-10   967879.0\n",
       "2020-08-17  1119975.0\n",
       "2020-08-24  1858704.0\n",
       "2020-08-31  1578698.0\n",
       "2020-09-07  1162316.0\n",
       "\n",
       "[100 rows x 1 columns]"
      ]
     },
     "execution_count": 47,
     "metadata": {},
     "output_type": "execute_result"
    }
   ],
   "source": [
    "y_train = pd.DataFrame(y_train)\n",
    "y_train.index = pd.to_datetime(data.iloc[6:106,0])\n",
    "y_train"
   ]
  },
  {
   "cell_type": "code",
   "execution_count": 48,
   "id": "attended-confusion",
   "metadata": {},
   "outputs": [],
   "source": [
    "y_test = scaler.inverse_transform(y_test)"
   ]
  },
  {
   "cell_type": "code",
   "execution_count": 49,
   "id": "floral-links",
   "metadata": {},
   "outputs": [
    {
     "data": {
      "text/html": [
       "<div>\n",
       "<style scoped>\n",
       "    .dataframe tbody tr th:only-of-type {\n",
       "        vertical-align: middle;\n",
       "    }\n",
       "\n",
       "    .dataframe tbody tr th {\n",
       "        vertical-align: top;\n",
       "    }\n",
       "\n",
       "    .dataframe thead th {\n",
       "        text-align: right;\n",
       "    }\n",
       "</style>\n",
       "<table border=\"1\" class=\"dataframe\">\n",
       "  <thead>\n",
       "    <tr style=\"text-align: right;\">\n",
       "      <th></th>\n",
       "      <th>0</th>\n",
       "    </tr>\n",
       "    <tr>\n",
       "      <th>date_issue</th>\n",
       "      <th></th>\n",
       "    </tr>\n",
       "  </thead>\n",
       "  <tbody>\n",
       "    <tr>\n",
       "      <th>2020-09-14</th>\n",
       "      <td>820467.0</td>\n",
       "    </tr>\n",
       "    <tr>\n",
       "      <th>2020-09-21</th>\n",
       "      <td>1078408.0</td>\n",
       "    </tr>\n",
       "    <tr>\n",
       "      <th>2020-09-28</th>\n",
       "      <td>1008514.0</td>\n",
       "    </tr>\n",
       "    <tr>\n",
       "      <th>2020-10-05</th>\n",
       "      <td>958498.0</td>\n",
       "    </tr>\n",
       "    <tr>\n",
       "      <th>2020-10-12</th>\n",
       "      <td>931685.0</td>\n",
       "    </tr>\n",
       "    <tr>\n",
       "      <th>2020-10-19</th>\n",
       "      <td>1094071.0</td>\n",
       "    </tr>\n",
       "    <tr>\n",
       "      <th>2020-10-26</th>\n",
       "      <td>1251763.0</td>\n",
       "    </tr>\n",
       "    <tr>\n",
       "      <th>2020-11-02</th>\n",
       "      <td>1249102.0</td>\n",
       "    </tr>\n",
       "    <tr>\n",
       "      <th>2020-11-09</th>\n",
       "      <td>1240029.0</td>\n",
       "    </tr>\n",
       "    <tr>\n",
       "      <th>2020-11-16</th>\n",
       "      <td>1430545.0</td>\n",
       "    </tr>\n",
       "    <tr>\n",
       "      <th>2020-11-23</th>\n",
       "      <td>1236462.0</td>\n",
       "    </tr>\n",
       "    <tr>\n",
       "      <th>2020-11-30</th>\n",
       "      <td>1447486.0</td>\n",
       "    </tr>\n",
       "    <tr>\n",
       "      <th>2020-12-07</th>\n",
       "      <td>1283244.0</td>\n",
       "    </tr>\n",
       "    <tr>\n",
       "      <th>2020-12-14</th>\n",
       "      <td>1284793.0</td>\n",
       "    </tr>\n",
       "    <tr>\n",
       "      <th>2020-12-21</th>\n",
       "      <td>1288100.0</td>\n",
       "    </tr>\n",
       "    <tr>\n",
       "      <th>2020-12-28</th>\n",
       "      <td>1174865.0</td>\n",
       "    </tr>\n",
       "    <tr>\n",
       "      <th>2021-01-04</th>\n",
       "      <td>1058832.0</td>\n",
       "    </tr>\n",
       "    <tr>\n",
       "      <th>2021-01-11</th>\n",
       "      <td>1690072.0</td>\n",
       "    </tr>\n",
       "    <tr>\n",
       "      <th>2021-01-18</th>\n",
       "      <td>1862241.0</td>\n",
       "    </tr>\n",
       "    <tr>\n",
       "      <th>2021-01-25</th>\n",
       "      <td>2001208.0</td>\n",
       "    </tr>\n",
       "    <tr>\n",
       "      <th>2021-02-01</th>\n",
       "      <td>1630852.0</td>\n",
       "    </tr>\n",
       "    <tr>\n",
       "      <th>2021-02-08</th>\n",
       "      <td>1949930.0</td>\n",
       "    </tr>\n",
       "    <tr>\n",
       "      <th>2021-02-15</th>\n",
       "      <td>1725225.0</td>\n",
       "    </tr>\n",
       "    <tr>\n",
       "      <th>2021-02-22</th>\n",
       "      <td>2232202.0</td>\n",
       "    </tr>\n",
       "    <tr>\n",
       "      <th>2021-03-01</th>\n",
       "      <td>2666662.0</td>\n",
       "    </tr>\n",
       "    <tr>\n",
       "      <th>2021-03-08</th>\n",
       "      <td>2111986.0</td>\n",
       "    </tr>\n",
       "  </tbody>\n",
       "</table>\n",
       "</div>"
      ],
      "text/plain": [
       "                    0\n",
       "date_issue           \n",
       "2020-09-14   820467.0\n",
       "2020-09-21  1078408.0\n",
       "2020-09-28  1008514.0\n",
       "2020-10-05   958498.0\n",
       "2020-10-12   931685.0\n",
       "2020-10-19  1094071.0\n",
       "2020-10-26  1251763.0\n",
       "2020-11-02  1249102.0\n",
       "2020-11-09  1240029.0\n",
       "2020-11-16  1430545.0\n",
       "2020-11-23  1236462.0\n",
       "2020-11-30  1447486.0\n",
       "2020-12-07  1283244.0\n",
       "2020-12-14  1284793.0\n",
       "2020-12-21  1288100.0\n",
       "2020-12-28  1174865.0\n",
       "2021-01-04  1058832.0\n",
       "2021-01-11  1690072.0\n",
       "2021-01-18  1862241.0\n",
       "2021-01-25  2001208.0\n",
       "2021-02-01  1630852.0\n",
       "2021-02-08  1949930.0\n",
       "2021-02-15  1725225.0\n",
       "2021-02-22  2232202.0\n",
       "2021-03-01  2666662.0\n",
       "2021-03-08  2111986.0"
      ]
     },
     "execution_count": 49,
     "metadata": {},
     "output_type": "execute_result"
    }
   ],
   "source": [
    "y_test = pd.DataFrame(y_test)\n",
    "y_test.index = pd.to_datetime(data.iloc[106:,0])\n",
    "y_test"
   ]
  },
  {
   "cell_type": "code",
   "execution_count": 50,
   "id": "sitting-musician",
   "metadata": {},
   "outputs": [],
   "source": [
    "Predict = scaler.inverse_transform(Predict)"
   ]
  },
  {
   "cell_type": "code",
   "execution_count": 51,
   "id": "whole-building",
   "metadata": {},
   "outputs": [
    {
     "data": {
      "text/html": [
       "<div>\n",
       "<style scoped>\n",
       "    .dataframe tbody tr th:only-of-type {\n",
       "        vertical-align: middle;\n",
       "    }\n",
       "\n",
       "    .dataframe tbody tr th {\n",
       "        vertical-align: top;\n",
       "    }\n",
       "\n",
       "    .dataframe thead th {\n",
       "        text-align: right;\n",
       "    }\n",
       "</style>\n",
       "<table border=\"1\" class=\"dataframe\">\n",
       "  <thead>\n",
       "    <tr style=\"text-align: right;\">\n",
       "      <th></th>\n",
       "      <th>0</th>\n",
       "    </tr>\n",
       "    <tr>\n",
       "      <th>date_issue</th>\n",
       "      <th></th>\n",
       "    </tr>\n",
       "  </thead>\n",
       "  <tbody>\n",
       "    <tr>\n",
       "      <th>2020-09-14</th>\n",
       "      <td>1.159018e+06</td>\n",
       "    </tr>\n",
       "    <tr>\n",
       "      <th>2020-09-21</th>\n",
       "      <td>1.085856e+06</td>\n",
       "    </tr>\n",
       "    <tr>\n",
       "      <th>2020-09-28</th>\n",
       "      <td>1.042265e+06</td>\n",
       "    </tr>\n",
       "    <tr>\n",
       "      <th>2020-10-05</th>\n",
       "      <td>9.086966e+05</td>\n",
       "    </tr>\n",
       "    <tr>\n",
       "      <th>2020-10-12</th>\n",
       "      <td>8.693211e+05</td>\n",
       "    </tr>\n",
       "    <tr>\n",
       "      <th>2020-10-19</th>\n",
       "      <td>8.963364e+05</td>\n",
       "    </tr>\n",
       "    <tr>\n",
       "      <th>2020-10-26</th>\n",
       "      <td>9.043883e+05</td>\n",
       "    </tr>\n",
       "    <tr>\n",
       "      <th>2020-11-02</th>\n",
       "      <td>9.426614e+05</td>\n",
       "    </tr>\n",
       "    <tr>\n",
       "      <th>2020-11-09</th>\n",
       "      <td>9.806142e+05</td>\n",
       "    </tr>\n",
       "    <tr>\n",
       "      <th>2020-11-16</th>\n",
       "      <td>1.015396e+06</td>\n",
       "    </tr>\n",
       "    <tr>\n",
       "      <th>2020-11-23</th>\n",
       "      <td>1.051764e+06</td>\n",
       "    </tr>\n",
       "    <tr>\n",
       "      <th>2020-11-30</th>\n",
       "      <td>1.080670e+06</td>\n",
       "    </tr>\n",
       "    <tr>\n",
       "      <th>2020-12-07</th>\n",
       "      <td>1.106288e+06</td>\n",
       "    </tr>\n",
       "    <tr>\n",
       "      <th>2020-12-14</th>\n",
       "      <td>1.116000e+06</td>\n",
       "    </tr>\n",
       "    <tr>\n",
       "      <th>2020-12-21</th>\n",
       "      <td>1.110482e+06</td>\n",
       "    </tr>\n",
       "    <tr>\n",
       "      <th>2020-12-28</th>\n",
       "      <td>1.110204e+06</td>\n",
       "    </tr>\n",
       "    <tr>\n",
       "      <th>2021-01-04</th>\n",
       "      <td>1.081259e+06</td>\n",
       "    </tr>\n",
       "    <tr>\n",
       "      <th>2021-01-11</th>\n",
       "      <td>1.039182e+06</td>\n",
       "    </tr>\n",
       "    <tr>\n",
       "      <th>2021-01-18</th>\n",
       "      <td>1.078242e+06</td>\n",
       "    </tr>\n",
       "    <tr>\n",
       "      <th>2021-01-25</th>\n",
       "      <td>1.165868e+06</td>\n",
       "    </tr>\n",
       "    <tr>\n",
       "      <th>2021-02-01</th>\n",
       "      <td>1.277034e+06</td>\n",
       "    </tr>\n",
       "    <tr>\n",
       "      <th>2021-02-08</th>\n",
       "      <td>1.324345e+06</td>\n",
       "    </tr>\n",
       "    <tr>\n",
       "      <th>2021-02-15</th>\n",
       "      <td>1.347470e+06</td>\n",
       "    </tr>\n",
       "    <tr>\n",
       "      <th>2021-02-22</th>\n",
       "      <td>1.416014e+06</td>\n",
       "    </tr>\n",
       "    <tr>\n",
       "      <th>2021-03-01</th>\n",
       "      <td>1.453892e+06</td>\n",
       "    </tr>\n",
       "    <tr>\n",
       "      <th>2021-03-08</th>\n",
       "      <td>1.553346e+06</td>\n",
       "    </tr>\n",
       "  </tbody>\n",
       "</table>\n",
       "</div>"
      ],
      "text/plain": [
       "                       0\n",
       "date_issue              \n",
       "2020-09-14  1.159018e+06\n",
       "2020-09-21  1.085856e+06\n",
       "2020-09-28  1.042265e+06\n",
       "2020-10-05  9.086966e+05\n",
       "2020-10-12  8.693211e+05\n",
       "2020-10-19  8.963364e+05\n",
       "2020-10-26  9.043883e+05\n",
       "2020-11-02  9.426614e+05\n",
       "2020-11-09  9.806142e+05\n",
       "2020-11-16  1.015396e+06\n",
       "2020-11-23  1.051764e+06\n",
       "2020-11-30  1.080670e+06\n",
       "2020-12-07  1.106288e+06\n",
       "2020-12-14  1.116000e+06\n",
       "2020-12-21  1.110482e+06\n",
       "2020-12-28  1.110204e+06\n",
       "2021-01-04  1.081259e+06\n",
       "2021-01-11  1.039182e+06\n",
       "2021-01-18  1.078242e+06\n",
       "2021-01-25  1.165868e+06\n",
       "2021-02-01  1.277034e+06\n",
       "2021-02-08  1.324345e+06\n",
       "2021-02-15  1.347470e+06\n",
       "2021-02-22  1.416014e+06\n",
       "2021-03-01  1.453892e+06\n",
       "2021-03-08  1.553346e+06"
      ]
     },
     "execution_count": 51,
     "metadata": {},
     "output_type": "execute_result"
    }
   ],
   "source": [
    "Predict = pd.DataFrame(Predict)\n",
    "Predict.index=pd.to_datetime(data.iloc[106:,0])\n",
    "Predict"
   ]
  },
  {
   "cell_type": "code",
   "execution_count": 52,
   "id": "monthly-lloyd",
   "metadata": {},
   "outputs": [
    {
     "data": {
      "image/png": "[encoded data removed]",
      "text/plain": [
       "<Figure size 1080x720 with 1 Axes>"
      ]
     },
     "metadata": {
      "needs_background": "light"
     },
     "output_type": "display_data"
    }
   ],
   "source": [
    "plt.figure(figsize=(15,10))\n",
    "plt.plot(y_test)\n",
    "plt.plot(Predict)\n",
    "plt.show()"
   ]
  },
  {
   "cell_type": "code",
   "execution_count": 53,
   "id": "hungarian-climate",
   "metadata": {},
   "outputs": [
    {
     "name": "stdout",
     "output_type": "stream",
     "text": [
      "1/1 [==============================] - 1s 1s/step - loss: 2305848508416.0000 - mse: 2305848508416.0000 - mae: 1450278.1250 - mape: 100.0000\n"
     ]
    },
    {
     "data": {
      "text/plain": [
       "[2305848508416.0, 2305848508416.0, 1450278.125, 99.99996948242188]"
      ]
     },
     "execution_count": 53,
     "metadata": {},
     "output_type": "execute_result"
    }
   ],
   "source": [
    "model.evaluate(X_test,y_test)"
   ]
  },
  {
   "cell_type": "code",
   "execution_count": null,
   "id": "modular-dream",
   "metadata": {},
   "outputs": [],
   "source": []
  }
 ],
 "metadata": {
  "kernelspec": {
   "display_name": "Python 3",
   "language": "python",
   "name": "python3"
  },
  "language_info": {
   "codemirror_mode": {
    "name": "ipython",
    "version": 3
   },
   "file_extension": ".py",
   "mimetype": "text/x-python",
   "name": "python",
   "nbconvert_exporter": "python",
   "pygments_lexer": "ipython3",
   "version": "3.8.6"
  }
 },
 "nbformat": 4,
 "nbformat_minor": 5
}
