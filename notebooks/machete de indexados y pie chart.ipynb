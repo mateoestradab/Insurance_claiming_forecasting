{
 "cells": [
  {
   "cell_type": "code",
   "execution_count": 2,
   "metadata": {},
   "outputs": [],
   "source": [
    "import pandas as pd\n",
    "import plotly as px\n",
    "import plotly.express as px\n",
    "import seaborn as sns\n",
    "import numpy as np"
   ]
  },
  {
   "cell_type": "code",
   "execution_count": 8,
   "metadata": {},
   "outputs": [
    {
     "name": "stdout",
     "output_type": "stream",
     "text": [
      "Requirement already satisfied: openpyxl in c:\\users\\windows10\\.venvs\\lewagon\\lib\\site-packages (3.0.6)\n",
      "Requirement already satisfied: jdcal in c:\\users\\windows10\\.venvs\\lewagon\\lib\\site-packages (from openpyxl) (1.4.1)\n",
      "Requirement already satisfied: et-xmlfile in c:\\users\\windows10\\.venvs\\lewagon\\lib\\site-packages (from openpyxl) (1.0.1)\n"
     ]
    }
   ],
   "source": [
    "!pip install openpyxl"
   ]
  },
  {
   "cell_type": "code",
   "execution_count": 4,
   "metadata": {},
   "outputs": [],
   "source": [
    "data = pd.read_excel('../raw_data/full_data_clean.xlsx', engine='openpyxl')"
   ]
  },
  {
   "cell_type": "code",
   "execution_count": 23,
   "metadata": {},
   "outputs": [
    {
     "data": {
      "text/html": [
       "<div>\n",
       "<style scoped>\n",
       "    .dataframe tbody tr th:only-of-type {\n",
       "        vertical-align: middle;\n",
       "    }\n",
       "\n",
       "    .dataframe tbody tr th {\n",
       "        vertical-align: top;\n",
       "    }\n",
       "\n",
       "    .dataframe thead th {\n",
       "        text-align: right;\n",
       "    }\n",
       "</style>\n",
       "<table border=\"1\" class=\"dataframe\">\n",
       "  <thead>\n",
       "    <tr style=\"text-align: right;\">\n",
       "      <th></th>\n",
       "      <th>Unnamed: 0</th>\n",
       "      <th>status</th>\n",
       "      <th>insurance_type</th>\n",
       "      <th>disease</th>\n",
       "      <th>claim_type</th>\n",
       "      <th>provider_type</th>\n",
       "      <th>state</th>\n",
       "      <th>sex</th>\n",
       "      <th>age</th>\n",
       "      <th>country_id</th>\n",
       "      <th>amount</th>\n",
       "      <th>date_issue</th>\n",
       "      <th>age_range</th>\n",
       "      <th>h_type</th>\n",
       "      <th>iscovid</th>\n",
       "    </tr>\n",
       "  </thead>\n",
       "  <tbody>\n",
       "    <tr>\n",
       "      <th>0</th>\n",
       "      <td>171773</td>\n",
       "      <td>PAGADO</td>\n",
       "      <td>INDIVIDUAL</td>\n",
       "      <td>Hepatitis Viral(A-B-C)</td>\n",
       "      <td>EMERGENCIA</td>\n",
       "      <td>CLINICA</td>\n",
       "      <td>Distrito Capital</td>\n",
       "      <td>F</td>\n",
       "      <td>50</td>\n",
       "      <td>29</td>\n",
       "      <td>142</td>\n",
       "      <td>2018-09-01</td>\n",
       "      <td>50-59</td>\n",
       "      <td>Ambulatorio</td>\n",
       "      <td>False</td>\n",
       "    </tr>\n",
       "    <tr>\n",
       "      <th>1</th>\n",
       "      <td>170734</td>\n",
       "      <td>PAGADO</td>\n",
       "      <td>INDIVIDUAL</td>\n",
       "      <td>Laringitis Y Traqueitis Agudas</td>\n",
       "      <td>EMERGENCIA</td>\n",
       "      <td>CLINICA</td>\n",
       "      <td>Distrito Capital</td>\n",
       "      <td>F</td>\n",
       "      <td>48</td>\n",
       "      <td>29</td>\n",
       "      <td>26</td>\n",
       "      <td>2018-09-01</td>\n",
       "      <td>40-49</td>\n",
       "      <td>Ambulatorio</td>\n",
       "      <td>False</td>\n",
       "    </tr>\n",
       "    <tr>\n",
       "      <th>2</th>\n",
       "      <td>167138</td>\n",
       "      <td>PAGADO</td>\n",
       "      <td>INDIVIDUAL</td>\n",
       "      <td>Amigdalo-Faringitis Aguda</td>\n",
       "      <td>EMERGENCIA</td>\n",
       "      <td>CLINICA</td>\n",
       "      <td>Zulia</td>\n",
       "      <td>M</td>\n",
       "      <td>42</td>\n",
       "      <td>29</td>\n",
       "      <td>21</td>\n",
       "      <td>2018-09-02</td>\n",
       "      <td>40-49</td>\n",
       "      <td>Ambulatorio</td>\n",
       "      <td>False</td>\n",
       "    </tr>\n",
       "    <tr>\n",
       "      <th>3</th>\n",
       "      <td>180517</td>\n",
       "      <td>PAGADO</td>\n",
       "      <td>INDIVIDUAL</td>\n",
       "      <td>Bronquitis Aguda</td>\n",
       "      <td>EMERGENCIA</td>\n",
       "      <td>CLINICA</td>\n",
       "      <td>Distrito Capital</td>\n",
       "      <td>F</td>\n",
       "      <td>59</td>\n",
       "      <td>29</td>\n",
       "      <td>311</td>\n",
       "      <td>2018-09-02</td>\n",
       "      <td>50-59</td>\n",
       "      <td>Hospitalización</td>\n",
       "      <td>False</td>\n",
       "    </tr>\n",
       "    <tr>\n",
       "      <th>4</th>\n",
       "      <td>149033</td>\n",
       "      <td>PAGADO</td>\n",
       "      <td>COLECTIVO</td>\n",
       "      <td>Dolor Abdominal Y Pelvico</td>\n",
       "      <td>EMERGENCIA</td>\n",
       "      <td>CLINICA</td>\n",
       "      <td>Miranda</td>\n",
       "      <td>F</td>\n",
       "      <td>47</td>\n",
       "      <td>29</td>\n",
       "      <td>14</td>\n",
       "      <td>2018-09-02</td>\n",
       "      <td>40-49</td>\n",
       "      <td>Ambulatorio</td>\n",
       "      <td>False</td>\n",
       "    </tr>\n",
       "  </tbody>\n",
       "</table>\n",
       "</div>"
      ],
      "text/plain": [
       "   Unnamed: 0  status insurance_type                         disease  \\\n",
       "0      171773  PAGADO     INDIVIDUAL          Hepatitis Viral(A-B-C)   \n",
       "1      170734  PAGADO     INDIVIDUAL  Laringitis Y Traqueitis Agudas   \n",
       "2      167138  PAGADO     INDIVIDUAL       Amigdalo-Faringitis Aguda   \n",
       "3      180517  PAGADO     INDIVIDUAL                Bronquitis Aguda   \n",
       "4      149033  PAGADO      COLECTIVO       Dolor Abdominal Y Pelvico   \n",
       "\n",
       "   claim_type provider_type             state sex  age  country_id  amount  \\\n",
       "0  EMERGENCIA       CLINICA  Distrito Capital   F   50          29     142   \n",
       "1  EMERGENCIA       CLINICA  Distrito Capital   F   48          29      26   \n",
       "2  EMERGENCIA       CLINICA             Zulia   M   42          29      21   \n",
       "3  EMERGENCIA       CLINICA  Distrito Capital   F   59          29     311   \n",
       "4  EMERGENCIA       CLINICA           Miranda   F   47          29      14   \n",
       "\n",
       "  date_issue age_range           h_type  iscovid  \n",
       "0 2018-09-01     50-59      Ambulatorio    False  \n",
       "1 2018-09-01     40-49      Ambulatorio    False  \n",
       "2 2018-09-02     40-49      Ambulatorio    False  \n",
       "3 2018-09-02     50-59  Hospitalización    False  \n",
       "4 2018-09-02     40-49      Ambulatorio    False  "
      ]
     },
     "execution_count": 23,
     "metadata": {},
     "output_type": "execute_result"
    }
   ],
   "source": [
    "data.head()"
   ]
  },
  {
   "cell_type": "code",
   "execution_count": null,
   "metadata": {},
   "outputs": [],
   "source": []
  },
  {
   "cell_type": "code",
   "execution_count": 6,
   "metadata": {},
   "outputs": [
    {
     "data": {
      "text/plain": [
       "Index(['Unnamed: 0', 'status', 'insurance_type', 'disease', 'claim_type',\n",
       "       'provider_type', 'state', 'sex', 'age', 'country_id', 'amount',\n",
       "       'date_issue', 'age_range', 'h_type'],\n",
       "      dtype='object')"
      ]
     },
     "execution_count": 6,
     "metadata": {},
     "output_type": "execute_result"
    }
   ],
   "source": [
    "data.columns"
   ]
  },
  {
   "cell_type": "code",
   "execution_count": 19,
   "metadata": {},
   "outputs": [
    {
     "data": {
      "text/plain": [
       "4531"
      ]
     },
     "execution_count": 19,
     "metadata": {},
     "output_type": "execute_result"
    }
   ],
   "source": [
    "data['disease'].str.contains('Covid').sum()"
   ]
  },
  {
   "cell_type": "code",
   "execution_count": null,
   "metadata": {},
   "outputs": [],
   "source": [
    "cond1 = data['amount'] < 100000 \n",
    "cond2 = data['amount'] > 5000 \n",
    "cond = np.logical_and(cond1,cond2)\n",
    "data[cond]"
   ]
  },
  {
   "cell_type": "code",
   "execution_count": 26,
   "metadata": {},
   "outputs": [
    {
     "data": {
      "text/plain": [
       "4207"
      ]
     },
     "execution_count": 26,
     "metadata": {},
     "output_type": "execute_result"
    }
   ],
   "source": [
    "data['amount'].between(5000,1000000,inclusive = True).sum()"
   ]
  },
  {
   "cell_type": "code",
   "execution_count": 35,
   "metadata": {},
   "outputs": [],
   "source": [
    "cond = data['claim_type'].isin(['EMERGENCIA','CARTA AVAL'])"
   ]
  },
  {
   "cell_type": "code",
   "execution_count": 36,
   "metadata": {},
   "outputs": [
    {
     "data": {
      "text/html": [
       "<div>\n",
       "<style scoped>\n",
       "    .dataframe tbody tr th:only-of-type {\n",
       "        vertical-align: middle;\n",
       "    }\n",
       "\n",
       "    .dataframe tbody tr th {\n",
       "        vertical-align: top;\n",
       "    }\n",
       "\n",
       "    .dataframe thead th {\n",
       "        text-align: right;\n",
       "    }\n",
       "</style>\n",
       "<table border=\"1\" class=\"dataframe\">\n",
       "  <thead>\n",
       "    <tr style=\"text-align: right;\">\n",
       "      <th></th>\n",
       "      <th>Unnamed: 0</th>\n",
       "      <th>status</th>\n",
       "      <th>insurance_type</th>\n",
       "      <th>disease</th>\n",
       "      <th>claim_type</th>\n",
       "      <th>provider_type</th>\n",
       "      <th>state</th>\n",
       "      <th>sex</th>\n",
       "      <th>age</th>\n",
       "      <th>country_id</th>\n",
       "      <th>amount</th>\n",
       "      <th>date_issue</th>\n",
       "      <th>age_range</th>\n",
       "      <th>h_type</th>\n",
       "    </tr>\n",
       "  </thead>\n",
       "  <tbody>\n",
       "    <tr>\n",
       "      <th>0</th>\n",
       "      <td>171773</td>\n",
       "      <td>PAGADO</td>\n",
       "      <td>INDIVIDUAL</td>\n",
       "      <td>Hepatitis Viral(A-B-C)</td>\n",
       "      <td>EMERGENCIA</td>\n",
       "      <td>CLINICA</td>\n",
       "      <td>Distrito Capital</td>\n",
       "      <td>F</td>\n",
       "      <td>50</td>\n",
       "      <td>29</td>\n",
       "      <td>142</td>\n",
       "      <td>2018-09-01</td>\n",
       "      <td>50-59</td>\n",
       "      <td>Ambulatorio</td>\n",
       "    </tr>\n",
       "    <tr>\n",
       "      <th>1</th>\n",
       "      <td>170734</td>\n",
       "      <td>PAGADO</td>\n",
       "      <td>INDIVIDUAL</td>\n",
       "      <td>Laringitis Y Traqueitis Agudas</td>\n",
       "      <td>EMERGENCIA</td>\n",
       "      <td>CLINICA</td>\n",
       "      <td>Distrito Capital</td>\n",
       "      <td>F</td>\n",
       "      <td>48</td>\n",
       "      <td>29</td>\n",
       "      <td>26</td>\n",
       "      <td>2018-09-01</td>\n",
       "      <td>40-49</td>\n",
       "      <td>Ambulatorio</td>\n",
       "    </tr>\n",
       "    <tr>\n",
       "      <th>2</th>\n",
       "      <td>167138</td>\n",
       "      <td>PAGADO</td>\n",
       "      <td>INDIVIDUAL</td>\n",
       "      <td>Amigdalo-Faringitis Aguda</td>\n",
       "      <td>EMERGENCIA</td>\n",
       "      <td>CLINICA</td>\n",
       "      <td>Zulia</td>\n",
       "      <td>M</td>\n",
       "      <td>42</td>\n",
       "      <td>29</td>\n",
       "      <td>21</td>\n",
       "      <td>2018-09-02</td>\n",
       "      <td>40-49</td>\n",
       "      <td>Ambulatorio</td>\n",
       "    </tr>\n",
       "    <tr>\n",
       "      <th>3</th>\n",
       "      <td>180517</td>\n",
       "      <td>PAGADO</td>\n",
       "      <td>INDIVIDUAL</td>\n",
       "      <td>Bronquitis Aguda</td>\n",
       "      <td>EMERGENCIA</td>\n",
       "      <td>CLINICA</td>\n",
       "      <td>Distrito Capital</td>\n",
       "      <td>F</td>\n",
       "      <td>59</td>\n",
       "      <td>29</td>\n",
       "      <td>311</td>\n",
       "      <td>2018-09-02</td>\n",
       "      <td>50-59</td>\n",
       "      <td>Hospitalización</td>\n",
       "    </tr>\n",
       "    <tr>\n",
       "      <th>4</th>\n",
       "      <td>149033</td>\n",
       "      <td>PAGADO</td>\n",
       "      <td>COLECTIVO</td>\n",
       "      <td>Dolor Abdominal Y Pelvico</td>\n",
       "      <td>EMERGENCIA</td>\n",
       "      <td>CLINICA</td>\n",
       "      <td>Miranda</td>\n",
       "      <td>F</td>\n",
       "      <td>47</td>\n",
       "      <td>29</td>\n",
       "      <td>14</td>\n",
       "      <td>2018-09-02</td>\n",
       "      <td>40-49</td>\n",
       "      <td>Ambulatorio</td>\n",
       "    </tr>\n",
       "    <tr>\n",
       "      <th>...</th>\n",
       "      <td>...</td>\n",
       "      <td>...</td>\n",
       "      <td>...</td>\n",
       "      <td>...</td>\n",
       "      <td>...</td>\n",
       "      <td>...</td>\n",
       "      <td>...</td>\n",
       "      <td>...</td>\n",
       "      <td>...</td>\n",
       "      <td>...</td>\n",
       "      <td>...</td>\n",
       "      <td>...</td>\n",
       "      <td>...</td>\n",
       "      <td>...</td>\n",
       "    </tr>\n",
       "    <tr>\n",
       "      <th>151246</th>\n",
       "      <td>143034</td>\n",
       "      <td>PENDIENTE</td>\n",
       "      <td>COLECTIVO</td>\n",
       "      <td>Celulitis</td>\n",
       "      <td>EMERGENCIA</td>\n",
       "      <td>CLINICA</td>\n",
       "      <td>Aragua</td>\n",
       "      <td>F</td>\n",
       "      <td>57</td>\n",
       "      <td>29</td>\n",
       "      <td>95</td>\n",
       "      <td>2021-03-08</td>\n",
       "      <td>50-59</td>\n",
       "      <td>Ambulatorio</td>\n",
       "    </tr>\n",
       "    <tr>\n",
       "      <th>151247</th>\n",
       "      <td>143439</td>\n",
       "      <td>PENDIENTE</td>\n",
       "      <td>COLECTIVO</td>\n",
       "      <td>Infeccion Viral - Covid 19 Sospechoso</td>\n",
       "      <td>EMERGENCIA</td>\n",
       "      <td>CLINICA</td>\n",
       "      <td>Aragua</td>\n",
       "      <td>M</td>\n",
       "      <td>51</td>\n",
       "      <td>29</td>\n",
       "      <td>185</td>\n",
       "      <td>2021-03-08</td>\n",
       "      <td>50-59</td>\n",
       "      <td>Ambulatorio</td>\n",
       "    </tr>\n",
       "    <tr>\n",
       "      <th>151248</th>\n",
       "      <td>5098</td>\n",
       "      <td>PENDIENTE</td>\n",
       "      <td>INDIVIDUAL</td>\n",
       "      <td>Neumonia Bacteriana/Viral</td>\n",
       "      <td>EMERGENCIA</td>\n",
       "      <td>CLINICA</td>\n",
       "      <td>Monagas</td>\n",
       "      <td>M</td>\n",
       "      <td>48</td>\n",
       "      <td>29</td>\n",
       "      <td>4962</td>\n",
       "      <td>2021-03-08</td>\n",
       "      <td>40-49</td>\n",
       "      <td>Hospitalización</td>\n",
       "    </tr>\n",
       "    <tr>\n",
       "      <th>151249</th>\n",
       "      <td>151790</td>\n",
       "      <td>PENDIENTE</td>\n",
       "      <td>INDIVIDUAL</td>\n",
       "      <td>Luxaciones, Torcedura Y Esguinces Que Afectan ...</td>\n",
       "      <td>EMERGENCIA</td>\n",
       "      <td>CLINICA</td>\n",
       "      <td>Nueva Esparta</td>\n",
       "      <td>F</td>\n",
       "      <td>25</td>\n",
       "      <td>29</td>\n",
       "      <td>1243</td>\n",
       "      <td>2021-03-08</td>\n",
       "      <td>20-29</td>\n",
       "      <td>Ambulatorio</td>\n",
       "    </tr>\n",
       "    <tr>\n",
       "      <th>151250</th>\n",
       "      <td>151431</td>\n",
       "      <td>PENDIENTE</td>\n",
       "      <td>INDIVIDUAL</td>\n",
       "      <td>Rinitis Alergica Y Vasomotora</td>\n",
       "      <td>EMERGENCIA</td>\n",
       "      <td>CLINICA</td>\n",
       "      <td>Distrito Capital</td>\n",
       "      <td>M</td>\n",
       "      <td>50</td>\n",
       "      <td>29</td>\n",
       "      <td>797</td>\n",
       "      <td>2021-03-08</td>\n",
       "      <td>50-59</td>\n",
       "      <td>Ambulatorio</td>\n",
       "    </tr>\n",
       "  </tbody>\n",
       "</table>\n",
       "<p>48971 rows × 14 columns</p>\n",
       "</div>"
      ],
      "text/plain": [
       "        Unnamed: 0     status insurance_type  \\\n",
       "0           171773     PAGADO     INDIVIDUAL   \n",
       "1           170734     PAGADO     INDIVIDUAL   \n",
       "2           167138     PAGADO     INDIVIDUAL   \n",
       "3           180517     PAGADO     INDIVIDUAL   \n",
       "4           149033     PAGADO      COLECTIVO   \n",
       "...            ...        ...            ...   \n",
       "151246      143034  PENDIENTE      COLECTIVO   \n",
       "151247      143439  PENDIENTE      COLECTIVO   \n",
       "151248        5098  PENDIENTE     INDIVIDUAL   \n",
       "151249      151790  PENDIENTE     INDIVIDUAL   \n",
       "151250      151431  PENDIENTE     INDIVIDUAL   \n",
       "\n",
       "                                                  disease  claim_type  \\\n",
       "0                                  Hepatitis Viral(A-B-C)  EMERGENCIA   \n",
       "1                          Laringitis Y Traqueitis Agudas  EMERGENCIA   \n",
       "2                               Amigdalo-Faringitis Aguda  EMERGENCIA   \n",
       "3                                        Bronquitis Aguda  EMERGENCIA   \n",
       "4                               Dolor Abdominal Y Pelvico  EMERGENCIA   \n",
       "...                                                   ...         ...   \n",
       "151246                                          Celulitis  EMERGENCIA   \n",
       "151247              Infeccion Viral - Covid 19 Sospechoso  EMERGENCIA   \n",
       "151248                          Neumonia Bacteriana/Viral  EMERGENCIA   \n",
       "151249  Luxaciones, Torcedura Y Esguinces Que Afectan ...  EMERGENCIA   \n",
       "151250                      Rinitis Alergica Y Vasomotora  EMERGENCIA   \n",
       "\n",
       "       provider_type             state sex  age  country_id  amount  \\\n",
       "0            CLINICA  Distrito Capital   F   50          29     142   \n",
       "1            CLINICA  Distrito Capital   F   48          29      26   \n",
       "2            CLINICA             Zulia   M   42          29      21   \n",
       "3            CLINICA  Distrito Capital   F   59          29     311   \n",
       "4            CLINICA           Miranda   F   47          29      14   \n",
       "...              ...               ...  ..  ...         ...     ...   \n",
       "151246       CLINICA            Aragua   F   57          29      95   \n",
       "151247       CLINICA            Aragua   M   51          29     185   \n",
       "151248       CLINICA           Monagas   M   48          29    4962   \n",
       "151249       CLINICA     Nueva Esparta   F   25          29    1243   \n",
       "151250       CLINICA  Distrito Capital   M   50          29     797   \n",
       "\n",
       "       date_issue age_range           h_type  \n",
       "0      2018-09-01     50-59      Ambulatorio  \n",
       "1      2018-09-01     40-49      Ambulatorio  \n",
       "2      2018-09-02     40-49      Ambulatorio  \n",
       "3      2018-09-02     50-59  Hospitalización  \n",
       "4      2018-09-02     40-49      Ambulatorio  \n",
       "...           ...       ...              ...  \n",
       "151246 2021-03-08     50-59      Ambulatorio  \n",
       "151247 2021-03-08     50-59      Ambulatorio  \n",
       "151248 2021-03-08     40-49  Hospitalización  \n",
       "151249 2021-03-08     20-29      Ambulatorio  \n",
       "151250 2021-03-08     50-59      Ambulatorio  \n",
       "\n",
       "[48971 rows x 14 columns]"
      ]
     },
     "execution_count": 36,
     "metadata": {},
     "output_type": "execute_result"
    }
   ],
   "source": [
    "data[cond]"
   ]
  },
  {
   "cell_type": "code",
   "execution_count": 1,
   "metadata": {},
   "outputs": [
    {
     "ename": "NameError",
     "evalue": "name 'data' is not defined",
     "output_type": "error",
     "traceback": [
      "\u001b[0;31m---------------------------------------------------------------------------\u001b[0m",
      "\u001b[0;31mNameError\u001b[0m                                 Traceback (most recent call last)",
      "\u001b[0;32m<ipython-input-1-788895107383>\u001b[0m in \u001b[0;36m<module>\u001b[0;34m\u001b[0m\n\u001b[0;32m----> 1\u001b[0;31m \u001b[0mdata\u001b[0m\u001b[0;34m[\u001b[0m\u001b[0;34m'age_range'\u001b[0m\u001b[0;34m]\u001b[0m\u001b[0;34m.\u001b[0m\u001b[0mvalue_counts\u001b[0m\u001b[0;34m(\u001b[0m\u001b[0;34m)\u001b[0m\u001b[0;34m\u001b[0m\u001b[0;34m\u001b[0m\u001b[0m\n\u001b[0m",
      "\u001b[0;31mNameError\u001b[0m: name 'data' is not defined"
     ]
    }
   ],
   "source": [
    "data['age_range'].value_counts()"
   ]
  },
  {
   "cell_type": "code",
   "execution_count": 32,
   "metadata": {},
   "outputs": [
    {
     "data": {
      "text/plain": [
       "REEMBOLSO     102280\n",
       "EMERGENCIA     35936\n",
       "CARTA AVAL     13035\n",
       "Name: claim_type, dtype: int64"
      ]
     },
     "execution_count": 32,
     "metadata": {},
     "output_type": "execute_result"
    }
   ],
   "source": [
    "data['claim_type'].value_counts()"
   ]
  },
  {
   "cell_type": "markdown",
   "metadata": {},
   "source": [
    "------------"
   ]
  },
  {
   "cell_type": "code",
   "execution_count": 37,
   "metadata": {},
   "outputs": [
    {
     "data": {
      "text/html": [
       "<div>\n",
       "<style scoped>\n",
       "    .dataframe tbody tr th:only-of-type {\n",
       "        vertical-align: middle;\n",
       "    }\n",
       "\n",
       "    .dataframe tbody tr th {\n",
       "        vertical-align: top;\n",
       "    }\n",
       "\n",
       "    .dataframe thead th {\n",
       "        text-align: right;\n",
       "    }\n",
       "</style>\n",
       "<table border=\"1\" class=\"dataframe\">\n",
       "  <thead>\n",
       "    <tr style=\"text-align: right;\">\n",
       "      <th></th>\n",
       "      <th>Unnamed: 0</th>\n",
       "      <th>status</th>\n",
       "      <th>insurance_type</th>\n",
       "      <th>disease</th>\n",
       "      <th>claim_type</th>\n",
       "      <th>provider_type</th>\n",
       "      <th>state</th>\n",
       "      <th>sex</th>\n",
       "      <th>age</th>\n",
       "      <th>country_id</th>\n",
       "      <th>amount</th>\n",
       "      <th>date_issue</th>\n",
       "      <th>age_range</th>\n",
       "      <th>h_type</th>\n",
       "    </tr>\n",
       "  </thead>\n",
       "  <tbody>\n",
       "    <tr>\n",
       "      <th>0</th>\n",
       "      <td>171773</td>\n",
       "      <td>PAGADO</td>\n",
       "      <td>INDIVIDUAL</td>\n",
       "      <td>Hepatitis Viral(A-B-C)</td>\n",
       "      <td>EMERGENCIA</td>\n",
       "      <td>CLINICA</td>\n",
       "      <td>Distrito Capital</td>\n",
       "      <td>F</td>\n",
       "      <td>50</td>\n",
       "      <td>29</td>\n",
       "      <td>142</td>\n",
       "      <td>2018-09-01</td>\n",
       "      <td>50-59</td>\n",
       "      <td>Ambulatorio</td>\n",
       "    </tr>\n",
       "    <tr>\n",
       "      <th>1</th>\n",
       "      <td>170734</td>\n",
       "      <td>PAGADO</td>\n",
       "      <td>INDIVIDUAL</td>\n",
       "      <td>Laringitis Y Traqueitis Agudas</td>\n",
       "      <td>EMERGENCIA</td>\n",
       "      <td>CLINICA</td>\n",
       "      <td>Distrito Capital</td>\n",
       "      <td>F</td>\n",
       "      <td>48</td>\n",
       "      <td>29</td>\n",
       "      <td>26</td>\n",
       "      <td>2018-09-01</td>\n",
       "      <td>40-49</td>\n",
       "      <td>Ambulatorio</td>\n",
       "    </tr>\n",
       "    <tr>\n",
       "      <th>2</th>\n",
       "      <td>167138</td>\n",
       "      <td>PAGADO</td>\n",
       "      <td>INDIVIDUAL</td>\n",
       "      <td>Amigdalo-Faringitis Aguda</td>\n",
       "      <td>EMERGENCIA</td>\n",
       "      <td>CLINICA</td>\n",
       "      <td>Zulia</td>\n",
       "      <td>M</td>\n",
       "      <td>42</td>\n",
       "      <td>29</td>\n",
       "      <td>21</td>\n",
       "      <td>2018-09-02</td>\n",
       "      <td>40-49</td>\n",
       "      <td>Ambulatorio</td>\n",
       "    </tr>\n",
       "    <tr>\n",
       "      <th>3</th>\n",
       "      <td>180517</td>\n",
       "      <td>PAGADO</td>\n",
       "      <td>INDIVIDUAL</td>\n",
       "      <td>Bronquitis Aguda</td>\n",
       "      <td>EMERGENCIA</td>\n",
       "      <td>CLINICA</td>\n",
       "      <td>Distrito Capital</td>\n",
       "      <td>F</td>\n",
       "      <td>59</td>\n",
       "      <td>29</td>\n",
       "      <td>311</td>\n",
       "      <td>2018-09-02</td>\n",
       "      <td>50-59</td>\n",
       "      <td>Hospitalización</td>\n",
       "    </tr>\n",
       "    <tr>\n",
       "      <th>4</th>\n",
       "      <td>149033</td>\n",
       "      <td>PAGADO</td>\n",
       "      <td>COLECTIVO</td>\n",
       "      <td>Dolor Abdominal Y Pelvico</td>\n",
       "      <td>EMERGENCIA</td>\n",
       "      <td>CLINICA</td>\n",
       "      <td>Miranda</td>\n",
       "      <td>F</td>\n",
       "      <td>47</td>\n",
       "      <td>29</td>\n",
       "      <td>14</td>\n",
       "      <td>2018-09-02</td>\n",
       "      <td>40-49</td>\n",
       "      <td>Ambulatorio</td>\n",
       "    </tr>\n",
       "    <tr>\n",
       "      <th>...</th>\n",
       "      <td>...</td>\n",
       "      <td>...</td>\n",
       "      <td>...</td>\n",
       "      <td>...</td>\n",
       "      <td>...</td>\n",
       "      <td>...</td>\n",
       "      <td>...</td>\n",
       "      <td>...</td>\n",
       "      <td>...</td>\n",
       "      <td>...</td>\n",
       "      <td>...</td>\n",
       "      <td>...</td>\n",
       "      <td>...</td>\n",
       "      <td>...</td>\n",
       "    </tr>\n",
       "    <tr>\n",
       "      <th>151246</th>\n",
       "      <td>143034</td>\n",
       "      <td>PENDIENTE</td>\n",
       "      <td>COLECTIVO</td>\n",
       "      <td>Celulitis</td>\n",
       "      <td>EMERGENCIA</td>\n",
       "      <td>CLINICA</td>\n",
       "      <td>Aragua</td>\n",
       "      <td>F</td>\n",
       "      <td>57</td>\n",
       "      <td>29</td>\n",
       "      <td>95</td>\n",
       "      <td>2021-03-08</td>\n",
       "      <td>50-59</td>\n",
       "      <td>Ambulatorio</td>\n",
       "    </tr>\n",
       "    <tr>\n",
       "      <th>151247</th>\n",
       "      <td>143439</td>\n",
       "      <td>PENDIENTE</td>\n",
       "      <td>COLECTIVO</td>\n",
       "      <td>Infeccion Viral - Covid 19 Sospechoso</td>\n",
       "      <td>EMERGENCIA</td>\n",
       "      <td>CLINICA</td>\n",
       "      <td>Aragua</td>\n",
       "      <td>M</td>\n",
       "      <td>51</td>\n",
       "      <td>29</td>\n",
       "      <td>185</td>\n",
       "      <td>2021-03-08</td>\n",
       "      <td>50-59</td>\n",
       "      <td>Ambulatorio</td>\n",
       "    </tr>\n",
       "    <tr>\n",
       "      <th>151248</th>\n",
       "      <td>5098</td>\n",
       "      <td>PENDIENTE</td>\n",
       "      <td>INDIVIDUAL</td>\n",
       "      <td>Neumonia Bacteriana/Viral</td>\n",
       "      <td>EMERGENCIA</td>\n",
       "      <td>CLINICA</td>\n",
       "      <td>Monagas</td>\n",
       "      <td>M</td>\n",
       "      <td>48</td>\n",
       "      <td>29</td>\n",
       "      <td>4962</td>\n",
       "      <td>2021-03-08</td>\n",
       "      <td>40-49</td>\n",
       "      <td>Hospitalización</td>\n",
       "    </tr>\n",
       "    <tr>\n",
       "      <th>151249</th>\n",
       "      <td>151790</td>\n",
       "      <td>PENDIENTE</td>\n",
       "      <td>INDIVIDUAL</td>\n",
       "      <td>Luxaciones, Torcedura Y Esguinces Que Afectan ...</td>\n",
       "      <td>EMERGENCIA</td>\n",
       "      <td>CLINICA</td>\n",
       "      <td>Nueva Esparta</td>\n",
       "      <td>F</td>\n",
       "      <td>25</td>\n",
       "      <td>29</td>\n",
       "      <td>1243</td>\n",
       "      <td>2021-03-08</td>\n",
       "      <td>20-29</td>\n",
       "      <td>Ambulatorio</td>\n",
       "    </tr>\n",
       "    <tr>\n",
       "      <th>151250</th>\n",
       "      <td>151431</td>\n",
       "      <td>PENDIENTE</td>\n",
       "      <td>INDIVIDUAL</td>\n",
       "      <td>Rinitis Alergica Y Vasomotora</td>\n",
       "      <td>EMERGENCIA</td>\n",
       "      <td>CLINICA</td>\n",
       "      <td>Distrito Capital</td>\n",
       "      <td>M</td>\n",
       "      <td>50</td>\n",
       "      <td>29</td>\n",
       "      <td>797</td>\n",
       "      <td>2021-03-08</td>\n",
       "      <td>50-59</td>\n",
       "      <td>Ambulatorio</td>\n",
       "    </tr>\n",
       "  </tbody>\n",
       "</table>\n",
       "<p>151251 rows × 14 columns</p>\n",
       "</div>"
      ],
      "text/plain": [
       "        Unnamed: 0     status insurance_type  \\\n",
       "0           171773     PAGADO     INDIVIDUAL   \n",
       "1           170734     PAGADO     INDIVIDUAL   \n",
       "2           167138     PAGADO     INDIVIDUAL   \n",
       "3           180517     PAGADO     INDIVIDUAL   \n",
       "4           149033     PAGADO      COLECTIVO   \n",
       "...            ...        ...            ...   \n",
       "151246      143034  PENDIENTE      COLECTIVO   \n",
       "151247      143439  PENDIENTE      COLECTIVO   \n",
       "151248        5098  PENDIENTE     INDIVIDUAL   \n",
       "151249      151790  PENDIENTE     INDIVIDUAL   \n",
       "151250      151431  PENDIENTE     INDIVIDUAL   \n",
       "\n",
       "                                                  disease  claim_type  \\\n",
       "0                                  Hepatitis Viral(A-B-C)  EMERGENCIA   \n",
       "1                          Laringitis Y Traqueitis Agudas  EMERGENCIA   \n",
       "2                               Amigdalo-Faringitis Aguda  EMERGENCIA   \n",
       "3                                        Bronquitis Aguda  EMERGENCIA   \n",
       "4                               Dolor Abdominal Y Pelvico  EMERGENCIA   \n",
       "...                                                   ...         ...   \n",
       "151246                                          Celulitis  EMERGENCIA   \n",
       "151247              Infeccion Viral - Covid 19 Sospechoso  EMERGENCIA   \n",
       "151248                          Neumonia Bacteriana/Viral  EMERGENCIA   \n",
       "151249  Luxaciones, Torcedura Y Esguinces Que Afectan ...  EMERGENCIA   \n",
       "151250                      Rinitis Alergica Y Vasomotora  EMERGENCIA   \n",
       "\n",
       "       provider_type             state sex  age  country_id  amount  \\\n",
       "0            CLINICA  Distrito Capital   F   50          29     142   \n",
       "1            CLINICA  Distrito Capital   F   48          29      26   \n",
       "2            CLINICA             Zulia   M   42          29      21   \n",
       "3            CLINICA  Distrito Capital   F   59          29     311   \n",
       "4            CLINICA           Miranda   F   47          29      14   \n",
       "...              ...               ...  ..  ...         ...     ...   \n",
       "151246       CLINICA            Aragua   F   57          29      95   \n",
       "151247       CLINICA            Aragua   M   51          29     185   \n",
       "151248       CLINICA           Monagas   M   48          29    4962   \n",
       "151249       CLINICA     Nueva Esparta   F   25          29    1243   \n",
       "151250       CLINICA  Distrito Capital   M   50          29     797   \n",
       "\n",
       "       date_issue age_range           h_type  \n",
       "0      2018-09-01     50-59      Ambulatorio  \n",
       "1      2018-09-01     40-49      Ambulatorio  \n",
       "2      2018-09-02     40-49      Ambulatorio  \n",
       "3      2018-09-02     50-59  Hospitalización  \n",
       "4      2018-09-02     40-49      Ambulatorio  \n",
       "...           ...       ...              ...  \n",
       "151246 2021-03-08     50-59      Ambulatorio  \n",
       "151247 2021-03-08     50-59      Ambulatorio  \n",
       "151248 2021-03-08     40-49  Hospitalización  \n",
       "151249 2021-03-08     20-29      Ambulatorio  \n",
       "151250 2021-03-08     50-59      Ambulatorio  \n",
       "\n",
       "[151251 rows x 14 columns]"
      ]
     },
     "execution_count": 37,
     "metadata": {},
     "output_type": "execute_result"
    }
   ],
   "source": [
    "data"
   ]
  },
  {
   "cell_type": "code",
   "execution_count": 48,
   "metadata": {},
   "outputs": [
    {
     "data": {
      "text/plain": [
       "4531"
      ]
     },
     "execution_count": 48,
     "metadata": {},
     "output_type": "execute_result"
    }
   ],
   "source": [
    "condcovid = data['disease'].str.contains('Covid')\n",
    "condcovid.sum()"
   ]
  },
  {
   "cell_type": "code",
   "execution_count": 8,
   "metadata": {},
   "outputs": [],
   "source": [
    "data['iscovid'] = data['disease'].str.contains('Covid')"
   ]
  },
  {
   "cell_type": "code",
   "execution_count": 9,
   "metadata": {},
   "outputs": [],
   "source": [
    "casos = data.groupby('iscovid').count()"
   ]
  },
  {
   "cell_type": "code",
   "execution_count": 10,
   "metadata": {},
   "outputs": [],
   "source": [
    "montos = data.groupby('iscovid').sum()"
   ]
  },
  {
   "cell_type": "code",
   "execution_count": 11,
   "metadata": {},
   "outputs": [],
   "source": [
    "montos.index = ['Otros','Covid']"
   ]
  },
  {
   "cell_type": "code",
   "execution_count": 12,
   "metadata": {},
   "outputs": [
    {
     "data": {
      "text/html": [
       "<div>\n",
       "<style scoped>\n",
       "    .dataframe tbody tr th:only-of-type {\n",
       "        vertical-align: middle;\n",
       "    }\n",
       "\n",
       "    .dataframe tbody tr th {\n",
       "        vertical-align: top;\n",
       "    }\n",
       "\n",
       "    .dataframe thead th {\n",
       "        text-align: right;\n",
       "    }\n",
       "</style>\n",
       "<table border=\"1\" class=\"dataframe\">\n",
       "  <thead>\n",
       "    <tr style=\"text-align: right;\">\n",
       "      <th></th>\n",
       "      <th>Unnamed: 0</th>\n",
       "      <th>age</th>\n",
       "      <th>country_id</th>\n",
       "      <th>amount</th>\n",
       "    </tr>\n",
       "  </thead>\n",
       "  <tbody>\n",
       "    <tr>\n",
       "      <th>Otros</th>\n",
       "      <td>14426777312</td>\n",
       "      <td>6556487</td>\n",
       "      <td>4179879</td>\n",
       "      <td>87088857</td>\n",
       "    </tr>\n",
       "    <tr>\n",
       "      <th>Covid</th>\n",
       "      <td>485134213</td>\n",
       "      <td>214416</td>\n",
       "      <td>131380</td>\n",
       "      <td>10816934</td>\n",
       "    </tr>\n",
       "  </tbody>\n",
       "</table>\n",
       "</div>"
      ],
      "text/plain": [
       "        Unnamed: 0      age  country_id    amount\n",
       "Otros  14426777312  6556487     4179879  87088857\n",
       "Covid    485134213   214416      131380  10816934"
      ]
     },
     "execution_count": 12,
     "metadata": {},
     "output_type": "execute_result"
    }
   ],
   "source": [
    "montos"
   ]
  },
  {
   "cell_type": "code",
   "execution_count": 16,
   "metadata": {},
   "outputs": [
    {
     "data": {
      "text/plain": [
       "97905791"
      ]
     },
     "execution_count": 16,
     "metadata": {},
     "output_type": "execute_result"
    }
   ],
   "source": [
    "montos['amount'].sum()"
   ]
  },
  {
   "cell_type": "code",
   "execution_count": null,
   "metadata": {},
   "outputs": [],
   "source": [
    "fig = px.pie(montos, values='amount', names = montos.index, color = montos.index,\n",
    "      title='Total amounts vs covid amounts',color_discrete_map={'Covid':'darkblue', 'Otros':'royalblue',} )\n",
    "\n",
    "fig.update_traces(hoverinfo='label+percent', textinfo='value', textfont_size=20,\n",
    "                  marker=dict(colors=montos.index, line=dict(color='#000000', width=2)))"
   ]
  },
  {
   "cell_type": "code",
   "execution_count": 17,
   "metadata": {},
   "outputs": [],
   "source": [
    "casos\n",
    "casos.index = ['Otros','Covid']"
   ]
  },
  {
   "cell_type": "code",
   "execution_count": 18,
   "metadata": {},
   "outputs": [
    {
     "data": {
      "text/html": [
       "<div>\n",
       "<style scoped>\n",
       "    .dataframe tbody tr th:only-of-type {\n",
       "        vertical-align: middle;\n",
       "    }\n",
       "\n",
       "    .dataframe tbody tr th {\n",
       "        vertical-align: top;\n",
       "    }\n",
       "\n",
       "    .dataframe thead th {\n",
       "        text-align: right;\n",
       "    }\n",
       "</style>\n",
       "<table border=\"1\" class=\"dataframe\">\n",
       "  <thead>\n",
       "    <tr style=\"text-align: right;\">\n",
       "      <th></th>\n",
       "      <th>Unnamed: 0</th>\n",
       "      <th>status</th>\n",
       "      <th>insurance_type</th>\n",
       "      <th>disease</th>\n",
       "      <th>claim_type</th>\n",
       "      <th>provider_type</th>\n",
       "      <th>state</th>\n",
       "      <th>sex</th>\n",
       "      <th>age</th>\n",
       "      <th>country_id</th>\n",
       "      <th>amount</th>\n",
       "      <th>date_issue</th>\n",
       "      <th>age_range</th>\n",
       "      <th>h_type</th>\n",
       "    </tr>\n",
       "  </thead>\n",
       "  <tbody>\n",
       "    <tr>\n",
       "      <th>Otros</th>\n",
       "      <td>146720</td>\n",
       "      <td>146720</td>\n",
       "      <td>146720</td>\n",
       "      <td>146720</td>\n",
       "      <td>146720</td>\n",
       "      <td>146720</td>\n",
       "      <td>146720</td>\n",
       "      <td>146720</td>\n",
       "      <td>146720</td>\n",
       "      <td>146720</td>\n",
       "      <td>146720</td>\n",
       "      <td>146720</td>\n",
       "      <td>146720</td>\n",
       "      <td>146720</td>\n",
       "    </tr>\n",
       "    <tr>\n",
       "      <th>Covid</th>\n",
       "      <td>4531</td>\n",
       "      <td>4531</td>\n",
       "      <td>4531</td>\n",
       "      <td>4531</td>\n",
       "      <td>4531</td>\n",
       "      <td>4531</td>\n",
       "      <td>4531</td>\n",
       "      <td>4531</td>\n",
       "      <td>4531</td>\n",
       "      <td>4531</td>\n",
       "      <td>4531</td>\n",
       "      <td>4531</td>\n",
       "      <td>4531</td>\n",
       "      <td>4531</td>\n",
       "    </tr>\n",
       "  </tbody>\n",
       "</table>\n",
       "</div>"
      ],
      "text/plain": [
       "       Unnamed: 0  status  insurance_type  disease  claim_type  provider_type  \\\n",
       "Otros      146720  146720          146720   146720      146720         146720   \n",
       "Covid        4531    4531            4531     4531        4531           4531   \n",
       "\n",
       "        state     sex     age  country_id  amount  date_issue  age_range  \\\n",
       "Otros  146720  146720  146720      146720  146720      146720     146720   \n",
       "Covid    4531    4531    4531        4531    4531        4531       4531   \n",
       "\n",
       "       h_type  \n",
       "Otros  146720  \n",
       "Covid    4531  "
      ]
     },
     "execution_count": 18,
     "metadata": {},
     "output_type": "execute_result"
    }
   ],
   "source": [
    "casos"
   ]
  },
  {
   "cell_type": "code",
   "execution_count": 21,
   "metadata": {},
   "outputs": [
    {
     "data": {
      "text/plain": [
       "4531"
      ]
     },
     "execution_count": 21,
     "metadata": {},
     "output_type": "execute_result"
    }
   ],
   "source": [
    "casos['amount'][1]"
   ]
  },
  {
   "cell_type": "code",
   "execution_count": 30,
   "metadata": {},
   "outputs": [
    {
     "data": {
      "application/vnd.plotly.v1+json": {
       "config": {
        "plotlyServerURL": "https://plot.ly"
       },
       "data": [
        {
         "customdata": [
          [
           "Otros"
          ],
          [
           "Covid"
          ]
         ],
         "domain": {
          "x": [
           0,
           1
          ],
          "y": [
           0,
           1
          ]
         },
         "hoverinfo": "label+percent",
         "hovertemplate": "index=%{customdata[0]}<br>amount=%{value}<extra></extra>",
         "labels": [
          "Otros",
          "Covid"
         ],
         "legendgroup": "",
         "marker": {
          "colors": [
           "Otros",
           "Covid"
          ],
          "line": {
           "color": "#000000",
           "width": 2
          }
         },
         "name": "",
         "showlegend": true,
         "textfont": {
          "size": 20
         },
         "textinfo": "value",
         "type": "pie",
         "values": [
          146720,
          4531
         ]
        }
       ],
       "layout": {
        "legend": {
         "tracegroupgap": 0
        },
        "template": {
         "data": {
          "bar": [
           {
            "error_x": {
             "color": "#2a3f5f"
            },
            "error_y": {
             "color": "#2a3f5f"
            },
            "marker": {
             "line": {
              "color": "#E5ECF6",
              "width": 0.5
             }
            },
            "type": "bar"
           }
          ],
          "barpolar": [
           {
            "marker": {
             "line": {
              "color": "#E5ECF6",
              "width": 0.5
             }
            },
            "type": "barpolar"
           }
          ],
          "carpet": [
           {
            "aaxis": {
             "endlinecolor": "#2a3f5f",
             "gridcolor": "white",
             "linecolor": "white",
             "minorgridcolor": "white",
             "startlinecolor": "#2a3f5f"
            },
            "baxis": {
             "endlinecolor": "#2a3f5f",
             "gridcolor": "white",
             "linecolor": "white",
             "minorgridcolor": "white",
             "startlinecolor": "#2a3f5f"
            },
            "type": "carpet"
           }
          ],
          "choropleth": [
           {
            "colorbar": {
             "outlinewidth": 0,
             "ticks": ""
            },
            "type": "choropleth"
           }
          ],
          "contour": [
           {
            "colorbar": {
             "outlinewidth": 0,
             "ticks": ""
            },
            "colorscale": [
             [
              0,
              "#0d0887"
             ],
             [
              0.1111111111111111,
              "#46039f"
             ],
             [
              0.2222222222222222,
              "#7201a8"
             ],
             [
              0.3333333333333333,
              "#9c179e"
             ],
             [
              0.4444444444444444,
              "#bd3786"
             ],
             [
              0.5555555555555556,
              "#d8576b"
             ],
             [
              0.6666666666666666,
              "#ed7953"
             ],
             [
              0.7777777777777778,
              "#fb9f3a"
             ],
             [
              0.8888888888888888,
              "#fdca26"
             ],
             [
              1,
              "#f0f921"
             ]
            ],
            "type": "contour"
           }
          ],
          "contourcarpet": [
           {
            "colorbar": {
             "outlinewidth": 0,
             "ticks": ""
            },
            "type": "contourcarpet"
           }
          ],
          "heatmap": [
           {
            "colorbar": {
             "outlinewidth": 0,
             "ticks": ""
            },
            "colorscale": [
             [
              0,
              "#0d0887"
             ],
             [
              0.1111111111111111,
              "#46039f"
             ],
             [
              0.2222222222222222,
              "#7201a8"
             ],
             [
              0.3333333333333333,
              "#9c179e"
             ],
             [
              0.4444444444444444,
              "#bd3786"
             ],
             [
              0.5555555555555556,
              "#d8576b"
             ],
             [
              0.6666666666666666,
              "#ed7953"
             ],
             [
              0.7777777777777778,
              "#fb9f3a"
             ],
             [
              0.8888888888888888,
              "#fdca26"
             ],
             [
              1,
              "#f0f921"
             ]
            ],
            "type": "heatmap"
           }
          ],
          "heatmapgl": [
           {
            "colorbar": {
             "outlinewidth": 0,
             "ticks": ""
            },
            "colorscale": [
             [
              0,
              "#0d0887"
             ],
             [
              0.1111111111111111,
              "#46039f"
             ],
             [
              0.2222222222222222,
              "#7201a8"
             ],
             [
              0.3333333333333333,
              "#9c179e"
             ],
             [
              0.4444444444444444,
              "#bd3786"
             ],
             [
              0.5555555555555556,
              "#d8576b"
             ],
             [
              0.6666666666666666,
              "#ed7953"
             ],
             [
              0.7777777777777778,
              "#fb9f3a"
             ],
             [
              0.8888888888888888,
              "#fdca26"
             ],
             [
              1,
              "#f0f921"
             ]
            ],
            "type": "heatmapgl"
           }
          ],
          "histogram": [
           {
            "marker": {
             "colorbar": {
              "outlinewidth": 0,
              "ticks": ""
             }
            },
            "type": "histogram"
           }
          ],
          "histogram2d": [
           {
            "colorbar": {
             "outlinewidth": 0,
             "ticks": ""
            },
            "colorscale": [
             [
              0,
              "#0d0887"
             ],
             [
              0.1111111111111111,
              "#46039f"
             ],
             [
              0.2222222222222222,
              "#7201a8"
             ],
             [
              0.3333333333333333,
              "#9c179e"
             ],
             [
              0.4444444444444444,
              "#bd3786"
             ],
             [
              0.5555555555555556,
              "#d8576b"
             ],
             [
              0.6666666666666666,
              "#ed7953"
             ],
             [
              0.7777777777777778,
              "#fb9f3a"
             ],
             [
              0.8888888888888888,
              "#fdca26"
             ],
             [
              1,
              "#f0f921"
             ]
            ],
            "type": "histogram2d"
           }
          ],
          "histogram2dcontour": [
           {
            "colorbar": {
             "outlinewidth": 0,
             "ticks": ""
            },
            "colorscale": [
             [
              0,
              "#0d0887"
             ],
             [
              0.1111111111111111,
              "#46039f"
             ],
             [
              0.2222222222222222,
              "#7201a8"
             ],
             [
              0.3333333333333333,
              "#9c179e"
             ],
             [
              0.4444444444444444,
              "#bd3786"
             ],
             [
              0.5555555555555556,
              "#d8576b"
             ],
             [
              0.6666666666666666,
              "#ed7953"
             ],
             [
              0.7777777777777778,
              "#fb9f3a"
             ],
             [
              0.8888888888888888,
              "#fdca26"
             ],
             [
              1,
              "#f0f921"
             ]
            ],
            "type": "histogram2dcontour"
           }
          ],
          "mesh3d": [
           {
            "colorbar": {
             "outlinewidth": 0,
             "ticks": ""
            },
            "type": "mesh3d"
           }
          ],
          "parcoords": [
           {
            "line": {
             "colorbar": {
              "outlinewidth": 0,
              "ticks": ""
             }
            },
            "type": "parcoords"
           }
          ],
          "pie": [
           {
            "automargin": true,
            "type": "pie"
           }
          ],
          "scatter": [
           {
            "marker": {
             "colorbar": {
              "outlinewidth": 0,
              "ticks": ""
             }
            },
            "type": "scatter"
           }
          ],
          "scatter3d": [
           {
            "line": {
             "colorbar": {
              "outlinewidth": 0,
              "ticks": ""
             }
            },
            "marker": {
             "colorbar": {
              "outlinewidth": 0,
              "ticks": ""
             }
            },
            "type": "scatter3d"
           }
          ],
          "scattercarpet": [
           {
            "marker": {
             "colorbar": {
              "outlinewidth": 0,
              "ticks": ""
             }
            },
            "type": "scattercarpet"
           }
          ],
          "scattergeo": [
           {
            "marker": {
             "colorbar": {
              "outlinewidth": 0,
              "ticks": ""
             }
            },
            "type": "scattergeo"
           }
          ],
          "scattergl": [
           {
            "marker": {
             "colorbar": {
              "outlinewidth": 0,
              "ticks": ""
             }
            },
            "type": "scattergl"
           }
          ],
          "scattermapbox": [
           {
            "marker": {
             "colorbar": {
              "outlinewidth": 0,
              "ticks": ""
             }
            },
            "type": "scattermapbox"
           }
          ],
          "scatterpolar": [
           {
            "marker": {
             "colorbar": {
              "outlinewidth": 0,
              "ticks": ""
             }
            },
            "type": "scatterpolar"
           }
          ],
          "scatterpolargl": [
           {
            "marker": {
             "colorbar": {
              "outlinewidth": 0,
              "ticks": ""
             }
            },
            "type": "scatterpolargl"
           }
          ],
          "scatterternary": [
           {
            "marker": {
             "colorbar": {
              "outlinewidth": 0,
              "ticks": ""
             }
            },
            "type": "scatterternary"
           }
          ],
          "surface": [
           {
            "colorbar": {
             "outlinewidth": 0,
             "ticks": ""
            },
            "colorscale": [
             [
              0,
              "#0d0887"
             ],
             [
              0.1111111111111111,
              "#46039f"
             ],
             [
              0.2222222222222222,
              "#7201a8"
             ],
             [
              0.3333333333333333,
              "#9c179e"
             ],
             [
              0.4444444444444444,
              "#bd3786"
             ],
             [
              0.5555555555555556,
              "#d8576b"
             ],
             [
              0.6666666666666666,
              "#ed7953"
             ],
             [
              0.7777777777777778,
              "#fb9f3a"
             ],
             [
              0.8888888888888888,
              "#fdca26"
             ],
             [
              1,
              "#f0f921"
             ]
            ],
            "type": "surface"
           }
          ],
          "table": [
           {
            "cells": {
             "fill": {
              "color": "#EBF0F8"
             },
             "line": {
              "color": "white"
             }
            },
            "header": {
             "fill": {
              "color": "#C8D4E3"
             },
             "line": {
              "color": "white"
             }
            },
            "type": "table"
           }
          ]
         },
         "layout": {
          "annotationdefaults": {
           "arrowcolor": "#2a3f5f",
           "arrowhead": 0,
           "arrowwidth": 1
          },
          "autotypenumbers": "strict",
          "coloraxis": {
           "colorbar": {
            "outlinewidth": 0,
            "ticks": ""
           }
          },
          "colorscale": {
           "diverging": [
            [
             0,
             "#8e0152"
            ],
            [
             0.1,
             "#c51b7d"
            ],
            [
             0.2,
             "#de77ae"
            ],
            [
             0.3,
             "#f1b6da"
            ],
            [
             0.4,
             "#fde0ef"
            ],
            [
             0.5,
             "#f7f7f7"
            ],
            [
             0.6,
             "#e6f5d0"
            ],
            [
             0.7,
             "#b8e186"
            ],
            [
             0.8,
             "#7fbc41"
            ],
            [
             0.9,
             "#4d9221"
            ],
            [
             1,
             "#276419"
            ]
           ],
           "sequential": [
            [
             0,
             "#0d0887"
            ],
            [
             0.1111111111111111,
             "#46039f"
            ],
            [
             0.2222222222222222,
             "#7201a8"
            ],
            [
             0.3333333333333333,
             "#9c179e"
            ],
            [
             0.4444444444444444,
             "#bd3786"
            ],
            [
             0.5555555555555556,
             "#d8576b"
            ],
            [
             0.6666666666666666,
             "#ed7953"
            ],
            [
             0.7777777777777778,
             "#fb9f3a"
            ],
            [
             0.8888888888888888,
             "#fdca26"
            ],
            [
             1,
             "#f0f921"
            ]
           ],
           "sequentialminus": [
            [
             0,
             "#0d0887"
            ],
            [
             0.1111111111111111,
             "#46039f"
            ],
            [
             0.2222222222222222,
             "#7201a8"
            ],
            [
             0.3333333333333333,
             "#9c179e"
            ],
            [
             0.4444444444444444,
             "#bd3786"
            ],
            [
             0.5555555555555556,
             "#d8576b"
            ],
            [
             0.6666666666666666,
             "#ed7953"
            ],
            [
             0.7777777777777778,
             "#fb9f3a"
            ],
            [
             0.8888888888888888,
             "#fdca26"
            ],
            [
             1,
             "#f0f921"
            ]
           ]
          },
          "colorway": [
           "#636efa",
           "#EF553B",
           "#00cc96",
           "#ab63fa",
           "#FFA15A",
           "#19d3f3",
           "#FF6692",
           "#B6E880",
           "#FF97FF",
           "#FECB52"
          ],
          "font": {
           "color": "#2a3f5f"
          },
          "geo": {
           "bgcolor": "white",
           "lakecolor": "white",
           "landcolor": "#E5ECF6",
           "showlakes": true,
           "showland": true,
           "subunitcolor": "white"
          },
          "hoverlabel": {
           "align": "left"
          },
          "hovermode": "closest",
          "mapbox": {
           "style": "light"
          },
          "paper_bgcolor": "white",
          "plot_bgcolor": "#E5ECF6",
          "polar": {
           "angularaxis": {
            "gridcolor": "white",
            "linecolor": "white",
            "ticks": ""
           },
           "bgcolor": "#E5ECF6",
           "radialaxis": {
            "gridcolor": "white",
            "linecolor": "white",
            "ticks": ""
           }
          },
          "scene": {
           "xaxis": {
            "backgroundcolor": "#E5ECF6",
            "gridcolor": "white",
            "gridwidth": 2,
            "linecolor": "white",
            "showbackground": true,
            "ticks": "",
            "zerolinecolor": "white"
           },
           "yaxis": {
            "backgroundcolor": "#E5ECF6",
            "gridcolor": "white",
            "gridwidth": 2,
            "linecolor": "white",
            "showbackground": true,
            "ticks": "",
            "zerolinecolor": "white"
           },
           "zaxis": {
            "backgroundcolor": "#E5ECF6",
            "gridcolor": "white",
            "gridwidth": 2,
            "linecolor": "white",
            "showbackground": true,
            "ticks": "",
            "zerolinecolor": "white"
           }
          },
          "shapedefaults": {
           "line": {
            "color": "#2a3f5f"
           }
          },
          "ternary": {
           "aaxis": {
            "gridcolor": "white",
            "linecolor": "white",
            "ticks": ""
           },
           "baxis": {
            "gridcolor": "white",
            "linecolor": "white",
            "ticks": ""
           },
           "bgcolor": "#E5ECF6",
           "caxis": {
            "gridcolor": "white",
            "linecolor": "white",
            "ticks": ""
           }
          },
          "title": {
           "x": 0.05
          },
          "xaxis": {
           "automargin": true,
           "gridcolor": "white",
           "linecolor": "white",
           "ticks": "",
           "title": {
            "standoff": 15
           },
           "zerolinecolor": "white",
           "zerolinewidth": 2
          },
          "yaxis": {
           "automargin": true,
           "gridcolor": "white",
           "linecolor": "white",
           "ticks": "",
           "title": {
            "standoff": 15
           },
           "zerolinecolor": "white",
           "zerolinewidth": 2
          }
         }
        },
        "title": {
         "text": "Total amounts vs covid amounts"
        }
       }
      },
      "text/html": [
       "<div>                            <div id=\"f733b7f9-a493-4488-a0a7-2d70a480ac71\" class=\"plotly-graph-div\" style=\"height:525px; width:100%;\"></div>            <script type=\"text/javascript\">                require([\"plotly\"], function(Plotly) {                    window.PLOTLYENV=window.PLOTLYENV || {};                                    if (document.getElementById(\"f733b7f9-a493-4488-a0a7-2d70a480ac71\")) {                    Plotly.newPlot(                        \"f733b7f9-a493-4488-a0a7-2d70a480ac71\",                        [{\"customdata\": [[\"Otros\"], [\"Covid\"]], \"domain\": {\"x\": [0.0, 1.0], \"y\": [0.0, 1.0]}, \"hoverinfo\": \"label+percent\", \"hovertemplate\": \"index=%{customdata[0]}<br>amount=%{value}<extra></extra>\", \"labels\": [\"Otros\", \"Covid\"], \"legendgroup\": \"\", \"marker\": {\"colors\": [\"Otros\", \"Covid\"], \"line\": {\"color\": \"#000000\", \"width\": 2}}, \"name\": \"\", \"showlegend\": true, \"textfont\": {\"size\": 20}, \"textinfo\": \"value\", \"type\": \"pie\", \"values\": [146720, 4531]}],                        {\"legend\": {\"tracegroupgap\": 0}, \"template\": {\"data\": {\"bar\": [{\"error_x\": {\"color\": \"#2a3f5f\"}, \"error_y\": {\"color\": \"#2a3f5f\"}, \"marker\": {\"line\": {\"color\": \"#E5ECF6\", \"width\": 0.5}}, \"type\": \"bar\"}], \"barpolar\": [{\"marker\": {\"line\": {\"color\": \"#E5ECF6\", \"width\": 0.5}}, \"type\": \"barpolar\"}], \"carpet\": [{\"aaxis\": {\"endlinecolor\": \"#2a3f5f\", \"gridcolor\": \"white\", \"linecolor\": \"white\", \"minorgridcolor\": \"white\", \"startlinecolor\": \"#2a3f5f\"}, \"baxis\": {\"endlinecolor\": \"#2a3f5f\", \"gridcolor\": \"white\", \"linecolor\": \"white\", \"minorgridcolor\": \"white\", \"startlinecolor\": \"#2a3f5f\"}, \"type\": \"carpet\"}], \"choropleth\": [{\"colorbar\": {\"outlinewidth\": 0, \"ticks\": \"\"}, \"type\": \"choropleth\"}], \"contour\": [{\"colorbar\": {\"outlinewidth\": 0, \"ticks\": \"\"}, \"colorscale\": [[0.0, \"#0d0887\"], [0.1111111111111111, \"#46039f\"], [0.2222222222222222, \"#7201a8\"], [0.3333333333333333, \"#9c179e\"], [0.4444444444444444, \"#bd3786\"], [0.5555555555555556, \"#d8576b\"], [0.6666666666666666, \"#ed7953\"], [0.7777777777777778, \"#fb9f3a\"], [0.8888888888888888, \"#fdca26\"], [1.0, \"#f0f921\"]], \"type\": \"contour\"}], \"contourcarpet\": [{\"colorbar\": {\"outlinewidth\": 0, \"ticks\": \"\"}, \"type\": \"contourcarpet\"}], \"heatmap\": [{\"colorbar\": {\"outlinewidth\": 0, \"ticks\": \"\"}, \"colorscale\": [[0.0, \"#0d0887\"], [0.1111111111111111, \"#46039f\"], [0.2222222222222222, \"#7201a8\"], [0.3333333333333333, \"#9c179e\"], [0.4444444444444444, \"#bd3786\"], [0.5555555555555556, \"#d8576b\"], [0.6666666666666666, \"#ed7953\"], [0.7777777777777778, \"#fb9f3a\"], [0.8888888888888888, \"#fdca26\"], [1.0, \"#f0f921\"]], \"type\": \"heatmap\"}], \"heatmapgl\": [{\"colorbar\": {\"outlinewidth\": 0, \"ticks\": \"\"}, \"colorscale\": [[0.0, \"#0d0887\"], [0.1111111111111111, \"#46039f\"], [0.2222222222222222, \"#7201a8\"], [0.3333333333333333, \"#9c179e\"], [0.4444444444444444, \"#bd3786\"], [0.5555555555555556, \"#d8576b\"], [0.6666666666666666, \"#ed7953\"], [0.7777777777777778, \"#fb9f3a\"], [0.8888888888888888, \"#fdca26\"], [1.0, \"#f0f921\"]], \"type\": \"heatmapgl\"}], \"histogram\": [{\"marker\": {\"colorbar\": {\"outlinewidth\": 0, \"ticks\": \"\"}}, \"type\": \"histogram\"}], \"histogram2d\": [{\"colorbar\": {\"outlinewidth\": 0, \"ticks\": \"\"}, \"colorscale\": [[0.0, \"#0d0887\"], [0.1111111111111111, \"#46039f\"], [0.2222222222222222, \"#7201a8\"], [0.3333333333333333, \"#9c179e\"], [0.4444444444444444, \"#bd3786\"], [0.5555555555555556, \"#d8576b\"], [0.6666666666666666, \"#ed7953\"], [0.7777777777777778, \"#fb9f3a\"], [0.8888888888888888, \"#fdca26\"], [1.0, \"#f0f921\"]], \"type\": \"histogram2d\"}], \"histogram2dcontour\": [{\"colorbar\": {\"outlinewidth\": 0, \"ticks\": \"\"}, \"colorscale\": [[0.0, \"#0d0887\"], [0.1111111111111111, \"#46039f\"], [0.2222222222222222, \"#7201a8\"], [0.3333333333333333, \"#9c179e\"], [0.4444444444444444, \"#bd3786\"], [0.5555555555555556, \"#d8576b\"], [0.6666666666666666, \"#ed7953\"], [0.7777777777777778, \"#fb9f3a\"], [0.8888888888888888, \"#fdca26\"], [1.0, \"#f0f921\"]], \"type\": \"histogram2dcontour\"}], \"mesh3d\": [{\"colorbar\": {\"outlinewidth\": 0, \"ticks\": \"\"}, \"type\": \"mesh3d\"}], \"parcoords\": [{\"line\": {\"colorbar\": {\"outlinewidth\": 0, \"ticks\": \"\"}}, \"type\": \"parcoords\"}], \"pie\": [{\"automargin\": true, \"type\": \"pie\"}], \"scatter\": [{\"marker\": {\"colorbar\": {\"outlinewidth\": 0, \"ticks\": \"\"}}, \"type\": \"scatter\"}], \"scatter3d\": [{\"line\": {\"colorbar\": {\"outlinewidth\": 0, \"ticks\": \"\"}}, \"marker\": {\"colorbar\": {\"outlinewidth\": 0, \"ticks\": \"\"}}, \"type\": \"scatter3d\"}], \"scattercarpet\": [{\"marker\": {\"colorbar\": {\"outlinewidth\": 0, \"ticks\": \"\"}}, \"type\": \"scattercarpet\"}], \"scattergeo\": [{\"marker\": {\"colorbar\": {\"outlinewidth\": 0, \"ticks\": \"\"}}, \"type\": \"scattergeo\"}], \"scattergl\": [{\"marker\": {\"colorbar\": {\"outlinewidth\": 0, \"ticks\": \"\"}}, \"type\": \"scattergl\"}], \"scattermapbox\": [{\"marker\": {\"colorbar\": {\"outlinewidth\": 0, \"ticks\": \"\"}}, \"type\": \"scattermapbox\"}], \"scatterpolar\": [{\"marker\": {\"colorbar\": {\"outlinewidth\": 0, \"ticks\": \"\"}}, \"type\": \"scatterpolar\"}], \"scatterpolargl\": [{\"marker\": {\"colorbar\": {\"outlinewidth\": 0, \"ticks\": \"\"}}, \"type\": \"scatterpolargl\"}], \"scatterternary\": [{\"marker\": {\"colorbar\": {\"outlinewidth\": 0, \"ticks\": \"\"}}, \"type\": \"scatterternary\"}], \"surface\": [{\"colorbar\": {\"outlinewidth\": 0, \"ticks\": \"\"}, \"colorscale\": [[0.0, \"#0d0887\"], [0.1111111111111111, \"#46039f\"], [0.2222222222222222, \"#7201a8\"], [0.3333333333333333, \"#9c179e\"], [0.4444444444444444, \"#bd3786\"], [0.5555555555555556, \"#d8576b\"], [0.6666666666666666, \"#ed7953\"], [0.7777777777777778, \"#fb9f3a\"], [0.8888888888888888, \"#fdca26\"], [1.0, \"#f0f921\"]], \"type\": \"surface\"}], \"table\": [{\"cells\": {\"fill\": {\"color\": \"#EBF0F8\"}, \"line\": {\"color\": \"white\"}}, \"header\": {\"fill\": {\"color\": \"#C8D4E3\"}, \"line\": {\"color\": \"white\"}}, \"type\": \"table\"}]}, \"layout\": {\"annotationdefaults\": {\"arrowcolor\": \"#2a3f5f\", \"arrowhead\": 0, \"arrowwidth\": 1}, \"autotypenumbers\": \"strict\", \"coloraxis\": {\"colorbar\": {\"outlinewidth\": 0, \"ticks\": \"\"}}, \"colorscale\": {\"diverging\": [[0, \"#8e0152\"], [0.1, \"#c51b7d\"], [0.2, \"#de77ae\"], [0.3, \"#f1b6da\"], [0.4, \"#fde0ef\"], [0.5, \"#f7f7f7\"], [0.6, \"#e6f5d0\"], [0.7, \"#b8e186\"], [0.8, \"#7fbc41\"], [0.9, \"#4d9221\"], [1, \"#276419\"]], \"sequential\": [[0.0, \"#0d0887\"], [0.1111111111111111, \"#46039f\"], [0.2222222222222222, \"#7201a8\"], [0.3333333333333333, \"#9c179e\"], [0.4444444444444444, \"#bd3786\"], [0.5555555555555556, \"#d8576b\"], [0.6666666666666666, \"#ed7953\"], [0.7777777777777778, \"#fb9f3a\"], [0.8888888888888888, \"#fdca26\"], [1.0, \"#f0f921\"]], \"sequentialminus\": [[0.0, \"#0d0887\"], [0.1111111111111111, \"#46039f\"], [0.2222222222222222, \"#7201a8\"], [0.3333333333333333, \"#9c179e\"], [0.4444444444444444, \"#bd3786\"], [0.5555555555555556, \"#d8576b\"], [0.6666666666666666, \"#ed7953\"], [0.7777777777777778, \"#fb9f3a\"], [0.8888888888888888, \"#fdca26\"], [1.0, \"#f0f921\"]]}, \"colorway\": [\"#636efa\", \"#EF553B\", \"#00cc96\", \"#ab63fa\", \"#FFA15A\", \"#19d3f3\", \"#FF6692\", \"#B6E880\", \"#FF97FF\", \"#FECB52\"], \"font\": {\"color\": \"#2a3f5f\"}, \"geo\": {\"bgcolor\": \"white\", \"lakecolor\": \"white\", \"landcolor\": \"#E5ECF6\", \"showlakes\": true, \"showland\": true, \"subunitcolor\": \"white\"}, \"hoverlabel\": {\"align\": \"left\"}, \"hovermode\": \"closest\", \"mapbox\": {\"style\": \"light\"}, \"paper_bgcolor\": \"white\", \"plot_bgcolor\": \"#E5ECF6\", \"polar\": {\"angularaxis\": {\"gridcolor\": \"white\", \"linecolor\": \"white\", \"ticks\": \"\"}, \"bgcolor\": \"#E5ECF6\", \"radialaxis\": {\"gridcolor\": \"white\", \"linecolor\": \"white\", \"ticks\": \"\"}}, \"scene\": {\"xaxis\": {\"backgroundcolor\": \"#E5ECF6\", \"gridcolor\": \"white\", \"gridwidth\": 2, \"linecolor\": \"white\", \"showbackground\": true, \"ticks\": \"\", \"zerolinecolor\": \"white\"}, \"yaxis\": {\"backgroundcolor\": \"#E5ECF6\", \"gridcolor\": \"white\", \"gridwidth\": 2, \"linecolor\": \"white\", \"showbackground\": true, \"ticks\": \"\", \"zerolinecolor\": \"white\"}, \"zaxis\": {\"backgroundcolor\": \"#E5ECF6\", \"gridcolor\": \"white\", \"gridwidth\": 2, \"linecolor\": \"white\", \"showbackground\": true, \"ticks\": \"\", \"zerolinecolor\": \"white\"}}, \"shapedefaults\": {\"line\": {\"color\": \"#2a3f5f\"}}, \"ternary\": {\"aaxis\": {\"gridcolor\": \"white\", \"linecolor\": \"white\", \"ticks\": \"\"}, \"baxis\": {\"gridcolor\": \"white\", \"linecolor\": \"white\", \"ticks\": \"\"}, \"bgcolor\": \"#E5ECF6\", \"caxis\": {\"gridcolor\": \"white\", \"linecolor\": \"white\", \"ticks\": \"\"}}, \"title\": {\"x\": 0.05}, \"xaxis\": {\"automargin\": true, \"gridcolor\": \"white\", \"linecolor\": \"white\", \"ticks\": \"\", \"title\": {\"standoff\": 15}, \"zerolinecolor\": \"white\", \"zerolinewidth\": 2}, \"yaxis\": {\"automargin\": true, \"gridcolor\": \"white\", \"linecolor\": \"white\", \"ticks\": \"\", \"title\": {\"standoff\": 15}, \"zerolinecolor\": \"white\", \"zerolinewidth\": 2}}}, \"title\": {\"text\": \"Total amounts vs covid amounts\"}},                        {\"responsive\": true}                    ).then(function(){\n",
       "                            \n",
       "var gd = document.getElementById('f733b7f9-a493-4488-a0a7-2d70a480ac71');\n",
       "var x = new MutationObserver(function (mutations, observer) {{\n",
       "        var display = window.getComputedStyle(gd).display;\n",
       "        if (!display || display === 'none') {{\n",
       "            console.log([gd, 'removed!']);\n",
       "            Plotly.purge(gd);\n",
       "            observer.disconnect();\n",
       "        }}\n",
       "}});\n",
       "\n",
       "// Listen for the removal of the full notebook cells\n",
       "var notebookContainer = gd.closest('#notebook-container');\n",
       "if (notebookContainer) {{\n",
       "    x.observe(notebookContainer, {childList: true});\n",
       "}}\n",
       "\n",
       "// Listen for the clearing of the current output cell\n",
       "var outputEl = gd.closest('.output');\n",
       "if (outputEl) {{\n",
       "    x.observe(outputEl, {childList: true});\n",
       "}}\n",
       "\n",
       "                        })                };                });            </script>        </div>"
      ]
     },
     "metadata": {},
     "output_type": "display_data"
    }
   ],
   "source": [
    "fig = px.pie(casos, values='amount', names = casos.index, color = casos.index,\n",
    "      title='Total amounts vs covid amounts',color_discrete_map={'Covid':'darkblue', 'Otros':'royalblue',} )\n",
    "\n",
    "fig.update_traces(hoverinfo='label+percent', textinfo='value', textfont_size=20,\n",
    "                  marker=dict(colors=casos.index, line=dict(color='#000000', width=2)))"
   ]
  },
  {
   "cell_type": "code",
   "execution_count": null,
   "metadata": {},
   "outputs": [],
   "source": [
    "df = px.data.stocks()\n",
    "fig = px.line(df, x=\"date\", y=df.columns,\n",
    "              hover_data={\"date\": \"|%B %d, %Y\"},\n",
    "              title='custom tick labels with ticklabelmode=\"period\"')\n",
    "fig.update_xaxes(\n",
    "    dtick=\"M1\",\n",
    "    tickformat=\"%b\\n%Y\",\n",
    "    ticklabelmode=\"period\")\n",
    "fig.show()"
   ]
  },
  {
   "cell_type": "code",
   "execution_count": null,
   "metadata": {},
   "outputs": [],
   "source": []
  }
 ],
 "metadata": {
  "kernelspec": {
   "display_name": "Python 3",
   "language": "python",
   "name": "python3"
  },
  "language_info": {
   "codemirror_mode": {
    "name": "ipython",
    "version": 3
   },
   "file_extension": ".py",
   "mimetype": "text/x-python",
   "name": "python",
   "nbconvert_exporter": "python",
   "pygments_lexer": "ipython3",
   "version": "3.8.6"
  },
  "toc": {
   "base_numbering": 1,
   "nav_menu": {},
   "number_sections": true,
   "sideBar": true,
   "skip_h1_title": false,
   "title_cell": "Table of Contents",
   "title_sidebar": "Contents",
   "toc_cell": false,
   "toc_position": {},
   "toc_section_display": true,
   "toc_window_display": false
  }
 },
 "nbformat": 4,
 "nbformat_minor": 4
}
