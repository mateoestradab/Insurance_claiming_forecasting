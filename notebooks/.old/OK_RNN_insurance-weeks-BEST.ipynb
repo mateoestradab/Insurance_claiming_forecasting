{
 "cells": [
  {
   "cell_type": "markdown",
   "id": "worth-edinburgh",
   "metadata": {},
   "source": [
    "# RNN - Insurance"
   ]
  },
  {
   "cell_type": "code",
   "execution_count": 1,
   "id": "motivated-robin",
   "metadata": {},
   "outputs": [],
   "source": [
    "import pandas as pd\n",
    "import numpy as np\n",
    "import matplotlib.pyplot as plt"
   ]
  },
  {
   "cell_type": "code",
   "execution_count": 2,
   "id": "bacterial-excess",
   "metadata": {},
   "outputs": [],
   "source": [
    "data = pd.read_excel('../raw_data/weekly_data_clean.xlsx', engine='openpyxl')"
   ]
  },
  {
   "cell_type": "code",
   "execution_count": 3,
   "id": "smoking-muscle",
   "metadata": {},
   "outputs": [],
   "source": [
    "data = data.drop(columns=['Unnamed: 0', 'date_issue'])"
   ]
  },
  {
   "cell_type": "code",
   "execution_count": 4,
   "id": "religious-belgium",
   "metadata": {},
   "outputs": [
    {
     "data": {
      "text/html": [
       "<div>\n",
       "<style scoped>\n",
       "    .dataframe tbody tr th:only-of-type {\n",
       "        vertical-align: middle;\n",
       "    }\n",
       "\n",
       "    .dataframe tbody tr th {\n",
       "        vertical-align: top;\n",
       "    }\n",
       "\n",
       "    .dataframe thead th {\n",
       "        text-align: right;\n",
       "    }\n",
       "</style>\n",
       "<table border=\"1\" class=\"dataframe\">\n",
       "  <thead>\n",
       "    <tr style=\"text-align: right;\">\n",
       "      <th></th>\n",
       "      <th>total_amount_claims</th>\n",
       "    </tr>\n",
       "  </thead>\n",
       "  <tbody>\n",
       "    <tr>\n",
       "      <th>0</th>\n",
       "      <td>16683</td>\n",
       "    </tr>\n",
       "    <tr>\n",
       "      <th>1</th>\n",
       "      <td>201774</td>\n",
       "    </tr>\n",
       "    <tr>\n",
       "      <th>2</th>\n",
       "      <td>263661</td>\n",
       "    </tr>\n",
       "    <tr>\n",
       "      <th>3</th>\n",
       "      <td>799703</td>\n",
       "    </tr>\n",
       "    <tr>\n",
       "      <th>4</th>\n",
       "      <td>900305</td>\n",
       "    </tr>\n",
       "    <tr>\n",
       "      <th>...</th>\n",
       "      <td>...</td>\n",
       "    </tr>\n",
       "    <tr>\n",
       "      <th>127</th>\n",
       "      <td>1949930</td>\n",
       "    </tr>\n",
       "    <tr>\n",
       "      <th>128</th>\n",
       "      <td>1725225</td>\n",
       "    </tr>\n",
       "    <tr>\n",
       "      <th>129</th>\n",
       "      <td>2232202</td>\n",
       "    </tr>\n",
       "    <tr>\n",
       "      <th>130</th>\n",
       "      <td>2666662</td>\n",
       "    </tr>\n",
       "    <tr>\n",
       "      <th>131</th>\n",
       "      <td>2111986</td>\n",
       "    </tr>\n",
       "  </tbody>\n",
       "</table>\n",
       "<p>132 rows × 1 columns</p>\n",
       "</div>"
      ],
      "text/plain": [
       "     total_amount_claims\n",
       "0                  16683\n",
       "1                 201774\n",
       "2                 263661\n",
       "3                 799703\n",
       "4                 900305\n",
       "..                   ...\n",
       "127              1949930\n",
       "128              1725225\n",
       "129              2232202\n",
       "130              2666662\n",
       "131              2111986\n",
       "\n",
       "[132 rows x 1 columns]"
      ]
     },
     "execution_count": 4,
     "metadata": {},
     "output_type": "execute_result"
    }
   ],
   "source": [
    "data"
   ]
  },
  {
   "cell_type": "code",
   "execution_count": 5,
   "id": "greater-louisiana",
   "metadata": {},
   "outputs": [
    {
     "name": "stdout",
     "output_type": "stream",
     "text": [
      "min:  16683\n",
      "max:  2666662\n"
     ]
    }
   ],
   "source": [
    "print(\"min: \",data['total_amount_claims'].min())\n",
    "print(\"max: \",data['total_amount_claims'].max())"
   ]
  },
  {
   "cell_type": "code",
   "execution_count": 6,
   "id": "previous-legislation",
   "metadata": {},
   "outputs": [
    {
     "data": {
      "text/plain": [
       "(132, 1)"
      ]
     },
     "execution_count": 6,
     "metadata": {},
     "output_type": "execute_result"
    }
   ],
   "source": [
    "data.shape"
   ]
  },
  {
   "cell_type": "code",
   "execution_count": 7,
   "id": "technological-commodity",
   "metadata": {},
   "outputs": [],
   "source": [
    "min_ = data['total_amount_claims'].min()\n",
    "max_ = data['total_amount_claims'].max()\n",
    "\n",
    "data['total_amount_claims'] = [((x - min_) / (max_ - min_)) for x in data['total_amount_claims']]"
   ]
  },
  {
   "cell_type": "code",
   "execution_count": 8,
   "id": "willing-harbor",
   "metadata": {},
   "outputs": [
    {
     "data": {
      "text/html": [
       "<div>\n",
       "<style scoped>\n",
       "    .dataframe tbody tr th:only-of-type {\n",
       "        vertical-align: middle;\n",
       "    }\n",
       "\n",
       "    .dataframe tbody tr th {\n",
       "        vertical-align: top;\n",
       "    }\n",
       "\n",
       "    .dataframe thead th {\n",
       "        text-align: right;\n",
       "    }\n",
       "</style>\n",
       "<table border=\"1\" class=\"dataframe\">\n",
       "  <thead>\n",
       "    <tr style=\"text-align: right;\">\n",
       "      <th></th>\n",
       "      <th>total_amount_claims</th>\n",
       "    </tr>\n",
       "  </thead>\n",
       "  <tbody>\n",
       "    <tr>\n",
       "      <th>0</th>\n",
       "      <td>0.000000</td>\n",
       "    </tr>\n",
       "    <tr>\n",
       "      <th>1</th>\n",
       "      <td>0.069846</td>\n",
       "    </tr>\n",
       "    <tr>\n",
       "      <th>2</th>\n",
       "      <td>0.093200</td>\n",
       "    </tr>\n",
       "    <tr>\n",
       "      <th>3</th>\n",
       "      <td>0.295482</td>\n",
       "    </tr>\n",
       "    <tr>\n",
       "      <th>4</th>\n",
       "      <td>0.333445</td>\n",
       "    </tr>\n",
       "    <tr>\n",
       "      <th>...</th>\n",
       "      <td>...</td>\n",
       "    </tr>\n",
       "    <tr>\n",
       "      <th>127</th>\n",
       "      <td>0.729533</td>\n",
       "    </tr>\n",
       "    <tr>\n",
       "      <th>128</th>\n",
       "      <td>0.644738</td>\n",
       "    </tr>\n",
       "    <tr>\n",
       "      <th>129</th>\n",
       "      <td>0.836052</td>\n",
       "    </tr>\n",
       "    <tr>\n",
       "      <th>130</th>\n",
       "      <td>1.000000</td>\n",
       "    </tr>\n",
       "    <tr>\n",
       "      <th>131</th>\n",
       "      <td>0.790687</td>\n",
       "    </tr>\n",
       "  </tbody>\n",
       "</table>\n",
       "<p>132 rows × 1 columns</p>\n",
       "</div>"
      ],
      "text/plain": [
       "     total_amount_claims\n",
       "0               0.000000\n",
       "1               0.069846\n",
       "2               0.093200\n",
       "3               0.295482\n",
       "4               0.333445\n",
       "..                   ...\n",
       "127             0.729533\n",
       "128             0.644738\n",
       "129             0.836052\n",
       "130             1.000000\n",
       "131             0.790687\n",
       "\n",
       "[132 rows x 1 columns]"
      ]
     },
     "execution_count": 8,
     "metadata": {},
     "output_type": "execute_result"
    }
   ],
   "source": [
    "data"
   ]
  },
  {
   "cell_type": "markdown",
   "id": "assigned-summary",
   "metadata": {},
   "source": [
    "### Split data"
   ]
  },
  {
   "cell_type": "code",
   "execution_count": 11,
   "id": "contrary-policy",
   "metadata": {},
   "outputs": [],
   "source": [
    "len_ = int(0.8*data.shape[0])\n",
    "\n",
    "data_train = data[:len_]\n",
    "data_test = data[len_:]"
   ]
  },
  {
   "cell_type": "code",
   "execution_count": 12,
   "id": "antique-wonder",
   "metadata": {},
   "outputs": [
    {
     "name": "stdout",
     "output_type": "stream",
     "text": [
      "(105, 1)\n",
      "(27, 1)\n"
     ]
    }
   ],
   "source": [
    "print(data_train.shape)\n",
    "print(data_test.shape)"
   ]
  },
  {
   "cell_type": "markdown",
   "id": "dressed-falls",
   "metadata": {},
   "source": [
    "### Sequences"
   ]
  },
  {
   "cell_type": "code",
   "execution_count": 13,
   "id": "played-residence",
   "metadata": {},
   "outputs": [],
   "source": [
    "def subsample_sequence(data, length):\n",
    "    \n",
    "    last_possible = data.shape[0] - length\n",
    "    \n",
    "    random_start = np.random.randint(0, last_possible)\n",
    "    data_sample = data[random_start: random_start+length]\n",
    "    \n",
    "    return data_sample"
   ]
  },
  {
   "cell_type": "code",
   "execution_count": 14,
   "id": "consecutive-regard",
   "metadata": {},
   "outputs": [
    {
     "data": {
      "text/html": [
       "<div>\n",
       "<style scoped>\n",
       "    .dataframe tbody tr th:only-of-type {\n",
       "        vertical-align: middle;\n",
       "    }\n",
       "\n",
       "    .dataframe tbody tr th {\n",
       "        vertical-align: top;\n",
       "    }\n",
       "\n",
       "    .dataframe thead th {\n",
       "        text-align: right;\n",
       "    }\n",
       "</style>\n",
       "<table border=\"1\" class=\"dataframe\">\n",
       "  <thead>\n",
       "    <tr style=\"text-align: right;\">\n",
       "      <th></th>\n",
       "      <th>total_amount_claims</th>\n",
       "    </tr>\n",
       "  </thead>\n",
       "  <tbody>\n",
       "    <tr>\n",
       "      <th>82</th>\n",
       "      <td>0.277267</td>\n",
       "    </tr>\n",
       "    <tr>\n",
       "      <th>83</th>\n",
       "      <td>0.144128</td>\n",
       "    </tr>\n",
       "    <tr>\n",
       "      <th>84</th>\n",
       "      <td>0.099856</td>\n",
       "    </tr>\n",
       "    <tr>\n",
       "      <th>85</th>\n",
       "      <td>0.179453</td>\n",
       "    </tr>\n",
       "    <tr>\n",
       "      <th>86</th>\n",
       "      <td>0.161471</td>\n",
       "    </tr>\n",
       "    <tr>\n",
       "      <th>87</th>\n",
       "      <td>0.154914</td>\n",
       "    </tr>\n",
       "    <tr>\n",
       "      <th>88</th>\n",
       "      <td>0.214978</td>\n",
       "    </tr>\n",
       "    <tr>\n",
       "      <th>89</th>\n",
       "      <td>0.169755</td>\n",
       "    </tr>\n",
       "    <tr>\n",
       "      <th>90</th>\n",
       "      <td>0.245852</td>\n",
       "    </tr>\n",
       "    <tr>\n",
       "      <th>91</th>\n",
       "      <td>0.264198</td>\n",
       "    </tr>\n",
       "  </tbody>\n",
       "</table>\n",
       "</div>"
      ],
      "text/plain": [
       "    total_amount_claims\n",
       "82             0.277267\n",
       "83             0.144128\n",
       "84             0.099856\n",
       "85             0.179453\n",
       "86             0.161471\n",
       "87             0.154914\n",
       "88             0.214978\n",
       "89             0.169755\n",
       "90             0.245852\n",
       "91             0.264198"
      ]
     },
     "execution_count": 14,
     "metadata": {},
     "output_type": "execute_result"
    }
   ],
   "source": [
    "data_subsample = subsample_sequence(data, 10)\n",
    "data_subsample"
   ]
  },
  {
   "cell_type": "code",
   "execution_count": 15,
   "id": "dedicated-valley",
   "metadata": {},
   "outputs": [],
   "source": [
    "def fillna(X, data_mean):\n",
    "    # Replace with NaN of the other hours. \n",
    "    na = X.mean()\n",
    "    \n",
    "    # If the other hours are also nans, then replace with mean value of the dataframe\n",
    "    na.fillna(data_mean)\n",
    "    return na\n",
    "\n",
    "def split_subsample_sequence(data, length, data_mean=None):\n",
    "    # Little trick to improve the time\n",
    "    if data_mean is None:\n",
    "        data_mean = data.mean()\n",
    "              \n",
    "    data_subsample = subsample_sequence(data, length)\n",
    "    y_sample = data_subsample.iloc[data_subsample.shape[0]-1]['total_amount_claims']\n",
    "    \n",
    "    if y_sample != y_sample: # A value is not equal to itself only for NaN. So it will be True if y_sample is nan\n",
    "        X_sample, y_sample = split_subsample_sequence(data, length, data_mean)\n",
    "        return np.array(X_sample), np.array(y_sample)\n",
    "    \n",
    "    X_sample = data_subsample[0:data_subsample.shape[0]-1]\n",
    "    X_sample = X_sample.fillna(fillna(X_sample, data_mean))\n",
    "    X_sample = X_sample.values\n",
    "    \n",
    "    return np.array(X_sample), np.array(y_sample)"
   ]
  },
  {
   "cell_type": "code",
   "execution_count": 16,
   "id": "medieval-platinum",
   "metadata": {},
   "outputs": [],
   "source": [
    "def get_X_y(data, number_of_sequences, length):\n",
    "    X, y = [], []\n",
    "\n",
    "    for i in range(number_of_sequences):\n",
    "        xi, yi = split_subsample_sequence(data, length)\n",
    "        X.append(xi)\n",
    "        y.append(yi)\n",
    "        \n",
    "    X = np.array(X)\n",
    "    y = np.array(y)\n",
    "        \n",
    "    return X, y"
   ]
  },
  {
   "cell_type": "code",
   "execution_count": 22,
   "id": "loving-failure",
   "metadata": {},
   "outputs": [],
   "source": [
    "X_train, y_train = get_X_y(data_train, 80, 10)\n",
    "X_test, y_test = get_X_y(data_test, 20, 10)"
   ]
  },
  {
   "cell_type": "code",
   "execution_count": null,
   "id": "sharing-angel",
   "metadata": {},
   "outputs": [],
   "source": [
    "# !pip install tensorflow"
   ]
  },
  {
   "cell_type": "code",
   "execution_count": 23,
   "id": "dated-inquiry",
   "metadata": {},
   "outputs": [
    {
     "name": "stdout",
     "output_type": "stream",
     "text": [
      "X train size:(80, 9, 1)\n",
      "X test size:(20, 9, 1)\n",
      "y train size:(80,)\n",
      "y test size:(20,)\n"
     ]
    }
   ],
   "source": [
    "print(f'X train size:{X_train.shape}')\n",
    "print(f'X test size:{X_test.shape}')\n",
    "print(f'y train size:{y_train.shape}')\n",
    "print(f'y test size:{y_test.shape}')"
   ]
  },
  {
   "cell_type": "code",
   "execution_count": null,
   "id": "serial-retreat",
   "metadata": {},
   "outputs": [],
   "source": [
    "X_train"
   ]
  },
  {
   "cell_type": "code",
   "execution_count": 25,
   "id": "functioning-bacon",
   "metadata": {},
   "outputs": [],
   "source": [
    "from tensorflow.keras import models\n",
    "from tensorflow.keras import layers\n",
    "\n",
    "model = models.Sequential()\n",
    "\n",
    "model.add(layers.LSTM(20, activation='tanh'))\n",
    "model.add(layers.Dense(5, activation='relu'))\n",
    "model.add(layers.Dense(1, activation='linear'))"
   ]
  },
  {
   "cell_type": "code",
   "execution_count": 26,
   "id": "adequate-portsmouth",
   "metadata": {},
   "outputs": [],
   "source": [
    "model.compile(loss='mse', \n",
    "              optimizer='rmsprop', \n",
    "              metrics=['mse', 'mae', 'mape'])"
   ]
  },
  {
   "cell_type": "code",
   "execution_count": 27,
   "id": "strong-wings",
   "metadata": {},
   "outputs": [
    {
     "name": "stdout",
     "output_type": "stream",
     "text": [
      "Epoch 1/100\n",
      "4/4 [==============================] - 3s 414ms/step - loss: 0.0835 - mae: 0.2622 - mape: 116.9708 - val_loss: 0.0576 - val_mae: 0.2070 - val_mape: 91.8599\n",
      "Epoch 2/100\n",
      "4/4 [==============================] - 0s 38ms/step - loss: 0.0646 - mae: 0.2248 - mape: 90.8873 - val_loss: 0.0515 - val_mae: 0.1924 - val_mape: 83.3466\n",
      "Epoch 3/100\n",
      "4/4 [==============================] - 0s 34ms/step - loss: 0.0662 - mae: 0.2163 - mape: 82.9249 - val_loss: 0.0466 - val_mae: 0.1794 - val_mape: 75.6830\n",
      "Epoch 4/100\n",
      "4/4 [==============================] - 0s 37ms/step - loss: 0.0560 - mae: 0.1959 - mape: 75.8986 - val_loss: 0.0419 - val_mae: 0.1659 - val_mape: 67.7413\n",
      "Epoch 5/100\n",
      "4/4 [==============================] - 0s 35ms/step - loss: 0.0464 - mae: 0.1734 - mape: 67.0804 - val_loss: 0.0371 - val_mae: 0.1512 - val_mape: 59.1158\n",
      "Epoch 6/100\n",
      "4/4 [==============================] - 0s 33ms/step - loss: 0.0449 - mae: 0.1656 - mape: 60.3912 - val_loss: 0.0324 - val_mae: 0.1359 - val_mape: 50.4202\n",
      "Epoch 7/100\n",
      "4/4 [==============================] - 0s 34ms/step - loss: 0.0305 - mae: 0.1354 - mape: 51.5099 - val_loss: 0.0277 - val_mae: 0.1222 - val_mape: 45.1779\n",
      "Epoch 8/100\n",
      "4/4 [==============================] - 0s 38ms/step - loss: 0.0279 - mae: 0.1254 - mape: 46.8535 - val_loss: 0.0233 - val_mae: 0.1089 - val_mape: 41.1956\n",
      "Epoch 9/100\n",
      "4/4 [==============================] - 0s 34ms/step - loss: 0.0238 - mae: 0.1136 - mape: 43.1914 - val_loss: 0.0194 - val_mae: 0.0965 - val_mape: 38.5514\n",
      "Epoch 10/100\n",
      "4/4 [==============================] - 0s 39ms/step - loss: 0.0200 - mae: 0.1028 - mape: 42.9397 - val_loss: 0.0162 - val_mae: 0.0886 - val_mape: 39.4965\n",
      "Epoch 11/100\n",
      "4/4 [==============================] - 0s 33ms/step - loss: 0.0206 - mae: 0.1001 - mape: 40.7746 - val_loss: 0.0143 - val_mae: 0.0876 - val_mape: 44.1015\n",
      "Epoch 12/100\n",
      "4/4 [==============================] - 0s 39ms/step - loss: 0.0115 - mae: 0.0796 - mape: 44.2593 - val_loss: 0.0132 - val_mae: 0.0887 - val_mape: 49.8663\n",
      "Epoch 13/100\n",
      "4/4 [==============================] - ETA: 0s - loss: 0.0098 - mae: 0.0754 - mape: 43.301 - 0s 90ms/step - loss: 0.0107 - mae: 0.0773 - mape: 43.8342 - val_loss: 0.0129 - val_mae: 0.0903 - val_mape: 54.6161\n",
      "Epoch 14/100\n",
      "4/4 [==============================] - 0s 74ms/step - loss: 0.0122 - mae: 0.0791 - mape: 50.7092 - val_loss: 0.0130 - val_mae: 0.0911 - val_mape: 56.9399\n",
      "Epoch 15/100\n",
      "4/4 [==============================] - 0s 51ms/step - loss: 0.0107 - mae: 0.0755 - mape: 46.5155 - val_loss: 0.0130 - val_mae: 0.0913 - val_mape: 57.6846\n",
      "Epoch 16/100\n",
      "4/4 [==============================] - 0s 63ms/step - loss: 0.0123 - mae: 0.0801 - mape: 48.4121 - val_loss: 0.0128 - val_mae: 0.0901 - val_mape: 54.8485\n",
      "Epoch 17/100\n",
      "4/4 [==============================] - 0s 34ms/step - loss: 0.0116 - mae: 0.0793 - mape: 52.0612 - val_loss: 0.0129 - val_mae: 0.0909 - val_mape: 57.2661\n",
      "Epoch 18/100\n",
      "4/4 [==============================] - 0s 27ms/step - loss: 0.0103 - mae: 0.0750 - mape: 44.3544 - val_loss: 0.0128 - val_mae: 0.0906 - val_mape: 56.8206\n",
      "Epoch 19/100\n",
      "4/4 [==============================] - 0s 112ms/step - loss: 0.0134 - mae: 0.0837 - mape: 53.4116 - val_loss: 0.0128 - val_mae: 0.0905 - val_mape: 56.8713\n",
      "Epoch 20/100\n",
      "4/4 [==============================] - 0s 43ms/step - loss: 0.0135 - mae: 0.0839 - mape: 47.8709 - val_loss: 0.0126 - val_mae: 0.0888 - val_mape: 52.4899\n",
      "Epoch 21/100\n",
      "4/4 [==============================] - 0s 31ms/step - loss: 0.0145 - mae: 0.0882 - mape: 47.0939 - val_loss: 0.0125 - val_mae: 0.0889 - val_mape: 52.9936\n",
      "Epoch 22/100\n",
      "4/4 [==============================] - 0s 34ms/step - loss: 0.0102 - mae: 0.0733 - mape: 43.6744 - val_loss: 0.0125 - val_mae: 0.0896 - val_mape: 55.1862\n",
      "Epoch 23/100\n",
      "4/4 [==============================] - 0s 40ms/step - loss: 0.0135 - mae: 0.0864 - mape: 52.0537 - val_loss: 0.0125 - val_mae: 0.0893 - val_mape: 54.8090\n",
      "Epoch 24/100\n",
      "4/4 [==============================] - 0s 32ms/step - loss: 0.0132 - mae: 0.0822 - mape: 47.2397 - val_loss: 0.0124 - val_mae: 0.0886 - val_mape: 53.2592\n",
      "Epoch 25/100\n",
      "4/4 [==============================] - 0s 60ms/step - loss: 0.0109 - mae: 0.0734 - mape: 42.8796 - val_loss: 0.0124 - val_mae: 0.0890 - val_mape: 54.6028\n",
      "Epoch 26/100\n",
      "4/4 [==============================] - 0s 78ms/step - loss: 0.0126 - mae: 0.0806 - mape: 47.6402 - val_loss: 0.0123 - val_mae: 0.0888 - val_mape: 54.3850\n",
      "Epoch 27/100\n",
      "4/4 [==============================] - 0s 47ms/step - loss: 0.0123 - mae: 0.0823 - mape: 51.6792 - val_loss: 0.0123 - val_mae: 0.0889 - val_mape: 54.8663\n",
      "Epoch 28/100\n",
      "4/4 [==============================] - 0s 36ms/step - loss: 0.0103 - mae: 0.0761 - mape: 50.0097 - val_loss: 0.0124 - val_mae: 0.0893 - val_mape: 56.2794\n",
      "Epoch 29/100\n",
      "4/4 [==============================] - 0s 26ms/step - loss: 0.0131 - mae: 0.0822 - mape: 49.9305 - val_loss: 0.0122 - val_mae: 0.0877 - val_mape: 52.2231\n",
      "Epoch 30/100\n",
      "4/4 [==============================] - 0s 28ms/step - loss: 0.0136 - mae: 0.0820 - mape: 45.0198 - val_loss: 0.0122 - val_mae: 0.0870 - val_mape: 50.3789\n",
      "Epoch 31/100\n",
      "4/4 [==============================] - 0s 34ms/step - loss: 0.0135 - mae: 0.0827 - mape: 46.8669 - val_loss: 0.0121 - val_mae: 0.0868 - val_mape: 50.2335\n",
      "Epoch 32/100\n",
      "4/4 [==============================] - 0s 34ms/step - loss: 0.0118 - mae: 0.0759 - mape: 44.9101 - val_loss: 0.0121 - val_mae: 0.0881 - val_mape: 54.1922\n",
      "Epoch 33/100\n",
      "4/4 [==============================] - 0s 25ms/step - loss: 0.0139 - mae: 0.0861 - mape: 48.7321 - val_loss: 0.0120 - val_mae: 0.0877 - val_mape: 53.2812\n",
      "Epoch 34/100\n",
      "4/4 [==============================] - 0s 30ms/step - loss: 0.0157 - mae: 0.0882 - mape: 44.2973 - val_loss: 0.0121 - val_mae: 0.0861 - val_mape: 48.9687\n",
      "Epoch 35/100\n",
      "4/4 [==============================] - 0s 32ms/step - loss: 0.0096 - mae: 0.0723 - mape: 41.0381 - val_loss: 0.0120 - val_mae: 0.0877 - val_mape: 53.9051\n",
      "Epoch 36/100\n",
      "4/4 [==============================] - 0s 24ms/step - loss: 0.0143 - mae: 0.0854 - mape: 49.1709 - val_loss: 0.0119 - val_mae: 0.0866 - val_mape: 51.0463\n",
      "Epoch 37/100\n",
      "4/4 [==============================] - 0s 20ms/step - loss: 0.0097 - mae: 0.0718 - mape: 43.7227 - val_loss: 0.0119 - val_mae: 0.0875 - val_mape: 54.0915\n",
      "Epoch 38/100\n",
      "4/4 [==============================] - 0s 26ms/step - loss: 0.0117 - mae: 0.0781 - mape: 51.3585 - val_loss: 0.0118 - val_mae: 0.0870 - val_mape: 53.2044\n",
      "Epoch 39/100\n",
      "4/4 [==============================] - 0s 28ms/step - loss: 0.0122 - mae: 0.0793 - mape: 47.4773 - val_loss: 0.0118 - val_mae: 0.0865 - val_mape: 52.1810\n",
      "Epoch 40/100\n",
      "4/4 [==============================] - 0s 28ms/step - loss: 0.0138 - mae: 0.0848 - mape: 48.5773 - val_loss: 0.0117 - val_mae: 0.0854 - val_mape: 49.1895\n",
      "Epoch 41/100\n",
      "4/4 [==============================] - 0s 22ms/step - loss: 0.0110 - mae: 0.0780 - mape: 48.6878 - val_loss: 0.0117 - val_mae: 0.0866 - val_mape: 53.0839\n",
      "Epoch 42/100\n",
      "4/4 [==============================] - 0s 20ms/step - loss: 0.0100 - mae: 0.0722 - mape: 44.1752 - val_loss: 0.0118 - val_mae: 0.0869 - val_mape: 54.4761\n",
      "Epoch 43/100\n",
      "4/4 [==============================] - 0s 24ms/step - loss: 0.0129 - mae: 0.0851 - mape: 52.7451 - val_loss: 0.0116 - val_mae: 0.0864 - val_mape: 53.1646\n",
      "Epoch 44/100\n",
      "4/4 [==============================] - 0s 27ms/step - loss: 0.0141 - mae: 0.0869 - mape: 50.0795 - val_loss: 0.0115 - val_mae: 0.0853 - val_mape: 50.6067\n",
      "Epoch 45/100\n",
      "4/4 [==============================] - 0s 23ms/step - loss: 0.0128 - mae: 0.0844 - mape: 51.1731 - val_loss: 0.0115 - val_mae: 0.0849 - val_mape: 49.5809\n",
      "Epoch 46/100\n",
      "4/4 [==============================] - 0s 27ms/step - loss: 0.0147 - mae: 0.0866 - mape: 51.0314 - val_loss: 0.0115 - val_mae: 0.0847 - val_mape: 49.5675\n",
      "Epoch 47/100\n",
      "4/4 [==============================] - 0s 28ms/step - loss: 0.0140 - mae: 0.0871 - mape: 50.6426 - val_loss: 0.0114 - val_mae: 0.0846 - val_mape: 49.5057\n",
      "Epoch 48/100\n",
      "4/4 [==============================] - 0s 27ms/step - loss: 0.0125 - mae: 0.0810 - mape: 48.6091 - val_loss: 0.0114 - val_mae: 0.0851 - val_mape: 51.6389\n",
      "Epoch 49/100\n",
      "4/4 [==============================] - 0s 28ms/step - loss: 0.0151 - mae: 0.0922 - mape: 52.9558 - val_loss: 0.0114 - val_mae: 0.0835 - val_mape: 47.0869\n",
      "Epoch 50/100\n",
      "4/4 [==============================] - 0s 30ms/step - loss: 0.0122 - mae: 0.0811 - mape: 47.5385 - val_loss: 0.0113 - val_mae: 0.0842 - val_mape: 49.6919\n",
      "Epoch 51/100\n",
      "4/4 [==============================] - 0s 28ms/step - loss: 0.0120 - mae: 0.0789 - mape: 42.5128 - val_loss: 0.0113 - val_mae: 0.0838 - val_mape: 48.6618\n",
      "Epoch 52/100\n",
      "4/4 [==============================] - 0s 22ms/step - loss: 0.0111 - mae: 0.0782 - mape: 47.7866 - val_loss: 0.0113 - val_mae: 0.0834 - val_mape: 47.7877\n",
      "Epoch 53/100\n",
      "4/4 [==============================] - 0s 32ms/step - loss: 0.0115 - mae: 0.0799 - mape: 50.8265 - val_loss: 0.0112 - val_mae: 0.0839 - val_mape: 49.7595\n",
      "Epoch 54/100\n",
      "4/4 [==============================] - 0s 34ms/step - loss: 0.0112 - mae: 0.0782 - mape: 44.0218 - val_loss: 0.0113 - val_mae: 0.0828 - val_mape: 46.6346\n",
      "Epoch 55/100\n",
      "4/4 [==============================] - 0s 27ms/step - loss: 0.0145 - mae: 0.0876 - mape: 49.2039 - val_loss: 0.0114 - val_mae: 0.0820 - val_mape: 44.6396\n",
      "Epoch 56/100\n",
      "4/4 [==============================] - 0s 20ms/step - loss: 0.0147 - mae: 0.0875 - mape: 49.8632 - val_loss: 0.0113 - val_mae: 0.0820 - val_mape: 44.8073\n",
      "Restoring model weights from the end of the best epoch.\n",
      "Epoch 00056: early stopping\n"
     ]
    }
   ],
   "source": [
    "from tensorflow.keras.callbacks import EarlyStopping\n",
    "\n",
    "es = EarlyStopping(monitor='val_loss', mode='min', verbose=1, patience=3, restore_best_weights=True)\n",
    "\n",
    "history = model.fit(X_train, y_train,\n",
    "            validation_split=0.2,\n",
    "            epochs=100, \n",
    "            batch_size=16,\n",
    "            callbacks=[es])"
   ]
  },
  {
   "cell_type": "code",
   "execution_count": 28,
   "id": "returning-handy",
   "metadata": {},
   "outputs": [
    {
     "name": "stdout",
     "output_type": "stream",
     "text": [
      "Model: \"sequential\"\n",
      "_________________________________________________________________\n",
      "Layer (type)                 Output Shape              Param #   \n",
      "=================================================================\n",
      "lstm (LSTM)                  (16, 20)                  1760      \n",
      "_________________________________________________________________\n",
      "dense (Dense)                (16, 5)                   105       \n",
      "_________________________________________________________________\n",
      "dense_1 (Dense)              (16, 1)                   6         \n",
      "=================================================================\n",
      "Total params: 1,871\n",
      "Trainable params: 1,871\n",
      "Non-trainable params: 0\n",
      "_________________________________________________________________\n"
     ]
    }
   ],
   "source": [
    "model.summary()"
   ]
  },
  {
   "cell_type": "code",
   "execution_count": 30,
   "id": "electric-middle",
   "metadata": {},
   "outputs": [
    {
     "data": {
      "text/plain": [
       "[0.020526807755231857, 0.10470175743103027, 16.476547241210938]"
      ]
     },
     "execution_count": 30,
     "metadata": {},
     "output_type": "execute_result"
    }
   ],
   "source": [
    "model_eval = model.evaluate(X_test, y_test, verbose=0)\n",
    "# print(f'Model Mean Absolute Error {model_eval[1]:.4f}')\n",
    "# print(f'Model Mean Absolute Porcentual Error {model_eval[2]:.4f}')\n",
    "model_eval"
   ]
  },
  {
   "cell_type": "code",
   "execution_count": null,
   "id": "pediatric-veteran",
   "metadata": {},
   "outputs": [],
   "source": [
    "# tf.keras.losses.MAPE(\n",
    "#     y_true, y_pred\n",
    "# )"
   ]
  },
  {
   "cell_type": "markdown",
   "id": "chinese-hamilton",
   "metadata": {},
   "source": [
    "#### Prediction"
   ]
  },
  {
   "cell_type": "code",
   "execution_count": 31,
   "id": "protecting-importance",
   "metadata": {
    "tags": []
   },
   "outputs": [],
   "source": [
    "predict = model.predict(X_test)"
   ]
  },
  {
   "cell_type": "code",
   "execution_count": 32,
   "id": "maritime-vermont",
   "metadata": {},
   "outputs": [
    {
     "data": {
      "text/plain": [
       "array([[0.43105718],\n",
       "       [0.43946463],\n",
       "       [0.5258971 ],\n",
       "       [0.4882678 ],\n",
       "       [0.4552067 ],\n",
       "       [0.40886956],\n",
       "       [0.49741635],\n",
       "       [0.49741635],\n",
       "       [0.5022563 ],\n",
       "       [0.5022563 ],\n",
       "       [0.4882678 ],\n",
       "       [0.49741635],\n",
       "       [0.49717262],\n",
       "       [0.5258971 ],\n",
       "       [0.50700593],\n",
       "       [0.6041861 ],\n",
       "       [0.43105718],\n",
       "       [0.4552067 ],\n",
       "       [0.4394646 ],\n",
       "       [0.50700593]], dtype=float32)"
      ]
     },
     "execution_count": 32,
     "metadata": {},
     "output_type": "execute_result"
    }
   ],
   "source": [
    "predict"
   ]
  },
  {
   "cell_type": "code",
   "execution_count": 33,
   "id": "auburn-rough",
   "metadata": {},
   "outputs": [
    {
     "data": {
      "image/png": "[encoded data removed]",
      "text/plain": [
       "<Figure size 1080x720 with 1 Axes>"
      ]
     },
     "metadata": {
      "needs_background": "light"
     },
     "output_type": "display_data"
    }
   ],
   "source": [
    "plt.figure(figsize=(15,10))\n",
    "plt.plot(y_test,label = 'Test')\n",
    "plt.plot(predict, label = 'Prediction')\n",
    "plt.legend(loc='best')\n",
    "plt.show()"
   ]
  },
  {
   "cell_type": "code",
   "execution_count": null,
   "id": "frozen-camcorder",
   "metadata": {},
   "outputs": [],
   "source": []
  }
 ],
 "metadata": {
  "kernelspec": {
   "display_name": "Python 3",
   "language": "python",
   "name": "python3"
  },
  "language_info": {
   "codemirror_mode": {
    "name": "ipython",
    "version": 3
   },
   "file_extension": ".py",
   "mimetype": "text/x-python",
   "name": "python",
   "nbconvert_exporter": "python",
   "pygments_lexer": "ipython3",
   "version": "3.8.6"
  }
 },
 "nbformat": 4,
 "nbformat_minor": 5
}
