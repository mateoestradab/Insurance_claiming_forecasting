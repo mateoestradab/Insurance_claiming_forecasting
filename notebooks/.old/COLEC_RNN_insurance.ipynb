{
 "cells": [
  {
   "cell_type": "markdown",
   "id": "curious-douglas",
   "metadata": {},
   "source": [
    "# COLEC_RNN_insurance-weeks"
   ]
  },
  {
   "cell_type": "code",
   "execution_count": 1,
   "id": "standing-neighborhood",
   "metadata": {},
   "outputs": [],
   "source": [
    "import pandas as pd\n",
    "import numpy as np\n",
    "import matplotlib.pyplot as plt"
   ]
  },
  {
   "cell_type": "code",
   "execution_count": 2,
   "id": "specific-night",
   "metadata": {},
   "outputs": [],
   "source": [
    "data = pd.read_excel('../raw_data/data_colec_weekly.xlsx', engine='openpyxl')"
   ]
  },
  {
   "cell_type": "code",
   "execution_count": 3,
   "id": "amino-speed",
   "metadata": {},
   "outputs": [],
   "source": [
    "data = data.drop(columns=['Unnamed: 0', 'date_issue'])"
   ]
  },
  {
   "cell_type": "code",
   "execution_count": 4,
   "id": "surprised-counter",
   "metadata": {},
   "outputs": [
    {
     "data": {
      "text/html": [
       "<div>\n",
       "<style scoped>\n",
       "    .dataframe tbody tr th:only-of-type {\n",
       "        vertical-align: middle;\n",
       "    }\n",
       "\n",
       "    .dataframe tbody tr th {\n",
       "        vertical-align: top;\n",
       "    }\n",
       "\n",
       "    .dataframe thead th {\n",
       "        text-align: right;\n",
       "    }\n",
       "</style>\n",
       "<table border=\"1\" class=\"dataframe\">\n",
       "  <thead>\n",
       "    <tr style=\"text-align: right;\">\n",
       "      <th></th>\n",
       "      <th>total_amount_claims</th>\n",
       "    </tr>\n",
       "  </thead>\n",
       "  <tbody>\n",
       "    <tr>\n",
       "      <th>0</th>\n",
       "      <td>8730</td>\n",
       "    </tr>\n",
       "    <tr>\n",
       "      <th>1</th>\n",
       "      <td>148950</td>\n",
       "    </tr>\n",
       "    <tr>\n",
       "      <th>2</th>\n",
       "      <td>118735</td>\n",
       "    </tr>\n",
       "    <tr>\n",
       "      <th>3</th>\n",
       "      <td>150795</td>\n",
       "    </tr>\n",
       "    <tr>\n",
       "      <th>4</th>\n",
       "      <td>40850</td>\n",
       "    </tr>\n",
       "    <tr>\n",
       "      <th>...</th>\n",
       "      <td>...</td>\n",
       "    </tr>\n",
       "    <tr>\n",
       "      <th>127</th>\n",
       "      <td>1107180</td>\n",
       "    </tr>\n",
       "    <tr>\n",
       "      <th>128</th>\n",
       "      <td>1048086</td>\n",
       "    </tr>\n",
       "    <tr>\n",
       "      <th>129</th>\n",
       "      <td>1047364</td>\n",
       "    </tr>\n",
       "    <tr>\n",
       "      <th>130</th>\n",
       "      <td>1328375</td>\n",
       "    </tr>\n",
       "    <tr>\n",
       "      <th>131</th>\n",
       "      <td>937722</td>\n",
       "    </tr>\n",
       "  </tbody>\n",
       "</table>\n",
       "<p>132 rows × 1 columns</p>\n",
       "</div>"
      ],
      "text/plain": [
       "     total_amount_claims\n",
       "0                   8730\n",
       "1                 148950\n",
       "2                 118735\n",
       "3                 150795\n",
       "4                  40850\n",
       "..                   ...\n",
       "127              1107180\n",
       "128              1048086\n",
       "129              1047364\n",
       "130              1328375\n",
       "131               937722\n",
       "\n",
       "[132 rows x 1 columns]"
      ]
     },
     "execution_count": 4,
     "metadata": {},
     "output_type": "execute_result"
    }
   ],
   "source": [
    "data"
   ]
  },
  {
   "cell_type": "code",
   "execution_count": 5,
   "id": "confirmed-statement",
   "metadata": {},
   "outputs": [
    {
     "name": "stdout",
     "output_type": "stream",
     "text": [
      "min:  5972\n",
      "max:  1328375\n"
     ]
    }
   ],
   "source": [
    "print(\"min: \",data['total_amount_claims'].min())\n",
    "print(\"max: \",data['total_amount_claims'].max())"
   ]
  },
  {
   "cell_type": "code",
   "execution_count": 6,
   "id": "involved-slope",
   "metadata": {},
   "outputs": [
    {
     "data": {
      "text/plain": [
       "(132, 1)"
      ]
     },
     "execution_count": 6,
     "metadata": {},
     "output_type": "execute_result"
    }
   ],
   "source": [
    "data.shape"
   ]
  },
  {
   "cell_type": "code",
   "execution_count": 7,
   "id": "fifth-cache",
   "metadata": {},
   "outputs": [],
   "source": [
    "min_ = data['total_amount_claims'].min()\n",
    "max_ = data['total_amount_claims'].max()\n",
    "\n",
    "data['total_amount_claims'] = [((x - min_) / (max_ - min_)) for x in data['total_amount_claims']]"
   ]
  },
  {
   "cell_type": "code",
   "execution_count": 8,
   "id": "searching-upset",
   "metadata": {},
   "outputs": [
    {
     "data": {
      "text/html": [
       "<div>\n",
       "<style scoped>\n",
       "    .dataframe tbody tr th:only-of-type {\n",
       "        vertical-align: middle;\n",
       "    }\n",
       "\n",
       "    .dataframe tbody tr th {\n",
       "        vertical-align: top;\n",
       "    }\n",
       "\n",
       "    .dataframe thead th {\n",
       "        text-align: right;\n",
       "    }\n",
       "</style>\n",
       "<table border=\"1\" class=\"dataframe\">\n",
       "  <thead>\n",
       "    <tr style=\"text-align: right;\">\n",
       "      <th></th>\n",
       "      <th>total_amount_claims</th>\n",
       "    </tr>\n",
       "  </thead>\n",
       "  <tbody>\n",
       "    <tr>\n",
       "      <th>0</th>\n",
       "      <td>0.002086</td>\n",
       "    </tr>\n",
       "    <tr>\n",
       "      <th>1</th>\n",
       "      <td>0.108120</td>\n",
       "    </tr>\n",
       "    <tr>\n",
       "      <th>2</th>\n",
       "      <td>0.085271</td>\n",
       "    </tr>\n",
       "    <tr>\n",
       "      <th>3</th>\n",
       "      <td>0.109515</td>\n",
       "    </tr>\n",
       "    <tr>\n",
       "      <th>4</th>\n",
       "      <td>0.026375</td>\n",
       "    </tr>\n",
       "    <tr>\n",
       "      <th>...</th>\n",
       "      <td>...</td>\n",
       "    </tr>\n",
       "    <tr>\n",
       "      <th>127</th>\n",
       "      <td>0.832733</td>\n",
       "    </tr>\n",
       "    <tr>\n",
       "      <th>128</th>\n",
       "      <td>0.788046</td>\n",
       "    </tr>\n",
       "    <tr>\n",
       "      <th>129</th>\n",
       "      <td>0.787500</td>\n",
       "    </tr>\n",
       "    <tr>\n",
       "      <th>130</th>\n",
       "      <td>1.000000</td>\n",
       "    </tr>\n",
       "    <tr>\n",
       "      <th>131</th>\n",
       "      <td>0.704589</td>\n",
       "    </tr>\n",
       "  </tbody>\n",
       "</table>\n",
       "<p>132 rows × 1 columns</p>\n",
       "</div>"
      ],
      "text/plain": [
       "     total_amount_claims\n",
       "0               0.002086\n",
       "1               0.108120\n",
       "2               0.085271\n",
       "3               0.109515\n",
       "4               0.026375\n",
       "..                   ...\n",
       "127             0.832733\n",
       "128             0.788046\n",
       "129             0.787500\n",
       "130             1.000000\n",
       "131             0.704589\n",
       "\n",
       "[132 rows x 1 columns]"
      ]
     },
     "execution_count": 8,
     "metadata": {},
     "output_type": "execute_result"
    }
   ],
   "source": [
    "data"
   ]
  },
  {
   "cell_type": "markdown",
   "id": "generous-legislation",
   "metadata": {},
   "source": [
    "### Split data"
   ]
  },
  {
   "cell_type": "code",
   "execution_count": 9,
   "id": "relevant-avatar",
   "metadata": {},
   "outputs": [],
   "source": [
    "len_ = int(0.8*data.shape[0])\n",
    "\n",
    "data_train = data[:len_]\n",
    "data_test = data[len_:]"
   ]
  },
  {
   "cell_type": "code",
   "execution_count": 10,
   "id": "utility-signal",
   "metadata": {},
   "outputs": [
    {
     "name": "stdout",
     "output_type": "stream",
     "text": [
      "(105, 1)\n",
      "(27, 1)\n"
     ]
    }
   ],
   "source": [
    "print(data_train.shape)\n",
    "print(data_test.shape)"
   ]
  },
  {
   "cell_type": "markdown",
   "id": "supported-familiar",
   "metadata": {},
   "source": [
    "### Sequences"
   ]
  },
  {
   "cell_type": "code",
   "execution_count": 11,
   "id": "portuguese-check",
   "metadata": {},
   "outputs": [],
   "source": [
    "def subsample_sequence(data, length):\n",
    "    \n",
    "    last_possible = data.shape[0] - length\n",
    "    \n",
    "    random_start = np.random.randint(0, last_possible)\n",
    "    data_sample = data[random_start: random_start+length]\n",
    "    \n",
    "    return data_sample"
   ]
  },
  {
   "cell_type": "code",
   "execution_count": 12,
   "id": "focal-latter",
   "metadata": {},
   "outputs": [
    {
     "data": {
      "text/html": [
       "<div>\n",
       "<style scoped>\n",
       "    .dataframe tbody tr th:only-of-type {\n",
       "        vertical-align: middle;\n",
       "    }\n",
       "\n",
       "    .dataframe tbody tr th {\n",
       "        vertical-align: top;\n",
       "    }\n",
       "\n",
       "    .dataframe thead th {\n",
       "        text-align: right;\n",
       "    }\n",
       "</style>\n",
       "<table border=\"1\" class=\"dataframe\">\n",
       "  <thead>\n",
       "    <tr style=\"text-align: right;\">\n",
       "      <th></th>\n",
       "      <th>total_amount_claims</th>\n",
       "    </tr>\n",
       "  </thead>\n",
       "  <tbody>\n",
       "    <tr>\n",
       "      <th>37</th>\n",
       "      <td>0.130717</td>\n",
       "    </tr>\n",
       "    <tr>\n",
       "      <th>38</th>\n",
       "      <td>0.095719</td>\n",
       "    </tr>\n",
       "    <tr>\n",
       "      <th>39</th>\n",
       "      <td>0.154944</td>\n",
       "    </tr>\n",
       "    <tr>\n",
       "      <th>40</th>\n",
       "      <td>0.109182</td>\n",
       "    </tr>\n",
       "    <tr>\n",
       "      <th>41</th>\n",
       "      <td>0.113265</td>\n",
       "    </tr>\n",
       "    <tr>\n",
       "      <th>42</th>\n",
       "      <td>0.100413</td>\n",
       "    </tr>\n",
       "    <tr>\n",
       "      <th>43</th>\n",
       "      <td>0.133435</td>\n",
       "    </tr>\n",
       "    <tr>\n",
       "      <th>44</th>\n",
       "      <td>0.133677</td>\n",
       "    </tr>\n",
       "    <tr>\n",
       "      <th>45</th>\n",
       "      <td>0.172173</td>\n",
       "    </tr>\n",
       "    <tr>\n",
       "      <th>46</th>\n",
       "      <td>0.121629</td>\n",
       "    </tr>\n",
       "  </tbody>\n",
       "</table>\n",
       "</div>"
      ],
      "text/plain": [
       "    total_amount_claims\n",
       "37             0.130717\n",
       "38             0.095719\n",
       "39             0.154944\n",
       "40             0.109182\n",
       "41             0.113265\n",
       "42             0.100413\n",
       "43             0.133435\n",
       "44             0.133677\n",
       "45             0.172173\n",
       "46             0.121629"
      ]
     },
     "execution_count": 12,
     "metadata": {},
     "output_type": "execute_result"
    }
   ],
   "source": [
    "data_subsample = subsample_sequence(data, 10)\n",
    "data_subsample"
   ]
  },
  {
   "cell_type": "code",
   "execution_count": 13,
   "id": "personalized-casting",
   "metadata": {},
   "outputs": [],
   "source": [
    "def fillna(X, data_mean):\n",
    "    # Replace with NaN of the other hours. \n",
    "    na = X.mean()\n",
    "    \n",
    "    # If the other hours are also nans, then replace with mean value of the dataframe\n",
    "    na.fillna(data_mean)\n",
    "    return na\n",
    "\n",
    "def split_subsample_sequence(data, length, data_mean=None):\n",
    "    # Little trick to improve the time\n",
    "    if data_mean is None:\n",
    "        data_mean = data.mean()\n",
    "              \n",
    "    data_subsample = subsample_sequence(data, length)\n",
    "    y_sample = data_subsample.iloc[data_subsample.shape[0]-1]['total_amount_claims']\n",
    "    \n",
    "    if y_sample != y_sample: # A value is not equal to itself only for NaN. So it will be True if y_sample is nan\n",
    "        X_sample, y_sample = split_subsample_sequence(data, length, data_mean)\n",
    "        return np.array(X_sample), np.array(y_sample)\n",
    "    \n",
    "    X_sample = data_subsample[0:data_subsample.shape[0]-1]\n",
    "    X_sample = X_sample.fillna(fillna(X_sample, data_mean))\n",
    "    X_sample = X_sample.values\n",
    "    \n",
    "    return np.array(X_sample), np.array(y_sample)"
   ]
  },
  {
   "cell_type": "code",
   "execution_count": 14,
   "id": "shaped-observer",
   "metadata": {},
   "outputs": [],
   "source": [
    "def get_X_y(data, number_of_sequences, length):\n",
    "    X, y = [], []\n",
    "\n",
    "    for i in range(number_of_sequences):\n",
    "        xi, yi = split_subsample_sequence(data, length)\n",
    "        X.append(xi)\n",
    "        y.append(yi)\n",
    "        \n",
    "    X = np.array(X)\n",
    "    y = np.array(y)\n",
    "        \n",
    "    return X, y"
   ]
  },
  {
   "cell_type": "code",
   "execution_count": 15,
   "id": "frank-coordination",
   "metadata": {},
   "outputs": [],
   "source": [
    "X_train, y_train = get_X_y(data_train, 80, 10)\n",
    "X_test, y_test = get_X_y(data_test, 20, 10)"
   ]
  },
  {
   "cell_type": "code",
   "execution_count": 16,
   "id": "sacred-stroke",
   "metadata": {},
   "outputs": [],
   "source": [
    "# !pip install tensorflow"
   ]
  },
  {
   "cell_type": "code",
   "execution_count": 17,
   "id": "conventional-petite",
   "metadata": {},
   "outputs": [
    {
     "name": "stdout",
     "output_type": "stream",
     "text": [
      "X train size:(80, 9, 1)\n",
      "X test size:(20, 9, 1)\n",
      "y train size:(80,)\n",
      "y test size:(20,)\n"
     ]
    }
   ],
   "source": [
    "print(f'X train size:{X_train.shape}')\n",
    "print(f'X test size:{X_test.shape}')\n",
    "print(f'y train size:{y_train.shape}')\n",
    "print(f'y test size:{y_test.shape}')"
   ]
  },
  {
   "cell_type": "code",
   "execution_count": 18,
   "id": "continent-principle",
   "metadata": {},
   "outputs": [],
   "source": [
    "from tensorflow.keras import models\n",
    "from tensorflow.keras import layers\n",
    "from tensorflow.keras import optimizers\n",
    "\n",
    "model = models.Sequential()\n",
    "\n",
    "model.add(layers.LSTM(32, activation='tanh', return_sequences=False))\n",
    "model.add(layers.Dense(16, activation='relu'))\n",
    "model.add(layers.Dense(8, activation='relu'))\n",
    "\n",
    "model.add(layers.Dense(1, activation='linear'))"
   ]
  },
  {
   "cell_type": "code",
   "execution_count": 19,
   "id": "quality-hundred",
   "metadata": {},
   "outputs": [],
   "source": [
    "model.compile(optimizer='RMSprop',\n",
    "            loss='MeanSquaredError',\n",
    "            metrics=['mse', 'mae', 'mape'])"
   ]
  },
  {
   "cell_type": "code",
   "execution_count": 20,
   "id": "characteristic-advertiser",
   "metadata": {},
   "outputs": [
    {
     "name": "stdout",
     "output_type": "stream",
     "text": [
      "Epoch 1/200\n",
      "2/2 [==============================] - 3s 1s/step - loss: 0.0500 - mse: 0.0500 - mae: 0.1978 - mape: 117.6188 - val_loss: 0.0281 - val_mse: 0.0281 - val_mae: 0.1334 - val_mape: 83.8229\n",
      "Epoch 2/200\n",
      "2/2 [==============================] - 0s 57ms/step - loss: 0.0317 - mse: 0.0317 - mae: 0.1535 - mape: 81.0468 - val_loss: 0.0224 - val_mse: 0.0224 - val_mae: 0.1188 - val_mape: 96.1456\n",
      "Epoch 3/200\n",
      "2/2 [==============================] - 0s 70ms/step - loss: 0.0237 - mse: 0.0237 - mae: 0.1276 - mape: 71.4987 - val_loss: 0.0178 - val_mse: 0.0178 - val_mae: 0.1047 - val_mape: 108.7567\n",
      "Epoch 4/200\n",
      "2/2 [==============================] - 0s 72ms/step - loss: 0.0178 - mse: 0.0178 - mae: 0.1086 - mape: 68.4586 - val_loss: 0.0146 - val_mse: 0.0146 - val_mae: 0.0927 - val_mape: 120.0216\n",
      "Epoch 5/200\n",
      "2/2 [==============================] - 0s 67ms/step - loss: 0.0134 - mse: 0.0134 - mae: 0.0939 - mape: 65.3443 - val_loss: 0.0122 - val_mse: 0.0122 - val_mae: 0.0823 - val_mape: 130.6462\n",
      "Epoch 6/200\n",
      "2/2 [==============================] - 0s 69ms/step - loss: 0.0111 - mse: 0.0111 - mae: 0.0829 - mape: 84.1302 - val_loss: 0.0104 - val_mse: 0.0104 - val_mae: 0.0747 - val_mape: 144.3613\n",
      "Epoch 7/200\n",
      "2/2 [==============================] - 0s 73ms/step - loss: 0.0082 - mse: 0.0082 - mae: 0.0707 - mape: 72.9066 - val_loss: 0.0093 - val_mse: 0.0093 - val_mae: 0.0700 - val_mape: 158.6253\n",
      "Epoch 8/200\n",
      "2/2 [==============================] - 0s 73ms/step - loss: 0.0076 - mse: 0.0076 - mae: 0.0677 - mape: 69.8087 - val_loss: 0.0087 - val_mse: 0.0087 - val_mae: 0.0680 - val_mape: 170.6621\n",
      "Epoch 9/200\n",
      "2/2 [==============================] - 0s 72ms/step - loss: 0.0063 - mse: 0.0063 - mae: 0.0606 - mape: 78.9342 - val_loss: 0.0085 - val_mse: 0.0085 - val_mae: 0.0704 - val_mape: 184.7717\n",
      "Epoch 10/200\n",
      "2/2 [==============================] - 0s 80ms/step - loss: 0.0068 - mse: 0.0068 - mae: 0.0674 - mape: 111.8851 - val_loss: 0.0084 - val_mse: 0.0084 - val_mae: 0.0715 - val_mape: 191.2234\n",
      "Epoch 11/200\n",
      "2/2 [==============================] - 0s 71ms/step - loss: 0.0058 - mse: 0.0058 - mae: 0.0615 - mape: 113.0095 - val_loss: 0.0084 - val_mse: 0.0084 - val_mae: 0.0726 - val_mape: 196.4383\n",
      "Epoch 12/200\n",
      "2/2 [==============================] - 0s 75ms/step - loss: 0.0055 - mse: 0.0055 - mae: 0.0619 - mape: 80.8381 - val_loss: 0.0083 - val_mse: 0.0083 - val_mae: 0.0718 - val_mape: 193.4227\n",
      "Epoch 13/200\n",
      "2/2 [==============================] - 0s 77ms/step - loss: 0.0052 - mse: 0.0052 - mae: 0.0591 - mape: 102.9915 - val_loss: 0.0082 - val_mse: 0.0082 - val_mae: 0.0729 - val_mape: 198.2927\n",
      "Epoch 14/200\n",
      "2/2 [==============================] - 0s 72ms/step - loss: 0.0058 - mse: 0.0058 - mae: 0.0638 - mape: 117.4688 - val_loss: 0.0082 - val_mse: 0.0082 - val_mae: 0.0731 - val_mape: 199.2478\n",
      "Epoch 15/200\n",
      "2/2 [==============================] - 0s 74ms/step - loss: 0.0053 - mse: 0.0053 - mae: 0.0595 - mape: 77.1457 - val_loss: 0.0081 - val_mse: 0.0081 - val_mae: 0.0730 - val_mape: 199.1984\n",
      "Epoch 16/200\n",
      "2/2 [==============================] - 0s 88ms/step - loss: 0.0058 - mse: 0.0058 - mae: 0.0632 - mape: 119.7426 - val_loss: 0.0081 - val_mse: 0.0081 - val_mae: 0.0729 - val_mape: 198.8142\n",
      "Epoch 17/200\n",
      "2/2 [==============================] - 0s 100ms/step - loss: 0.0054 - mse: 0.0054 - mae: 0.0617 - mape: 115.7311 - val_loss: 0.0079 - val_mse: 0.0079 - val_mae: 0.0708 - val_mape: 190.6367\n",
      "Epoch 18/200\n",
      "2/2 [==============================] - 0s 117ms/step - loss: 0.0057 - mse: 0.0057 - mae: 0.0626 - mape: 88.6372 - val_loss: 0.0078 - val_mse: 0.0078 - val_mae: 0.0704 - val_mape: 189.1722\n",
      "Epoch 19/200\n",
      "2/2 [==============================] - 0s 223ms/step - loss: 0.0056 - mse: 0.0056 - mae: 0.0620 - mape: 87.4014 - val_loss: 0.0077 - val_mse: 0.0077 - val_mae: 0.0681 - val_mape: 179.0599\n",
      "Epoch 20/200\n",
      "2/2 [==============================] - 0s 79ms/step - loss: 0.0055 - mse: 0.0055 - mae: 0.0608 - mape: 103.6900 - val_loss: 0.0076 - val_mse: 0.0076 - val_mae: 0.0682 - val_mape: 180.3804\n",
      "Epoch 21/200\n",
      "2/2 [==============================] - 0s 67ms/step - loss: 0.0055 - mse: 0.0055 - mae: 0.0610 - mape: 107.4916 - val_loss: 0.0076 - val_mse: 0.0076 - val_mae: 0.0687 - val_mape: 183.1145\n",
      "Epoch 22/200\n",
      "2/2 [==============================] - 0s 65ms/step - loss: 0.0054 - mse: 0.0054 - mae: 0.0589 - mape: 107.3810 - val_loss: 0.0077 - val_mse: 0.0077 - val_mae: 0.0714 - val_mape: 194.5967\n",
      "Epoch 23/200\n",
      "2/2 [==============================] - 0s 110ms/step - loss: 0.0055 - mse: 0.0055 - mae: 0.0632 - mape: 118.4023 - val_loss: 0.0076 - val_mse: 0.0076 - val_mae: 0.0703 - val_mape: 190.4463\n",
      "Epoch 24/200\n",
      "2/2 [==============================] - 0s 75ms/step - loss: 0.0056 - mse: 0.0056 - mae: 0.0638 - mape: 113.6028 - val_loss: 0.0074 - val_mse: 0.0074 - val_mae: 0.0678 - val_mape: 180.2350\n",
      "Epoch 25/200\n",
      "2/2 [==============================] - 0s 89ms/step - loss: 0.0053 - mse: 0.0053 - mae: 0.0606 - mape: 83.2172 - val_loss: 0.0073 - val_mse: 0.0073 - val_mae: 0.0670 - val_mape: 176.7896\n",
      "Epoch 26/200\n",
      "2/2 [==============================] - 0s 81ms/step - loss: 0.0053 - mse: 0.0053 - mae: 0.0597 - mape: 102.1677 - val_loss: 0.0074 - val_mse: 0.0074 - val_mae: 0.0692 - val_mape: 186.8053\n",
      "Epoch 27/200\n",
      "2/2 [==============================] - 0s 77ms/step - loss: 0.0055 - mse: 0.0055 - mae: 0.0627 - mape: 108.1269 - val_loss: 0.0072 - val_mse: 0.0072 - val_mae: 0.0668 - val_mape: 177.0522\n",
      "Epoch 28/200\n",
      "2/2 [==============================] - 0s 82ms/step - loss: 0.0051 - mse: 0.0051 - mae: 0.0593 - mape: 97.0476 - val_loss: 0.0071 - val_mse: 0.0071 - val_mae: 0.0656 - val_mape: 166.4155\n",
      "Epoch 29/200\n",
      "2/2 [==============================] - 0s 76ms/step - loss: 0.0045 - mse: 0.0045 - mae: 0.0548 - mape: 68.1716 - val_loss: 0.0071 - val_mse: 0.0071 - val_mae: 0.0667 - val_mape: 177.5632\n",
      "Epoch 30/200\n",
      "2/2 [==============================] - 0s 71ms/step - loss: 0.0046 - mse: 0.0046 - mae: 0.0572 - mape: 78.7086 - val_loss: 0.0071 - val_mse: 0.0071 - val_mae: 0.0649 - val_mape: 156.5958\n",
      "Epoch 31/200\n",
      "2/2 [==============================] - 0s 72ms/step - loss: 0.0056 - mse: 0.0056 - mae: 0.0604 - mape: 87.9651 - val_loss: 0.0070 - val_mse: 0.0070 - val_mae: 0.0648 - val_mape: 156.4978\n",
      "Epoch 32/200\n",
      "2/2 [==============================] - 0s 66ms/step - loss: 0.0048 - mse: 0.0048 - mae: 0.0557 - mape: 90.6725 - val_loss: 0.0070 - val_mse: 0.0070 - val_mae: 0.0658 - val_mape: 172.7791\n",
      "Epoch 33/200\n",
      "2/2 [==============================] - 0s 72ms/step - loss: 0.0050 - mse: 0.0050 - mae: 0.0599 - mape: 74.4857 - val_loss: 0.0069 - val_mse: 0.0069 - val_mae: 0.0645 - val_mape: 159.1238\n",
      "Epoch 34/200\n",
      "2/2 [==============================] - 0s 74ms/step - loss: 0.0045 - mse: 0.0045 - mae: 0.0544 - mape: 67.0630 - val_loss: 0.0068 - val_mse: 0.0068 - val_mae: 0.0647 - val_mape: 163.5602\n",
      "Epoch 35/200\n",
      "2/2 [==============================] - 0s 78ms/step - loss: 0.0050 - mse: 0.0050 - mae: 0.0577 - mape: 89.7847 - val_loss: 0.0069 - val_mse: 0.0069 - val_mae: 0.0653 - val_mape: 150.3461\n",
      "Epoch 36/200\n",
      "2/2 [==============================] - 0s 65ms/step - loss: 0.0051 - mse: 0.0051 - mae: 0.0570 - mape: 88.4434 - val_loss: 0.0069 - val_mse: 0.0069 - val_mae: 0.0652 - val_mape: 151.3893\n",
      "Epoch 37/200\n",
      "2/2 [==============================] - 0s 67ms/step - loss: 0.0050 - mse: 0.0050 - mae: 0.0573 - mape: 72.5587 - val_loss: 0.0068 - val_mse: 0.0068 - val_mae: 0.0644 - val_mape: 157.6458\n",
      "Epoch 38/200\n",
      "2/2 [==============================] - 0s 78ms/step - loss: 0.0046 - mse: 0.0046 - mae: 0.0549 - mape: 82.3839 - val_loss: 0.0070 - val_mse: 0.0070 - val_mae: 0.0658 - val_mape: 175.9320\n",
      "Epoch 39/200\n",
      "2/2 [==============================] - 0s 71ms/step - loss: 0.0045 - mse: 0.0045 - mae: 0.0560 - mape: 75.6004 - val_loss: 0.0068 - val_mse: 0.0068 - val_mae: 0.0648 - val_mape: 154.1190\n",
      "Epoch 40/200\n",
      "2/2 [==============================] - 0s 73ms/step - loss: 0.0045 - mse: 0.0045 - mae: 0.0536 - mape: 87.9521 - val_loss: 0.0067 - val_mse: 0.0067 - val_mae: 0.0643 - val_mape: 158.0484\n",
      "Epoch 41/200\n",
      "2/2 [==============================] - 0s 62ms/step - loss: 0.0049 - mse: 0.0049 - mae: 0.0570 - mape: 86.2798 - val_loss: 0.0068 - val_mse: 0.0068 - val_mae: 0.0661 - val_mape: 148.5890\n",
      "Epoch 42/200\n",
      "2/2 [==============================] - 0s 69ms/step - loss: 0.0045 - mse: 0.0045 - mae: 0.0544 - mape: 83.7816 - val_loss: 0.0069 - val_mse: 0.0069 - val_mae: 0.0650 - val_mape: 173.5897\n",
      "Epoch 43/200\n",
      "2/2 [==============================] - 0s 70ms/step - loss: 0.0043 - mse: 0.0043 - mae: 0.0550 - mape: 93.1035 - val_loss: 0.0067 - val_mse: 0.0067 - val_mae: 0.0640 - val_mape: 164.6796\n",
      "Epoch 44/200\n",
      "2/2 [==============================] - 0s 72ms/step - loss: 0.0051 - mse: 0.0051 - mae: 0.0594 - mape: 75.0431 - val_loss: 0.0068 - val_mse: 0.0068 - val_mae: 0.0640 - val_mape: 167.1508\n",
      "Epoch 45/200\n",
      "2/2 [==============================] - 0s 68ms/step - loss: 0.0049 - mse: 0.0049 - mae: 0.0564 - mape: 96.0067 - val_loss: 0.0067 - val_mse: 0.0067 - val_mae: 0.0639 - val_mape: 164.8947\n",
      "Epoch 46/200\n",
      "2/2 [==============================] - 0s 58ms/step - loss: 0.0048 - mse: 0.0048 - mae: 0.0576 - mape: 63.9120 - val_loss: 0.0067 - val_mse: 0.0067 - val_mae: 0.0638 - val_mape: 161.2752\n",
      "Epoch 47/200\n",
      "2/2 [==============================] - 0s 64ms/step - loss: 0.0045 - mse: 0.0045 - mae: 0.0547 - mape: 65.8480 - val_loss: 0.0066 - val_mse: 0.0066 - val_mae: 0.0653 - val_mape: 153.4305\n",
      "Epoch 48/200\n",
      "2/2 [==============================] - 0s 77ms/step - loss: 0.0049 - mse: 0.0049 - mae: 0.0578 - mape: 74.3172 - val_loss: 0.0068 - val_mse: 0.0068 - val_mae: 0.0674 - val_mape: 144.9028\n",
      "Epoch 49/200\n",
      "2/2 [==============================] - 0s 67ms/step - loss: 0.0045 - mse: 0.0045 - mae: 0.0546 - mape: 80.8835 - val_loss: 0.0066 - val_mse: 0.0066 - val_mae: 0.0653 - val_mape: 153.8132\n",
      "Epoch 50/200\n",
      "2/2 [==============================] - 0s 77ms/step - loss: 0.0044 - mse: 0.0044 - mae: 0.0544 - mape: 82.0942 - val_loss: 0.0067 - val_mse: 0.0067 - val_mae: 0.0664 - val_mape: 149.3032\n",
      "Epoch 51/200\n",
      "2/2 [==============================] - 0s 66ms/step - loss: 0.0045 - mse: 0.0045 - mae: 0.0549 - mape: 77.4330 - val_loss: 0.0066 - val_mse: 0.0066 - val_mae: 0.0635 - val_mape: 162.3266\n",
      "Epoch 52/200\n",
      "2/2 [==============================] - 0s 174ms/step - loss: 0.0046 - mse: 0.0046 - mae: 0.0545 - mape: 86.8815 - val_loss: 0.0066 - val_mse: 0.0066 - val_mae: 0.0637 - val_mape: 161.0697\n",
      "Epoch 53/200\n",
      "2/2 [==============================] - 0s 234ms/step - loss: 0.0044 - mse: 0.0044 - mae: 0.0533 - mape: 82.3403 - val_loss: 0.0066 - val_mse: 0.0066 - val_mae: 0.0664 - val_mape: 150.3297\n",
      "Epoch 54/200\n",
      "2/2 [==============================] - 0s 81ms/step - loss: 0.0047 - mse: 0.0047 - mae: 0.0562 - mape: 65.6940 - val_loss: 0.0067 - val_mse: 0.0067 - val_mae: 0.0677 - val_mape: 145.2126\n",
      "Epoch 55/200\n",
      "2/2 [==============================] - 0s 69ms/step - loss: 0.0046 - mse: 0.0046 - mae: 0.0565 - mape: 62.7457 - val_loss: 0.0066 - val_mse: 0.0066 - val_mae: 0.0661 - val_mape: 152.0971\n",
      "Epoch 56/200\n",
      "2/2 [==============================] - 0s 69ms/step - loss: 0.0040 - mse: 0.0040 - mae: 0.0517 - mape: 65.2226 - val_loss: 0.0066 - val_mse: 0.0066 - val_mae: 0.0638 - val_mape: 161.5910\n",
      "Epoch 57/200\n",
      "2/2 [==============================] - 0s 62ms/step - loss: 0.0042 - mse: 0.0042 - mae: 0.0530 - mape: 83.8259 - val_loss: 0.0066 - val_mse: 0.0066 - val_mae: 0.0647 - val_mape: 158.0691\n",
      "Epoch 58/200\n",
      "2/2 [==============================] - 0s 156ms/step - loss: 0.0041 - mse: 0.0041 - mae: 0.0517 - mape: 69.4125 - val_loss: 0.0065 - val_mse: 0.0065 - val_mae: 0.0653 - val_mape: 156.1016\n",
      "Epoch 59/200\n",
      "2/2 [==============================] - 0s 210ms/step - loss: 0.0043 - mse: 0.0043 - mae: 0.0532 - mape: 59.0849 - val_loss: 0.0068 - val_mse: 0.0068 - val_mae: 0.0634 - val_mape: 170.8899\n",
      "Epoch 60/200\n",
      "2/2 [==============================] - 0s 75ms/step - loss: 0.0050 - mse: 0.0050 - mae: 0.0568 - mape: 96.4262 - val_loss: 0.0067 - val_mse: 0.0067 - val_mae: 0.0631 - val_mape: 166.7215\n",
      "Epoch 61/200\n",
      "2/2 [==============================] - 0s 70ms/step - loss: 0.0044 - mse: 0.0044 - mae: 0.0556 - mape: 86.1200 - val_loss: 0.0066 - val_mse: 0.0066 - val_mae: 0.0675 - val_mape: 147.7296\n",
      "Epoch 62/200\n",
      "2/2 [==============================] - 0s 73ms/step - loss: 0.0040 - mse: 0.0040 - mae: 0.0497 - mape: 76.0357 - val_loss: 0.0066 - val_mse: 0.0066 - val_mae: 0.0636 - val_mape: 163.7127\n",
      "Epoch 63/200\n",
      "2/2 [==============================] - 0s 194ms/step - loss: 0.0041 - mse: 0.0041 - mae: 0.0523 - mape: 90.3638 - val_loss: 0.0065 - val_mse: 0.0065 - val_mae: 0.0648 - val_mape: 159.2849\n",
      "Epoch 64/200\n",
      "2/2 [==============================] - 0s 90ms/step - loss: 0.0041 - mse: 0.0041 - mae: 0.0523 - mape: 67.6624 - val_loss: 0.0065 - val_mse: 0.0065 - val_mae: 0.0647 - val_mape: 159.7558\n",
      "Epoch 65/200\n",
      "2/2 [==============================] - 0s 77ms/step - loss: 0.0039 - mse: 0.0039 - mae: 0.0498 - mape: 86.2751 - val_loss: 0.0066 - val_mse: 0.0066 - val_mae: 0.0643 - val_mape: 161.9688\n",
      "Epoch 66/200\n",
      "2/2 [==============================] - 0s 72ms/step - loss: 0.0040 - mse: 0.0040 - mae: 0.0514 - mape: 79.7993 - val_loss: 0.0065 - val_mse: 0.0065 - val_mae: 0.0650 - val_mape: 159.2265\n",
      "Epoch 67/200\n",
      "2/2 [==============================] - 0s 68ms/step - loss: 0.0041 - mse: 0.0041 - mae: 0.0524 - mape: 78.8143 - val_loss: 0.0066 - val_mse: 0.0066 - val_mae: 0.0639 - val_mape: 163.9736\n",
      "Epoch 68/200\n",
      "2/2 [==============================] - 0s 72ms/step - loss: 0.0038 - mse: 0.0038 - mae: 0.0501 - mape: 62.9644 - val_loss: 0.0066 - val_mse: 0.0066 - val_mae: 0.0672 - val_mape: 150.5599\n",
      "Epoch 69/200\n",
      "2/2 [==============================] - 0s 68ms/step - loss: 0.0043 - mse: 0.0043 - mae: 0.0535 - mape: 66.7422 - val_loss: 0.0066 - val_mse: 0.0066 - val_mae: 0.0681 - val_mape: 148.7376\n",
      "Epoch 70/200\n",
      "2/2 [==============================] - 0s 78ms/step - loss: 0.0041 - mse: 0.0041 - mae: 0.0525 - mape: 64.5264 - val_loss: 0.0066 - val_mse: 0.0066 - val_mae: 0.0643 - val_mape: 163.3064\n",
      "Epoch 71/200\n",
      "2/2 [==============================] - 0s 77ms/step - loss: 0.0038 - mse: 0.0038 - mae: 0.0492 - mape: 78.9826 - val_loss: 0.0065 - val_mse: 0.0065 - val_mae: 0.0650 - val_mape: 160.7546\n",
      "Epoch 72/200\n",
      "2/2 [==============================] - 0s 69ms/step - loss: 0.0038 - mse: 0.0038 - mae: 0.0499 - mape: 77.3030 - val_loss: 0.0067 - val_mse: 0.0067 - val_mae: 0.0698 - val_mape: 146.1297\n",
      "Epoch 73/200\n",
      "2/2 [==============================] - 0s 69ms/step - loss: 0.0044 - mse: 0.0044 - mae: 0.0557 - mape: 63.3103 - val_loss: 0.0066 - val_mse: 0.0066 - val_mae: 0.0685 - val_mape: 149.2555\n",
      "Epoch 74/200\n",
      "2/2 [==============================] - 0s 79ms/step - loss: 0.0046 - mse: 0.0046 - mae: 0.0560 - mape: 67.4153 - val_loss: 0.0066 - val_mse: 0.0066 - val_mae: 0.0685 - val_mape: 149.4771\n",
      "Epoch 75/200\n",
      "2/2 [==============================] - 0s 214ms/step - loss: 0.0042 - mse: 0.0042 - mae: 0.0532 - mape: 71.4803 - val_loss: 0.0065 - val_mse: 0.0065 - val_mae: 0.0665 - val_mape: 155.3011\n",
      "Epoch 76/200\n",
      "2/2 [==============================] - 0s 179ms/step - loss: 0.0041 - mse: 0.0041 - mae: 0.0520 - mape: 58.9488 - val_loss: 0.0065 - val_mse: 0.0065 - val_mae: 0.0648 - val_mape: 162.5722\n",
      "Epoch 77/200\n",
      "2/2 [==============================] - 0s 75ms/step - loss: 0.0039 - mse: 0.0039 - mae: 0.0503 - mape: 67.0110 - val_loss: 0.0065 - val_mse: 0.0065 - val_mae: 0.0660 - val_mape: 158.0152\n",
      "Epoch 78/200\n",
      "2/2 [==============================] - 0s 66ms/step - loss: 0.0038 - mse: 0.0038 - mae: 0.0500 - mape: 76.3477 - val_loss: 0.0066 - val_mse: 0.0066 - val_mae: 0.0683 - val_mape: 151.6554\n",
      "Epoch 79/200\n",
      "2/2 [==============================] - 0s 68ms/step - loss: 0.0037 - mse: 0.0037 - mae: 0.0489 - mape: 62.9957 - val_loss: 0.0066 - val_mse: 0.0066 - val_mae: 0.0641 - val_mape: 167.0291\n",
      "Epoch 80/200\n",
      "2/2 [==============================] - 0s 65ms/step - loss: 0.0040 - mse: 0.0040 - mae: 0.0501 - mape: 80.9196 - val_loss: 0.0065 - val_mse: 0.0065 - val_mae: 0.0654 - val_mape: 161.2601\n",
      "Epoch 81/200\n",
      "2/2 [==============================] - 0s 170ms/step - loss: 0.0039 - mse: 0.0039 - mae: 0.0512 - mape: 67.1419 - val_loss: 0.0067 - val_mse: 0.0067 - val_mae: 0.0640 - val_mape: 171.2287\n",
      "Epoch 82/200\n",
      "2/2 [==============================] - 0s 76ms/step - loss: 0.0037 - mse: 0.0037 - mae: 0.0506 - mape: 81.0792 - val_loss: 0.0065 - val_mse: 0.0065 - val_mae: 0.0647 - val_mape: 164.9372\n",
      "Epoch 83/200\n",
      "2/2 [==============================] - 0s 73ms/step - loss: 0.0036 - mse: 0.0036 - mae: 0.0473 - mape: 83.8546 - val_loss: 0.0065 - val_mse: 0.0065 - val_mae: 0.0683 - val_mape: 153.8416\n",
      "Epoch 84/200\n",
      "2/2 [==============================] - 0s 66ms/step - loss: 0.0040 - mse: 0.0040 - mae: 0.0518 - mape: 62.9788 - val_loss: 0.0070 - val_mse: 0.0070 - val_mae: 0.0644 - val_mape: 180.1748\n",
      "Epoch 85/200\n",
      "2/2 [==============================] - 0s 67ms/step - loss: 0.0039 - mse: 0.0039 - mae: 0.0505 - mape: 62.0052 - val_loss: 0.0065 - val_mse: 0.0065 - val_mae: 0.0668 - val_mape: 158.4589\n",
      "Epoch 86/200\n",
      "2/2 [==============================] - 0s 90ms/step - loss: 0.0036 - mse: 0.0036 - mae: 0.0476 - mape: 55.1518 - val_loss: 0.0068 - val_mse: 0.0068 - val_mae: 0.0639 - val_mape: 175.6958\n",
      "Epoch 87/200\n",
      "2/2 [==============================] - 0s 226ms/step - loss: 0.0040 - mse: 0.0040 - mae: 0.0514 - mape: 83.1699 - val_loss: 0.0065 - val_mse: 0.0065 - val_mae: 0.0669 - val_mape: 159.3338\n",
      "Epoch 88/200\n",
      "2/2 [==============================] - 0s 75ms/step - loss: 0.0038 - mse: 0.0038 - mae: 0.0499 - mape: 56.8154 - val_loss: 0.0066 - val_mse: 0.0066 - val_mae: 0.0644 - val_mape: 171.2848\n",
      "Epoch 89/200\n",
      "2/2 [==============================] - 0s 64ms/step - loss: 0.0037 - mse: 0.0037 - mae: 0.0484 - mape: 87.3330 - val_loss: 0.0065 - val_mse: 0.0065 - val_mae: 0.0683 - val_mape: 157.1165\n",
      "Epoch 90/200\n",
      "2/2 [==============================] - 0s 65ms/step - loss: 0.0039 - mse: 0.0039 - mae: 0.0511 - mape: 78.8590 - val_loss: 0.0066 - val_mse: 0.0066 - val_mae: 0.0645 - val_mape: 172.6869\n",
      "Epoch 91/200\n",
      "2/2 [==============================] - 0s 69ms/step - loss: 0.0035 - mse: 0.0035 - mae: 0.0480 - mape: 68.1665 - val_loss: 0.0066 - val_mse: 0.0066 - val_mae: 0.0701 - val_mape: 154.0813\n",
      "Epoch 92/200\n",
      "2/2 [==============================] - 0s 154ms/step - loss: 0.0035 - mse: 0.0035 - mae: 0.0491 - mape: 63.1068 - val_loss: 0.0067 - val_mse: 0.0067 - val_mae: 0.0644 - val_mape: 174.9274\n",
      "Epoch 93/200\n",
      "2/2 [==============================] - 0s 122ms/step - loss: 0.0035 - mse: 0.0035 - mae: 0.0480 - mape: 76.3221 - val_loss: 0.0065 - val_mse: 0.0065 - val_mae: 0.0651 - val_mape: 167.1579\n",
      "Epoch 94/200\n",
      "2/2 [==============================] - 0s 61ms/step - loss: 0.0036 - mse: 0.0036 - mae: 0.0488 - mape: 59.3654 - val_loss: 0.0066 - val_mse: 0.0066 - val_mae: 0.0700 - val_mape: 156.9201\n",
      "Epoch 95/200\n",
      "2/2 [==============================] - 0s 60ms/step - loss: 0.0036 - mse: 0.0036 - mae: 0.0486 - mape: 59.1654 - val_loss: 0.0065 - val_mse: 0.0065 - val_mae: 0.0670 - val_mape: 164.3815\n",
      "Epoch 96/200\n",
      "2/2 [==============================] - 0s 168ms/step - loss: 0.0036 - mse: 0.0036 - mae: 0.0488 - mape: 65.2328 - val_loss: 0.0065 - val_mse: 0.0065 - val_mae: 0.0675 - val_mape: 163.9488\n",
      "Epoch 97/200\n",
      "2/2 [==============================] - 0s 209ms/step - loss: 0.0034 - mse: 0.0034 - mae: 0.0469 - mape: 63.4842 - val_loss: 0.0065 - val_mse: 0.0065 - val_mae: 0.0663 - val_mape: 168.6165\n",
      "Epoch 98/200\n",
      "2/2 [==============================] - 0s 72ms/step - loss: 0.0033 - mse: 0.0033 - mae: 0.0463 - mape: 79.0352 - val_loss: 0.0068 - val_mse: 0.0068 - val_mae: 0.0648 - val_mape: 180.9957\n",
      "Epoch 99/200\n",
      "2/2 [==============================] - 0s 71ms/step - loss: 0.0035 - mse: 0.0035 - mae: 0.0469 - mape: 60.8777 - val_loss: 0.0074 - val_mse: 0.0074 - val_mae: 0.0771 - val_mape: 144.7148\n",
      "Epoch 100/200\n",
      "2/2 [==============================] - 0s 68ms/step - loss: 0.0041 - mse: 0.0041 - mae: 0.0533 - mape: 61.5051 - val_loss: 0.0065 - val_mse: 0.0065 - val_mae: 0.0665 - val_mape: 169.8807\n",
      "Epoch 101/200\n",
      "2/2 [==============================] - 0s 78ms/step - loss: 0.0036 - mse: 0.0036 - mae: 0.0476 - mape: 62.9586 - val_loss: 0.0069 - val_mse: 0.0069 - val_mae: 0.0644 - val_mape: 183.7062\n",
      "Epoch 102/200\n",
      "2/2 [==============================] - 0s 200ms/step - loss: 0.0035 - mse: 0.0035 - mae: 0.0491 - mape: 67.9551 - val_loss: 0.0066 - val_mse: 0.0066 - val_mae: 0.0654 - val_mape: 176.7567\n",
      "Epoch 103/200\n",
      "2/2 [==============================] - 0s 98ms/step - loss: 0.0032 - mse: 0.0032 - mae: 0.0458 - mape: 60.1205 - val_loss: 0.0066 - val_mse: 0.0066 - val_mae: 0.0708 - val_mape: 161.1203\n",
      "Epoch 104/200\n",
      "2/2 [==============================] - 0s 79ms/step - loss: 0.0038 - mse: 0.0038 - mae: 0.0507 - mape: 76.2473 - val_loss: 0.0066 - val_mse: 0.0066 - val_mae: 0.0661 - val_mape: 175.3826\n",
      "Epoch 105/200\n",
      "2/2 [==============================] - 0s 76ms/step - loss: 0.0032 - mse: 0.0032 - mae: 0.0462 - mape: 53.6085 - val_loss: 0.0067 - val_mse: 0.0067 - val_mae: 0.0648 - val_mape: 181.2984\n",
      "Epoch 106/200\n",
      "2/2 [==============================] - 0s 69ms/step - loss: 0.0040 - mse: 0.0040 - mae: 0.0494 - mape: 67.3062 - val_loss: 0.0068 - val_mse: 0.0068 - val_mae: 0.0644 - val_mape: 182.9568\n",
      "Epoch 107/200\n",
      "2/2 [==============================] - 0s 191ms/step - loss: 0.0033 - mse: 0.0033 - mae: 0.0466 - mape: 61.4500 - val_loss: 0.0066 - val_mse: 0.0066 - val_mae: 0.0708 - val_mape: 161.6744\n",
      "Epoch 108/200\n",
      "2/2 [==============================] - 0s 129ms/step - loss: 0.0034 - mse: 0.0034 - mae: 0.0480 - mape: 61.7106 - val_loss: 0.0068 - val_mse: 0.0068 - val_mae: 0.0640 - val_mape: 184.2132\n",
      "Epoch 109/200\n",
      "2/2 [==============================] - 0s 66ms/step - loss: 0.0035 - mse: 0.0035 - mae: 0.0478 - mape: 65.9608 - val_loss: 0.0066 - val_mse: 0.0066 - val_mae: 0.0661 - val_mape: 178.0226\n",
      "Epoch 110/200\n",
      "2/2 [==============================] - 0s 71ms/step - loss: 0.0032 - mse: 0.0032 - mae: 0.0463 - mape: 67.0648 - val_loss: 0.0066 - val_mse: 0.0066 - val_mae: 0.0665 - val_mape: 177.5560\n",
      "Epoch 111/200\n",
      "2/2 [==============================] - 0s 69ms/step - loss: 0.0035 - mse: 0.0035 - mae: 0.0490 - mape: 76.3054 - val_loss: 0.0068 - val_mse: 0.0068 - val_mae: 0.0655 - val_mape: 183.0279\n",
      "Epoch 112/200\n",
      "2/2 [==============================] - 0s 217ms/step - loss: 0.0032 - mse: 0.0032 - mae: 0.0466 - mape: 79.7547 - val_loss: 0.0065 - val_mse: 0.0065 - val_mae: 0.0685 - val_mape: 169.8647\n",
      "Epoch 113/200\n",
      "2/2 [==============================] - 0s 72ms/step - loss: 0.0032 - mse: 0.0032 - mae: 0.0458 - mape: 62.8725 - val_loss: 0.0067 - val_mse: 0.0067 - val_mae: 0.0663 - val_mape: 180.9925\n",
      "Epoch 114/200\n",
      "2/2 [==============================] - 0s 57ms/step - loss: 0.0035 - mse: 0.0035 - mae: 0.0478 - mape: 86.0618 - val_loss: 0.0067 - val_mse: 0.0067 - val_mae: 0.0727 - val_mape: 160.0746\n",
      "Epoch 115/200\n",
      "2/2 [==============================] - 0s 67ms/step - loss: 0.0036 - mse: 0.0036 - mae: 0.0489 - mape: 66.9252 - val_loss: 0.0065 - val_mse: 0.0065 - val_mae: 0.0690 - val_mape: 169.1691\n",
      "Epoch 116/200\n",
      "2/2 [==============================] - 0s 78ms/step - loss: 0.0036 - mse: 0.0036 - mae: 0.0491 - mape: 79.3817 - val_loss: 0.0068 - val_mse: 0.0068 - val_mae: 0.0657 - val_mape: 185.7226\n",
      "Epoch 117/200\n",
      "2/2 [==============================] - 0s 153ms/step - loss: 0.0035 - mse: 0.0035 - mae: 0.0478 - mape: 85.7225 - val_loss: 0.0066 - val_mse: 0.0066 - val_mae: 0.0714 - val_mape: 165.0191\n",
      "Epoch 118/200\n",
      "2/2 [==============================] - 0s 154ms/step - loss: 0.0032 - mse: 0.0032 - mae: 0.0449 - mape: 72.6508 - val_loss: 0.0069 - val_mse: 0.0069 - val_mae: 0.0647 - val_mape: 188.4748\n",
      "Epoch 119/200\n",
      "2/2 [==============================] - 0s 80ms/step - loss: 0.0036 - mse: 0.0036 - mae: 0.0479 - mape: 81.1844 - val_loss: 0.0068 - val_mse: 0.0068 - val_mae: 0.0665 - val_mape: 184.9928\n",
      "Epoch 120/200\n",
      "2/2 [==============================] - 0s 73ms/step - loss: 0.0038 - mse: 0.0038 - mae: 0.0503 - mape: 69.4080 - val_loss: 0.0068 - val_mse: 0.0068 - val_mae: 0.0659 - val_mape: 185.8844\n",
      "Epoch 121/200\n",
      "2/2 [==============================] - 0s 52ms/step - loss: 0.0034 - mse: 0.0034 - mae: 0.0476 - mape: 88.2695 - val_loss: 0.0065 - val_mse: 0.0065 - val_mae: 0.0688 - val_mape: 174.3627\n",
      "Epoch 122/200\n",
      "2/2 [==============================] - 0s 66ms/step - loss: 0.0030 - mse: 0.0030 - mae: 0.0447 - mape: 71.1865 - val_loss: 0.0068 - val_mse: 0.0068 - val_mae: 0.0665 - val_mape: 186.4775\n",
      "Epoch 123/200\n",
      "2/2 [==============================] - 0s 162ms/step - loss: 0.0030 - mse: 0.0030 - mae: 0.0448 - mape: 65.4713 - val_loss: 0.0066 - val_mse: 0.0066 - val_mae: 0.0709 - val_mape: 168.0172\n",
      "Epoch 124/200\n",
      "2/2 [==============================] - 0s 83ms/step - loss: 0.0037 - mse: 0.0037 - mae: 0.0504 - mape: 60.2953 - val_loss: 0.0066 - val_mse: 0.0066 - val_mae: 0.0709 - val_mape: 168.1053\n",
      "Epoch 125/200\n",
      "2/2 [==============================] - 0s 73ms/step - loss: 0.0031 - mse: 0.0031 - mae: 0.0455 - mape: 54.7628 - val_loss: 0.0067 - val_mse: 0.0067 - val_mae: 0.0675 - val_mape: 182.9625\n",
      "Epoch 126/200\n",
      "2/2 [==============================] - 0s 64ms/step - loss: 0.0029 - mse: 0.0029 - mae: 0.0443 - mape: 75.4492 - val_loss: 0.0066 - val_mse: 0.0066 - val_mae: 0.0704 - val_mape: 169.3441\n",
      "Epoch 127/200\n",
      "2/2 [==============================] - 0s 55ms/step - loss: 0.0034 - mse: 0.0034 - mae: 0.0480 - mape: 63.9712 - val_loss: 0.0066 - val_mse: 0.0066 - val_mae: 0.0690 - val_mape: 176.3483\n"
     ]
    }
   ],
   "source": [
    "from tensorflow.keras.callbacks import EarlyStopping\n",
    "\n",
    "es = EarlyStopping(patience=50, restore_best_weights=False)\n",
    "\n",
    "history = model.fit(X_train, y_train,\n",
    "                validation_split=0.2,\n",
    "                epochs=200,\n",
    "                verbose=1,\n",
    "                batch_size=32,\n",
    "                callbacks=[es]\n",
    "                )"
   ]
  },
  {
   "cell_type": "code",
   "execution_count": 21,
   "id": "handled-times",
   "metadata": {},
   "outputs": [
    {
     "name": "stdout",
     "output_type": "stream",
     "text": [
      "Model: \"sequential\"\n",
      "_________________________________________________________________\n",
      "Layer (type)                 Output Shape              Param #   \n",
      "=================================================================\n",
      "lstm (LSTM)                  (None, 32)                4352      \n",
      "_________________________________________________________________\n",
      "dense (Dense)                (None, 16)                528       \n",
      "_________________________________________________________________\n",
      "dense_1 (Dense)              (None, 8)                 136       \n",
      "_________________________________________________________________\n",
      "dense_2 (Dense)              (None, 1)                 9         \n",
      "=================================================================\n",
      "Total params: 5,025\n",
      "Trainable params: 5,025\n",
      "Non-trainable params: 0\n",
      "_________________________________________________________________\n"
     ]
    }
   ],
   "source": [
    "model.summary()"
   ]
  },
  {
   "cell_type": "code",
   "execution_count": 22,
   "id": "fresh-bullet",
   "metadata": {},
   "outputs": [
    {
     "name": "stdout",
     "output_type": "stream",
     "text": [
      "Model Mean Squeared Error 0.0434\n",
      "Model Mean Absolute Error 0.1787\n",
      "Model Mean Absolute Porcentual Error 25.0969\n"
     ]
    }
   ],
   "source": [
    "model_eval = model.evaluate(X_test, y_test, verbose=0)\n",
    "print(f'Model Mean Squeared Error {model_eval[1]:.4f}')\n",
    "print(f'Model Mean Absolute Error {model_eval[2]:.4f}')\n",
    "print(f'Model Mean Absolute Porcentual Error {model_eval[3]:.4f}')"
   ]
  },
  {
   "cell_type": "code",
   "execution_count": 23,
   "id": "colored-event",
   "metadata": {},
   "outputs": [],
   "source": [
    "# tf.keras.losses.MAPE(y_true, y_pred)"
   ]
  },
  {
   "cell_type": "markdown",
   "id": "optional-great",
   "metadata": {},
   "source": [
    "#### Prediction"
   ]
  },
  {
   "cell_type": "code",
   "execution_count": 23,
   "id": "australian-judgment",
   "metadata": {
    "tags": []
   },
   "outputs": [],
   "source": [
    "y_pred = model.predict(X_test)"
   ]
  },
  {
   "cell_type": "code",
   "execution_count": 24,
   "id": "significant-assignment",
   "metadata": {},
   "outputs": [
    {
     "data": {
      "text/plain": [
       "(20, 1)"
      ]
     },
     "execution_count": 24,
     "metadata": {},
     "output_type": "execute_result"
    }
   ],
   "source": [
    "y_pred.shape"
   ]
  },
  {
   "cell_type": "code",
   "execution_count": 25,
   "id": "reflected-worth",
   "metadata": {},
   "outputs": [
    {
     "data": {
      "text/plain": [
       "array([[0.7159791 ],\n",
       "       [0.46823496],\n",
       "       [0.3928442 ],\n",
       "       [0.4627899 ],\n",
       "       [0.7092665 ],\n",
       "       [0.3928442 ],\n",
       "       [0.46823496],\n",
       "       [0.6508724 ],\n",
       "       [0.44510737],\n",
       "       [0.6924201 ],\n",
       "       [0.49985388],\n",
       "       [0.57069623],\n",
       "       [0.46823496],\n",
       "       [0.5034104 ],\n",
       "       [0.4627899 ],\n",
       "       [0.49985388],\n",
       "       [0.48100474],\n",
       "       [0.48100474],\n",
       "       [0.5230416 ],\n",
       "       [0.3636284 ]], dtype=float32)"
      ]
     },
     "execution_count": 25,
     "metadata": {},
     "output_type": "execute_result"
    }
   ],
   "source": [
    "y_pred"
   ]
  },
  {
   "cell_type": "code",
   "execution_count": 26,
   "id": "institutional-leather",
   "metadata": {},
   "outputs": [
    {
     "data": {
      "image/png": "[encoded data removed]",
      "text/plain": [
       "<Figure size 720x360 with 1 Axes>"
      ]
     },
     "metadata": {
      "needs_background": "light"
     },
     "output_type": "display_data"
    }
   ],
   "source": [
    "plt.figure(figsize=(10,5))\n",
    "plt.plot(y_test,label = 'Test')\n",
    "plt.plot(y_pred, label = 'Prediction')\n",
    "plt.legend(loc='best')\n",
    "plt.show()"
   ]
  },
  {
   "cell_type": "markdown",
   "id": "latest-seeker",
   "metadata": {},
   "source": [
    "### Reversion"
   ]
  },
  {
   "cell_type": "code",
   "execution_count": 28,
   "id": "running-forestry",
   "metadata": {},
   "outputs": [],
   "source": [
    "# def rev_min_max_func(scaled_val):\n",
    "#     max_val = max(df['target'])\n",
    "#     min_val = min(df['target'])\n",
    "#     og_val = (scaled_val*(max_val - min_val)) + min_val\n",
    "#     return og_val\n",
    "# df['pred_target'] = scaled_labeled_df['pred_scaled_target'].apply(lambda x: rev_min_max_func(x))"
   ]
  },
  {
   "cell_type": "code",
   "execution_count": 29,
   "id": "moving-elizabeth",
   "metadata": {},
   "outputs": [],
   "source": [
    "data['total_amount_claims'] = [((x*(max_ - min_)) + min_) for x in data['total_amount_claims']]"
   ]
  },
  {
   "cell_type": "code",
   "execution_count": 30,
   "id": "addressed-cloud",
   "metadata": {},
   "outputs": [
    {
     "data": {
      "text/plain": [
       "0        16683.0\n",
       "1       201774.0\n",
       "2       263661.0\n",
       "3       799703.0\n",
       "4       900305.0\n",
       "         ...    \n",
       "127    1949930.0\n",
       "128    1725225.0\n",
       "129    2232202.0\n",
       "130    2666662.0\n",
       "131    2111986.0\n",
       "Name: total_amount_claims, Length: 132, dtype: float64"
      ]
     },
     "execution_count": 30,
     "metadata": {},
     "output_type": "execute_result"
    }
   ],
   "source": [
    "data['total_amount_claims']"
   ]
  },
  {
   "cell_type": "code",
   "execution_count": 31,
   "id": "preceding-finish",
   "metadata": {},
   "outputs": [],
   "source": [
    "y_pred = [((x*(max_ - min_)) + min_) for x in y_pred]"
   ]
  },
  {
   "cell_type": "code",
   "execution_count": 32,
   "id": "conditional-activation",
   "metadata": {},
   "outputs": [
    {
     "data": {
      "text/plain": [
       "[array([1197923.37540248]),\n",
       " array([1144926.68906584]),\n",
       " array([1747292.39377677]),\n",
       " array([1789145.47509402]),\n",
       " array([1035516.51912847]),\n",
       " array([1035516.51912847]),\n",
       " array([1197923.37540248]),\n",
       " array([1028893.55233473]),\n",
       " array([1197923.37540248]),\n",
       " array([1197923.37540248]),\n",
       " array([1197923.37540248]),\n",
       " array([987968.67040369]),\n",
       " array([1789145.47509402]),\n",
       " array([1147499.71178368]),\n",
       " array([1308933.5105713]),\n",
       " array([1308933.5105713]),\n",
       " array([1587282.12888998]),\n",
       " array([1149542.88768095]),\n",
       " array([987968.67040369]),\n",
       " array([1147499.79075921])]"
      ]
     },
     "execution_count": 32,
     "metadata": {},
     "output_type": "execute_result"
    }
   ],
   "source": [
    "y_pred"
   ]
  },
  {
   "cell_type": "code",
   "execution_count": 33,
   "id": "continuing-memorabilia",
   "metadata": {},
   "outputs": [
    {
     "data": {
      "image/png": "[encoded data removed]",
      "text/plain": [
       "<Figure size 720x360 with 1 Axes>"
      ]
     },
     "metadata": {
      "needs_background": "light"
     },
     "output_type": "display_data"
    }
   ],
   "source": [
    "plt.figure(figsize=(10,5))\n",
    "plt.plot(data['total_amount_claims'],label = 'Serie completa')\n",
    "plt.plot(y_pred, label = 'Prediction')\n",
    "plt.legend(loc='best')\n",
    "plt.show()"
   ]
  },
  {
   "cell_type": "code",
   "execution_count": 34,
   "id": "valued-refund",
   "metadata": {},
   "outputs": [],
   "source": [
    "data_orig = pd.read_excel('../raw_data/weekly_data_clean.xlsx', engine='openpyxl')"
   ]
  },
  {
   "cell_type": "code",
   "execution_count": 35,
   "id": "periodic-webmaster",
   "metadata": {},
   "outputs": [],
   "source": [
    "data_orig = data_orig.drop(columns='Unnamed: 0')"
   ]
  },
  {
   "cell_type": "code",
   "execution_count": 36,
   "id": "extended-finder",
   "metadata": {},
   "outputs": [
    {
     "data": {
      "text/html": [
       "<div>\n",
       "<style scoped>\n",
       "    .dataframe tbody tr th:only-of-type {\n",
       "        vertical-align: middle;\n",
       "    }\n",
       "\n",
       "    .dataframe tbody tr th {\n",
       "        vertical-align: top;\n",
       "    }\n",
       "\n",
       "    .dataframe thead th {\n",
       "        text-align: right;\n",
       "    }\n",
       "</style>\n",
       "<table border=\"1\" class=\"dataframe\">\n",
       "  <thead>\n",
       "    <tr style=\"text-align: right;\">\n",
       "      <th></th>\n",
       "      <th>date_issue</th>\n",
       "      <th>total_amount_claims</th>\n",
       "    </tr>\n",
       "  </thead>\n",
       "  <tbody>\n",
       "    <tr>\n",
       "      <th>0</th>\n",
       "      <td>2018-09-03</td>\n",
       "      <td>16683</td>\n",
       "    </tr>\n",
       "    <tr>\n",
       "      <th>1</th>\n",
       "      <td>2018-09-10</td>\n",
       "      <td>201774</td>\n",
       "    </tr>\n",
       "    <tr>\n",
       "      <th>2</th>\n",
       "      <td>2018-09-17</td>\n",
       "      <td>263661</td>\n",
       "    </tr>\n",
       "    <tr>\n",
       "      <th>3</th>\n",
       "      <td>2018-09-24</td>\n",
       "      <td>799703</td>\n",
       "    </tr>\n",
       "    <tr>\n",
       "      <th>4</th>\n",
       "      <td>2018-10-01</td>\n",
       "      <td>900305</td>\n",
       "    </tr>\n",
       "    <tr>\n",
       "      <th>...</th>\n",
       "      <td>...</td>\n",
       "      <td>...</td>\n",
       "    </tr>\n",
       "    <tr>\n",
       "      <th>127</th>\n",
       "      <td>2021-02-08</td>\n",
       "      <td>1949930</td>\n",
       "    </tr>\n",
       "    <tr>\n",
       "      <th>128</th>\n",
       "      <td>2021-02-15</td>\n",
       "      <td>1725225</td>\n",
       "    </tr>\n",
       "    <tr>\n",
       "      <th>129</th>\n",
       "      <td>2021-02-22</td>\n",
       "      <td>2232202</td>\n",
       "    </tr>\n",
       "    <tr>\n",
       "      <th>130</th>\n",
       "      <td>2021-03-01</td>\n",
       "      <td>2666662</td>\n",
       "    </tr>\n",
       "    <tr>\n",
       "      <th>131</th>\n",
       "      <td>2021-03-08</td>\n",
       "      <td>2111986</td>\n",
       "    </tr>\n",
       "  </tbody>\n",
       "</table>\n",
       "<p>132 rows × 2 columns</p>\n",
       "</div>"
      ],
      "text/plain": [
       "    date_issue  total_amount_claims\n",
       "0   2018-09-03                16683\n",
       "1   2018-09-10               201774\n",
       "2   2018-09-17               263661\n",
       "3   2018-09-24               799703\n",
       "4   2018-10-01               900305\n",
       "..         ...                  ...\n",
       "127 2021-02-08              1949930\n",
       "128 2021-02-15              1725225\n",
       "129 2021-02-22              2232202\n",
       "130 2021-03-01              2666662\n",
       "131 2021-03-08              2111986\n",
       "\n",
       "[132 rows x 2 columns]"
      ]
     },
     "execution_count": 36,
     "metadata": {},
     "output_type": "execute_result"
    }
   ],
   "source": [
    "data_orig"
   ]
  },
  {
   "cell_type": "code",
   "execution_count": 37,
   "id": "italic-relay",
   "metadata": {},
   "outputs": [],
   "source": [
    "data['total_amount_claims'].index = pd.to_datetime(data_orig.iloc[:, 0]) #relaciona indices"
   ]
  },
  {
   "cell_type": "code",
   "execution_count": 38,
   "id": "alike-change",
   "metadata": {},
   "outputs": [
    {
     "data": {
      "text/html": [
       "<div>\n",
       "<style scoped>\n",
       "    .dataframe tbody tr th:only-of-type {\n",
       "        vertical-align: middle;\n",
       "    }\n",
       "\n",
       "    .dataframe tbody tr th {\n",
       "        vertical-align: top;\n",
       "    }\n",
       "\n",
       "    .dataframe thead th {\n",
       "        text-align: right;\n",
       "    }\n",
       "</style>\n",
       "<table border=\"1\" class=\"dataframe\">\n",
       "  <thead>\n",
       "    <tr style=\"text-align: right;\">\n",
       "      <th></th>\n",
       "      <th>date_issue</th>\n",
       "      <th>total_amount_claims</th>\n",
       "    </tr>\n",
       "  </thead>\n",
       "  <tbody>\n",
       "    <tr>\n",
       "      <th>0</th>\n",
       "      <td>2018-09-03</td>\n",
       "      <td>16683.0</td>\n",
       "    </tr>\n",
       "    <tr>\n",
       "      <th>1</th>\n",
       "      <td>2018-09-10</td>\n",
       "      <td>201774.0</td>\n",
       "    </tr>\n",
       "    <tr>\n",
       "      <th>2</th>\n",
       "      <td>2018-09-17</td>\n",
       "      <td>263661.0</td>\n",
       "    </tr>\n",
       "    <tr>\n",
       "      <th>3</th>\n",
       "      <td>2018-09-24</td>\n",
       "      <td>799703.0</td>\n",
       "    </tr>\n",
       "    <tr>\n",
       "      <th>4</th>\n",
       "      <td>2018-10-01</td>\n",
       "      <td>900305.0</td>\n",
       "    </tr>\n",
       "    <tr>\n",
       "      <th>...</th>\n",
       "      <td>...</td>\n",
       "      <td>...</td>\n",
       "    </tr>\n",
       "    <tr>\n",
       "      <th>127</th>\n",
       "      <td>2021-02-08</td>\n",
       "      <td>1949930.0</td>\n",
       "    </tr>\n",
       "    <tr>\n",
       "      <th>128</th>\n",
       "      <td>2021-02-15</td>\n",
       "      <td>1725225.0</td>\n",
       "    </tr>\n",
       "    <tr>\n",
       "      <th>129</th>\n",
       "      <td>2021-02-22</td>\n",
       "      <td>2232202.0</td>\n",
       "    </tr>\n",
       "    <tr>\n",
       "      <th>130</th>\n",
       "      <td>2021-03-01</td>\n",
       "      <td>2666662.0</td>\n",
       "    </tr>\n",
       "    <tr>\n",
       "      <th>131</th>\n",
       "      <td>2021-03-08</td>\n",
       "      <td>2111986.0</td>\n",
       "    </tr>\n",
       "  </tbody>\n",
       "</table>\n",
       "<p>132 rows × 2 columns</p>\n",
       "</div>"
      ],
      "text/plain": [
       "    date_issue  total_amount_claims\n",
       "0   2018-09-03              16683.0\n",
       "1   2018-09-10             201774.0\n",
       "2   2018-09-17             263661.0\n",
       "3   2018-09-24             799703.0\n",
       "4   2018-10-01             900305.0\n",
       "..         ...                  ...\n",
       "127 2021-02-08            1949930.0\n",
       "128 2021-02-15            1725225.0\n",
       "129 2021-02-22            2232202.0\n",
       "130 2021-03-01            2666662.0\n",
       "131 2021-03-08            2111986.0\n",
       "\n",
       "[132 rows x 2 columns]"
      ]
     },
     "execution_count": 38,
     "metadata": {},
     "output_type": "execute_result"
    }
   ],
   "source": [
    "data['total_amount_claims'].reset_index()"
   ]
  },
  {
   "cell_type": "code",
   "execution_count": 39,
   "id": "overall-resource",
   "metadata": {},
   "outputs": [
    {
     "data": {
      "text/html": [
       "<div>\n",
       "<style scoped>\n",
       "    .dataframe tbody tr th:only-of-type {\n",
       "        vertical-align: middle;\n",
       "    }\n",
       "\n",
       "    .dataframe tbody tr th {\n",
       "        vertical-align: top;\n",
       "    }\n",
       "\n",
       "    .dataframe thead th {\n",
       "        text-align: right;\n",
       "    }\n",
       "</style>\n",
       "<table border=\"1\" class=\"dataframe\">\n",
       "  <thead>\n",
       "    <tr style=\"text-align: right;\">\n",
       "      <th></th>\n",
       "      <th>y_pred</th>\n",
       "    </tr>\n",
       "  </thead>\n",
       "  <tbody>\n",
       "    <tr>\n",
       "      <th>0</th>\n",
       "      <td>1.197923e+06</td>\n",
       "    </tr>\n",
       "    <tr>\n",
       "      <th>1</th>\n",
       "      <td>1.144927e+06</td>\n",
       "    </tr>\n",
       "    <tr>\n",
       "      <th>2</th>\n",
       "      <td>1.747292e+06</td>\n",
       "    </tr>\n",
       "    <tr>\n",
       "      <th>3</th>\n",
       "      <td>1.789145e+06</td>\n",
       "    </tr>\n",
       "    <tr>\n",
       "      <th>4</th>\n",
       "      <td>1.035517e+06</td>\n",
       "    </tr>\n",
       "    <tr>\n",
       "      <th>...</th>\n",
       "      <td>...</td>\n",
       "    </tr>\n",
       "    <tr>\n",
       "      <th>127</th>\n",
       "      <td>NaN</td>\n",
       "    </tr>\n",
       "    <tr>\n",
       "      <th>128</th>\n",
       "      <td>NaN</td>\n",
       "    </tr>\n",
       "    <tr>\n",
       "      <th>129</th>\n",
       "      <td>NaN</td>\n",
       "    </tr>\n",
       "    <tr>\n",
       "      <th>130</th>\n",
       "      <td>NaN</td>\n",
       "    </tr>\n",
       "    <tr>\n",
       "      <th>131</th>\n",
       "      <td>NaN</td>\n",
       "    </tr>\n",
       "  </tbody>\n",
       "</table>\n",
       "<p>132 rows × 1 columns</p>\n",
       "</div>"
      ],
      "text/plain": [
       "           y_pred\n",
       "0    1.197923e+06\n",
       "1    1.144927e+06\n",
       "2    1.747292e+06\n",
       "3    1.789145e+06\n",
       "4    1.035517e+06\n",
       "..            ...\n",
       "127           NaN\n",
       "128           NaN\n",
       "129           NaN\n",
       "130           NaN\n",
       "131           NaN\n",
       "\n",
       "[132 rows x 1 columns]"
      ]
     },
     "execution_count": 39,
     "metadata": {},
     "output_type": "execute_result"
    }
   ],
   "source": [
    "data['y_pred'] = pd.DataFrame(y_pred)\n",
    "data[['y_pred']]"
   ]
  },
  {
   "cell_type": "code",
   "execution_count": 40,
   "id": "spread-saudi",
   "metadata": {},
   "outputs": [
    {
     "data": {
      "text/plain": [
       "105"
      ]
     },
     "execution_count": 40,
     "metadata": {},
     "output_type": "execute_result"
    }
   ],
   "source": [
    "len_ = int(0.8*data.shape[0])\n",
    "len_\n",
    "# data_train = data[:len_]\n",
    "# data_test = data[len_:]"
   ]
  },
  {
   "cell_type": "code",
   "execution_count": 41,
   "id": "worse-criticism",
   "metadata": {},
   "outputs": [
    {
     "ename": "ValueError",
     "evalue": "Length mismatch: Expected axis has 132 elements, new values have 27 elements",
     "output_type": "error",
     "traceback": [
      "\u001b[0;31m---------------------------------------------------------------------------\u001b[0m",
      "\u001b[0;31mValueError\u001b[0m                                Traceback (most recent call last)",
      "\u001b[0;32m<ipython-input-41-01130c394573>\u001b[0m in \u001b[0;36m<module>\u001b[0;34m\u001b[0m\n\u001b[0;32m----> 1\u001b[0;31m \u001b[0mdata\u001b[0m\u001b[0;34m[\u001b[0m\u001b[0;34m[\u001b[0m\u001b[0;34m'y_pred'\u001b[0m\u001b[0;34m]\u001b[0m\u001b[0;34m]\u001b[0m\u001b[0;34m.\u001b[0m\u001b[0mindex\u001b[0m \u001b[0;34m=\u001b[0m \u001b[0mpd\u001b[0m\u001b[0;34m.\u001b[0m\u001b[0mto_datetime\u001b[0m\u001b[0;34m(\u001b[0m\u001b[0mdata_orig\u001b[0m\u001b[0;34m.\u001b[0m\u001b[0miloc\u001b[0m\u001b[0;34m[\u001b[0m\u001b[0;36m105\u001b[0m\u001b[0;34m:\u001b[0m\u001b[0;34m,\u001b[0m \u001b[0;36m0\u001b[0m\u001b[0;34m]\u001b[0m\u001b[0;34m)\u001b[0m\u001b[0;34m\u001b[0m\u001b[0;34m\u001b[0m\u001b[0m\n\u001b[0m",
      "\u001b[0;32m~/.pyenv/versions/3.8.6/envs/Insurance_claiming_forecasting/lib/python3.8/site-packages/pandas/core/generic.py\u001b[0m in \u001b[0;36m__setattr__\u001b[0;34m(self, name, value)\u001b[0m\n\u001b[1;32m   5476\u001b[0m         \u001b[0;32mtry\u001b[0m\u001b[0;34m:\u001b[0m\u001b[0;34m\u001b[0m\u001b[0;34m\u001b[0m\u001b[0m\n\u001b[1;32m   5477\u001b[0m             \u001b[0mobject\u001b[0m\u001b[0;34m.\u001b[0m\u001b[0m__getattribute__\u001b[0m\u001b[0;34m(\u001b[0m\u001b[0mself\u001b[0m\u001b[0;34m,\u001b[0m \u001b[0mname\u001b[0m\u001b[0;34m)\u001b[0m\u001b[0;34m\u001b[0m\u001b[0;34m\u001b[0m\u001b[0m\n\u001b[0;32m-> 5478\u001b[0;31m             \u001b[0;32mreturn\u001b[0m \u001b[0mobject\u001b[0m\u001b[0;34m.\u001b[0m\u001b[0m__setattr__\u001b[0m\u001b[0;34m(\u001b[0m\u001b[0mself\u001b[0m\u001b[0;34m,\u001b[0m \u001b[0mname\u001b[0m\u001b[0;34m,\u001b[0m \u001b[0mvalue\u001b[0m\u001b[0;34m)\u001b[0m\u001b[0;34m\u001b[0m\u001b[0;34m\u001b[0m\u001b[0m\n\u001b[0m\u001b[1;32m   5479\u001b[0m         \u001b[0;32mexcept\u001b[0m \u001b[0mAttributeError\u001b[0m\u001b[0;34m:\u001b[0m\u001b[0;34m\u001b[0m\u001b[0;34m\u001b[0m\u001b[0m\n\u001b[1;32m   5480\u001b[0m             \u001b[0;32mpass\u001b[0m\u001b[0;34m\u001b[0m\u001b[0;34m\u001b[0m\u001b[0m\n",
      "\u001b[0;32mpandas/_libs/properties.pyx\u001b[0m in \u001b[0;36mpandas._libs.properties.AxisProperty.__set__\u001b[0;34m()\u001b[0m\n",
      "\u001b[0;32m~/.pyenv/versions/3.8.6/envs/Insurance_claiming_forecasting/lib/python3.8/site-packages/pandas/core/generic.py\u001b[0m in \u001b[0;36m_set_axis\u001b[0;34m(self, axis, labels)\u001b[0m\n\u001b[1;32m    668\u001b[0m     \u001b[0;32mdef\u001b[0m \u001b[0m_set_axis\u001b[0m\u001b[0;34m(\u001b[0m\u001b[0mself\u001b[0m\u001b[0;34m,\u001b[0m \u001b[0maxis\u001b[0m\u001b[0;34m:\u001b[0m \u001b[0mint\u001b[0m\u001b[0;34m,\u001b[0m \u001b[0mlabels\u001b[0m\u001b[0;34m:\u001b[0m \u001b[0mIndex\u001b[0m\u001b[0;34m)\u001b[0m \u001b[0;34m->\u001b[0m \u001b[0;32mNone\u001b[0m\u001b[0;34m:\u001b[0m\u001b[0;34m\u001b[0m\u001b[0;34m\u001b[0m\u001b[0m\n\u001b[1;32m    669\u001b[0m         \u001b[0mlabels\u001b[0m \u001b[0;34m=\u001b[0m \u001b[0mensure_index\u001b[0m\u001b[0;34m(\u001b[0m\u001b[0mlabels\u001b[0m\u001b[0;34m)\u001b[0m\u001b[0;34m\u001b[0m\u001b[0;34m\u001b[0m\u001b[0m\n\u001b[0;32m--> 670\u001b[0;31m         \u001b[0mself\u001b[0m\u001b[0;34m.\u001b[0m\u001b[0m_mgr\u001b[0m\u001b[0;34m.\u001b[0m\u001b[0mset_axis\u001b[0m\u001b[0;34m(\u001b[0m\u001b[0maxis\u001b[0m\u001b[0;34m,\u001b[0m \u001b[0mlabels\u001b[0m\u001b[0;34m)\u001b[0m\u001b[0;34m\u001b[0m\u001b[0;34m\u001b[0m\u001b[0m\n\u001b[0m\u001b[1;32m    671\u001b[0m         \u001b[0mself\u001b[0m\u001b[0;34m.\u001b[0m\u001b[0m_clear_item_cache\u001b[0m\u001b[0;34m(\u001b[0m\u001b[0;34m)\u001b[0m\u001b[0;34m\u001b[0m\u001b[0;34m\u001b[0m\u001b[0m\n\u001b[1;32m    672\u001b[0m \u001b[0;34m\u001b[0m\u001b[0m\n",
      "\u001b[0;32m~/.pyenv/versions/3.8.6/envs/Insurance_claiming_forecasting/lib/python3.8/site-packages/pandas/core/internals/managers.py\u001b[0m in \u001b[0;36mset_axis\u001b[0;34m(self, axis, new_labels)\u001b[0m\n\u001b[1;32m    218\u001b[0m \u001b[0;34m\u001b[0m\u001b[0m\n\u001b[1;32m    219\u001b[0m         \u001b[0;32mif\u001b[0m \u001b[0mnew_len\u001b[0m \u001b[0;34m!=\u001b[0m \u001b[0mold_len\u001b[0m\u001b[0;34m:\u001b[0m\u001b[0;34m\u001b[0m\u001b[0;34m\u001b[0m\u001b[0m\n\u001b[0;32m--> 220\u001b[0;31m             raise ValueError(\n\u001b[0m\u001b[1;32m    221\u001b[0m                 \u001b[0;34mf\"Length mismatch: Expected axis has {old_len} elements, new \"\u001b[0m\u001b[0;34m\u001b[0m\u001b[0;34m\u001b[0m\u001b[0m\n\u001b[1;32m    222\u001b[0m                 \u001b[0;34mf\"values have {new_len} elements\"\u001b[0m\u001b[0;34m\u001b[0m\u001b[0;34m\u001b[0m\u001b[0m\n",
      "\u001b[0;31mValueError\u001b[0m: Length mismatch: Expected axis has 132 elements, new values have 27 elements"
     ]
    }
   ],
   "source": [
    "data[['y_pred']].index = pd.to_datetime(data_orig.iloc[105:, 0])"
   ]
  },
  {
   "cell_type": "code",
   "execution_count": null,
   "id": "dirty-blank",
   "metadata": {},
   "outputs": [],
   "source": []
  }
 ],
 "metadata": {
  "kernelspec": {
   "display_name": "Python 3",
   "language": "python",
   "name": "python3"
  },
  "language_info": {
   "codemirror_mode": {
    "name": "ipython",
    "version": 3
   },
   "file_extension": ".py",
   "mimetype": "text/x-python",
   "name": "python",
   "nbconvert_exporter": "python",
   "pygments_lexer": "ipython3",
   "version": "3.8.6"
  }
 },
 "nbformat": 4,
 "nbformat_minor": 5
}
