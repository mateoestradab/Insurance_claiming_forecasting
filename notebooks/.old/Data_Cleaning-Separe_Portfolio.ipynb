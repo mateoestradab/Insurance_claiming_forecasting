{
 "cells": [
  {
   "cell_type": "markdown",
   "id": "exact-commerce",
   "metadata": {},
   "source": [
    "## SEPARATE PORTFOLIO"
   ]
  },
  {
   "cell_type": "code",
   "execution_count": 1,
   "id": "inside-relative",
   "metadata": {},
   "outputs": [],
   "source": [
    "import pandas as pd\n",
    "import numpy as np\n",
    "import matplotlib.pyplot as plt"
   ]
  },
  {
   "cell_type": "code",
   "execution_count": 2,
   "id": "analyzed-perry",
   "metadata": {},
   "outputs": [],
   "source": [
    "data = pd.read_excel('../raw_data/full_data_clean.xlsx', engine='openpyxl')"
   ]
  },
  {
   "cell_type": "code",
   "execution_count": 3,
   "id": "analyzed-finance",
   "metadata": {},
   "outputs": [
    {
     "data": {
      "text/html": [
       "<div>\n",
       "<style scoped>\n",
       "    .dataframe tbody tr th:only-of-type {\n",
       "        vertical-align: middle;\n",
       "    }\n",
       "\n",
       "    .dataframe tbody tr th {\n",
       "        vertical-align: top;\n",
       "    }\n",
       "\n",
       "    .dataframe thead th {\n",
       "        text-align: right;\n",
       "    }\n",
       "</style>\n",
       "<table border=\"1\" class=\"dataframe\">\n",
       "  <thead>\n",
       "    <tr style=\"text-align: right;\">\n",
       "      <th></th>\n",
       "      <th>Unnamed: 0</th>\n",
       "      <th>status</th>\n",
       "      <th>insurance_type</th>\n",
       "      <th>disease</th>\n",
       "      <th>claim_type</th>\n",
       "      <th>provider_type</th>\n",
       "      <th>state</th>\n",
       "      <th>sex</th>\n",
       "      <th>age</th>\n",
       "      <th>country_id</th>\n",
       "      <th>amount</th>\n",
       "      <th>date_issue</th>\n",
       "      <th>age_range</th>\n",
       "      <th>h_type</th>\n",
       "    </tr>\n",
       "  </thead>\n",
       "  <tbody>\n",
       "    <tr>\n",
       "      <th>0</th>\n",
       "      <td>170734</td>\n",
       "      <td>PAGADO</td>\n",
       "      <td>INDIVIDUAL</td>\n",
       "      <td>Laringitis Y Traqueitis Agudas</td>\n",
       "      <td>EMERGENCIA</td>\n",
       "      <td>CLINICA</td>\n",
       "      <td>Distrito Capital</td>\n",
       "      <td>F</td>\n",
       "      <td>48</td>\n",
       "      <td>29</td>\n",
       "      <td>26</td>\n",
       "      <td>2018-09-01</td>\n",
       "      <td>40-49</td>\n",
       "      <td>Ambulatorio</td>\n",
       "    </tr>\n",
       "    <tr>\n",
       "      <th>1</th>\n",
       "      <td>171773</td>\n",
       "      <td>PAGADO</td>\n",
       "      <td>INDIVIDUAL</td>\n",
       "      <td>Hepatitis Viral(A-B-C)</td>\n",
       "      <td>EMERGENCIA</td>\n",
       "      <td>CLINICA</td>\n",
       "      <td>Distrito Capital</td>\n",
       "      <td>F</td>\n",
       "      <td>50</td>\n",
       "      <td>29</td>\n",
       "      <td>142</td>\n",
       "      <td>2018-09-01</td>\n",
       "      <td>50-59</td>\n",
       "      <td>Ambulatorio</td>\n",
       "    </tr>\n",
       "    <tr>\n",
       "      <th>2</th>\n",
       "      <td>167138</td>\n",
       "      <td>PAGADO</td>\n",
       "      <td>INDIVIDUAL</td>\n",
       "      <td>Amigdalo-Faringitis Aguda</td>\n",
       "      <td>EMERGENCIA</td>\n",
       "      <td>CLINICA</td>\n",
       "      <td>Zulia</td>\n",
       "      <td>M</td>\n",
       "      <td>42</td>\n",
       "      <td>29</td>\n",
       "      <td>21</td>\n",
       "      <td>2018-09-02</td>\n",
       "      <td>40-49</td>\n",
       "      <td>Ambulatorio</td>\n",
       "    </tr>\n",
       "    <tr>\n",
       "      <th>3</th>\n",
       "      <td>180517</td>\n",
       "      <td>PAGADO</td>\n",
       "      <td>INDIVIDUAL</td>\n",
       "      <td>Bronquitis Aguda</td>\n",
       "      <td>EMERGENCIA</td>\n",
       "      <td>CLINICA</td>\n",
       "      <td>Distrito Capital</td>\n",
       "      <td>F</td>\n",
       "      <td>59</td>\n",
       "      <td>29</td>\n",
       "      <td>311</td>\n",
       "      <td>2018-09-02</td>\n",
       "      <td>50-59</td>\n",
       "      <td>Hospitalización</td>\n",
       "    </tr>\n",
       "    <tr>\n",
       "      <th>4</th>\n",
       "      <td>149033</td>\n",
       "      <td>PAGADO</td>\n",
       "      <td>COLECTIVO</td>\n",
       "      <td>Dolor Abdominal Y Pelvico</td>\n",
       "      <td>EMERGENCIA</td>\n",
       "      <td>CLINICA</td>\n",
       "      <td>Miranda</td>\n",
       "      <td>F</td>\n",
       "      <td>47</td>\n",
       "      <td>29</td>\n",
       "      <td>14</td>\n",
       "      <td>2018-09-02</td>\n",
       "      <td>40-49</td>\n",
       "      <td>Ambulatorio</td>\n",
       "    </tr>\n",
       "  </tbody>\n",
       "</table>\n",
       "</div>"
      ],
      "text/plain": [
       "   Unnamed: 0  status insurance_type                         disease  \\\n",
       "0      170734  PAGADO     INDIVIDUAL  Laringitis Y Traqueitis Agudas   \n",
       "1      171773  PAGADO     INDIVIDUAL          Hepatitis Viral(A-B-C)   \n",
       "2      167138  PAGADO     INDIVIDUAL       Amigdalo-Faringitis Aguda   \n",
       "3      180517  PAGADO     INDIVIDUAL                Bronquitis Aguda   \n",
       "4      149033  PAGADO      COLECTIVO       Dolor Abdominal Y Pelvico   \n",
       "\n",
       "   claim_type provider_type             state sex  age  country_id  amount  \\\n",
       "0  EMERGENCIA       CLINICA  Distrito Capital   F   48          29      26   \n",
       "1  EMERGENCIA       CLINICA  Distrito Capital   F   50          29     142   \n",
       "2  EMERGENCIA       CLINICA             Zulia   M   42          29      21   \n",
       "3  EMERGENCIA       CLINICA  Distrito Capital   F   59          29     311   \n",
       "4  EMERGENCIA       CLINICA           Miranda   F   47          29      14   \n",
       "\n",
       "  date_issue age_range           h_type  \n",
       "0 2018-09-01     40-49      Ambulatorio  \n",
       "1 2018-09-01     50-59      Ambulatorio  \n",
       "2 2018-09-02     40-49      Ambulatorio  \n",
       "3 2018-09-02     50-59  Hospitalización  \n",
       "4 2018-09-02     40-49      Ambulatorio  "
      ]
     },
     "execution_count": 3,
     "metadata": {},
     "output_type": "execute_result"
    }
   ],
   "source": [
    "data.head()"
   ]
  },
  {
   "cell_type": "code",
   "execution_count": 4,
   "id": "cardiac-meeting",
   "metadata": {},
   "outputs": [],
   "source": [
    "data = data.drop(columns=['Unnamed: 0'])"
   ]
  },
  {
   "cell_type": "code",
   "execution_count": 5,
   "id": "threatened-freeze",
   "metadata": {},
   "outputs": [
    {
     "data": {
      "text/html": [
       "<div>\n",
       "<style scoped>\n",
       "    .dataframe tbody tr th:only-of-type {\n",
       "        vertical-align: middle;\n",
       "    }\n",
       "\n",
       "    .dataframe tbody tr th {\n",
       "        vertical-align: top;\n",
       "    }\n",
       "\n",
       "    .dataframe thead th {\n",
       "        text-align: right;\n",
       "    }\n",
       "</style>\n",
       "<table border=\"1\" class=\"dataframe\">\n",
       "  <thead>\n",
       "    <tr style=\"text-align: right;\">\n",
       "      <th></th>\n",
       "      <th>status</th>\n",
       "      <th>insurance_type</th>\n",
       "      <th>disease</th>\n",
       "      <th>claim_type</th>\n",
       "      <th>provider_type</th>\n",
       "      <th>state</th>\n",
       "      <th>sex</th>\n",
       "      <th>age</th>\n",
       "      <th>country_id</th>\n",
       "      <th>amount</th>\n",
       "      <th>date_issue</th>\n",
       "      <th>age_range</th>\n",
       "      <th>h_type</th>\n",
       "    </tr>\n",
       "  </thead>\n",
       "  <tbody>\n",
       "    <tr>\n",
       "      <th>0</th>\n",
       "      <td>PAGADO</td>\n",
       "      <td>INDIVIDUAL</td>\n",
       "      <td>Laringitis Y Traqueitis Agudas</td>\n",
       "      <td>EMERGENCIA</td>\n",
       "      <td>CLINICA</td>\n",
       "      <td>Distrito Capital</td>\n",
       "      <td>F</td>\n",
       "      <td>48</td>\n",
       "      <td>29</td>\n",
       "      <td>26</td>\n",
       "      <td>2018-09-01</td>\n",
       "      <td>40-49</td>\n",
       "      <td>Ambulatorio</td>\n",
       "    </tr>\n",
       "    <tr>\n",
       "      <th>1</th>\n",
       "      <td>PAGADO</td>\n",
       "      <td>INDIVIDUAL</td>\n",
       "      <td>Hepatitis Viral(A-B-C)</td>\n",
       "      <td>EMERGENCIA</td>\n",
       "      <td>CLINICA</td>\n",
       "      <td>Distrito Capital</td>\n",
       "      <td>F</td>\n",
       "      <td>50</td>\n",
       "      <td>29</td>\n",
       "      <td>142</td>\n",
       "      <td>2018-09-01</td>\n",
       "      <td>50-59</td>\n",
       "      <td>Ambulatorio</td>\n",
       "    </tr>\n",
       "    <tr>\n",
       "      <th>2</th>\n",
       "      <td>PAGADO</td>\n",
       "      <td>INDIVIDUAL</td>\n",
       "      <td>Amigdalo-Faringitis Aguda</td>\n",
       "      <td>EMERGENCIA</td>\n",
       "      <td>CLINICA</td>\n",
       "      <td>Zulia</td>\n",
       "      <td>M</td>\n",
       "      <td>42</td>\n",
       "      <td>29</td>\n",
       "      <td>21</td>\n",
       "      <td>2018-09-02</td>\n",
       "      <td>40-49</td>\n",
       "      <td>Ambulatorio</td>\n",
       "    </tr>\n",
       "    <tr>\n",
       "      <th>3</th>\n",
       "      <td>PAGADO</td>\n",
       "      <td>INDIVIDUAL</td>\n",
       "      <td>Bronquitis Aguda</td>\n",
       "      <td>EMERGENCIA</td>\n",
       "      <td>CLINICA</td>\n",
       "      <td>Distrito Capital</td>\n",
       "      <td>F</td>\n",
       "      <td>59</td>\n",
       "      <td>29</td>\n",
       "      <td>311</td>\n",
       "      <td>2018-09-02</td>\n",
       "      <td>50-59</td>\n",
       "      <td>Hospitalización</td>\n",
       "    </tr>\n",
       "    <tr>\n",
       "      <th>4</th>\n",
       "      <td>PAGADO</td>\n",
       "      <td>COLECTIVO</td>\n",
       "      <td>Dolor Abdominal Y Pelvico</td>\n",
       "      <td>EMERGENCIA</td>\n",
       "      <td>CLINICA</td>\n",
       "      <td>Miranda</td>\n",
       "      <td>F</td>\n",
       "      <td>47</td>\n",
       "      <td>29</td>\n",
       "      <td>14</td>\n",
       "      <td>2018-09-02</td>\n",
       "      <td>40-49</td>\n",
       "      <td>Ambulatorio</td>\n",
       "    </tr>\n",
       "  </tbody>\n",
       "</table>\n",
       "</div>"
      ],
      "text/plain": [
       "   status insurance_type                         disease  claim_type  \\\n",
       "0  PAGADO     INDIVIDUAL  Laringitis Y Traqueitis Agudas  EMERGENCIA   \n",
       "1  PAGADO     INDIVIDUAL          Hepatitis Viral(A-B-C)  EMERGENCIA   \n",
       "2  PAGADO     INDIVIDUAL       Amigdalo-Faringitis Aguda  EMERGENCIA   \n",
       "3  PAGADO     INDIVIDUAL                Bronquitis Aguda  EMERGENCIA   \n",
       "4  PAGADO      COLECTIVO       Dolor Abdominal Y Pelvico  EMERGENCIA   \n",
       "\n",
       "  provider_type             state sex  age  country_id  amount date_issue  \\\n",
       "0       CLINICA  Distrito Capital   F   48          29      26 2018-09-01   \n",
       "1       CLINICA  Distrito Capital   F   50          29     142 2018-09-01   \n",
       "2       CLINICA             Zulia   M   42          29      21 2018-09-02   \n",
       "3       CLINICA  Distrito Capital   F   59          29     311 2018-09-02   \n",
       "4       CLINICA           Miranda   F   47          29      14 2018-09-02   \n",
       "\n",
       "  age_range           h_type  \n",
       "0     40-49      Ambulatorio  \n",
       "1     50-59      Ambulatorio  \n",
       "2     40-49      Ambulatorio  \n",
       "3     50-59  Hospitalización  \n",
       "4     40-49      Ambulatorio  "
      ]
     },
     "execution_count": 5,
     "metadata": {},
     "output_type": "execute_result"
    }
   ],
   "source": [
    "data.head()"
   ]
  },
  {
   "cell_type": "code",
   "execution_count": 6,
   "id": "saved-charger",
   "metadata": {},
   "outputs": [
    {
     "data": {
      "text/plain": [
       "(151251, 13)"
      ]
     },
     "execution_count": 6,
     "metadata": {},
     "output_type": "execute_result"
    }
   ],
   "source": [
    "data.shape"
   ]
  },
  {
   "cell_type": "code",
   "execution_count": 7,
   "id": "eastern-right",
   "metadata": {},
   "outputs": [
    {
     "name": "stdout",
     "output_type": "stream",
     "text": [
      "total_amount: 97905791\n"
     ]
    }
   ],
   "source": [
    "print('total_amount:', data[\"amount\"].sum())"
   ]
  },
  {
   "cell_type": "code",
   "execution_count": 8,
   "id": "discrete-treasurer",
   "metadata": {},
   "outputs": [
    {
     "data": {
      "text/plain": [
       "array(['INDIVIDUAL', 'COLECTIVO'], dtype=object)"
      ]
     },
     "execution_count": 8,
     "metadata": {},
     "output_type": "execute_result"
    }
   ],
   "source": [
    "data['insurance_type'].unique()"
   ]
  },
  {
   "cell_type": "markdown",
   "id": "optional-maldives",
   "metadata": {},
   "source": [
    "## PORTFOLIO INDIVIDUAL "
   ]
  },
  {
   "cell_type": "code",
   "execution_count": 9,
   "id": "threaded-forum",
   "metadata": {},
   "outputs": [],
   "source": [
    "data_indiv = data.query('insurance_type == \"INDIVIDUAL\"')"
   ]
  },
  {
   "cell_type": "code",
   "execution_count": 10,
   "id": "proprietary-section",
   "metadata": {},
   "outputs": [
    {
     "data": {
      "text/plain": [
       "(39432, 13)"
      ]
     },
     "execution_count": 10,
     "metadata": {},
     "output_type": "execute_result"
    }
   ],
   "source": [
    "data_indiv.shape"
   ]
  },
  {
   "cell_type": "code",
   "execution_count": 11,
   "id": "adopted-classic",
   "metadata": {},
   "outputs": [
    {
     "data": {
      "text/plain": [
       "[<matplotlib.lines.Line2D at 0x1238d29a0>]"
      ]
     },
     "execution_count": 11,
     "metadata": {},
     "output_type": "execute_result"
    },
    {
     "data": {
      "image/png": "[encoded data removed]",
      "text/plain": [
       "<Figure size 720x360 with 1 Axes>"
      ]
     },
     "metadata": {
      "needs_background": "light"
     },
     "output_type": "display_data"
    }
   ],
   "source": [
    "plt.figure(figsize=(10, 5))\n",
    "plt.plot(data_indiv[\"date_issue\"], data_indiv[\"amount\"])"
   ]
  },
  {
   "cell_type": "code",
   "execution_count": 12,
   "id": "given-swedish",
   "metadata": {},
   "outputs": [
    {
     "name": "stdout",
     "output_type": "stream",
     "text": [
      "total_amount_indiv: 49113343\n",
      "percentage_amount_indiv: 50.16387947879406\n"
     ]
    }
   ],
   "source": [
    "print('total_amount_indiv:', data_indiv[\"amount\"].sum())\n",
    "print('percentage_amount_indiv:', (data_indiv[\"amount\"].sum() / data[\"amount\"].sum()) * 100)"
   ]
  },
  {
   "cell_type": "code",
   "execution_count": 13,
   "id": "sustainable-portland",
   "metadata": {},
   "outputs": [
    {
     "data": {
      "text/html": [
       "<div>\n",
       "<style scoped>\n",
       "    .dataframe tbody tr th:only-of-type {\n",
       "        vertical-align: middle;\n",
       "    }\n",
       "\n",
       "    .dataframe tbody tr th {\n",
       "        vertical-align: top;\n",
       "    }\n",
       "\n",
       "    .dataframe thead th {\n",
       "        text-align: right;\n",
       "    }\n",
       "</style>\n",
       "<table border=\"1\" class=\"dataframe\">\n",
       "  <thead>\n",
       "    <tr style=\"text-align: right;\">\n",
       "      <th></th>\n",
       "      <th>age</th>\n",
       "      <th>country_id</th>\n",
       "      <th>amount</th>\n",
       "    </tr>\n",
       "  </thead>\n",
       "  <tbody>\n",
       "    <tr>\n",
       "      <th>count</th>\n",
       "      <td>39432.000000</td>\n",
       "      <td>39432.000000</td>\n",
       "      <td>39432.000000</td>\n",
       "    </tr>\n",
       "    <tr>\n",
       "      <th>mean</th>\n",
       "      <td>42.092945</td>\n",
       "      <td>28.399244</td>\n",
       "      <td>1245.519958</td>\n",
       "    </tr>\n",
       "    <tr>\n",
       "      <th>std</th>\n",
       "      <td>21.765455</td>\n",
       "      <td>3.021139</td>\n",
       "      <td>7548.133962</td>\n",
       "    </tr>\n",
       "    <tr>\n",
       "      <th>min</th>\n",
       "      <td>0.000000</td>\n",
       "      <td>1.000000</td>\n",
       "      <td>0.000000</td>\n",
       "    </tr>\n",
       "    <tr>\n",
       "      <th>25%</th>\n",
       "      <td>28.000000</td>\n",
       "      <td>29.000000</td>\n",
       "      <td>39.000000</td>\n",
       "    </tr>\n",
       "    <tr>\n",
       "      <th>50%</th>\n",
       "      <td>43.000000</td>\n",
       "      <td>29.000000</td>\n",
       "      <td>108.000000</td>\n",
       "    </tr>\n",
       "    <tr>\n",
       "      <th>75%</th>\n",
       "      <td>59.000000</td>\n",
       "      <td>29.000000</td>\n",
       "      <td>507.000000</td>\n",
       "    </tr>\n",
       "    <tr>\n",
       "      <th>max</th>\n",
       "      <td>96.000000</td>\n",
       "      <td>46.000000</td>\n",
       "      <td>657312.000000</td>\n",
       "    </tr>\n",
       "  </tbody>\n",
       "</table>\n",
       "</div>"
      ],
      "text/plain": [
       "                age    country_id         amount\n",
       "count  39432.000000  39432.000000   39432.000000\n",
       "mean      42.092945     28.399244    1245.519958\n",
       "std       21.765455      3.021139    7548.133962\n",
       "min        0.000000      1.000000       0.000000\n",
       "25%       28.000000     29.000000      39.000000\n",
       "50%       43.000000     29.000000     108.000000\n",
       "75%       59.000000     29.000000     507.000000\n",
       "max       96.000000     46.000000  657312.000000"
      ]
     },
     "execution_count": 13,
     "metadata": {},
     "output_type": "execute_result"
    }
   ],
   "source": [
    "data_indiv.describe()"
   ]
  },
  {
   "cell_type": "code",
   "execution_count": 14,
   "id": "efficient-envelope",
   "metadata": {
    "tags": []
   },
   "outputs": [],
   "source": [
    "data_indiv_max = data_indiv.query('amount > 200000')"
   ]
  },
  {
   "cell_type": "code",
   "execution_count": 15,
   "id": "numerical-salem",
   "metadata": {},
   "outputs": [
    {
     "data": {
      "text/html": [
       "<div>\n",
       "<style scoped>\n",
       "    .dataframe tbody tr th:only-of-type {\n",
       "        vertical-align: middle;\n",
       "    }\n",
       "\n",
       "    .dataframe tbody tr th {\n",
       "        vertical-align: top;\n",
       "    }\n",
       "\n",
       "    .dataframe thead th {\n",
       "        text-align: right;\n",
       "    }\n",
       "</style>\n",
       "<table border=\"1\" class=\"dataframe\">\n",
       "  <thead>\n",
       "    <tr style=\"text-align: right;\">\n",
       "      <th></th>\n",
       "      <th>status</th>\n",
       "      <th>insurance_type</th>\n",
       "      <th>disease</th>\n",
       "      <th>claim_type</th>\n",
       "      <th>provider_type</th>\n",
       "      <th>state</th>\n",
       "      <th>sex</th>\n",
       "      <th>age</th>\n",
       "      <th>country_id</th>\n",
       "      <th>amount</th>\n",
       "      <th>date_issue</th>\n",
       "      <th>age_range</th>\n",
       "      <th>h_type</th>\n",
       "    </tr>\n",
       "  </thead>\n",
       "  <tbody>\n",
       "    <tr>\n",
       "      <th>1048</th>\n",
       "      <td>PAGADO</td>\n",
       "      <td>INDIVIDUAL</td>\n",
       "      <td>Insuficiencia Cardiaca</td>\n",
       "      <td>REEMBOLSO</td>\n",
       "      <td>No Informado</td>\n",
       "      <td>Estado No Identificado</td>\n",
       "      <td>M</td>\n",
       "      <td>72</td>\n",
       "      <td>15</td>\n",
       "      <td>314479</td>\n",
       "      <td>2018-09-20</td>\n",
       "      <td>Mayor a 70</td>\n",
       "      <td>Hospitalización</td>\n",
       "    </tr>\n",
       "    <tr>\n",
       "      <th>1448</th>\n",
       "      <td>PAGADO</td>\n",
       "      <td>INDIVIDUAL</td>\n",
       "      <td>Lumbalgia</td>\n",
       "      <td>REEMBOLSO</td>\n",
       "      <td>No Informado</td>\n",
       "      <td>Estado No Identificado</td>\n",
       "      <td>F</td>\n",
       "      <td>61</td>\n",
       "      <td>29</td>\n",
       "      <td>657312</td>\n",
       "      <td>2018-09-27</td>\n",
       "      <td>60-69</td>\n",
       "      <td>Hospitalización</td>\n",
       "    </tr>\n",
       "    <tr>\n",
       "      <th>6957</th>\n",
       "      <td>PAGADO</td>\n",
       "      <td>INDIVIDUAL</td>\n",
       "      <td>Traumatismo Intracraneal</td>\n",
       "      <td>REEMBOLSO</td>\n",
       "      <td>No Informado</td>\n",
       "      <td>Estado No Identificado</td>\n",
       "      <td>M</td>\n",
       "      <td>79</td>\n",
       "      <td>15</td>\n",
       "      <td>214900</td>\n",
       "      <td>2019-01-16</td>\n",
       "      <td>Mayor a 70</td>\n",
       "      <td>Hospitalización</td>\n",
       "    </tr>\n",
       "    <tr>\n",
       "      <th>21583</th>\n",
       "      <td>PAGADO</td>\n",
       "      <td>INDIVIDUAL</td>\n",
       "      <td>Bronquitis Cronica-Enfisema (Epoc)</td>\n",
       "      <td>REEMBOLSO</td>\n",
       "      <td>No Informado</td>\n",
       "      <td>Estado No Identificado</td>\n",
       "      <td>F</td>\n",
       "      <td>59</td>\n",
       "      <td>15</td>\n",
       "      <td>254392</td>\n",
       "      <td>2019-07-01</td>\n",
       "      <td>50-59</td>\n",
       "      <td>Hospitalización</td>\n",
       "    </tr>\n",
       "    <tr>\n",
       "      <th>23613</th>\n",
       "      <td>PAGADO</td>\n",
       "      <td>INDIVIDUAL</td>\n",
       "      <td>Cardiopatia Isquemica:Angina De Pecho-Infarto ...</td>\n",
       "      <td>REEMBOLSO</td>\n",
       "      <td>No Informado</td>\n",
       "      <td>Estado No Identificado</td>\n",
       "      <td>F</td>\n",
       "      <td>79</td>\n",
       "      <td>15</td>\n",
       "      <td>206108</td>\n",
       "      <td>2019-07-17</td>\n",
       "      <td>Mayor a 70</td>\n",
       "      <td>Hospitalización</td>\n",
       "    </tr>\n",
       "  </tbody>\n",
       "</table>\n",
       "</div>"
      ],
      "text/plain": [
       "       status insurance_type  \\\n",
       "1048   PAGADO     INDIVIDUAL   \n",
       "1448   PAGADO     INDIVIDUAL   \n",
       "6957   PAGADO     INDIVIDUAL   \n",
       "21583  PAGADO     INDIVIDUAL   \n",
       "23613  PAGADO     INDIVIDUAL   \n",
       "\n",
       "                                                 disease claim_type  \\\n",
       "1048                              Insuficiencia Cardiaca  REEMBOLSO   \n",
       "1448                                           Lumbalgia  REEMBOLSO   \n",
       "6957                            Traumatismo Intracraneal  REEMBOLSO   \n",
       "21583                 Bronquitis Cronica-Enfisema (Epoc)  REEMBOLSO   \n",
       "23613  Cardiopatia Isquemica:Angina De Pecho-Infarto ...  REEMBOLSO   \n",
       "\n",
       "      provider_type                   state sex  age  country_id  amount  \\\n",
       "1048   No Informado  Estado No Identificado   M   72          15  314479   \n",
       "1448   No Informado  Estado No Identificado   F   61          29  657312   \n",
       "6957   No Informado  Estado No Identificado   M   79          15  214900   \n",
       "21583  No Informado  Estado No Identificado   F   59          15  254392   \n",
       "23613  No Informado  Estado No Identificado   F   79          15  206108   \n",
       "\n",
       "      date_issue   age_range           h_type  \n",
       "1048  2018-09-20  Mayor a 70  Hospitalización  \n",
       "1448  2018-09-27       60-69  Hospitalización  \n",
       "6957  2019-01-16  Mayor a 70  Hospitalización  \n",
       "21583 2019-07-01       50-59  Hospitalización  \n",
       "23613 2019-07-17  Mayor a 70  Hospitalización  "
      ]
     },
     "execution_count": 15,
     "metadata": {},
     "output_type": "execute_result"
    }
   ],
   "source": [
    "data_indiv_max.head()"
   ]
  },
  {
   "cell_type": "markdown",
   "id": "bigger-reset",
   "metadata": {},
   "source": [
    "#### *Remove amount > 200000*"
   ]
  },
  {
   "cell_type": "code",
   "execution_count": 16,
   "id": "liberal-enemy",
   "metadata": {},
   "outputs": [],
   "source": [
    "data_indiv_homog = data_indiv.query('amount < 200000')"
   ]
  },
  {
   "cell_type": "code",
   "execution_count": 17,
   "id": "olympic-simulation",
   "metadata": {},
   "outputs": [
    {
     "data": {
      "text/plain": [
       "(39422, 13)"
      ]
     },
     "execution_count": 17,
     "metadata": {},
     "output_type": "execute_result"
    }
   ],
   "source": [
    "data_indiv_homog.shape"
   ]
  },
  {
   "cell_type": "code",
   "execution_count": 18,
   "id": "honest-sellers",
   "metadata": {},
   "outputs": [
    {
     "data": {
      "text/plain": [
       "[<matplotlib.lines.Line2D at 0x123eef3d0>]"
      ]
     },
     "execution_count": 18,
     "metadata": {},
     "output_type": "execute_result"
    },
    {
     "data": {
      "image/png": "[encoded data removed]",
      "text/plain": [
       "<Figure size 720x360 with 1 Axes>"
      ]
     },
     "metadata": {
      "needs_background": "light"
     },
     "output_type": "display_data"
    }
   ],
   "source": [
    "plt.figure(figsize=(10, 5))\n",
    "plt.plot(data_indiv_homog[\"date_issue\"], data_indiv_homog[\"amount\"])"
   ]
  },
  {
   "cell_type": "code",
   "execution_count": 19,
   "id": "mechanical-brisbane",
   "metadata": {},
   "outputs": [
    {
     "data": {
      "text/html": [
       "<div>\n",
       "<style scoped>\n",
       "    .dataframe tbody tr th:only-of-type {\n",
       "        vertical-align: middle;\n",
       "    }\n",
       "\n",
       "    .dataframe tbody tr th {\n",
       "        vertical-align: top;\n",
       "    }\n",
       "\n",
       "    .dataframe thead th {\n",
       "        text-align: right;\n",
       "    }\n",
       "</style>\n",
       "<table border=\"1\" class=\"dataframe\">\n",
       "  <thead>\n",
       "    <tr style=\"text-align: right;\">\n",
       "      <th></th>\n",
       "      <th>status</th>\n",
       "      <th>insurance_type</th>\n",
       "      <th>disease</th>\n",
       "      <th>claim_type</th>\n",
       "      <th>provider_type</th>\n",
       "      <th>state</th>\n",
       "      <th>sex</th>\n",
       "      <th>age</th>\n",
       "      <th>country_id</th>\n",
       "      <th>amount</th>\n",
       "      <th>date_issue</th>\n",
       "      <th>age_range</th>\n",
       "      <th>h_type</th>\n",
       "    </tr>\n",
       "  </thead>\n",
       "  <tbody>\n",
       "    <tr>\n",
       "      <th>0</th>\n",
       "      <td>PAGADO</td>\n",
       "      <td>INDIVIDUAL</td>\n",
       "      <td>Laringitis Y Traqueitis Agudas</td>\n",
       "      <td>EMERGENCIA</td>\n",
       "      <td>CLINICA</td>\n",
       "      <td>Distrito Capital</td>\n",
       "      <td>F</td>\n",
       "      <td>48</td>\n",
       "      <td>29</td>\n",
       "      <td>26</td>\n",
       "      <td>2018-09-01</td>\n",
       "      <td>40-49</td>\n",
       "      <td>Ambulatorio</td>\n",
       "    </tr>\n",
       "    <tr>\n",
       "      <th>1</th>\n",
       "      <td>PAGADO</td>\n",
       "      <td>INDIVIDUAL</td>\n",
       "      <td>Hepatitis Viral(A-B-C)</td>\n",
       "      <td>EMERGENCIA</td>\n",
       "      <td>CLINICA</td>\n",
       "      <td>Distrito Capital</td>\n",
       "      <td>F</td>\n",
       "      <td>50</td>\n",
       "      <td>29</td>\n",
       "      <td>142</td>\n",
       "      <td>2018-09-01</td>\n",
       "      <td>50-59</td>\n",
       "      <td>Ambulatorio</td>\n",
       "    </tr>\n",
       "    <tr>\n",
       "      <th>2</th>\n",
       "      <td>PAGADO</td>\n",
       "      <td>INDIVIDUAL</td>\n",
       "      <td>Amigdalo-Faringitis Aguda</td>\n",
       "      <td>EMERGENCIA</td>\n",
       "      <td>CLINICA</td>\n",
       "      <td>Zulia</td>\n",
       "      <td>M</td>\n",
       "      <td>42</td>\n",
       "      <td>29</td>\n",
       "      <td>21</td>\n",
       "      <td>2018-09-02</td>\n",
       "      <td>40-49</td>\n",
       "      <td>Ambulatorio</td>\n",
       "    </tr>\n",
       "    <tr>\n",
       "      <th>3</th>\n",
       "      <td>PAGADO</td>\n",
       "      <td>INDIVIDUAL</td>\n",
       "      <td>Bronquitis Aguda</td>\n",
       "      <td>EMERGENCIA</td>\n",
       "      <td>CLINICA</td>\n",
       "      <td>Distrito Capital</td>\n",
       "      <td>F</td>\n",
       "      <td>59</td>\n",
       "      <td>29</td>\n",
       "      <td>311</td>\n",
       "      <td>2018-09-02</td>\n",
       "      <td>50-59</td>\n",
       "      <td>Hospitalización</td>\n",
       "    </tr>\n",
       "    <tr>\n",
       "      <th>8</th>\n",
       "      <td>PAGADO</td>\n",
       "      <td>INDIVIDUAL</td>\n",
       "      <td>Gastritis (Simple)</td>\n",
       "      <td>REEMBOLSO</td>\n",
       "      <td>No Informado</td>\n",
       "      <td>Estado No Identificado</td>\n",
       "      <td>M</td>\n",
       "      <td>26</td>\n",
       "      <td>29</td>\n",
       "      <td>18</td>\n",
       "      <td>2018-09-03</td>\n",
       "      <td>20-29</td>\n",
       "      <td>Hospitalización</td>\n",
       "    </tr>\n",
       "    <tr>\n",
       "      <th>...</th>\n",
       "      <td>...</td>\n",
       "      <td>...</td>\n",
       "      <td>...</td>\n",
       "      <td>...</td>\n",
       "      <td>...</td>\n",
       "      <td>...</td>\n",
       "      <td>...</td>\n",
       "      <td>...</td>\n",
       "      <td>...</td>\n",
       "      <td>...</td>\n",
       "      <td>...</td>\n",
       "      <td>...</td>\n",
       "      <td>...</td>\n",
       "    </tr>\n",
       "    <tr>\n",
       "      <th>151241</th>\n",
       "      <td>PENDIENTE</td>\n",
       "      <td>INDIVIDUAL</td>\n",
       "      <td>Luxaciones, Torcedura Y Esguinces Que Afectan ...</td>\n",
       "      <td>EMERGENCIA</td>\n",
       "      <td>CLINICA</td>\n",
       "      <td>Nueva Esparta</td>\n",
       "      <td>F</td>\n",
       "      <td>25</td>\n",
       "      <td>29</td>\n",
       "      <td>1243</td>\n",
       "      <td>2021-03-08</td>\n",
       "      <td>20-29</td>\n",
       "      <td>Ambulatorio</td>\n",
       "    </tr>\n",
       "    <tr>\n",
       "      <th>151242</th>\n",
       "      <td>PENDIENTE</td>\n",
       "      <td>INDIVIDUAL</td>\n",
       "      <td>Intoxicacion Alimentaria Bacteriana</td>\n",
       "      <td>EMERGENCIA</td>\n",
       "      <td>CLINICA</td>\n",
       "      <td>Lara</td>\n",
       "      <td>F</td>\n",
       "      <td>14</td>\n",
       "      <td>29</td>\n",
       "      <td>100000</td>\n",
       "      <td>2021-03-08</td>\n",
       "      <td>2019-10-01 00:00:00</td>\n",
       "      <td>Hospitalización</td>\n",
       "    </tr>\n",
       "    <tr>\n",
       "      <th>151246</th>\n",
       "      <td>PENDIENTE</td>\n",
       "      <td>INDIVIDUAL</td>\n",
       "      <td>Fiebre Del Dengue Clasico/Hemorragico</td>\n",
       "      <td>EMERGENCIA</td>\n",
       "      <td>CLINICA</td>\n",
       "      <td>Falcon</td>\n",
       "      <td>F</td>\n",
       "      <td>42</td>\n",
       "      <td>29</td>\n",
       "      <td>1351</td>\n",
       "      <td>2021-03-08</td>\n",
       "      <td>40-49</td>\n",
       "      <td>Hospitalización</td>\n",
       "    </tr>\n",
       "    <tr>\n",
       "      <th>151249</th>\n",
       "      <td>PENDIENTE</td>\n",
       "      <td>INDIVIDUAL</td>\n",
       "      <td>Neumonia Bacteriana/Viral</td>\n",
       "      <td>EMERGENCIA</td>\n",
       "      <td>CLINICA</td>\n",
       "      <td>Monagas</td>\n",
       "      <td>M</td>\n",
       "      <td>48</td>\n",
       "      <td>29</td>\n",
       "      <td>4962</td>\n",
       "      <td>2021-03-08</td>\n",
       "      <td>40-49</td>\n",
       "      <td>Hospitalización</td>\n",
       "    </tr>\n",
       "    <tr>\n",
       "      <th>151250</th>\n",
       "      <td>PENDIENTE</td>\n",
       "      <td>INDIVIDUAL</td>\n",
       "      <td>Rinitis Alergica Y Vasomotora</td>\n",
       "      <td>EMERGENCIA</td>\n",
       "      <td>CLINICA</td>\n",
       "      <td>Distrito Capital</td>\n",
       "      <td>M</td>\n",
       "      <td>50</td>\n",
       "      <td>29</td>\n",
       "      <td>797</td>\n",
       "      <td>2021-03-08</td>\n",
       "      <td>50-59</td>\n",
       "      <td>Ambulatorio</td>\n",
       "    </tr>\n",
       "  </tbody>\n",
       "</table>\n",
       "<p>39422 rows × 13 columns</p>\n",
       "</div>"
      ],
      "text/plain": [
       "           status insurance_type  \\\n",
       "0          PAGADO     INDIVIDUAL   \n",
       "1          PAGADO     INDIVIDUAL   \n",
       "2          PAGADO     INDIVIDUAL   \n",
       "3          PAGADO     INDIVIDUAL   \n",
       "8          PAGADO     INDIVIDUAL   \n",
       "...           ...            ...   \n",
       "151241  PENDIENTE     INDIVIDUAL   \n",
       "151242  PENDIENTE     INDIVIDUAL   \n",
       "151246  PENDIENTE     INDIVIDUAL   \n",
       "151249  PENDIENTE     INDIVIDUAL   \n",
       "151250  PENDIENTE     INDIVIDUAL   \n",
       "\n",
       "                                                  disease  claim_type  \\\n",
       "0                          Laringitis Y Traqueitis Agudas  EMERGENCIA   \n",
       "1                                  Hepatitis Viral(A-B-C)  EMERGENCIA   \n",
       "2                               Amigdalo-Faringitis Aguda  EMERGENCIA   \n",
       "3                                        Bronquitis Aguda  EMERGENCIA   \n",
       "8                                      Gastritis (Simple)   REEMBOLSO   \n",
       "...                                                   ...         ...   \n",
       "151241  Luxaciones, Torcedura Y Esguinces Que Afectan ...  EMERGENCIA   \n",
       "151242                Intoxicacion Alimentaria Bacteriana  EMERGENCIA   \n",
       "151246              Fiebre Del Dengue Clasico/Hemorragico  EMERGENCIA   \n",
       "151249                          Neumonia Bacteriana/Viral  EMERGENCIA   \n",
       "151250                      Rinitis Alergica Y Vasomotora  EMERGENCIA   \n",
       "\n",
       "       provider_type                   state sex  age  country_id  amount  \\\n",
       "0            CLINICA        Distrito Capital   F   48          29      26   \n",
       "1            CLINICA        Distrito Capital   F   50          29     142   \n",
       "2            CLINICA                   Zulia   M   42          29      21   \n",
       "3            CLINICA        Distrito Capital   F   59          29     311   \n",
       "8       No Informado  Estado No Identificado   M   26          29      18   \n",
       "...              ...                     ...  ..  ...         ...     ...   \n",
       "151241       CLINICA           Nueva Esparta   F   25          29    1243   \n",
       "151242       CLINICA                    Lara   F   14          29  100000   \n",
       "151246       CLINICA                  Falcon   F   42          29    1351   \n",
       "151249       CLINICA                 Monagas   M   48          29    4962   \n",
       "151250       CLINICA        Distrito Capital   M   50          29     797   \n",
       "\n",
       "       date_issue            age_range           h_type  \n",
       "0      2018-09-01                40-49      Ambulatorio  \n",
       "1      2018-09-01                50-59      Ambulatorio  \n",
       "2      2018-09-02                40-49      Ambulatorio  \n",
       "3      2018-09-02                50-59  Hospitalización  \n",
       "8      2018-09-03                20-29  Hospitalización  \n",
       "...           ...                  ...              ...  \n",
       "151241 2021-03-08                20-29      Ambulatorio  \n",
       "151242 2021-03-08  2019-10-01 00:00:00  Hospitalización  \n",
       "151246 2021-03-08                40-49  Hospitalización  \n",
       "151249 2021-03-08                40-49  Hospitalización  \n",
       "151250 2021-03-08                50-59      Ambulatorio  \n",
       "\n",
       "[39422 rows x 13 columns]"
      ]
     },
     "execution_count": 19,
     "metadata": {},
     "output_type": "execute_result"
    }
   ],
   "source": [
    "data_indiv_homog"
   ]
  },
  {
   "cell_type": "code",
   "execution_count": 20,
   "id": "perfect-chance",
   "metadata": {},
   "outputs": [],
   "source": [
    "data_indiv_homog.to_excel('../raw_data/data_indiv_full.xlsx', engine='xlsxwriter')"
   ]
  },
  {
   "cell_type": "code",
   "execution_count": 21,
   "id": "recovered-bangladesh",
   "metadata": {},
   "outputs": [],
   "source": [
    "data_indiv_dayly = data_indiv_homog.groupby('date_issue', as_index = False).agg({'amount': 'sum'})\n",
    "data_indiv_dayly.columns = ['date_issue','total_amount_claims']"
   ]
  },
  {
   "cell_type": "code",
   "execution_count": 22,
   "id": "danish-offense",
   "metadata": {},
   "outputs": [
    {
     "data": {
      "text/plain": [
       "(919, 2)"
      ]
     },
     "execution_count": 22,
     "metadata": {},
     "output_type": "execute_result"
    }
   ],
   "source": [
    "data_indiv_dayly.shape"
   ]
  },
  {
   "cell_type": "code",
   "execution_count": 23,
   "id": "narrative-designer",
   "metadata": {},
   "outputs": [
    {
     "data": {
      "text/plain": [
       "<AxesSubplot:xlabel='date_issue'>"
      ]
     },
     "execution_count": 23,
     "metadata": {},
     "output_type": "execute_result"
    },
    {
     "data": {
      "image/png": "[encoded data removed]",
      "text/plain": [
       "<Figure size 1080x360 with 1 Axes>"
      ]
     },
     "metadata": {
      "needs_background": "light"
     },
     "output_type": "display_data"
    }
   ],
   "source": [
    "data_days_plotting = data_indiv_dayly.set_index('date_issue')\n",
    "data_days_plotting.plot(grid=True, figsize=(15,5))"
   ]
  },
  {
   "cell_type": "code",
   "execution_count": 24,
   "id": "curious-fruit",
   "metadata": {},
   "outputs": [],
   "source": [
    "data_indiv_weekly = data_indiv_dayly.resample('W-Mon', on='date_issue').sum().reset_index().sort_values(by='date_issue')"
   ]
  },
  {
   "cell_type": "code",
   "execution_count": 25,
   "id": "difficult-sixth",
   "metadata": {},
   "outputs": [
    {
     "data": {
      "text/plain": [
       "(132, 2)"
      ]
     },
     "execution_count": 25,
     "metadata": {},
     "output_type": "execute_result"
    }
   ],
   "source": [
    "data_indiv_weekly.shape"
   ]
  },
  {
   "cell_type": "code",
   "execution_count": 26,
   "id": "intensive-banks",
   "metadata": {},
   "outputs": [],
   "source": [
    "data_indiv_weekly.to_excel('../raw_data/data_indiv_weekly.xlsx', engine='xlsxwriter')"
   ]
  },
  {
   "cell_type": "markdown",
   "id": "amended-nightmare",
   "metadata": {},
   "source": [
    "## PORTFOLIO COLECTIVO"
   ]
  },
  {
   "cell_type": "code",
   "execution_count": 27,
   "id": "studied-marine",
   "metadata": {},
   "outputs": [],
   "source": [
    "data_colec = data.query('insurance_type == \"COLECTIVO\"')"
   ]
  },
  {
   "cell_type": "code",
   "execution_count": 28,
   "id": "australian-tolerance",
   "metadata": {},
   "outputs": [
    {
     "data": {
      "text/plain": [
       "(111819, 13)"
      ]
     },
     "execution_count": 28,
     "metadata": {},
     "output_type": "execute_result"
    }
   ],
   "source": [
    "data_colec.shape"
   ]
  },
  {
   "cell_type": "code",
   "execution_count": 29,
   "id": "working-arizona",
   "metadata": {},
   "outputs": [
    {
     "data": {
      "text/plain": [
       "[<matplotlib.lines.Line2D at 0x1265ee9a0>]"
      ]
     },
     "execution_count": 29,
     "metadata": {},
     "output_type": "execute_result"
    },
    {
     "data": {
      "image/png": "[encoded data removed]",
      "text/plain": [
       "<Figure size 720x360 with 1 Axes>"
      ]
     },
     "metadata": {
      "needs_background": "light"
     },
     "output_type": "display_data"
    }
   ],
   "source": [
    "plt.figure(figsize=(10, 5))\n",
    "plt.plot(data_colec[\"date_issue\"], data_colec[\"amount\"])"
   ]
  },
  {
   "cell_type": "code",
   "execution_count": 30,
   "id": "broad-perry",
   "metadata": {},
   "outputs": [
    {
     "name": "stdout",
     "output_type": "stream",
     "text": [
      "total_amount_colect: 48792448\n",
      "percentage_amount_colect: 49.83612052120594\n"
     ]
    }
   ],
   "source": [
    "print('total_amount_colect:', data_colec[\"amount\"].sum())\n",
    "print('percentage_amount_colect:', (data_colec[\"amount\"].sum() / data[\"amount\"].sum()) * 100)"
   ]
  },
  {
   "cell_type": "code",
   "execution_count": 31,
   "id": "median-writer",
   "metadata": {},
   "outputs": [
    {
     "data": {
      "text/html": [
       "<div>\n",
       "<style scoped>\n",
       "    .dataframe tbody tr th:only-of-type {\n",
       "        vertical-align: middle;\n",
       "    }\n",
       "\n",
       "    .dataframe tbody tr th {\n",
       "        vertical-align: top;\n",
       "    }\n",
       "\n",
       "    .dataframe thead th {\n",
       "        text-align: right;\n",
       "    }\n",
       "</style>\n",
       "<table border=\"1\" class=\"dataframe\">\n",
       "  <thead>\n",
       "    <tr style=\"text-align: right;\">\n",
       "      <th></th>\n",
       "      <th>age</th>\n",
       "      <th>country_id</th>\n",
       "      <th>amount</th>\n",
       "    </tr>\n",
       "  </thead>\n",
       "  <tbody>\n",
       "    <tr>\n",
       "      <th>count</th>\n",
       "      <td>111819.000000</td>\n",
       "      <td>111819.000000</td>\n",
       "      <td>111819.000000</td>\n",
       "    </tr>\n",
       "    <tr>\n",
       "      <th>mean</th>\n",
       "      <td>45.708636</td>\n",
       "      <td>28.540946</td>\n",
       "      <td>436.352033</td>\n",
       "    </tr>\n",
       "    <tr>\n",
       "      <th>std</th>\n",
       "      <td>22.660106</td>\n",
       "      <td>3.785918</td>\n",
       "      <td>1679.856183</td>\n",
       "    </tr>\n",
       "    <tr>\n",
       "      <th>min</th>\n",
       "      <td>0.000000</td>\n",
       "      <td>1.000000</td>\n",
       "      <td>0.000000</td>\n",
       "    </tr>\n",
       "    <tr>\n",
       "      <th>25%</th>\n",
       "      <td>31.000000</td>\n",
       "      <td>29.000000</td>\n",
       "      <td>15.000000</td>\n",
       "    </tr>\n",
       "    <tr>\n",
       "      <th>50%</th>\n",
       "      <td>47.000000</td>\n",
       "      <td>29.000000</td>\n",
       "      <td>48.000000</td>\n",
       "    </tr>\n",
       "    <tr>\n",
       "      <th>75%</th>\n",
       "      <td>63.000000</td>\n",
       "      <td>29.000000</td>\n",
       "      <td>220.000000</td>\n",
       "    </tr>\n",
       "    <tr>\n",
       "      <th>max</th>\n",
       "      <td>100.000000</td>\n",
       "      <td>85.000000</td>\n",
       "      <td>99101.000000</td>\n",
       "    </tr>\n",
       "  </tbody>\n",
       "</table>\n",
       "</div>"
      ],
      "text/plain": [
       "                 age     country_id         amount\n",
       "count  111819.000000  111819.000000  111819.000000\n",
       "mean       45.708636      28.540946     436.352033\n",
       "std        22.660106       3.785918    1679.856183\n",
       "min         0.000000       1.000000       0.000000\n",
       "25%        31.000000      29.000000      15.000000\n",
       "50%        47.000000      29.000000      48.000000\n",
       "75%        63.000000      29.000000     220.000000\n",
       "max       100.000000      85.000000   99101.000000"
      ]
     },
     "execution_count": 31,
     "metadata": {},
     "output_type": "execute_result"
    }
   ],
   "source": [
    "data_colec.describe()"
   ]
  },
  {
   "cell_type": "code",
   "execution_count": 32,
   "id": "organic-crime",
   "metadata": {},
   "outputs": [],
   "source": [
    "data_colec_max = data_colec.query('amount > 60000')"
   ]
  },
  {
   "cell_type": "code",
   "execution_count": 33,
   "id": "covered-district",
   "metadata": {},
   "outputs": [
    {
     "data": {
      "text/html": [
       "<div>\n",
       "<style scoped>\n",
       "    .dataframe tbody tr th:only-of-type {\n",
       "        vertical-align: middle;\n",
       "    }\n",
       "\n",
       "    .dataframe tbody tr th {\n",
       "        vertical-align: top;\n",
       "    }\n",
       "\n",
       "    .dataframe thead th {\n",
       "        text-align: right;\n",
       "    }\n",
       "</style>\n",
       "<table border=\"1\" class=\"dataframe\">\n",
       "  <thead>\n",
       "    <tr style=\"text-align: right;\">\n",
       "      <th></th>\n",
       "      <th>status</th>\n",
       "      <th>insurance_type</th>\n",
       "      <th>disease</th>\n",
       "      <th>claim_type</th>\n",
       "      <th>provider_type</th>\n",
       "      <th>state</th>\n",
       "      <th>sex</th>\n",
       "      <th>age</th>\n",
       "      <th>country_id</th>\n",
       "      <th>amount</th>\n",
       "      <th>date_issue</th>\n",
       "      <th>age_range</th>\n",
       "      <th>h_type</th>\n",
       "    </tr>\n",
       "  </thead>\n",
       "  <tbody>\n",
       "    <tr>\n",
       "      <th>9756</th>\n",
       "      <td>PAGADO</td>\n",
       "      <td>COLECTIVO</td>\n",
       "      <td>Colico Nefritico/Calculo Renal</td>\n",
       "      <td>REEMBOLSO</td>\n",
       "      <td>No Informado</td>\n",
       "      <td>Estado No Identificado</td>\n",
       "      <td>F</td>\n",
       "      <td>40</td>\n",
       "      <td>15</td>\n",
       "      <td>86353</td>\n",
       "      <td>2019-02-25</td>\n",
       "      <td>40-49</td>\n",
       "      <td>Hospitalización</td>\n",
       "    </tr>\n",
       "    <tr>\n",
       "      <th>91074</th>\n",
       "      <td>PAGADO</td>\n",
       "      <td>COLECTIVO</td>\n",
       "      <td>Infeccion Viral - Covid 19</td>\n",
       "      <td>EMERGENCIA</td>\n",
       "      <td>CLINICA</td>\n",
       "      <td>Distrito Capital</td>\n",
       "      <td>M</td>\n",
       "      <td>72</td>\n",
       "      <td>29</td>\n",
       "      <td>99101</td>\n",
       "      <td>2020-08-20</td>\n",
       "      <td>Mayor a 70</td>\n",
       "      <td>Hospitalización</td>\n",
       "    </tr>\n",
       "    <tr>\n",
       "      <th>124856</th>\n",
       "      <td>PAGADO</td>\n",
       "      <td>COLECTIVO</td>\n",
       "      <td>Tumor Maligno De La Vejiga Urinaria</td>\n",
       "      <td>EMERGENCIA</td>\n",
       "      <td>CLINICA</td>\n",
       "      <td>Distrito Capital</td>\n",
       "      <td>M</td>\n",
       "      <td>77</td>\n",
       "      <td>29</td>\n",
       "      <td>77189</td>\n",
       "      <td>2020-12-15</td>\n",
       "      <td>Mayor a 70</td>\n",
       "      <td>Hospitalización</td>\n",
       "    </tr>\n",
       "    <tr>\n",
       "      <th>138950</th>\n",
       "      <td>PENDIENTE</td>\n",
       "      <td>COLECTIVO</td>\n",
       "      <td>Quemaduras De I-Ii-Iii Grado</td>\n",
       "      <td>EMERGENCIA</td>\n",
       "      <td>CLINICA</td>\n",
       "      <td>Distrito Capital</td>\n",
       "      <td>F</td>\n",
       "      <td>50</td>\n",
       "      <td>29</td>\n",
       "      <td>96947</td>\n",
       "      <td>2021-02-02</td>\n",
       "      <td>50-59</td>\n",
       "      <td>Hospitalización</td>\n",
       "    </tr>\n",
       "  </tbody>\n",
       "</table>\n",
       "</div>"
      ],
      "text/plain": [
       "           status insurance_type                              disease  \\\n",
       "9756       PAGADO      COLECTIVO       Colico Nefritico/Calculo Renal   \n",
       "91074      PAGADO      COLECTIVO           Infeccion Viral - Covid 19   \n",
       "124856     PAGADO      COLECTIVO  Tumor Maligno De La Vejiga Urinaria   \n",
       "138950  PENDIENTE      COLECTIVO         Quemaduras De I-Ii-Iii Grado   \n",
       "\n",
       "        claim_type provider_type                   state sex  age  country_id  \\\n",
       "9756     REEMBOLSO  No Informado  Estado No Identificado   F   40          15   \n",
       "91074   EMERGENCIA       CLINICA        Distrito Capital   M   72          29   \n",
       "124856  EMERGENCIA       CLINICA        Distrito Capital   M   77          29   \n",
       "138950  EMERGENCIA       CLINICA        Distrito Capital   F   50          29   \n",
       "\n",
       "        amount date_issue   age_range           h_type  \n",
       "9756     86353 2019-02-25       40-49  Hospitalización  \n",
       "91074    99101 2020-08-20  Mayor a 70  Hospitalización  \n",
       "124856   77189 2020-12-15  Mayor a 70  Hospitalización  \n",
       "138950   96947 2021-02-02       50-59  Hospitalización  "
      ]
     },
     "execution_count": 33,
     "metadata": {},
     "output_type": "execute_result"
    }
   ],
   "source": [
    "data_colec_max"
   ]
  },
  {
   "cell_type": "markdown",
   "id": "liable-matter",
   "metadata": {},
   "source": [
    "#### *Remove amount > 60000*"
   ]
  },
  {
   "cell_type": "code",
   "execution_count": 34,
   "id": "geographic-laptop",
   "metadata": {},
   "outputs": [],
   "source": [
    "data_colec_homog = data_colec.query('amount < 60000')"
   ]
  },
  {
   "cell_type": "code",
   "execution_count": 35,
   "id": "checked-equation",
   "metadata": {},
   "outputs": [
    {
     "data": {
      "text/plain": [
       "(111815, 13)"
      ]
     },
     "execution_count": 35,
     "metadata": {},
     "output_type": "execute_result"
    }
   ],
   "source": [
    "data_colec_homog.shape"
   ]
  },
  {
   "cell_type": "code",
   "execution_count": 36,
   "id": "finished-sunrise",
   "metadata": {},
   "outputs": [
    {
     "data": {
      "text/plain": [
       "[<matplotlib.lines.Line2D at 0x12735fa30>]"
      ]
     },
     "execution_count": 36,
     "metadata": {},
     "output_type": "execute_result"
    },
    {
     "data": {
      "image/png": "[encoded data removed]",
      "text/plain": [
       "<Figure size 720x360 with 1 Axes>"
      ]
     },
     "metadata": {
      "needs_background": "light"
     },
     "output_type": "display_data"
    }
   ],
   "source": [
    "plt.figure(figsize=(10, 5))\n",
    "plt.plot(data_colec_homog[\"date_issue\"], data_colec_homog[\"amount\"])"
   ]
  },
  {
   "cell_type": "code",
   "execution_count": null,
   "id": "satellite-going",
   "metadata": {},
   "outputs": [],
   "source": [
    "data_colec_homog"
   ]
  },
  {
   "cell_type": "code",
   "execution_count": 37,
   "id": "analyzed-champion",
   "metadata": {},
   "outputs": [],
   "source": [
    "data_colec_homog.to_excel('../raw_data/data_colec_full.xlsx', engine='xlsxwriter')"
   ]
  },
  {
   "cell_type": "code",
   "execution_count": 38,
   "id": "adult-examination",
   "metadata": {},
   "outputs": [],
   "source": [
    "data_colec_dayly = data_colec_homog.groupby('date_issue', as_index = False).agg({'amount': 'sum'})\n",
    "data_colec_dayly.columns = ['date_issue','total_amount_claims']"
   ]
  },
  {
   "cell_type": "code",
   "execution_count": 39,
   "id": "surprising-sensitivity",
   "metadata": {},
   "outputs": [
    {
     "data": {
      "text/plain": [
       "(894, 2)"
      ]
     },
     "execution_count": 39,
     "metadata": {},
     "output_type": "execute_result"
    }
   ],
   "source": [
    "data_colec_dayly.shape"
   ]
  },
  {
   "cell_type": "code",
   "execution_count": 40,
   "id": "failing-persian",
   "metadata": {},
   "outputs": [
    {
     "data": {
      "text/plain": [
       "<AxesSubplot:xlabel='date_issue'>"
      ]
     },
     "execution_count": 40,
     "metadata": {},
     "output_type": "execute_result"
    },
    {
     "data": {
      "image/png": "[encoded data removed]",
      "text/plain": [
       "<Figure size 1080x360 with 1 Axes>"
      ]
     },
     "metadata": {
      "needs_background": "light"
     },
     "output_type": "display_data"
    }
   ],
   "source": [
    "data_days_plotting_colec = data_colec_dayly.set_index('date_issue')\n",
    "data_days_plotting_colec.plot(grid=True, figsize=(15,5))"
   ]
  },
  {
   "cell_type": "code",
   "execution_count": 41,
   "id": "employed-importance",
   "metadata": {},
   "outputs": [],
   "source": [
    "data_colec_weekly = data_colec_dayly.resample('W-Mon', on='date_issue').sum().reset_index().sort_values(by='date_issue')"
   ]
  },
  {
   "cell_type": "code",
   "execution_count": 42,
   "id": "decimal-henry",
   "metadata": {},
   "outputs": [
    {
     "data": {
      "text/plain": [
       "(132, 2)"
      ]
     },
     "execution_count": 42,
     "metadata": {},
     "output_type": "execute_result"
    }
   ],
   "source": [
    "data_colec_weekly.shape"
   ]
  },
  {
   "cell_type": "code",
   "execution_count": 43,
   "id": "studied-accessory",
   "metadata": {},
   "outputs": [],
   "source": [
    "data_colec_weekly.to_excel('../raw_data/data_colec_weekly.xlsx', engine='xlsxwriter')"
   ]
  }
 ],
 "metadata": {
  "kernelspec": {
   "display_name": "Python 3",
   "language": "python",
   "name": "python3"
  },
  "language_info": {
   "codemirror_mode": {
    "name": "ipython",
    "version": 3
   },
   "file_extension": ".py",
   "mimetype": "text/x-python",
   "name": "python",
   "nbconvert_exporter": "python",
   "pygments_lexer": "ipython3",
   "version": "3.8.6"
  }
 },
 "nbformat": 4,
 "nbformat_minor": 5
}
