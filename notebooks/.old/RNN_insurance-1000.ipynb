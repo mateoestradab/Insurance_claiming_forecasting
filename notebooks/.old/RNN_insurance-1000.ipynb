{
 "cells": [
  {
   "cell_type": "markdown",
   "id": "timely-japanese",
   "metadata": {},
   "source": [
    "# RNN - Insurance"
   ]
  },
  {
   "cell_type": "code",
   "execution_count": 1,
   "id": "progressive-council",
   "metadata": {},
   "outputs": [],
   "source": [
    "import pandas as pd\n",
    "import numpy as np\n",
    "import matplotlib.pyplot as plt"
   ]
  },
  {
   "cell_type": "code",
   "execution_count": 2,
   "id": "external-announcement",
   "metadata": {},
   "outputs": [],
   "source": [
    "data = pd.read_excel('../raw_data/daily_data_clean.xlsx', engine='openpyxl')"
   ]
  },
  {
   "cell_type": "code",
   "execution_count": 3,
   "id": "failing-experience",
   "metadata": {},
   "outputs": [],
   "source": [
    "data = data.drop(columns=['Unnamed: 0', 'date_issue'])"
   ]
  },
  {
   "cell_type": "code",
   "execution_count": 4,
   "id": "brilliant-gauge",
   "metadata": {},
   "outputs": [
    {
     "data": {
      "text/html": [
       "<div>\n",
       "<style scoped>\n",
       "    .dataframe tbody tr th:only-of-type {\n",
       "        vertical-align: middle;\n",
       "    }\n",
       "\n",
       "    .dataframe tbody tr th {\n",
       "        vertical-align: top;\n",
       "    }\n",
       "\n",
       "    .dataframe thead th {\n",
       "        text-align: right;\n",
       "    }\n",
       "</style>\n",
       "<table border=\"1\" class=\"dataframe\">\n",
       "  <thead>\n",
       "    <tr style=\"text-align: right;\">\n",
       "      <th></th>\n",
       "      <th>total_amount_claims</th>\n",
       "    </tr>\n",
       "  </thead>\n",
       "  <tbody>\n",
       "    <tr>\n",
       "      <th>0</th>\n",
       "      <td>168</td>\n",
       "    </tr>\n",
       "    <tr>\n",
       "      <th>1</th>\n",
       "      <td>346</td>\n",
       "    </tr>\n",
       "    <tr>\n",
       "      <th>2</th>\n",
       "      <td>16169</td>\n",
       "    </tr>\n",
       "    <tr>\n",
       "      <th>3</th>\n",
       "      <td>28529</td>\n",
       "    </tr>\n",
       "    <tr>\n",
       "      <th>4</th>\n",
       "      <td>64135</td>\n",
       "    </tr>\n",
       "    <tr>\n",
       "      <th>...</th>\n",
       "      <td>...</td>\n",
       "    </tr>\n",
       "    <tr>\n",
       "      <th>915</th>\n",
       "      <td>350720</td>\n",
       "    </tr>\n",
       "    <tr>\n",
       "      <th>916</th>\n",
       "      <td>293427</td>\n",
       "    </tr>\n",
       "    <tr>\n",
       "      <th>917</th>\n",
       "      <td>333658</td>\n",
       "    </tr>\n",
       "    <tr>\n",
       "      <th>918</th>\n",
       "      <td>139824</td>\n",
       "    </tr>\n",
       "    <tr>\n",
       "      <th>919</th>\n",
       "      <td>111107</td>\n",
       "    </tr>\n",
       "  </tbody>\n",
       "</table>\n",
       "<p>920 rows × 1 columns</p>\n",
       "</div>"
      ],
      "text/plain": [
       "     total_amount_claims\n",
       "0                    168\n",
       "1                    346\n",
       "2                  16169\n",
       "3                  28529\n",
       "4                  64135\n",
       "..                   ...\n",
       "915               350720\n",
       "916               293427\n",
       "917               333658\n",
       "918               139824\n",
       "919               111107\n",
       "\n",
       "[920 rows x 1 columns]"
      ]
     },
     "execution_count": 4,
     "metadata": {},
     "output_type": "execute_result"
    }
   ],
   "source": [
    "data"
   ]
  },
  {
   "cell_type": "code",
   "execution_count": 5,
   "id": "accomplished-expense",
   "metadata": {},
   "outputs": [
    {
     "name": "stdout",
     "output_type": "stream",
     "text": [
      "min:  31\n",
      "max:  713904\n"
     ]
    }
   ],
   "source": [
    "print(\"min: \",data['total_amount_claims'].min())\n",
    "print(\"max: \",data['total_amount_claims'].max())"
   ]
  },
  {
   "cell_type": "code",
   "execution_count": 4,
   "id": "exceptional-executive",
   "metadata": {},
   "outputs": [
    {
     "data": {
      "text/plain": [
       "date_issue             2018-09-30 00:00:00\n",
       "total_amount_claims                 686066\n",
       "dtype: object"
      ]
     },
     "execution_count": 4,
     "metadata": {},
     "output_type": "execute_result"
    }
   ],
   "source": [
    "# data_sept_18 = data[data['date_issue'] < '2018-10-01']\n",
    "# data_sept_18.max()"
   ]
  },
  {
   "cell_type": "code",
   "execution_count": 5,
   "id": "mysterious-journey",
   "metadata": {},
   "outputs": [
    {
     "data": {
      "text/plain": [
       "date_issue             2018-10-31 00:00:00\n",
       "total_amount_claims                 334808\n",
       "dtype: object"
      ]
     },
     "execution_count": 5,
     "metadata": {},
     "output_type": "execute_result"
    }
   ],
   "source": [
    "# data_oct_18 = data[(data['date_issue'] < '2018-11-01') & (data['date_issue']>'2018-10-01')]\n",
    "# data_oct_18.max()"
   ]
  },
  {
   "cell_type": "markdown",
   "id": "stunning-polls",
   "metadata": {},
   "source": [
    "### Normalization, ver 1000"
   ]
  },
  {
   "cell_type": "code",
   "execution_count": 6,
   "id": "placed-criminal",
   "metadata": {
    "tags": []
   },
   "outputs": [],
   "source": [
    "data['total_amount_claims'] = data['total_amount_claims']/1000"
   ]
  },
  {
   "cell_type": "code",
   "execution_count": 7,
   "id": "native-preserve",
   "metadata": {},
   "outputs": [
    {
     "data": {
      "text/html": [
       "<div>\n",
       "<style scoped>\n",
       "    .dataframe tbody tr th:only-of-type {\n",
       "        vertical-align: middle;\n",
       "    }\n",
       "\n",
       "    .dataframe tbody tr th {\n",
       "        vertical-align: top;\n",
       "    }\n",
       "\n",
       "    .dataframe thead th {\n",
       "        text-align: right;\n",
       "    }\n",
       "</style>\n",
       "<table border=\"1\" class=\"dataframe\">\n",
       "  <thead>\n",
       "    <tr style=\"text-align: right;\">\n",
       "      <th></th>\n",
       "      <th>total_amount_claims</th>\n",
       "    </tr>\n",
       "  </thead>\n",
       "  <tbody>\n",
       "    <tr>\n",
       "      <th>0</th>\n",
       "      <td>0.168</td>\n",
       "    </tr>\n",
       "    <tr>\n",
       "      <th>1</th>\n",
       "      <td>0.346</td>\n",
       "    </tr>\n",
       "    <tr>\n",
       "      <th>2</th>\n",
       "      <td>16.169</td>\n",
       "    </tr>\n",
       "    <tr>\n",
       "      <th>3</th>\n",
       "      <td>28.529</td>\n",
       "    </tr>\n",
       "    <tr>\n",
       "      <th>4</th>\n",
       "      <td>64.135</td>\n",
       "    </tr>\n",
       "  </tbody>\n",
       "</table>\n",
       "</div>"
      ],
      "text/plain": [
       "   total_amount_claims\n",
       "0                0.168\n",
       "1                0.346\n",
       "2               16.169\n",
       "3               28.529\n",
       "4               64.135"
      ]
     },
     "execution_count": 7,
     "metadata": {},
     "output_type": "execute_result"
    }
   ],
   "source": [
    "data.head()"
   ]
  },
  {
   "cell_type": "code",
   "execution_count": 8,
   "id": "another-shareware",
   "metadata": {},
   "outputs": [
    {
     "data": {
      "text/plain": [
       "(920, 1)"
      ]
     },
     "execution_count": 8,
     "metadata": {},
     "output_type": "execute_result"
    }
   ],
   "source": [
    "data.shape"
   ]
  },
  {
   "cell_type": "markdown",
   "id": "serious-trace",
   "metadata": {},
   "source": [
    "### Split data"
   ]
  },
  {
   "cell_type": "code",
   "execution_count": 9,
   "id": "advanced-cleaner",
   "metadata": {},
   "outputs": [],
   "source": [
    "len_ = int(0.8*data.shape[0])\n",
    "\n",
    "data_train = data[:len_]\n",
    "data_test = data[len_:]"
   ]
  },
  {
   "cell_type": "markdown",
   "id": "intended-lewis",
   "metadata": {},
   "source": [
    "print(data_train.shape)\n",
    "print(data_test.shape)"
   ]
  },
  {
   "cell_type": "markdown",
   "id": "specific-applicant",
   "metadata": {},
   "source": [
    "### Sequences"
   ]
  },
  {
   "cell_type": "code",
   "execution_count": 11,
   "id": "prime-modification",
   "metadata": {},
   "outputs": [],
   "source": [
    "def subsample_sequence(data, length):\n",
    "    \n",
    "    last_possible = data.shape[0] - length\n",
    "    \n",
    "    random_start = np.random.randint(0, last_possible)\n",
    "    data_sample = data[random_start: random_start+length]\n",
    "    \n",
    "    return data_sample"
   ]
  },
  {
   "cell_type": "code",
   "execution_count": 12,
   "id": "perfect-father",
   "metadata": {},
   "outputs": [
    {
     "data": {
      "text/html": [
       "<div>\n",
       "<style scoped>\n",
       "    .dataframe tbody tr th:only-of-type {\n",
       "        vertical-align: middle;\n",
       "    }\n",
       "\n",
       "    .dataframe tbody tr th {\n",
       "        vertical-align: top;\n",
       "    }\n",
       "\n",
       "    .dataframe thead th {\n",
       "        text-align: right;\n",
       "    }\n",
       "</style>\n",
       "<table border=\"1\" class=\"dataframe\">\n",
       "  <thead>\n",
       "    <tr style=\"text-align: right;\">\n",
       "      <th></th>\n",
       "      <th>total_amount_claims</th>\n",
       "    </tr>\n",
       "  </thead>\n",
       "  <tbody>\n",
       "    <tr>\n",
       "      <th>565</th>\n",
       "      <td>47.263</td>\n",
       "    </tr>\n",
       "    <tr>\n",
       "      <th>566</th>\n",
       "      <td>49.227</td>\n",
       "    </tr>\n",
       "    <tr>\n",
       "      <th>567</th>\n",
       "      <td>17.043</td>\n",
       "    </tr>\n",
       "    <tr>\n",
       "      <th>568</th>\n",
       "      <td>9.716</td>\n",
       "    </tr>\n",
       "    <tr>\n",
       "      <th>569</th>\n",
       "      <td>52.475</td>\n",
       "    </tr>\n",
       "    <tr>\n",
       "      <th>570</th>\n",
       "      <td>86.622</td>\n",
       "    </tr>\n",
       "    <tr>\n",
       "      <th>571</th>\n",
       "      <td>69.206</td>\n",
       "    </tr>\n",
       "    <tr>\n",
       "      <th>572</th>\n",
       "      <td>83.963</td>\n",
       "    </tr>\n",
       "    <tr>\n",
       "      <th>573</th>\n",
       "      <td>125.587</td>\n",
       "    </tr>\n",
       "    <tr>\n",
       "      <th>574</th>\n",
       "      <td>87.723</td>\n",
       "    </tr>\n",
       "  </tbody>\n",
       "</table>\n",
       "</div>"
      ],
      "text/plain": [
       "     total_amount_claims\n",
       "565               47.263\n",
       "566               49.227\n",
       "567               17.043\n",
       "568                9.716\n",
       "569               52.475\n",
       "570               86.622\n",
       "571               69.206\n",
       "572               83.963\n",
       "573              125.587\n",
       "574               87.723"
      ]
     },
     "execution_count": 12,
     "metadata": {},
     "output_type": "execute_result"
    }
   ],
   "source": [
    "data_subsample = subsample_sequence(data, 10)\n",
    "data_subsample"
   ]
  },
  {
   "cell_type": "code",
   "execution_count": 36,
   "id": "greek-manor",
   "metadata": {},
   "outputs": [],
   "source": [
    "def fillna(X, data_mean):\n",
    "    # Replace with NaN of the other hours. \n",
    "    na = X.mean()\n",
    "    \n",
    "    # If the other hours are also nans, then replace with mean value of the dataframe\n",
    "    na.fillna(data_mean)\n",
    "    return na\n",
    "\n",
    "def split_subsample_sequence(data, length, data_mean=None):\n",
    "    # Little trick to improve the time\n",
    "    if data_mean is None:\n",
    "        data_mean = data.mean()\n",
    "              \n",
    "    data_subsample = subsample_sequence(data, length)\n",
    "    y_sample = data_subsample.iloc[data_subsample.shape[0]-1]['total_amount_claims']\n",
    "    \n",
    "    if y_sample != y_sample: # A value is not equal to itself only for NaN. So it will be True if y_sample is nan\n",
    "        X_sample, y_sample = split_subsample_sequence(data, length, data_mean)\n",
    "        return np.array(X_sample), np.array(y_sample)\n",
    "    \n",
    "    X_sample = data_subsample[0:data_subsample.shape[0]-1]\n",
    "    X_sample = X_sample.fillna(fillna(X_sample, data_mean))\n",
    "    X_sample = X_sample.values\n",
    "    \n",
    "    return np.array(X_sample), np.array(y_sample)"
   ]
  },
  {
   "cell_type": "code",
   "execution_count": 37,
   "id": "acting-needle",
   "metadata": {},
   "outputs": [],
   "source": [
    "def get_X_y(data, number_of_sequences, length):\n",
    "    X, y = [], []\n",
    "\n",
    "    for i in range(number_of_sequences):\n",
    "        xi, yi = split_subsample_sequence(data, length)\n",
    "        X.append(xi)\n",
    "        y.append(yi)\n",
    "        \n",
    "    X = np.array(X)\n",
    "    y = np.array(y)\n",
    "        \n",
    "    return X, y"
   ]
  },
  {
   "cell_type": "code",
   "execution_count": 38,
   "id": "listed-minimum",
   "metadata": {},
   "outputs": [],
   "source": [
    "X_train, y_train = get_X_y(data_train, 1000, 50)\n",
    "X_test, y_test = get_X_y(data_test, 200, 50)"
   ]
  },
  {
   "cell_type": "code",
   "execution_count": 39,
   "id": "unsigned-proposition",
   "metadata": {},
   "outputs": [
    {
     "data": {
      "text/plain": [
       "array([[[ 65.851],\n",
       "        [ 39.15 ],\n",
       "        [ 15.377],\n",
       "        ...,\n",
       "        [ 61.095],\n",
       "        [ 93.96 ],\n",
       "        [ 86.208]],\n",
       "\n",
       "       [[172.687],\n",
       "        [124.756],\n",
       "        [ 24.965],\n",
       "        ...,\n",
       "        [ 59.214],\n",
       "        [ 57.509],\n",
       "        [ 50.379]],\n",
       "\n",
       "       [[147.372],\n",
       "        [ 74.947],\n",
       "        [ 14.935],\n",
       "        ...,\n",
       "        [ 45.19 ],\n",
       "        [  3.619],\n",
       "        [  1.505]],\n",
       "\n",
       "       ...,\n",
       "\n",
       "       [[ 17.704],\n",
       "        [ 42.108],\n",
       "        [107.293],\n",
       "        ...,\n",
       "        [ 94.928],\n",
       "        [133.414],\n",
       "        [ 86.393]],\n",
       "\n",
       "       [[ 82.437],\n",
       "        [ 34.906],\n",
       "        [ 18.88 ],\n",
       "        ...,\n",
       "        [149.646],\n",
       "        [148.787],\n",
       "        [ 97.595]],\n",
       "\n",
       "       [[ 31.064],\n",
       "        [112.635],\n",
       "        [ 41.858],\n",
       "        ...,\n",
       "        [  4.358],\n",
       "        [ 14.683],\n",
       "        [ 22.488]]])"
      ]
     },
     "execution_count": 39,
     "metadata": {},
     "output_type": "execute_result"
    }
   ],
   "source": [
    "X_train"
   ]
  },
  {
   "cell_type": "code",
   "execution_count": null,
   "id": "after-queue",
   "metadata": {},
   "outputs": [],
   "source": [
    "# !pip install tensorflow"
   ]
  },
  {
   "cell_type": "code",
   "execution_count": 40,
   "id": "chicken-brake",
   "metadata": {},
   "outputs": [
    {
     "name": "stdout",
     "output_type": "stream",
     "text": [
      "X train size:(1000, 49, 1)\n",
      "X test size:(200, 49, 1)\n",
      "y train size:(1000,)\n",
      "y test size:(200,)\n"
     ]
    }
   ],
   "source": [
    "print(f'X train size:{X_train.shape}')\n",
    "print(f'X test size:{X_test.shape}')\n",
    "print(f'y train size:{y_train.shape}')\n",
    "print(f'y test size:{y_test.shape}')"
   ]
  },
  {
   "cell_type": "code",
   "execution_count": 41,
   "id": "bound-bread",
   "metadata": {},
   "outputs": [],
   "source": [
    "from tensorflow.keras import models\n",
    "from tensorflow.keras import layers\n",
    "\n",
    "model = models.Sequential()\n",
    "\n",
    "model.add(layers.LSTM(20, activation='tanh'))\n",
    "model.add(layers.Dense(5, activation='relu'))\n",
    "model.add(layers.Dense(1, activation='linear'))"
   ]
  },
  {
   "cell_type": "code",
   "execution_count": 42,
   "id": "italic-livestock",
   "metadata": {},
   "outputs": [],
   "source": [
    "model.compile(loss='mse', \n",
    "              optimizer='rmsprop', \n",
    "              metrics=['mae', 'mape'])"
   ]
  },
  {
   "cell_type": "code",
   "execution_count": 43,
   "id": "overhead-diary",
   "metadata": {},
   "outputs": [
    {
     "name": "stdout",
     "output_type": "stream",
     "text": [
      "Epoch 1/100\n",
      "50/50 [==============================] - 3s 29ms/step - loss: 11984.8742 - mae: 79.0055 - mape: 97.8619 - val_loss: 17671.1543 - val_mae: 90.7490 - val_mape: 98.7666\n",
      "Epoch 2/100\n",
      "50/50 [==============================] - 1s 18ms/step - loss: 13504.9467 - mae: 78.8340 - mape: 96.5785 - val_loss: 17318.7363 - val_mae: 88.9147 - val_mape: 102.8765\n",
      "Epoch 3/100\n",
      "50/50 [==============================] - 1s 18ms/step - loss: 13015.1621 - mae: 76.7944 - mape: 100.4539 - val_loss: 16934.8770 - val_mae: 86.8416 - val_mape: 109.3037\n",
      "Epoch 4/100\n",
      "50/50 [==============================] - 1s 17ms/step - loss: 13244.1809 - mae: 75.9196 - mape: 109.6001 - val_loss: 16406.5059 - val_mae: 84.0895 - val_mape: 118.5443\n",
      "Epoch 5/100\n",
      "50/50 [==============================] - 1s 18ms/step - loss: 12621.5463 - mae: 76.4944 - mape: 133.6109 - val_loss: 15839.5283 - val_mae: 81.2003 - val_mape: 128.7427\n",
      "Epoch 6/100\n",
      "50/50 [==============================] - 1s 17ms/step - loss: 12084.4623 - mae: 71.5788 - mape: 120.5235 - val_loss: 15352.9521 - val_mae: 78.7465 - val_mape: 140.7203\n",
      "Epoch 7/100\n",
      "50/50 [==============================] - 1s 17ms/step - loss: 12499.1770 - mae: 74.0908 - mape: 139.4343 - val_loss: 14840.3916 - val_mae: 76.1990 - val_mape: 155.5921\n",
      "Epoch 8/100\n",
      "50/50 [==============================] - 1s 16ms/step - loss: 12501.1231 - mae: 67.8789 - mape: 148.2788 - val_loss: 14262.1611 - val_mae: 73.5499 - val_mape: 172.6817\n",
      "Epoch 9/100\n",
      "50/50 [==============================] - 1s 16ms/step - loss: 8919.1409 - mae: 57.1590 - mape: 190.2171 - val_loss: 13747.3359 - val_mae: 71.2969 - val_mape: 191.1058\n",
      "Epoch 10/100\n",
      "50/50 [==============================] - 1s 17ms/step - loss: 9929.1381 - mae: 63.4695 - mape: 226.6765 - val_loss: 13249.0479 - val_mae: 69.1395 - val_mape: 210.6855\n",
      "Epoch 11/100\n",
      "50/50 [==============================] - 1s 26ms/step - loss: 8474.3222 - mae: 56.9723 - mape: 263.0294 - val_loss: 12760.8965 - val_mae: 67.2438 - val_mape: 232.4011\n",
      "Epoch 12/100\n",
      "50/50 [==============================] - 1s 17ms/step - loss: 10553.1031 - mae: 62.7150 - mape: 239.1121 - val_loss: 12290.0850 - val_mae: 65.6700 - val_mape: 255.8847\n",
      "Epoch 13/100\n",
      "50/50 [==============================] - 1s 16ms/step - loss: 7517.4714 - mae: 54.4566 - mape: 230.7502 - val_loss: 11823.6328 - val_mae: 64.2952 - val_mape: 281.6731\n",
      "Epoch 14/100\n",
      "50/50 [==============================] - 1s 16ms/step - loss: 9393.6959 - mae: 56.2789 - mape: 303.0558 - val_loss: 11408.1611 - val_mae: 63.1508 - val_mape: 306.8795\n",
      "Epoch 15/100\n",
      "50/50 [==============================] - 1s 20ms/step - loss: 8874.1755 - mae: 55.7651 - mape: 271.7690 - val_loss: 11041.7910 - val_mae: 62.1290 - val_mape: 330.5170\n",
      "Epoch 16/100\n",
      "50/50 [==============================] - 1s 21ms/step - loss: 9918.9384 - mae: 58.9877 - mape: 310.6148 - val_loss: 10698.7021 - val_mae: 61.2910 - val_mape: 353.3943\n",
      "Epoch 17/100\n",
      "50/50 [==============================] - 1s 21ms/step - loss: 6661.8356 - mae: 50.3732 - mape: 362.1937 - val_loss: 10410.3457 - val_mae: 60.7381 - val_mape: 371.3848\n",
      "Epoch 18/100\n",
      "50/50 [==============================] - 1s 22ms/step - loss: 7146.4337 - mae: 53.1595 - mape: 317.4082 - val_loss: 10162.9209 - val_mae: 60.2733 - val_mape: 384.8791\n",
      "Epoch 19/100\n",
      "50/50 [==============================] - 1s 21ms/step - loss: 5877.1199 - mae: 48.4353 - mape: 373.2014 - val_loss: 9958.4385 - val_mae: 59.8829 - val_mape: 391.1007\n",
      "Epoch 20/100\n",
      "50/50 [==============================] - 1s 22ms/step - loss: 6752.0951 - mae: 51.8886 - mape: 332.5015 - val_loss: 9796.9141 - val_mae: 59.5329 - val_mape: 390.5957\n",
      "Epoch 21/100\n",
      "50/50 [==============================] - 1s 20ms/step - loss: 5940.1633 - mae: 50.7221 - mape: 443.8901 - val_loss: 9647.7227 - val_mae: 59.2173 - val_mape: 387.7891\n",
      "Epoch 22/100\n",
      "50/50 [==============================] - 1s 27ms/step - loss: 7282.7751 - mae: 51.9946 - mape: 308.3527 - val_loss: 9537.4336 - val_mae: 58.6708 - val_mape: 377.6444\n",
      "Epoch 23/100\n",
      "50/50 [==============================] - 1s 22ms/step - loss: 7023.5523 - mae: 50.2897 - mape: 311.6726 - val_loss: 9440.2529 - val_mae: 58.1186 - val_mape: 369.2378\n",
      "Epoch 24/100\n",
      "50/50 [==============================] - 1s 20ms/step - loss: 5680.6816 - mae: 48.8399 - mape: 354.0015 - val_loss: 9336.5537 - val_mae: 57.7303 - val_mape: 366.1202\n",
      "Epoch 25/100\n",
      "50/50 [==============================] - 1s 16ms/step - loss: 4829.9577 - mae: 45.7030 - mape: 305.9268 - val_loss: 9284.3535 - val_mae: 57.2972 - val_mape: 358.3056\n",
      "Epoch 26/100\n",
      "50/50 [==============================] - 1s 16ms/step - loss: 5346.8270 - mae: 46.9039 - mape: 302.8034 - val_loss: 9245.3320 - val_mae: 57.0714 - val_mape: 354.9127\n",
      "Epoch 27/100\n",
      "50/50 [==============================] - 1s 21ms/step - loss: 5608.1932 - mae: 47.8430 - mape: 307.0870 - val_loss: 9194.7188 - val_mae: 56.7944 - val_mape: 353.1652\n",
      "Epoch 28/100\n",
      "50/50 [==============================] - 1s 18ms/step - loss: 4892.9751 - mae: 45.5922 - mape: 333.9097 - val_loss: 9134.2285 - val_mae: 56.7215 - val_mape: 353.0550\n",
      "Epoch 29/100\n",
      "50/50 [==============================] - 1s 14ms/step - loss: 6401.2088 - mae: 48.3171 - mape: 309.6839 - val_loss: 9252.2021 - val_mae: 56.4150 - val_mape: 327.5466\n",
      "Epoch 30/100\n",
      "50/50 [==============================] - 1s 19ms/step - loss: 5123.6245 - mae: 45.6563 - mape: 370.2813 - val_loss: 9458.2295 - val_mae: 56.5373 - val_mape: 313.0964\n",
      "Epoch 31/100\n",
      "50/50 [==============================] - 1s 20ms/step - loss: 4993.9820 - mae: 45.8977 - mape: 380.4466 - val_loss: 9028.0488 - val_mae: 56.5611 - val_mape: 337.8012\n",
      "Epoch 32/100\n",
      "50/50 [==============================] - 1s 19ms/step - loss: 5312.6623 - mae: 45.4823 - mape: 321.9296 - val_loss: 9477.7402 - val_mae: 56.8583 - val_mape: 314.4845\n",
      "Epoch 33/100\n",
      "50/50 [==============================] - 1s 21ms/step - loss: 6602.5556 - mae: 50.7376 - mape: 307.9147 - val_loss: 8929.0195 - val_mae: 56.9328 - val_mape: 347.5572\n",
      "Epoch 34/100\n",
      "50/50 [==============================] - 1s 18ms/step - loss: 5103.3276 - mae: 46.0332 - mape: 272.9749 - val_loss: 8981.8701 - val_mae: 56.4386 - val_mape: 343.2196\n",
      "Epoch 35/100\n",
      "50/50 [==============================] - 1s 18ms/step - loss: 6352.3032 - mae: 48.5481 - mape: 289.9579 - val_loss: 9026.9463 - val_mae: 56.0848 - val_mape: 337.6042\n",
      "Epoch 36/100\n",
      "50/50 [==============================] - 1s 21ms/step - loss: 4528.1581 - mae: 42.1787 - mape: 293.0030 - val_loss: 9023.0879 - val_mae: 55.1410 - val_mape: 303.0172\n",
      "Restoring model weights from the end of the best epoch.\n",
      "Epoch 00036: early stopping\n"
     ]
    }
   ],
   "source": [
    "from tensorflow.keras.callbacks import EarlyStopping\n",
    "\n",
    "es = EarlyStopping(monitor='val_loss', mode='min', verbose=1, patience=3, restore_best_weights=True)\n",
    "\n",
    "history = model.fit(X_train, y_train,\n",
    "            validation_split=0.2,\n",
    "            epochs=100, \n",
    "            batch_size=16,\n",
    "            callbacks=[es])"
   ]
  },
  {
   "cell_type": "code",
   "execution_count": 44,
   "id": "anonymous-poultry",
   "metadata": {},
   "outputs": [
    {
     "name": "stdout",
     "output_type": "stream",
     "text": [
      "Model: \"sequential_2\"\n",
      "_________________________________________________________________\n",
      "Layer (type)                 Output Shape              Param #   \n",
      "=================================================================\n",
      "lstm_2 (LSTM)                (None, 20)                1760      \n",
      "_________________________________________________________________\n",
      "dense_4 (Dense)              (None, 5)                 105       \n",
      "_________________________________________________________________\n",
      "dense_5 (Dense)              (None, 1)                 6         \n",
      "=================================================================\n",
      "Total params: 1,871\n",
      "Trainable params: 1,871\n",
      "Non-trainable params: 0\n",
      "_________________________________________________________________\n"
     ]
    }
   ],
   "source": [
    "model.summary()"
   ]
  },
  {
   "cell_type": "code",
   "execution_count": 45,
   "id": "attended-silicon",
   "metadata": {},
   "outputs": [
    {
     "name": "stdout",
     "output_type": "stream",
     "text": [
      "Model Mean Absolute Error 127.9644\n",
      "Model Mean Absolute Porcentual Error 50.5294\n"
     ]
    }
   ],
   "source": [
    "model_eval = model.evaluate(X_test, y_test, verbose=0)\n",
    "print(f'Model Mean Absolute Error {model_eval[1]:.4f}')\n",
    "print(f'Model Mean Absolute Porcentual Error {model_eval[2]:.4f}')"
   ]
  },
  {
   "cell_type": "code",
   "execution_count": null,
   "id": "built-insulation",
   "metadata": {},
   "outputs": [],
   "source": [
    "# tf.keras.losses.MAPE(\n",
    "#     y_true, y_pred\n",
    "# )"
   ]
  },
  {
   "cell_type": "markdown",
   "id": "processed-producer",
   "metadata": {},
   "source": [
    "#### Prediction"
   ]
  },
  {
   "cell_type": "code",
   "execution_count": 46,
   "id": "spread-apparatus",
   "metadata": {
    "tags": []
   },
   "outputs": [],
   "source": [
    "predict = model.predict(X_test)"
   ]
  },
  {
   "cell_type": "code",
   "execution_count": 47,
   "id": "confirmed-necklace",
   "metadata": {},
   "outputs": [
    {
     "data": {
      "text/plain": [
       "array([[111.233025],\n",
       "       [109.67674 ],\n",
       "       [110.09986 ],\n",
       "       [111.186165],\n",
       "       [110.93913 ],\n",
       "       [111.11185 ],\n",
       "       [110.770065],\n",
       "       [111.18508 ],\n",
       "       [ 78.76856 ],\n",
       "       [111.133514],\n",
       "       [110.90806 ],\n",
       "       [110.09986 ],\n",
       "       [ 89.53665 ],\n",
       "       [111.24046 ],\n",
       "       [106.41367 ],\n",
       "       [ 79.253426],\n",
       "       [111.22293 ],\n",
       "       [111.186455],\n",
       "       [100.93527 ],\n",
       "       [111.21255 ],\n",
       "       [111.24046 ],\n",
       "       [110.64237 ],\n",
       "       [110.09986 ],\n",
       "       [111.1649  ],\n",
       "       [111.21607 ],\n",
       "       [111.04459 ],\n",
       "       [111.19356 ],\n",
       "       [111.09083 ],\n",
       "       [110.8897  ],\n",
       "       [110.86381 ],\n",
       "       [111.22624 ],\n",
       "       [106.75597 ],\n",
       "       [111.239716],\n",
       "       [111.229904],\n",
       "       [ 97.37508 ],\n",
       "       [110.33071 ],\n",
       "       [ 95.95842 ],\n",
       "       [109.839325],\n",
       "       [ 98.79572 ],\n",
       "       [111.13695 ],\n",
       "       [109.7929  ],\n",
       "       [103.069695],\n",
       "       [109.7929  ],\n",
       "       [111.08674 ],\n",
       "       [ 78.76856 ],\n",
       "       [106.193535],\n",
       "       [111.1893  ],\n",
       "       [102.230484],\n",
       "       [110.89571 ],\n",
       "       [111.13333 ],\n",
       "       [110.8769  ],\n",
       "       [111.073715],\n",
       "       [111.01926 ],\n",
       "       [111.22917 ],\n",
       "       [111.20783 ],\n",
       "       [110.770065],\n",
       "       [103.069695],\n",
       "       [111.1893  ],\n",
       "       [108.95246 ],\n",
       "       [108.2701  ],\n",
       "       [110.8897  ],\n",
       "       [111.19932 ],\n",
       "       [111.21255 ],\n",
       "       [110.873604],\n",
       "       [106.559814],\n",
       "       [111.21366 ],\n",
       "       [111.21184 ],\n",
       "       [111.19356 ],\n",
       "       [103.069695],\n",
       "       [111.21184 ],\n",
       "       [110.90856 ],\n",
       "       [111.23117 ],\n",
       "       [111.22917 ],\n",
       "       [111.1426  ],\n",
       "       [ 91.8325  ],\n",
       "       [110.07744 ],\n",
       "       [100.93527 ],\n",
       "       [111.21097 ],\n",
       "       [111.239716],\n",
       "       [110.64237 ],\n",
       "       [111.205086],\n",
       "       [111.19396 ],\n",
       "       [111.19267 ],\n",
       "       [110.94854 ],\n",
       "       [110.89569 ],\n",
       "       [111.19396 ],\n",
       "       [111.239716],\n",
       "       [111.23298 ],\n",
       "       [111.229904],\n",
       "       [111.23444 ],\n",
       "       [ 98.79572 ],\n",
       "       [111.19932 ],\n",
       "       [108.2701  ],\n",
       "       [111.20838 ],\n",
       "       [ 98.79571 ],\n",
       "       [ 79.253426],\n",
       "       [110.8897  ],\n",
       "       [ 93.43733 ],\n",
       "       [111.186165],\n",
       "       [110.44442 ],\n",
       "       [ 91.8325  ],\n",
       "       [111.229904],\n",
       "       [110.09934 ],\n",
       "       [111.19396 ],\n",
       "       [111.22293 ],\n",
       "       [111.24169 ],\n",
       "       [111.116066],\n",
       "       [111.08517 ],\n",
       "       [106.559814],\n",
       "       [111.22624 ],\n",
       "       [111.159454],\n",
       "       [111.20875 ],\n",
       "       [111.23614 ],\n",
       "       [111.22293 ],\n",
       "       [111.146706],\n",
       "       [111.09083 ],\n",
       "       [102.230484],\n",
       "       [111.13822 ],\n",
       "       [111.23298 ],\n",
       "       [110.90568 ],\n",
       "       [111.146706],\n",
       "       [111.23554 ],\n",
       "       [ 89.66817 ],\n",
       "       [110.90856 ],\n",
       "       [111.22592 ],\n",
       "       [109.7929  ],\n",
       "       [111.23554 ],\n",
       "       [111.23298 ],\n",
       "       [111.22868 ],\n",
       "       [111.1649  ],\n",
       "       [108.95246 ],\n",
       "       [111.23338 ],\n",
       "       [ 79.253426],\n",
       "       [111.20875 ],\n",
       "       [100.93527 ],\n",
       "       [111.16093 ],\n",
       "       [111.231544],\n",
       "       [110.93913 ],\n",
       "       [106.6834  ],\n",
       "       [ 79.253426],\n",
       "       [ 89.66817 ],\n",
       "       [110.770065],\n",
       "       [111.133514],\n",
       "       [110.83    ],\n",
       "       [110.93913 ],\n",
       "       [ 91.8325  ],\n",
       "       [111.14641 ],\n",
       "       [111.22293 ],\n",
       "       [111.08674 ],\n",
       "       [111.188324],\n",
       "       [111.21184 ],\n",
       "       [110.86381 ],\n",
       "       [110.66047 ],\n",
       "       [109.91701 ],\n",
       "       [111.146706],\n",
       "       [ 95.95842 ],\n",
       "       [110.33071 ],\n",
       "       [111.196236],\n",
       "       [109.84293 ],\n",
       "       [110.94854 ],\n",
       "       [110.07744 ],\n",
       "       [110.22994 ],\n",
       "       [111.20783 ],\n",
       "       [106.6834  ],\n",
       "       [106.41367 ],\n",
       "       [106.41367 ],\n",
       "       [110.125374],\n",
       "       [109.988495],\n",
       "       [ 89.53665 ],\n",
       "       [106.41367 ],\n",
       "       [111.186455],\n",
       "       [110.8897  ],\n",
       "       [111.21255 ],\n",
       "       [110.44442 ],\n",
       "       [110.7953  ],\n",
       "       [111.19267 ],\n",
       "       [110.8897  ],\n",
       "       [ 89.53665 ],\n",
       "       [106.75597 ],\n",
       "       [103.069695],\n",
       "       [111.22968 ],\n",
       "       [111.21184 ],\n",
       "       [110.89569 ],\n",
       "       [109.67674 ],\n",
       "       [110.22994 ],\n",
       "       [111.18508 ],\n",
       "       [109.84293 ],\n",
       "       [111.18508 ],\n",
       "       [ 91.8325  ],\n",
       "       [106.559814],\n",
       "       [ 91.83249 ],\n",
       "       [110.07744 ],\n",
       "       [ 95.95842 ],\n",
       "       [111.22624 ],\n",
       "       [ 78.76856 ],\n",
       "       [111.11185 ],\n",
       "       [ 89.53665 ],\n",
       "       [110.125374],\n",
       "       [108.622894],\n",
       "       [111.22714 ]], dtype=float32)"
      ]
     },
     "execution_count": 47,
     "metadata": {},
     "output_type": "execute_result"
    }
   ],
   "source": [
    "predict"
   ]
  },
  {
   "cell_type": "code",
   "execution_count": 35,
   "id": "adverse-athletics",
   "metadata": {},
   "outputs": [
    {
     "data": {
      "image/png": "[encoded data removed]",
      "text/plain": [
       "<Figure size 1080x720 with 1 Axes>"
      ]
     },
     "metadata": {
      "needs_background": "light"
     },
     "output_type": "display_data"
    }
   ],
   "source": [
    "plt.figure(figsize=(15,10))\n",
    "plt.plot(y_test,label = 'Test')\n",
    "plt.plot(predict, label = 'Prediction')\n",
    "plt.legend(loc='best')\n",
    "plt.show()"
   ]
  },
  {
   "cell_type": "code",
   "execution_count": null,
   "id": "least-crazy",
   "metadata": {},
   "outputs": [],
   "source": []
  }
 ],
 "metadata": {
  "kernelspec": {
   "display_name": "Python 3",
   "language": "python",
   "name": "python3"
  },
  "language_info": {
   "codemirror_mode": {
    "name": "ipython",
    "version": 3
   },
   "file_extension": ".py",
   "mimetype": "text/x-python",
   "name": "python",
   "nbconvert_exporter": "python",
   "pygments_lexer": "ipython3",
   "version": "3.8.6"
  }
 },
 "nbformat": 4,
 "nbformat_minor": 5
}
