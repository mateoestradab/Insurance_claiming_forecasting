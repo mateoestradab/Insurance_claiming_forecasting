{
 "cells": [
  {
   "cell_type": "markdown",
   "id": "pleasant-myanmar",
   "metadata": {},
   "source": [
    "## SEPARATE PORTFOLIO"
   ]
  },
  {
   "cell_type": "code",
   "execution_count": 1,
   "id": "suffering-combat",
   "metadata": {},
   "outputs": [],
   "source": [
    "import pandas as pd\n",
    "import numpy as np\n",
    "import matplotlib.pyplot as plt"
   ]
  },
  {
   "cell_type": "code",
   "execution_count": 2,
   "id": "abroad-cliff",
   "metadata": {},
   "outputs": [],
   "source": [
    "data = pd.read_excel('../raw_data/full_data_clean.xlsx', engine='openpyxl')"
   ]
  },
  {
   "cell_type": "code",
   "execution_count": 3,
   "id": "awful-tourism",
   "metadata": {},
   "outputs": [
    {
     "data": {
      "text/html": [
       "<div>\n",
       "<style scoped>\n",
       "    .dataframe tbody tr th:only-of-type {\n",
       "        vertical-align: middle;\n",
       "    }\n",
       "\n",
       "    .dataframe tbody tr th {\n",
       "        vertical-align: top;\n",
       "    }\n",
       "\n",
       "    .dataframe thead th {\n",
       "        text-align: right;\n",
       "    }\n",
       "</style>\n",
       "<table border=\"1\" class=\"dataframe\">\n",
       "  <thead>\n",
       "    <tr style=\"text-align: right;\">\n",
       "      <th></th>\n",
       "      <th>Unnamed: 0</th>\n",
       "      <th>status</th>\n",
       "      <th>insurance_type</th>\n",
       "      <th>disease</th>\n",
       "      <th>claim_type</th>\n",
       "      <th>provider_type</th>\n",
       "      <th>state</th>\n",
       "      <th>sex</th>\n",
       "      <th>age</th>\n",
       "      <th>country_id</th>\n",
       "      <th>amount</th>\n",
       "      <th>date_issue</th>\n",
       "      <th>age_range</th>\n",
       "      <th>h_type</th>\n",
       "    </tr>\n",
       "  </thead>\n",
       "  <tbody>\n",
       "    <tr>\n",
       "      <th>0</th>\n",
       "      <td>170734</td>\n",
       "      <td>PAGADO</td>\n",
       "      <td>INDIVIDUAL</td>\n",
       "      <td>Laringitis Y Traqueitis Agudas</td>\n",
       "      <td>EMERGENCIA</td>\n",
       "      <td>CLINICA</td>\n",
       "      <td>Distrito Capital</td>\n",
       "      <td>F</td>\n",
       "      <td>48</td>\n",
       "      <td>29</td>\n",
       "      <td>26</td>\n",
       "      <td>2018-09-01</td>\n",
       "      <td>40-49</td>\n",
       "      <td>Ambulatorio</td>\n",
       "    </tr>\n",
       "    <tr>\n",
       "      <th>1</th>\n",
       "      <td>171773</td>\n",
       "      <td>PAGADO</td>\n",
       "      <td>INDIVIDUAL</td>\n",
       "      <td>Hepatitis Viral(A-B-C)</td>\n",
       "      <td>EMERGENCIA</td>\n",
       "      <td>CLINICA</td>\n",
       "      <td>Distrito Capital</td>\n",
       "      <td>F</td>\n",
       "      <td>50</td>\n",
       "      <td>29</td>\n",
       "      <td>142</td>\n",
       "      <td>2018-09-01</td>\n",
       "      <td>50-59</td>\n",
       "      <td>Ambulatorio</td>\n",
       "    </tr>\n",
       "    <tr>\n",
       "      <th>2</th>\n",
       "      <td>167138</td>\n",
       "      <td>PAGADO</td>\n",
       "      <td>INDIVIDUAL</td>\n",
       "      <td>Amigdalo-Faringitis Aguda</td>\n",
       "      <td>EMERGENCIA</td>\n",
       "      <td>CLINICA</td>\n",
       "      <td>Zulia</td>\n",
       "      <td>M</td>\n",
       "      <td>42</td>\n",
       "      <td>29</td>\n",
       "      <td>21</td>\n",
       "      <td>2018-09-02</td>\n",
       "      <td>40-49</td>\n",
       "      <td>Ambulatorio</td>\n",
       "    </tr>\n",
       "    <tr>\n",
       "      <th>3</th>\n",
       "      <td>180517</td>\n",
       "      <td>PAGADO</td>\n",
       "      <td>INDIVIDUAL</td>\n",
       "      <td>Bronquitis Aguda</td>\n",
       "      <td>EMERGENCIA</td>\n",
       "      <td>CLINICA</td>\n",
       "      <td>Distrito Capital</td>\n",
       "      <td>F</td>\n",
       "      <td>59</td>\n",
       "      <td>29</td>\n",
       "      <td>311</td>\n",
       "      <td>2018-09-02</td>\n",
       "      <td>50-59</td>\n",
       "      <td>Hospitalización</td>\n",
       "    </tr>\n",
       "    <tr>\n",
       "      <th>4</th>\n",
       "      <td>149033</td>\n",
       "      <td>PAGADO</td>\n",
       "      <td>COLECTIVO</td>\n",
       "      <td>Dolor Abdominal Y Pelvico</td>\n",
       "      <td>EMERGENCIA</td>\n",
       "      <td>CLINICA</td>\n",
       "      <td>Miranda</td>\n",
       "      <td>F</td>\n",
       "      <td>47</td>\n",
       "      <td>29</td>\n",
       "      <td>14</td>\n",
       "      <td>2018-09-02</td>\n",
       "      <td>40-49</td>\n",
       "      <td>Ambulatorio</td>\n",
       "    </tr>\n",
       "  </tbody>\n",
       "</table>\n",
       "</div>"
      ],
      "text/plain": [
       "   Unnamed: 0  status insurance_type                         disease  \\\n",
       "0      170734  PAGADO     INDIVIDUAL  Laringitis Y Traqueitis Agudas   \n",
       "1      171773  PAGADO     INDIVIDUAL          Hepatitis Viral(A-B-C)   \n",
       "2      167138  PAGADO     INDIVIDUAL       Amigdalo-Faringitis Aguda   \n",
       "3      180517  PAGADO     INDIVIDUAL                Bronquitis Aguda   \n",
       "4      149033  PAGADO      COLECTIVO       Dolor Abdominal Y Pelvico   \n",
       "\n",
       "   claim_type provider_type             state sex  age  country_id  amount  \\\n",
       "0  EMERGENCIA       CLINICA  Distrito Capital   F   48          29      26   \n",
       "1  EMERGENCIA       CLINICA  Distrito Capital   F   50          29     142   \n",
       "2  EMERGENCIA       CLINICA             Zulia   M   42          29      21   \n",
       "3  EMERGENCIA       CLINICA  Distrito Capital   F   59          29     311   \n",
       "4  EMERGENCIA       CLINICA           Miranda   F   47          29      14   \n",
       "\n",
       "  date_issue age_range           h_type  \n",
       "0 2018-09-01     40-49      Ambulatorio  \n",
       "1 2018-09-01     50-59      Ambulatorio  \n",
       "2 2018-09-02     40-49      Ambulatorio  \n",
       "3 2018-09-02     50-59  Hospitalización  \n",
       "4 2018-09-02     40-49      Ambulatorio  "
      ]
     },
     "execution_count": 3,
     "metadata": {},
     "output_type": "execute_result"
    }
   ],
   "source": [
    "data.head()"
   ]
  },
  {
   "cell_type": "code",
   "execution_count": 4,
   "id": "behind-cherry",
   "metadata": {},
   "outputs": [],
   "source": [
    "data = data.drop(columns=['Unnamed: 0'])"
   ]
  },
  {
   "cell_type": "code",
   "execution_count": 5,
   "id": "controlling-native",
   "metadata": {},
   "outputs": [
    {
     "data": {
      "text/html": [
       "<div>\n",
       "<style scoped>\n",
       "    .dataframe tbody tr th:only-of-type {\n",
       "        vertical-align: middle;\n",
       "    }\n",
       "\n",
       "    .dataframe tbody tr th {\n",
       "        vertical-align: top;\n",
       "    }\n",
       "\n",
       "    .dataframe thead th {\n",
       "        text-align: right;\n",
       "    }\n",
       "</style>\n",
       "<table border=\"1\" class=\"dataframe\">\n",
       "  <thead>\n",
       "    <tr style=\"text-align: right;\">\n",
       "      <th></th>\n",
       "      <th>status</th>\n",
       "      <th>insurance_type</th>\n",
       "      <th>disease</th>\n",
       "      <th>claim_type</th>\n",
       "      <th>provider_type</th>\n",
       "      <th>state</th>\n",
       "      <th>sex</th>\n",
       "      <th>age</th>\n",
       "      <th>country_id</th>\n",
       "      <th>amount</th>\n",
       "      <th>date_issue</th>\n",
       "      <th>age_range</th>\n",
       "      <th>h_type</th>\n",
       "    </tr>\n",
       "  </thead>\n",
       "  <tbody>\n",
       "    <tr>\n",
       "      <th>0</th>\n",
       "      <td>PAGADO</td>\n",
       "      <td>INDIVIDUAL</td>\n",
       "      <td>Laringitis Y Traqueitis Agudas</td>\n",
       "      <td>EMERGENCIA</td>\n",
       "      <td>CLINICA</td>\n",
       "      <td>Distrito Capital</td>\n",
       "      <td>F</td>\n",
       "      <td>48</td>\n",
       "      <td>29</td>\n",
       "      <td>26</td>\n",
       "      <td>2018-09-01</td>\n",
       "      <td>40-49</td>\n",
       "      <td>Ambulatorio</td>\n",
       "    </tr>\n",
       "    <tr>\n",
       "      <th>1</th>\n",
       "      <td>PAGADO</td>\n",
       "      <td>INDIVIDUAL</td>\n",
       "      <td>Hepatitis Viral(A-B-C)</td>\n",
       "      <td>EMERGENCIA</td>\n",
       "      <td>CLINICA</td>\n",
       "      <td>Distrito Capital</td>\n",
       "      <td>F</td>\n",
       "      <td>50</td>\n",
       "      <td>29</td>\n",
       "      <td>142</td>\n",
       "      <td>2018-09-01</td>\n",
       "      <td>50-59</td>\n",
       "      <td>Ambulatorio</td>\n",
       "    </tr>\n",
       "    <tr>\n",
       "      <th>2</th>\n",
       "      <td>PAGADO</td>\n",
       "      <td>INDIVIDUAL</td>\n",
       "      <td>Amigdalo-Faringitis Aguda</td>\n",
       "      <td>EMERGENCIA</td>\n",
       "      <td>CLINICA</td>\n",
       "      <td>Zulia</td>\n",
       "      <td>M</td>\n",
       "      <td>42</td>\n",
       "      <td>29</td>\n",
       "      <td>21</td>\n",
       "      <td>2018-09-02</td>\n",
       "      <td>40-49</td>\n",
       "      <td>Ambulatorio</td>\n",
       "    </tr>\n",
       "    <tr>\n",
       "      <th>3</th>\n",
       "      <td>PAGADO</td>\n",
       "      <td>INDIVIDUAL</td>\n",
       "      <td>Bronquitis Aguda</td>\n",
       "      <td>EMERGENCIA</td>\n",
       "      <td>CLINICA</td>\n",
       "      <td>Distrito Capital</td>\n",
       "      <td>F</td>\n",
       "      <td>59</td>\n",
       "      <td>29</td>\n",
       "      <td>311</td>\n",
       "      <td>2018-09-02</td>\n",
       "      <td>50-59</td>\n",
       "      <td>Hospitalización</td>\n",
       "    </tr>\n",
       "    <tr>\n",
       "      <th>4</th>\n",
       "      <td>PAGADO</td>\n",
       "      <td>COLECTIVO</td>\n",
       "      <td>Dolor Abdominal Y Pelvico</td>\n",
       "      <td>EMERGENCIA</td>\n",
       "      <td>CLINICA</td>\n",
       "      <td>Miranda</td>\n",
       "      <td>F</td>\n",
       "      <td>47</td>\n",
       "      <td>29</td>\n",
       "      <td>14</td>\n",
       "      <td>2018-09-02</td>\n",
       "      <td>40-49</td>\n",
       "      <td>Ambulatorio</td>\n",
       "    </tr>\n",
       "  </tbody>\n",
       "</table>\n",
       "</div>"
      ],
      "text/plain": [
       "   status insurance_type                         disease  claim_type  \\\n",
       "0  PAGADO     INDIVIDUAL  Laringitis Y Traqueitis Agudas  EMERGENCIA   \n",
       "1  PAGADO     INDIVIDUAL          Hepatitis Viral(A-B-C)  EMERGENCIA   \n",
       "2  PAGADO     INDIVIDUAL       Amigdalo-Faringitis Aguda  EMERGENCIA   \n",
       "3  PAGADO     INDIVIDUAL                Bronquitis Aguda  EMERGENCIA   \n",
       "4  PAGADO      COLECTIVO       Dolor Abdominal Y Pelvico  EMERGENCIA   \n",
       "\n",
       "  provider_type             state sex  age  country_id  amount date_issue  \\\n",
       "0       CLINICA  Distrito Capital   F   48          29      26 2018-09-01   \n",
       "1       CLINICA  Distrito Capital   F   50          29     142 2018-09-01   \n",
       "2       CLINICA             Zulia   M   42          29      21 2018-09-02   \n",
       "3       CLINICA  Distrito Capital   F   59          29     311 2018-09-02   \n",
       "4       CLINICA           Miranda   F   47          29      14 2018-09-02   \n",
       "\n",
       "  age_range           h_type  \n",
       "0     40-49      Ambulatorio  \n",
       "1     50-59      Ambulatorio  \n",
       "2     40-49      Ambulatorio  \n",
       "3     50-59  Hospitalización  \n",
       "4     40-49      Ambulatorio  "
      ]
     },
     "execution_count": 5,
     "metadata": {},
     "output_type": "execute_result"
    }
   ],
   "source": [
    "data.head()"
   ]
  },
  {
   "cell_type": "code",
   "execution_count": 6,
   "id": "exterior-support",
   "metadata": {},
   "outputs": [
    {
     "data": {
      "text/plain": [
       "(151251, 13)"
      ]
     },
     "execution_count": 6,
     "metadata": {},
     "output_type": "execute_result"
    }
   ],
   "source": [
    "data.shape"
   ]
  },
  {
   "cell_type": "code",
   "execution_count": 7,
   "id": "classical-agent",
   "metadata": {},
   "outputs": [
    {
     "name": "stdout",
     "output_type": "stream",
     "text": [
      "total_amount: 97905791\n"
     ]
    }
   ],
   "source": [
    "print('total_amount:', data[\"amount\"].sum())"
   ]
  },
  {
   "cell_type": "code",
   "execution_count": 8,
   "id": "nonprofit-mother",
   "metadata": {},
   "outputs": [
    {
     "data": {
      "text/plain": [
       "array(['INDIVIDUAL', 'COLECTIVO'], dtype=object)"
      ]
     },
     "execution_count": 8,
     "metadata": {},
     "output_type": "execute_result"
    }
   ],
   "source": [
    "data['insurance_type'].unique()"
   ]
  },
  {
   "cell_type": "markdown",
   "id": "durable-runner",
   "metadata": {},
   "source": [
    "## PORTFOLIO INDIVIDUAL "
   ]
  },
  {
   "cell_type": "code",
   "execution_count": 9,
   "id": "judicial-pattern",
   "metadata": {},
   "outputs": [],
   "source": [
    "data_indiv = data.query('insurance_type == \"INDIVIDUAL\"')"
   ]
  },
  {
   "cell_type": "code",
   "execution_count": 10,
   "id": "sought-client",
   "metadata": {},
   "outputs": [
    {
     "data": {
      "text/plain": [
       "(39432, 13)"
      ]
     },
     "execution_count": 10,
     "metadata": {},
     "output_type": "execute_result"
    }
   ],
   "source": [
    "data_indiv.shape"
   ]
  },
  {
   "cell_type": "code",
   "execution_count": 11,
   "id": "finite-manhattan",
   "metadata": {},
   "outputs": [
    {
     "data": {
      "text/plain": [
       "[<matplotlib.lines.Line2D at 0x1238d29a0>]"
      ]
     },
     "execution_count": 11,
     "metadata": {},
     "output_type": "execute_result"
    },
    {
     "data": {
      "image/png": "[encoded data removed]",
      "text/plain": [
       "<Figure size 720x360 with 1 Axes>"
      ]
     },
     "metadata": {
      "needs_background": "light"
     },
     "output_type": "display_data"
    }
   ],
   "source": [
    "plt.figure(figsize=(10, 5))\n",
    "plt.plot(data_indiv[\"date_issue\"], data_indiv[\"amount\"])"
   ]
  },
  {
   "cell_type": "code",
   "execution_count": 12,
   "id": "cordless-volunteer",
   "metadata": {},
   "outputs": [
    {
     "name": "stdout",
     "output_type": "stream",
     "text": [
      "total_amount_indiv: 49113343\n",
      "percentage_amount_indiv: 50.16387947879406\n"
     ]
    }
   ],
   "source": [
    "print('total_amount_indiv:', data_indiv[\"amount\"].sum())\n",
    "print('percentage_amount_indiv:', (data_indiv[\"amount\"].sum() / data[\"amount\"].sum()) * 100)"
   ]
  },
  {
   "cell_type": "code",
   "execution_count": 13,
   "id": "noticed-university",
   "metadata": {},
   "outputs": [
    {
     "data": {
      "text/html": [
       "<div>\n",
       "<style scoped>\n",
       "    .dataframe tbody tr th:only-of-type {\n",
       "        vertical-align: middle;\n",
       "    }\n",
       "\n",
       "    .dataframe tbody tr th {\n",
       "        vertical-align: top;\n",
       "    }\n",
       "\n",
       "    .dataframe thead th {\n",
       "        text-align: right;\n",
       "    }\n",
       "</style>\n",
       "<table border=\"1\" class=\"dataframe\">\n",
       "  <thead>\n",
       "    <tr style=\"text-align: right;\">\n",
       "      <th></th>\n",
       "      <th>age</th>\n",
       "      <th>country_id</th>\n",
       "      <th>amount</th>\n",
       "    </tr>\n",
       "  </thead>\n",
       "  <tbody>\n",
       "    <tr>\n",
       "      <th>count</th>\n",
       "      <td>39432.000000</td>\n",
       "      <td>39432.000000</td>\n",
       "      <td>39432.000000</td>\n",
       "    </tr>\n",
       "    <tr>\n",
       "      <th>mean</th>\n",
       "      <td>42.092945</td>\n",
       "      <td>28.399244</td>\n",
       "      <td>1245.519958</td>\n",
       "    </tr>\n",
       "    <tr>\n",
       "      <th>std</th>\n",
       "      <td>21.765455</td>\n",
       "      <td>3.021139</td>\n",
       "      <td>7548.133962</td>\n",
       "    </tr>\n",
       "    <tr>\n",
       "      <th>min</th>\n",
       "      <td>0.000000</td>\n",
       "      <td>1.000000</td>\n",
       "      <td>0.000000</td>\n",
       "    </tr>\n",
       "    <tr>\n",
       "      <th>25%</th>\n",
       "      <td>28.000000</td>\n",
       "      <td>29.000000</td>\n",
       "      <td>39.000000</td>\n",
       "    </tr>\n",
       "    <tr>\n",
       "      <th>50%</th>\n",
       "      <td>43.000000</td>\n",
       "      <td>29.000000</td>\n",
       "      <td>108.000000</td>\n",
       "    </tr>\n",
       "    <tr>\n",
       "      <th>75%</th>\n",
       "      <td>59.000000</td>\n",
       "      <td>29.000000</td>\n",
       "      <td>507.000000</td>\n",
       "    </tr>\n",
       "    <tr>\n",
       "      <th>max</th>\n",
       "      <td>96.000000</td>\n",
       "      <td>46.000000</td>\n",
       "      <td>657312.000000</td>\n",
       "    </tr>\n",
       "  </tbody>\n",
       "</table>\n",
       "</div>"
      ],
      "text/plain": [
       "                age    country_id         amount\n",
       "count  39432.000000  39432.000000   39432.000000\n",
       "mean      42.092945     28.399244    1245.519958\n",
       "std       21.765455      3.021139    7548.133962\n",
       "min        0.000000      1.000000       0.000000\n",
       "25%       28.000000     29.000000      39.000000\n",
       "50%       43.000000     29.000000     108.000000\n",
       "75%       59.000000     29.000000     507.000000\n",
       "max       96.000000     46.000000  657312.000000"
      ]
     },
     "execution_count": 13,
     "metadata": {},
     "output_type": "execute_result"
    }
   ],
   "source": [
    "data_indiv.describe()"
   ]
  },
  {
   "cell_type": "code",
   "execution_count": 14,
   "id": "ahead-salon",
   "metadata": {
    "tags": []
   },
   "outputs": [],
   "source": [
    "data_indiv_max = data_indiv.query('amount > 200000')"
   ]
  },
  {
   "cell_type": "code",
   "execution_count": null,
   "id": "supported-scheme",
   "metadata": {},
   "outputs": [],
   "source": [
    "data_indiv_max.head()"
   ]
  },
  {
   "cell_type": "markdown",
   "id": "passive-niger",
   "metadata": {},
   "source": [
    "#### *Remove amount > 200000*"
   ]
  },
  {
   "cell_type": "code",
   "execution_count": null,
   "id": "ordinary-provincial",
   "metadata": {},
   "outputs": [],
   "source": [
    "data_indiv_homog = data_indiv.query('amount < 200000')"
   ]
  },
  {
   "cell_type": "code",
   "execution_count": null,
   "id": "cardiac-watershed",
   "metadata": {},
   "outputs": [],
   "source": [
    "data_indiv_homog.shape"
   ]
  },
  {
   "cell_type": "code",
   "execution_count": null,
   "id": "blank-graphics",
   "metadata": {},
   "outputs": [],
   "source": [
    "plt.figure(figsize=(10, 5))\n",
    "plt.plot(data_indiv_homog[\"date_issue\"], data_indiv_homog[\"amount\"])"
   ]
  },
  {
   "cell_type": "code",
   "execution_count": null,
   "id": "defined-missile",
   "metadata": {},
   "outputs": [],
   "source": [
    "data_indiv_homog"
   ]
  },
  {
   "cell_type": "code",
   "execution_count": null,
   "id": "listed-frequency",
   "metadata": {},
   "outputs": [],
   "source": [
    "data_indiv_homog.to_excel('../raw_data/data_indiv_full.xlsx', engine='xlsxwriter')"
   ]
  },
  {
   "cell_type": "code",
   "execution_count": null,
   "id": "italic-macedonia",
   "metadata": {},
   "outputs": [],
   "source": [
    "data_indiv_dayly = data_indiv_homog.groupby('date_issue', as_index = False).agg({'amount': 'sum'})\n",
    "data_indiv_dayly.columns = ['date_issue','total_amount_claims']"
   ]
  },
  {
   "cell_type": "code",
   "execution_count": null,
   "id": "ceramic-prisoner",
   "metadata": {},
   "outputs": [],
   "source": [
    "data_indiv_dayly.shape"
   ]
  },
  {
   "cell_type": "code",
   "execution_count": null,
   "id": "spare-aside",
   "metadata": {},
   "outputs": [],
   "source": [
    "data_days_plotting = data_indiv_dayly.set_index('date_issue')\n",
    "data_days_plotting.plot(grid=True, figsize=(15,5))"
   ]
  },
  {
   "cell_type": "code",
   "execution_count": null,
   "id": "premier-recall",
   "metadata": {},
   "outputs": [],
   "source": [
    "data_indiv_weekly = data_indiv_dayly.resample('W-Mon', on='date_issue').sum().reset_index().sort_values(by='date_issue')"
   ]
  },
  {
   "cell_type": "code",
   "execution_count": null,
   "id": "boxed-jewelry",
   "metadata": {},
   "outputs": [],
   "source": [
    "data_indiv_weekly.shape"
   ]
  },
  {
   "cell_type": "code",
   "execution_count": null,
   "id": "blond-assets",
   "metadata": {},
   "outputs": [],
   "source": [
    "data_indiv_weekly.to_excel('../raw_data/data_indiv_weekly.xlsx', engine='xlsxwriter')"
   ]
  },
  {
   "cell_type": "markdown",
   "id": "surprising-separation",
   "metadata": {},
   "source": [
    "## PORTFOLIO COLECTIVO"
   ]
  },
  {
   "cell_type": "code",
   "execution_count": null,
   "id": "selected-entrepreneur",
   "metadata": {},
   "outputs": [],
   "source": [
    "data_colec = data.query('insurance_type == \"COLECTIVO\"')"
   ]
  },
  {
   "cell_type": "code",
   "execution_count": null,
   "id": "fluid-transition",
   "metadata": {},
   "outputs": [],
   "source": [
    "data_colec.shape"
   ]
  },
  {
   "cell_type": "code",
   "execution_count": null,
   "id": "acquired-invalid",
   "metadata": {},
   "outputs": [],
   "source": [
    "plt.figure(figsize=(10, 5))\n",
    "plt.plot(data_colec[\"date_issue\"], data_colec[\"amount\"])"
   ]
  },
  {
   "cell_type": "code",
   "execution_count": null,
   "id": "framed-newsletter",
   "metadata": {},
   "outputs": [],
   "source": [
    "print('total_amount_colect:', data_colec[\"amount\"].sum())\n",
    "print('percentage_amount_colect:', (data_colec[\"amount\"].sum() / data[\"amount\"].sum()) * 100)"
   ]
  },
  {
   "cell_type": "code",
   "execution_count": null,
   "id": "suburban-elite",
   "metadata": {},
   "outputs": [],
   "source": [
    "data_colec.describe()"
   ]
  },
  {
   "cell_type": "code",
   "execution_count": null,
   "id": "suffering-honey",
   "metadata": {},
   "outputs": [],
   "source": [
    "data_colec_max = data_colec.query('amount > 60000')"
   ]
  },
  {
   "cell_type": "code",
   "execution_count": null,
   "id": "voluntary-temple",
   "metadata": {},
   "outputs": [],
   "source": [
    "data_colec_max"
   ]
  },
  {
   "cell_type": "markdown",
   "id": "multiple-lindsay",
   "metadata": {},
   "source": [
    "#### *Remove amount > 60000*"
   ]
  },
  {
   "cell_type": "code",
   "execution_count": null,
   "id": "fancy-projector",
   "metadata": {},
   "outputs": [],
   "source": [
    "data_colec_homog = data_colec.query('amount < 60000')"
   ]
  },
  {
   "cell_type": "code",
   "execution_count": null,
   "id": "forty-belle",
   "metadata": {},
   "outputs": [],
   "source": [
    "data_colec_homog.shape"
   ]
  },
  {
   "cell_type": "code",
   "execution_count": null,
   "id": "immediate-carpet",
   "metadata": {},
   "outputs": [],
   "source": [
    "plt.figure(figsize=(10, 5))\n",
    "plt.plot(data_colec_homog[\"date_issue\"], data_colec_homog[\"amount\"])"
   ]
  },
  {
   "cell_type": "code",
   "execution_count": null,
   "id": "reverse-concentrate",
   "metadata": {},
   "outputs": [],
   "source": [
    "data_colec_homog"
   ]
  },
  {
   "cell_type": "code",
   "execution_count": null,
   "id": "flush-given",
   "metadata": {},
   "outputs": [],
   "source": [
    "data_colec_homog.to_excel('../raw_data/data_colec_full.xlsx', engine='xlsxwriter')"
   ]
  },
  {
   "cell_type": "code",
   "execution_count": null,
   "id": "mathematical-functionality",
   "metadata": {},
   "outputs": [],
   "source": [
    "data_colec_dayly = data_colec_homog.groupby('date_issue', as_index = False).agg({'amount': 'sum'})\n",
    "data_colec_dayly.columns = ['date_issue','total_amount_claims']"
   ]
  },
  {
   "cell_type": "code",
   "execution_count": null,
   "id": "available-cannon",
   "metadata": {},
   "outputs": [],
   "source": [
    "data_colec_dayly.shape"
   ]
  },
  {
   "cell_type": "code",
   "execution_count": null,
   "id": "overall-period",
   "metadata": {},
   "outputs": [],
   "source": [
    "data_days_plotting_colec = data_colec_dayly.set_index('date_issue')\n",
    "data_days_plotting_colec.plot(grid=True, figsize=(15,5))"
   ]
  },
  {
   "cell_type": "code",
   "execution_count": null,
   "id": "realistic-acrobat",
   "metadata": {},
   "outputs": [],
   "source": [
    "data_colec_weekly = data_colec_dayly.resample('W-Mon', on='date_issue').sum().reset_index().sort_values(by='date_issue')"
   ]
  },
  {
   "cell_type": "code",
   "execution_count": null,
   "id": "rubber-consensus",
   "metadata": {},
   "outputs": [],
   "source": [
    "data_colec_weekly.shape"
   ]
  },
  {
   "cell_type": "code",
   "execution_count": null,
   "id": "increasing-australian",
   "metadata": {},
   "outputs": [],
   "source": [
    "data_colec_weekly.to_excel('../raw_data/data_colec_weekly.xlsx', engine='xlsxwriter')"
   ]
  }
 ],
 "metadata": {
  "kernelspec": {
   "display_name": "Python 3",
   "language": "python",
   "name": "python3"
  },
  "language_info": {
   "codemirror_mode": {
    "name": "ipython",
    "version": 3
   },
   "file_extension": ".py",
   "mimetype": "text/x-python",
   "name": "python",
   "nbconvert_exporter": "python",
   "pygments_lexer": "ipython3",
   "version": "3.8.6"
  }
 },
 "nbformat": 4,
 "nbformat_minor": 5
}
