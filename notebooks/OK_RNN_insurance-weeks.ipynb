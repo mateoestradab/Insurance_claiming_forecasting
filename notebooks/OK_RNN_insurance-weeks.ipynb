{
 "cells": [
  {
   "cell_type": "markdown",
   "id": "narrow-grade",
   "metadata": {},
   "source": [
    "# RNN - Insurance"
   ]
  },
  {
   "cell_type": "code",
   "execution_count": 1,
   "id": "exterior-french",
   "metadata": {},
   "outputs": [],
   "source": [
    "import pandas as pd\n",
    "import numpy as np\n",
    "import matplotlib.pyplot as plt"
   ]
  },
  {
   "cell_type": "code",
   "execution_count": 2,
   "id": "thrown-parish",
   "metadata": {},
   "outputs": [],
   "source": [
    "data = pd.read_excel('../raw_data/weekly_data_clean.xlsx', engine='openpyxl')"
   ]
  },
  {
   "cell_type": "code",
   "execution_count": 3,
   "id": "divine-single",
   "metadata": {},
   "outputs": [],
   "source": [
    "data = data.drop(columns=['Unnamed: 0', 'date_issue'])"
   ]
  },
  {
   "cell_type": "code",
   "execution_count": 4,
   "id": "excited-chance",
   "metadata": {},
   "outputs": [
    {
     "data": {
      "text/html": [
       "<div>\n",
       "<style scoped>\n",
       "    .dataframe tbody tr th:only-of-type {\n",
       "        vertical-align: middle;\n",
       "    }\n",
       "\n",
       "    .dataframe tbody tr th {\n",
       "        vertical-align: top;\n",
       "    }\n",
       "\n",
       "    .dataframe thead th {\n",
       "        text-align: right;\n",
       "    }\n",
       "</style>\n",
       "<table border=\"1\" class=\"dataframe\">\n",
       "  <thead>\n",
       "    <tr style=\"text-align: right;\">\n",
       "      <th></th>\n",
       "      <th>total_amount_claims</th>\n",
       "    </tr>\n",
       "  </thead>\n",
       "  <tbody>\n",
       "    <tr>\n",
       "      <th>0</th>\n",
       "      <td>16683</td>\n",
       "    </tr>\n",
       "    <tr>\n",
       "      <th>1</th>\n",
       "      <td>201774</td>\n",
       "    </tr>\n",
       "    <tr>\n",
       "      <th>2</th>\n",
       "      <td>263661</td>\n",
       "    </tr>\n",
       "    <tr>\n",
       "      <th>3</th>\n",
       "      <td>799703</td>\n",
       "    </tr>\n",
       "    <tr>\n",
       "      <th>4</th>\n",
       "      <td>900305</td>\n",
       "    </tr>\n",
       "    <tr>\n",
       "      <th>...</th>\n",
       "      <td>...</td>\n",
       "    </tr>\n",
       "    <tr>\n",
       "      <th>127</th>\n",
       "      <td>1949930</td>\n",
       "    </tr>\n",
       "    <tr>\n",
       "      <th>128</th>\n",
       "      <td>1725225</td>\n",
       "    </tr>\n",
       "    <tr>\n",
       "      <th>129</th>\n",
       "      <td>2232202</td>\n",
       "    </tr>\n",
       "    <tr>\n",
       "      <th>130</th>\n",
       "      <td>2666662</td>\n",
       "    </tr>\n",
       "    <tr>\n",
       "      <th>131</th>\n",
       "      <td>2111986</td>\n",
       "    </tr>\n",
       "  </tbody>\n",
       "</table>\n",
       "<p>132 rows × 1 columns</p>\n",
       "</div>"
      ],
      "text/plain": [
       "     total_amount_claims\n",
       "0                  16683\n",
       "1                 201774\n",
       "2                 263661\n",
       "3                 799703\n",
       "4                 900305\n",
       "..                   ...\n",
       "127              1949930\n",
       "128              1725225\n",
       "129              2232202\n",
       "130              2666662\n",
       "131              2111986\n",
       "\n",
       "[132 rows x 1 columns]"
      ]
     },
     "execution_count": 4,
     "metadata": {},
     "output_type": "execute_result"
    }
   ],
   "source": [
    "data"
   ]
  },
  {
   "cell_type": "code",
   "execution_count": 5,
   "id": "enclosed-argument",
   "metadata": {},
   "outputs": [
    {
     "name": "stdout",
     "output_type": "stream",
     "text": [
      "min:  16683\n",
      "max:  2666662\n"
     ]
    }
   ],
   "source": [
    "print(\"min: \",data['total_amount_claims'].min())\n",
    "print(\"max: \",data['total_amount_claims'].max())"
   ]
  },
  {
   "cell_type": "code",
   "execution_count": 6,
   "id": "incident-analyst",
   "metadata": {},
   "outputs": [
    {
     "data": {
      "text/plain": [
       "(132, 1)"
      ]
     },
     "execution_count": 6,
     "metadata": {},
     "output_type": "execute_result"
    }
   ],
   "source": [
    "data.shape"
   ]
  },
  {
   "cell_type": "code",
   "execution_count": 7,
   "id": "little-ready",
   "metadata": {},
   "outputs": [],
   "source": [
    "min_ = data['total_amount_claims'].min()\n",
    "max_ = data['total_amount_claims'].max()\n",
    "\n",
    "data['total_amount_claims'] = [((x - min_) / (max_ - min_)) for x in data['total_amount_claims']]"
   ]
  },
  {
   "cell_type": "code",
   "execution_count": 8,
   "id": "broken-belle",
   "metadata": {},
   "outputs": [
    {
     "data": {
      "text/html": [
       "<div>\n",
       "<style scoped>\n",
       "    .dataframe tbody tr th:only-of-type {\n",
       "        vertical-align: middle;\n",
       "    }\n",
       "\n",
       "    .dataframe tbody tr th {\n",
       "        vertical-align: top;\n",
       "    }\n",
       "\n",
       "    .dataframe thead th {\n",
       "        text-align: right;\n",
       "    }\n",
       "</style>\n",
       "<table border=\"1\" class=\"dataframe\">\n",
       "  <thead>\n",
       "    <tr style=\"text-align: right;\">\n",
       "      <th></th>\n",
       "      <th>total_amount_claims</th>\n",
       "    </tr>\n",
       "  </thead>\n",
       "  <tbody>\n",
       "    <tr>\n",
       "      <th>0</th>\n",
       "      <td>0.000000</td>\n",
       "    </tr>\n",
       "    <tr>\n",
       "      <th>1</th>\n",
       "      <td>0.069846</td>\n",
       "    </tr>\n",
       "    <tr>\n",
       "      <th>2</th>\n",
       "      <td>0.093200</td>\n",
       "    </tr>\n",
       "    <tr>\n",
       "      <th>3</th>\n",
       "      <td>0.295482</td>\n",
       "    </tr>\n",
       "    <tr>\n",
       "      <th>4</th>\n",
       "      <td>0.333445</td>\n",
       "    </tr>\n",
       "    <tr>\n",
       "      <th>...</th>\n",
       "      <td>...</td>\n",
       "    </tr>\n",
       "    <tr>\n",
       "      <th>127</th>\n",
       "      <td>0.729533</td>\n",
       "    </tr>\n",
       "    <tr>\n",
       "      <th>128</th>\n",
       "      <td>0.644738</td>\n",
       "    </tr>\n",
       "    <tr>\n",
       "      <th>129</th>\n",
       "      <td>0.836052</td>\n",
       "    </tr>\n",
       "    <tr>\n",
       "      <th>130</th>\n",
       "      <td>1.000000</td>\n",
       "    </tr>\n",
       "    <tr>\n",
       "      <th>131</th>\n",
       "      <td>0.790687</td>\n",
       "    </tr>\n",
       "  </tbody>\n",
       "</table>\n",
       "<p>132 rows × 1 columns</p>\n",
       "</div>"
      ],
      "text/plain": [
       "     total_amount_claims\n",
       "0               0.000000\n",
       "1               0.069846\n",
       "2               0.093200\n",
       "3               0.295482\n",
       "4               0.333445\n",
       "..                   ...\n",
       "127             0.729533\n",
       "128             0.644738\n",
       "129             0.836052\n",
       "130             1.000000\n",
       "131             0.790687\n",
       "\n",
       "[132 rows x 1 columns]"
      ]
     },
     "execution_count": 8,
     "metadata": {},
     "output_type": "execute_result"
    }
   ],
   "source": [
    "data"
   ]
  },
  {
   "cell_type": "markdown",
   "id": "amateur-spotlight",
   "metadata": {},
   "source": [
    "### Split data"
   ]
  },
  {
   "cell_type": "code",
   "execution_count": 9,
   "id": "binding-collins",
   "metadata": {},
   "outputs": [],
   "source": [
    "len_ = int(0.8*data.shape[0])\n",
    "\n",
    "data_train = data[:len_]\n",
    "data_test = data[len_:]"
   ]
  },
  {
   "cell_type": "code",
   "execution_count": 10,
   "id": "bridal-stranger",
   "metadata": {},
   "outputs": [
    {
     "name": "stdout",
     "output_type": "stream",
     "text": [
      "(105, 1)\n",
      "(27, 1)\n"
     ]
    }
   ],
   "source": [
    "print(data_train.shape)\n",
    "print(data_test.shape)"
   ]
  },
  {
   "cell_type": "markdown",
   "id": "proved-contemporary",
   "metadata": {},
   "source": [
    "### Sequences"
   ]
  },
  {
   "cell_type": "code",
   "execution_count": 11,
   "id": "proud-tucson",
   "metadata": {},
   "outputs": [],
   "source": [
    "def subsample_sequence(data, length):\n",
    "    \n",
    "    last_possible = data.shape[0] - length\n",
    "    \n",
    "    random_start = np.random.randint(0, last_possible)\n",
    "    data_sample = data[random_start: random_start+length]\n",
    "    \n",
    "    return data_sample"
   ]
  },
  {
   "cell_type": "code",
   "execution_count": 12,
   "id": "yellow-password",
   "metadata": {},
   "outputs": [
    {
     "data": {
      "text/html": [
       "<div>\n",
       "<style scoped>\n",
       "    .dataframe tbody tr th:only-of-type {\n",
       "        vertical-align: middle;\n",
       "    }\n",
       "\n",
       "    .dataframe tbody tr th {\n",
       "        vertical-align: top;\n",
       "    }\n",
       "\n",
       "    .dataframe thead th {\n",
       "        text-align: right;\n",
       "    }\n",
       "</style>\n",
       "<table border=\"1\" class=\"dataframe\">\n",
       "  <thead>\n",
       "    <tr style=\"text-align: right;\">\n",
       "      <th></th>\n",
       "      <th>total_amount_claims</th>\n",
       "    </tr>\n",
       "  </thead>\n",
       "  <tbody>\n",
       "    <tr>\n",
       "      <th>112</th>\n",
       "      <td>0.466072</td>\n",
       "    </tr>\n",
       "    <tr>\n",
       "      <th>113</th>\n",
       "      <td>0.465067</td>\n",
       "    </tr>\n",
       "    <tr>\n",
       "      <th>114</th>\n",
       "      <td>0.461644</td>\n",
       "    </tr>\n",
       "    <tr>\n",
       "      <th>115</th>\n",
       "      <td>0.533537</td>\n",
       "    </tr>\n",
       "    <tr>\n",
       "      <th>116</th>\n",
       "      <td>0.460298</td>\n",
       "    </tr>\n",
       "    <tr>\n",
       "      <th>117</th>\n",
       "      <td>0.539930</td>\n",
       "    </tr>\n",
       "    <tr>\n",
       "      <th>118</th>\n",
       "      <td>0.477951</td>\n",
       "    </tr>\n",
       "    <tr>\n",
       "      <th>119</th>\n",
       "      <td>0.478536</td>\n",
       "    </tr>\n",
       "    <tr>\n",
       "      <th>120</th>\n",
       "      <td>0.479784</td>\n",
       "    </tr>\n",
       "    <tr>\n",
       "      <th>121</th>\n",
       "      <td>0.437053</td>\n",
       "    </tr>\n",
       "  </tbody>\n",
       "</table>\n",
       "</div>"
      ],
      "text/plain": [
       "     total_amount_claims\n",
       "112             0.466072\n",
       "113             0.465067\n",
       "114             0.461644\n",
       "115             0.533537\n",
       "116             0.460298\n",
       "117             0.539930\n",
       "118             0.477951\n",
       "119             0.478536\n",
       "120             0.479784\n",
       "121             0.437053"
      ]
     },
     "execution_count": 12,
     "metadata": {},
     "output_type": "execute_result"
    }
   ],
   "source": [
    "data_subsample = subsample_sequence(data, 10)\n",
    "data_subsample"
   ]
  },
  {
   "cell_type": "code",
   "execution_count": 13,
   "id": "disturbed-bernard",
   "metadata": {},
   "outputs": [],
   "source": [
    "def fillna(X, data_mean):\n",
    "    # Replace with NaN of the other hours. \n",
    "    na = X.mean()\n",
    "    \n",
    "    # If the other hours are also nans, then replace with mean value of the dataframe\n",
    "    na.fillna(data_mean)\n",
    "    return na\n",
    "\n",
    "def split_subsample_sequence(data, length, data_mean=None):\n",
    "    # Little trick to improve the time\n",
    "    if data_mean is None:\n",
    "        data_mean = data.mean()\n",
    "              \n",
    "    data_subsample = subsample_sequence(data, length)\n",
    "    y_sample = data_subsample.iloc[data_subsample.shape[0]-1]['total_amount_claims']\n",
    "    \n",
    "    if y_sample != y_sample: # A value is not equal to itself only for NaN. So it will be True if y_sample is nan\n",
    "        X_sample, y_sample = split_subsample_sequence(data, length, data_mean)\n",
    "        return np.array(X_sample), np.array(y_sample)\n",
    "    \n",
    "    X_sample = data_subsample[0:data_subsample.shape[0]-1]\n",
    "    X_sample = X_sample.fillna(fillna(X_sample, data_mean))\n",
    "    X_sample = X_sample.values\n",
    "    \n",
    "    return np.array(X_sample), np.array(y_sample)"
   ]
  },
  {
   "cell_type": "code",
   "execution_count": 14,
   "id": "considerable-bloom",
   "metadata": {},
   "outputs": [],
   "source": [
    "def get_X_y(data, number_of_sequences, length):\n",
    "    X, y = [], []\n",
    "\n",
    "    for i in range(number_of_sequences):\n",
    "        xi, yi = split_subsample_sequence(data, length)\n",
    "        X.append(xi)\n",
    "        y.append(yi)\n",
    "        \n",
    "    X = np.array(X)\n",
    "    y = np.array(y)\n",
    "        \n",
    "    return X, y"
   ]
  },
  {
   "cell_type": "code",
   "execution_count": 15,
   "id": "musical-announcement",
   "metadata": {},
   "outputs": [],
   "source": [
    "X_train, y_train = get_X_y(data_train, 80, 10)\n",
    "X_test, y_test = get_X_y(data_test, 20, 10)"
   ]
  },
  {
   "cell_type": "code",
   "execution_count": 16,
   "id": "advisory-concord",
   "metadata": {},
   "outputs": [],
   "source": [
    "# !pip install tensorflow"
   ]
  },
  {
   "cell_type": "code",
   "execution_count": 17,
   "id": "isolated-aircraft",
   "metadata": {},
   "outputs": [
    {
     "name": "stdout",
     "output_type": "stream",
     "text": [
      "X train size:(80, 9, 1)\n",
      "X test size:(20, 9, 1)\n",
      "y train size:(80,)\n",
      "y test size:(20,)\n"
     ]
    }
   ],
   "source": [
    "print(f'X train size:{X_train.shape}')\n",
    "print(f'X test size:{X_test.shape}')\n",
    "print(f'y train size:{y_train.shape}')\n",
    "print(f'y test size:{y_test.shape}')"
   ]
  },
  {
   "cell_type": "code",
   "execution_count": 19,
   "id": "driving-transaction",
   "metadata": {},
   "outputs": [],
   "source": [
    "from tensorflow.keras import models\n",
    "from tensorflow.keras import layers\n",
    "\n",
    "model = models.Sequential()\n",
    "\n",
    "model.add(layers.LSTM(20, activation='tanh'))\n",
    "model.add(layers.Dense(5, activation='relu'))\n",
    "model.add(layers.Dense(1, activation='linear'))"
   ]
  },
  {
   "cell_type": "code",
   "execution_count": 20,
   "id": "foreign-regular",
   "metadata": {},
   "outputs": [],
   "source": [
    "model.compile(loss='mse', \n",
    "              optimizer='rmsprop', \n",
    "              metrics=['mse', 'mae', 'mape'])"
   ]
  },
  {
   "cell_type": "code",
   "execution_count": 21,
   "id": "north-guyana",
   "metadata": {},
   "outputs": [
    {
     "name": "stdout",
     "output_type": "stream",
     "text": [
      "Epoch 1/100\n",
      "4/4 [==============================] - 2s 194ms/step - loss: 0.0279 - mse: 0.0279 - mae: 0.1350 - mape: 64.2961 - val_loss: 0.0245 - val_mse: 0.0245 - val_mae: 0.1215 - val_mape: 52.1499\n",
      "Epoch 2/100\n",
      "4/4 [==============================] - 0s 21ms/step - loss: 0.0094 - mse: 0.0094 - mae: 0.0685 - mape: 43.4883 - val_loss: 0.0170 - val_mse: 0.0170 - val_mae: 0.0993 - val_mape: 54.1688\n",
      "Epoch 3/100\n",
      "4/4 [==============================] - 0s 26ms/step - loss: 0.0072 - mse: 0.0072 - mae: 0.0656 - mape: 50.3275 - val_loss: 0.0153 - val_mse: 0.0153 - val_mae: 0.0927 - val_mape: 55.6052\n",
      "Epoch 4/100\n",
      "4/4 [==============================] - 0s 20ms/step - loss: 0.0076 - mse: 0.0076 - mae: 0.0714 - mape: 63.4956 - val_loss: 0.0152 - val_mse: 0.0152 - val_mae: 0.0922 - val_mape: 55.5320\n",
      "Epoch 5/100\n",
      "4/4 [==============================] - 0s 25ms/step - loss: 0.0058 - mse: 0.0058 - mae: 0.0643 - mape: 59.4906 - val_loss: 0.0143 - val_mse: 0.0143 - val_mae: 0.0882 - val_mape: 57.6045\n",
      "Epoch 6/100\n",
      "4/4 [==============================] - 0s 22ms/step - loss: 0.0080 - mse: 0.0080 - mae: 0.0732 - mape: 70.3281 - val_loss: 0.0150 - val_mse: 0.0150 - val_mae: 0.0911 - val_mape: 55.4870\n",
      "Epoch 7/100\n",
      "4/4 [==============================] - 0s 23ms/step - loss: 0.0063 - mse: 0.0063 - mae: 0.0657 - mape: 57.2485 - val_loss: 0.0153 - val_mse: 0.0153 - val_mae: 0.0926 - val_mape: 54.8969\n",
      "Epoch 8/100\n",
      "4/4 [==============================] - 0s 20ms/step - loss: 0.0067 - mse: 0.0067 - mae: 0.0655 - mape: 55.8698 - val_loss: 0.0157 - val_mse: 0.0157 - val_mae: 0.0944 - val_mape: 54.2195\n",
      "Restoring model weights from the end of the best epoch.\n",
      "Epoch 00008: early stopping\n"
     ]
    }
   ],
   "source": [
    "from tensorflow.keras.callbacks import EarlyStopping\n",
    "\n",
    "es = EarlyStopping(monitor='val_loss', mode='min', verbose=1, patience=3, restore_best_weights=True)\n",
    "\n",
    "history = model.fit(X_train, y_train,\n",
    "            validation_split=0.2,\n",
    "            epochs=100, \n",
    "            batch_size=16,\n",
    "            callbacks=[es])"
   ]
  },
  {
   "cell_type": "code",
   "execution_count": 22,
   "id": "reasonable-liquid",
   "metadata": {},
   "outputs": [
    {
     "name": "stdout",
     "output_type": "stream",
     "text": [
      "Model: \"sequential\"\n",
      "_________________________________________________________________\n",
      "Layer (type)                 Output Shape              Param #   \n",
      "=================================================================\n",
      "lstm (LSTM)                  (16, 20)                  1760      \n",
      "_________________________________________________________________\n",
      "dense (Dense)                (16, 5)                   105       \n",
      "_________________________________________________________________\n",
      "dense_1 (Dense)              (16, 1)                   6         \n",
      "=================================================================\n",
      "Total params: 1,871\n",
      "Trainable params: 1,871\n",
      "Non-trainable params: 0\n",
      "_________________________________________________________________\n"
     ]
    }
   ],
   "source": [
    "model.summary()"
   ]
  },
  {
   "cell_type": "code",
   "execution_count": 23,
   "id": "egyptian-athens",
   "metadata": {},
   "outputs": [
    {
     "data": {
      "text/plain": [
       "[0.05736522004008293,\n",
       " 0.05736522004008293,\n",
       " 0.20471462607383728,\n",
       " 33.0782585144043]"
      ]
     },
     "execution_count": 23,
     "metadata": {},
     "output_type": "execute_result"
    }
   ],
   "source": [
    "model_eval = model.evaluate(X_test, y_test, verbose=0)\n",
    "# print(f'Model Mean Absolute Error {model_eval[1]:.4f}')\n",
    "# print(f'Model Mean Absolute Porcentual Error {model_eval[2]:.4f}')\n",
    "model_eval"
   ]
  },
  {
   "cell_type": "code",
   "execution_count": 24,
   "id": "psychological-rebound",
   "metadata": {},
   "outputs": [],
   "source": [
    "# tf.keras.losses.MAPE(\n",
    "#     y_true, y_pred\n",
    "# )"
   ]
  },
  {
   "cell_type": "markdown",
   "id": "processed-produce",
   "metadata": {},
   "source": [
    "#### Prediction"
   ]
  },
  {
   "cell_type": "code",
   "execution_count": 25,
   "id": "eastern-barrier",
   "metadata": {
    "tags": []
   },
   "outputs": [],
   "source": [
    "y_pred = model.predict(X_test)"
   ]
  },
  {
   "cell_type": "code",
   "execution_count": 26,
   "id": "running-scholar",
   "metadata": {},
   "outputs": [
    {
     "data": {
      "text/plain": [
       "(20, 1)"
      ]
     },
     "execution_count": 26,
     "metadata": {},
     "output_type": "execute_result"
    }
   ],
   "source": [
    "y_pred.shape"
   ]
  },
  {
   "cell_type": "code",
   "execution_count": 44,
   "id": "angry-recipe",
   "metadata": {},
   "outputs": [
    {
     "data": {
      "image/png": "[encoded data removed]",
      "text/plain": [
       "<Figure size 720x360 with 1 Axes>"
      ]
     },
     "metadata": {
      "needs_background": "light"
     },
     "output_type": "display_data"
    }
   ],
   "source": [
    "plt.figure(figsize=(10,5))\n",
    "plt.plot(y_test,label = 'Test')\n",
    "plt.plot(y_pred, label = 'Prediction')\n",
    "plt.legend(loc='best')\n",
    "plt.show()"
   ]
  },
  {
   "cell_type": "markdown",
   "id": "democratic-optimum",
   "metadata": {},
   "source": [
    "# "
   ]
  },
  {
   "cell_type": "markdown",
   "id": "incredible-adobe",
   "metadata": {},
   "source": [
    "### Reversion"
   ]
  },
  {
   "cell_type": "code",
   "execution_count": 37,
   "id": "balanced-mumbai",
   "metadata": {},
   "outputs": [],
   "source": [
    "# def rev_min_max_func(scaled_val):\n",
    "#     max_val = max(df['target'])\n",
    "#     min_val = min(df['target'])\n",
    "#     og_val = (scaled_val*(max_val - min_val)) + min_val\n",
    "#     return og_val\n",
    "# df['pred_target'] = scaled_labeled_df['pred_scaled_target'].apply(lambda x: rev_min_max_func(x))"
   ]
  },
  {
   "cell_type": "code",
   "execution_count": 40,
   "id": "brazilian-energy",
   "metadata": {},
   "outputs": [],
   "source": [
    "data['total_amount_claims'] = [((x*(max_ - min_)) + min_) for x in data['total_amount_claims']]"
   ]
  },
  {
   "cell_type": "code",
   "execution_count": 41,
   "id": "altered-stevens",
   "metadata": {},
   "outputs": [
    {
     "data": {
      "text/plain": [
       "0        16683.0\n",
       "1       201774.0\n",
       "2       263661.0\n",
       "3       799703.0\n",
       "4       900305.0\n",
       "         ...    \n",
       "127    1949930.0\n",
       "128    1725225.0\n",
       "129    2232202.0\n",
       "130    2666662.0\n",
       "131    2111986.0\n",
       "Name: total_amount_claims, Length: 132, dtype: float64"
      ]
     },
     "execution_count": 41,
     "metadata": {},
     "output_type": "execute_result"
    }
   ],
   "source": [
    "data['total_amount_claims']"
   ]
  },
  {
   "cell_type": "code",
   "execution_count": 45,
   "id": "conditional-force",
   "metadata": {},
   "outputs": [],
   "source": [
    "y_pred = [((x*(max_ - min_)) + min_) for x in y_pred]"
   ]
  },
  {
   "cell_type": "code",
   "execution_count": 27,
   "id": "champion-paint",
   "metadata": {},
   "outputs": [
    {
     "data": {
      "text/plain": [
       "(20, 1)"
      ]
     },
     "execution_count": 27,
     "metadata": {},
     "output_type": "execute_result"
    }
   ],
   "source": [
    "y_pred.shape"
   ]
  },
  {
   "cell_type": "code",
   "execution_count": 47,
   "id": "talented-recording",
   "metadata": {},
   "outputs": [
    {
     "data": {
      "image/png": "[encoded data removed]",
      "text/plain": [
       "<Figure size 720x360 with 1 Axes>"
      ]
     },
     "metadata": {
      "needs_background": "light"
     },
     "output_type": "display_data"
    }
   ],
   "source": [
    "plt.figure(figsize=(10,5))\n",
    "plt.plot(data['total_amount_claims'],label = 'Serie completa')\n",
    "plt.plot(y_pred, label = 'Prediction')\n",
    "plt.legend(loc='best')\n",
    "plt.show()"
   ]
  },
  {
   "cell_type": "code",
   "execution_count": 48,
   "id": "political-british",
   "metadata": {},
   "outputs": [],
   "source": [
    "data_orig = pd.read_excel('../raw_data/weekly_data_clean.xlsx', engine='openpyxl')"
   ]
  },
  {
   "cell_type": "code",
   "execution_count": 50,
   "id": "distributed-boards",
   "metadata": {},
   "outputs": [],
   "source": [
    "data_orig = data_orig.drop(columns='Unnamed: 0')"
   ]
  },
  {
   "cell_type": "code",
   "execution_count": 51,
   "id": "lyric-turkey",
   "metadata": {},
   "outputs": [
    {
     "data": {
      "text/html": [
       "<div>\n",
       "<style scoped>\n",
       "    .dataframe tbody tr th:only-of-type {\n",
       "        vertical-align: middle;\n",
       "    }\n",
       "\n",
       "    .dataframe tbody tr th {\n",
       "        vertical-align: top;\n",
       "    }\n",
       "\n",
       "    .dataframe thead th {\n",
       "        text-align: right;\n",
       "    }\n",
       "</style>\n",
       "<table border=\"1\" class=\"dataframe\">\n",
       "  <thead>\n",
       "    <tr style=\"text-align: right;\">\n",
       "      <th></th>\n",
       "      <th>date_issue</th>\n",
       "      <th>total_amount_claims</th>\n",
       "    </tr>\n",
       "  </thead>\n",
       "  <tbody>\n",
       "    <tr>\n",
       "      <th>0</th>\n",
       "      <td>2018-09-03</td>\n",
       "      <td>16683</td>\n",
       "    </tr>\n",
       "    <tr>\n",
       "      <th>1</th>\n",
       "      <td>2018-09-10</td>\n",
       "      <td>201774</td>\n",
       "    </tr>\n",
       "    <tr>\n",
       "      <th>2</th>\n",
       "      <td>2018-09-17</td>\n",
       "      <td>263661</td>\n",
       "    </tr>\n",
       "    <tr>\n",
       "      <th>3</th>\n",
       "      <td>2018-09-24</td>\n",
       "      <td>799703</td>\n",
       "    </tr>\n",
       "    <tr>\n",
       "      <th>4</th>\n",
       "      <td>2018-10-01</td>\n",
       "      <td>900305</td>\n",
       "    </tr>\n",
       "    <tr>\n",
       "      <th>...</th>\n",
       "      <td>...</td>\n",
       "      <td>...</td>\n",
       "    </tr>\n",
       "    <tr>\n",
       "      <th>127</th>\n",
       "      <td>2021-02-08</td>\n",
       "      <td>1949930</td>\n",
       "    </tr>\n",
       "    <tr>\n",
       "      <th>128</th>\n",
       "      <td>2021-02-15</td>\n",
       "      <td>1725225</td>\n",
       "    </tr>\n",
       "    <tr>\n",
       "      <th>129</th>\n",
       "      <td>2021-02-22</td>\n",
       "      <td>2232202</td>\n",
       "    </tr>\n",
       "    <tr>\n",
       "      <th>130</th>\n",
       "      <td>2021-03-01</td>\n",
       "      <td>2666662</td>\n",
       "    </tr>\n",
       "    <tr>\n",
       "      <th>131</th>\n",
       "      <td>2021-03-08</td>\n",
       "      <td>2111986</td>\n",
       "    </tr>\n",
       "  </tbody>\n",
       "</table>\n",
       "<p>132 rows × 2 columns</p>\n",
       "</div>"
      ],
      "text/plain": [
       "    date_issue  total_amount_claims\n",
       "0   2018-09-03                16683\n",
       "1   2018-09-10               201774\n",
       "2   2018-09-17               263661\n",
       "3   2018-09-24               799703\n",
       "4   2018-10-01               900305\n",
       "..         ...                  ...\n",
       "127 2021-02-08              1949930\n",
       "128 2021-02-15              1725225\n",
       "129 2021-02-22              2232202\n",
       "130 2021-03-01              2666662\n",
       "131 2021-03-08              2111986\n",
       "\n",
       "[132 rows x 2 columns]"
      ]
     },
     "execution_count": 51,
     "metadata": {},
     "output_type": "execute_result"
    }
   ],
   "source": [
    "data_orig"
   ]
  },
  {
   "cell_type": "code",
   "execution_count": 54,
   "id": "chronic-accessory",
   "metadata": {},
   "outputs": [],
   "source": [
    "data['total_amount_claims'].index = pd.to_datetime(data_orig.iloc[:, 0]) #relaciona indices"
   ]
  },
  {
   "cell_type": "code",
   "execution_count": 58,
   "id": "fourth-disclaimer",
   "metadata": {},
   "outputs": [
    {
     "data": {
      "text/html": [
       "<div>\n",
       "<style scoped>\n",
       "    .dataframe tbody tr th:only-of-type {\n",
       "        vertical-align: middle;\n",
       "    }\n",
       "\n",
       "    .dataframe tbody tr th {\n",
       "        vertical-align: top;\n",
       "    }\n",
       "\n",
       "    .dataframe thead th {\n",
       "        text-align: right;\n",
       "    }\n",
       "</style>\n",
       "<table border=\"1\" class=\"dataframe\">\n",
       "  <thead>\n",
       "    <tr style=\"text-align: right;\">\n",
       "      <th></th>\n",
       "      <th>date_issue</th>\n",
       "      <th>total_amount_claims</th>\n",
       "    </tr>\n",
       "  </thead>\n",
       "  <tbody>\n",
       "    <tr>\n",
       "      <th>0</th>\n",
       "      <td>2018-09-03</td>\n",
       "      <td>16683.0</td>\n",
       "    </tr>\n",
       "    <tr>\n",
       "      <th>1</th>\n",
       "      <td>2018-09-10</td>\n",
       "      <td>201774.0</td>\n",
       "    </tr>\n",
       "    <tr>\n",
       "      <th>2</th>\n",
       "      <td>2018-09-17</td>\n",
       "      <td>263661.0</td>\n",
       "    </tr>\n",
       "    <tr>\n",
       "      <th>3</th>\n",
       "      <td>2018-09-24</td>\n",
       "      <td>799703.0</td>\n",
       "    </tr>\n",
       "    <tr>\n",
       "      <th>4</th>\n",
       "      <td>2018-10-01</td>\n",
       "      <td>900305.0</td>\n",
       "    </tr>\n",
       "    <tr>\n",
       "      <th>...</th>\n",
       "      <td>...</td>\n",
       "      <td>...</td>\n",
       "    </tr>\n",
       "    <tr>\n",
       "      <th>127</th>\n",
       "      <td>2021-02-08</td>\n",
       "      <td>1949930.0</td>\n",
       "    </tr>\n",
       "    <tr>\n",
       "      <th>128</th>\n",
       "      <td>2021-02-15</td>\n",
       "      <td>1725225.0</td>\n",
       "    </tr>\n",
       "    <tr>\n",
       "      <th>129</th>\n",
       "      <td>2021-02-22</td>\n",
       "      <td>2232202.0</td>\n",
       "    </tr>\n",
       "    <tr>\n",
       "      <th>130</th>\n",
       "      <td>2021-03-01</td>\n",
       "      <td>2666662.0</td>\n",
       "    </tr>\n",
       "    <tr>\n",
       "      <th>131</th>\n",
       "      <td>2021-03-08</td>\n",
       "      <td>2111986.0</td>\n",
       "    </tr>\n",
       "  </tbody>\n",
       "</table>\n",
       "<p>132 rows × 2 columns</p>\n",
       "</div>"
      ],
      "text/plain": [
       "    date_issue  total_amount_claims\n",
       "0   2018-09-03              16683.0\n",
       "1   2018-09-10             201774.0\n",
       "2   2018-09-17             263661.0\n",
       "3   2018-09-24             799703.0\n",
       "4   2018-10-01             900305.0\n",
       "..         ...                  ...\n",
       "127 2021-02-08            1949930.0\n",
       "128 2021-02-15            1725225.0\n",
       "129 2021-02-22            2232202.0\n",
       "130 2021-03-01            2666662.0\n",
       "131 2021-03-08            2111986.0\n",
       "\n",
       "[132 rows x 2 columns]"
      ]
     },
     "execution_count": 58,
     "metadata": {},
     "output_type": "execute_result"
    }
   ],
   "source": [
    "data['total_amount_claims'].reset_index()"
   ]
  },
  {
   "cell_type": "code",
   "execution_count": 65,
   "id": "interim-activation",
   "metadata": {},
   "outputs": [
    {
     "data": {
      "text/html": [
       "<div>\n",
       "<style scoped>\n",
       "    .dataframe tbody tr th:only-of-type {\n",
       "        vertical-align: middle;\n",
       "    }\n",
       "\n",
       "    .dataframe tbody tr th {\n",
       "        vertical-align: top;\n",
       "    }\n",
       "\n",
       "    .dataframe thead th {\n",
       "        text-align: right;\n",
       "    }\n",
       "</style>\n",
       "<table border=\"1\" class=\"dataframe\">\n",
       "  <thead>\n",
       "    <tr style=\"text-align: right;\">\n",
       "      <th></th>\n",
       "      <th>y_pred</th>\n",
       "    </tr>\n",
       "  </thead>\n",
       "  <tbody>\n",
       "    <tr>\n",
       "      <th>0</th>\n",
       "      <td>1.158975e+06</td>\n",
       "    </tr>\n",
       "    <tr>\n",
       "      <th>1</th>\n",
       "      <td>1.181255e+06</td>\n",
       "    </tr>\n",
       "    <tr>\n",
       "      <th>2</th>\n",
       "      <td>1.410299e+06</td>\n",
       "    </tr>\n",
       "    <tr>\n",
       "      <th>3</th>\n",
       "      <td>1.310582e+06</td>\n",
       "    </tr>\n",
       "    <tr>\n",
       "      <th>4</th>\n",
       "      <td>1.222971e+06</td>\n",
       "    </tr>\n",
       "    <tr>\n",
       "      <th>...</th>\n",
       "      <td>...</td>\n",
       "    </tr>\n",
       "    <tr>\n",
       "      <th>127</th>\n",
       "      <td>NaN</td>\n",
       "    </tr>\n",
       "    <tr>\n",
       "      <th>128</th>\n",
       "      <td>NaN</td>\n",
       "    </tr>\n",
       "    <tr>\n",
       "      <th>129</th>\n",
       "      <td>NaN</td>\n",
       "    </tr>\n",
       "    <tr>\n",
       "      <th>130</th>\n",
       "      <td>NaN</td>\n",
       "    </tr>\n",
       "    <tr>\n",
       "      <th>131</th>\n",
       "      <td>NaN</td>\n",
       "    </tr>\n",
       "  </tbody>\n",
       "</table>\n",
       "<p>132 rows × 1 columns</p>\n",
       "</div>"
      ],
      "text/plain": [
       "           y_pred\n",
       "0    1.158975e+06\n",
       "1    1.181255e+06\n",
       "2    1.410299e+06\n",
       "3    1.310582e+06\n",
       "4    1.222971e+06\n",
       "..            ...\n",
       "127           NaN\n",
       "128           NaN\n",
       "129           NaN\n",
       "130           NaN\n",
       "131           NaN\n",
       "\n",
       "[132 rows x 1 columns]"
      ]
     },
     "execution_count": 65,
     "metadata": {},
     "output_type": "execute_result"
    }
   ],
   "source": [
    "data['y_pred'] = pd.DataFrame(y_pred)\n",
    "data[['y_pred']]"
   ]
  },
  {
   "cell_type": "code",
   "execution_count": 63,
   "id": "racial-pennsylvania",
   "metadata": {},
   "outputs": [
    {
     "data": {
      "text/plain": [
       "105"
      ]
     },
     "execution_count": 63,
     "metadata": {},
     "output_type": "execute_result"
    }
   ],
   "source": [
    "len_ = int(0.8*data.shape[0])\n",
    "len_\n",
    "# data_train = data[:len_]\n",
    "# data_test = data[len_:]"
   ]
  },
  {
   "cell_type": "code",
   "execution_count": 67,
   "id": "talented-rhythm",
   "metadata": {},
   "outputs": [
    {
     "ename": "ValueError",
     "evalue": "Length mismatch: Expected axis has 132 elements, new values have 27 elements",
     "output_type": "error",
     "traceback": [
      "\u001b[0;31m---------------------------------------------------------------------------\u001b[0m",
      "\u001b[0;31mValueError\u001b[0m                                Traceback (most recent call last)",
      "\u001b[0;32m<ipython-input-67-01130c394573>\u001b[0m in \u001b[0;36m<module>\u001b[0;34m\u001b[0m\n\u001b[0;32m----> 1\u001b[0;31m \u001b[0mdata\u001b[0m\u001b[0;34m[\u001b[0m\u001b[0;34m[\u001b[0m\u001b[0;34m'y_pred'\u001b[0m\u001b[0;34m]\u001b[0m\u001b[0;34m]\u001b[0m\u001b[0;34m.\u001b[0m\u001b[0mindex\u001b[0m \u001b[0;34m=\u001b[0m \u001b[0mpd\u001b[0m\u001b[0;34m.\u001b[0m\u001b[0mto_datetime\u001b[0m\u001b[0;34m(\u001b[0m\u001b[0mdata_orig\u001b[0m\u001b[0;34m.\u001b[0m\u001b[0miloc\u001b[0m\u001b[0;34m[\u001b[0m\u001b[0;36m105\u001b[0m\u001b[0;34m:\u001b[0m\u001b[0;34m,\u001b[0m \u001b[0;36m0\u001b[0m\u001b[0;34m]\u001b[0m\u001b[0;34m)\u001b[0m\u001b[0;34m\u001b[0m\u001b[0;34m\u001b[0m\u001b[0m\n\u001b[0m",
      "\u001b[0;32m~/.pyenv/versions/3.8.6/envs/Insurance_claiming_forecasting/lib/python3.8/site-packages/pandas/core/generic.py\u001b[0m in \u001b[0;36m__setattr__\u001b[0;34m(self, name, value)\u001b[0m\n\u001b[1;32m   5476\u001b[0m         \u001b[0;32mtry\u001b[0m\u001b[0;34m:\u001b[0m\u001b[0;34m\u001b[0m\u001b[0;34m\u001b[0m\u001b[0m\n\u001b[1;32m   5477\u001b[0m             \u001b[0mobject\u001b[0m\u001b[0;34m.\u001b[0m\u001b[0m__getattribute__\u001b[0m\u001b[0;34m(\u001b[0m\u001b[0mself\u001b[0m\u001b[0;34m,\u001b[0m \u001b[0mname\u001b[0m\u001b[0;34m)\u001b[0m\u001b[0;34m\u001b[0m\u001b[0;34m\u001b[0m\u001b[0m\n\u001b[0;32m-> 5478\u001b[0;31m             \u001b[0;32mreturn\u001b[0m \u001b[0mobject\u001b[0m\u001b[0;34m.\u001b[0m\u001b[0m__setattr__\u001b[0m\u001b[0;34m(\u001b[0m\u001b[0mself\u001b[0m\u001b[0;34m,\u001b[0m \u001b[0mname\u001b[0m\u001b[0;34m,\u001b[0m \u001b[0mvalue\u001b[0m\u001b[0;34m)\u001b[0m\u001b[0;34m\u001b[0m\u001b[0;34m\u001b[0m\u001b[0m\n\u001b[0m\u001b[1;32m   5479\u001b[0m         \u001b[0;32mexcept\u001b[0m \u001b[0mAttributeError\u001b[0m\u001b[0;34m:\u001b[0m\u001b[0;34m\u001b[0m\u001b[0;34m\u001b[0m\u001b[0m\n\u001b[1;32m   5480\u001b[0m             \u001b[0;32mpass\u001b[0m\u001b[0;34m\u001b[0m\u001b[0;34m\u001b[0m\u001b[0m\n",
      "\u001b[0;32mpandas/_libs/properties.pyx\u001b[0m in \u001b[0;36mpandas._libs.properties.AxisProperty.__set__\u001b[0;34m()\u001b[0m\n",
      "\u001b[0;32m~/.pyenv/versions/3.8.6/envs/Insurance_claiming_forecasting/lib/python3.8/site-packages/pandas/core/generic.py\u001b[0m in \u001b[0;36m_set_axis\u001b[0;34m(self, axis, labels)\u001b[0m\n\u001b[1;32m    668\u001b[0m     \u001b[0;32mdef\u001b[0m \u001b[0m_set_axis\u001b[0m\u001b[0;34m(\u001b[0m\u001b[0mself\u001b[0m\u001b[0;34m,\u001b[0m \u001b[0maxis\u001b[0m\u001b[0;34m:\u001b[0m \u001b[0mint\u001b[0m\u001b[0;34m,\u001b[0m \u001b[0mlabels\u001b[0m\u001b[0;34m:\u001b[0m \u001b[0mIndex\u001b[0m\u001b[0;34m)\u001b[0m \u001b[0;34m->\u001b[0m \u001b[0;32mNone\u001b[0m\u001b[0;34m:\u001b[0m\u001b[0;34m\u001b[0m\u001b[0;34m\u001b[0m\u001b[0m\n\u001b[1;32m    669\u001b[0m         \u001b[0mlabels\u001b[0m \u001b[0;34m=\u001b[0m \u001b[0mensure_index\u001b[0m\u001b[0;34m(\u001b[0m\u001b[0mlabels\u001b[0m\u001b[0;34m)\u001b[0m\u001b[0;34m\u001b[0m\u001b[0;34m\u001b[0m\u001b[0m\n\u001b[0;32m--> 670\u001b[0;31m         \u001b[0mself\u001b[0m\u001b[0;34m.\u001b[0m\u001b[0m_mgr\u001b[0m\u001b[0;34m.\u001b[0m\u001b[0mset_axis\u001b[0m\u001b[0;34m(\u001b[0m\u001b[0maxis\u001b[0m\u001b[0;34m,\u001b[0m \u001b[0mlabels\u001b[0m\u001b[0;34m)\u001b[0m\u001b[0;34m\u001b[0m\u001b[0;34m\u001b[0m\u001b[0m\n\u001b[0m\u001b[1;32m    671\u001b[0m         \u001b[0mself\u001b[0m\u001b[0;34m.\u001b[0m\u001b[0m_clear_item_cache\u001b[0m\u001b[0;34m(\u001b[0m\u001b[0;34m)\u001b[0m\u001b[0;34m\u001b[0m\u001b[0;34m\u001b[0m\u001b[0m\n\u001b[1;32m    672\u001b[0m \u001b[0;34m\u001b[0m\u001b[0m\n",
      "\u001b[0;32m~/.pyenv/versions/3.8.6/envs/Insurance_claiming_forecasting/lib/python3.8/site-packages/pandas/core/internals/managers.py\u001b[0m in \u001b[0;36mset_axis\u001b[0;34m(self, axis, new_labels)\u001b[0m\n\u001b[1;32m    218\u001b[0m \u001b[0;34m\u001b[0m\u001b[0m\n\u001b[1;32m    219\u001b[0m         \u001b[0;32mif\u001b[0m \u001b[0mnew_len\u001b[0m \u001b[0;34m!=\u001b[0m \u001b[0mold_len\u001b[0m\u001b[0;34m:\u001b[0m\u001b[0;34m\u001b[0m\u001b[0;34m\u001b[0m\u001b[0m\n\u001b[0;32m--> 220\u001b[0;31m             raise ValueError(\n\u001b[0m\u001b[1;32m    221\u001b[0m                 \u001b[0;34mf\"Length mismatch: Expected axis has {old_len} elements, new \"\u001b[0m\u001b[0;34m\u001b[0m\u001b[0;34m\u001b[0m\u001b[0m\n\u001b[1;32m    222\u001b[0m                 \u001b[0;34mf\"values have {new_len} elements\"\u001b[0m\u001b[0;34m\u001b[0m\u001b[0;34m\u001b[0m\u001b[0m\n",
      "\u001b[0;31mValueError\u001b[0m: Length mismatch: Expected axis has 132 elements, new values have 27 elements"
     ]
    }
   ],
   "source": [
    "data[['y_pred']].index = pd.to_datetime(data_orig.iloc[105:, 0])"
   ]
  },
  {
   "cell_type": "code",
   "execution_count": null,
   "id": "european-shipping",
   "metadata": {},
   "outputs": [],
   "source": []
  }
 ],
 "metadata": {
  "kernelspec": {
   "display_name": "Python 3",
   "language": "python",
   "name": "python3"
  },
  "language_info": {
   "codemirror_mode": {
    "name": "ipython",
    "version": 3
   },
   "file_extension": ".py",
   "mimetype": "text/x-python",
   "name": "python",
   "nbconvert_exporter": "python",
   "pygments_lexer": "ipython3",
   "version": "3.8.6"
  }
 },
 "nbformat": 4,
 "nbformat_minor": 5
}
