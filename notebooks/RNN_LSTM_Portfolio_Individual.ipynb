{
 "cells": [
  {
   "cell_type": "markdown",
   "id": "sorted-covering",
   "metadata": {},
   "source": [
    "# RNN LSTM INSURANCE PORTFOLIO INDIVIDUAL"
   ]
  },
  {
   "cell_type": "code",
   "execution_count": 1,
   "id": "special-architecture",
   "metadata": {},
   "outputs": [],
   "source": [
    "import pandas as pd\n",
    "import numpy as np\n",
    "import matplotlib.pyplot as plt"
   ]
  },
  {
   "cell_type": "code",
   "execution_count": 2,
   "id": "possible-weapon",
   "metadata": {},
   "outputs": [],
   "source": [
    "data = pd.read_excel('../raw_data/data_indiv_weekly.xlsx', engine='openpyxl')"
   ]
  },
  {
   "cell_type": "code",
   "execution_count": 3,
   "id": "expanded-custody",
   "metadata": {},
   "outputs": [],
   "source": [
    "data = data.drop(columns=['Unnamed: 0', 'date_issue'])"
   ]
  },
  {
   "cell_type": "code",
   "execution_count": 4,
   "id": "through-estonia",
   "metadata": {},
   "outputs": [
    {
     "data": {
      "text/html": [
       "<div>\n",
       "<style scoped>\n",
       "    .dataframe tbody tr th:only-of-type {\n",
       "        vertical-align: middle;\n",
       "    }\n",
       "\n",
       "    .dataframe tbody tr th {\n",
       "        vertical-align: top;\n",
       "    }\n",
       "\n",
       "    .dataframe thead th {\n",
       "        text-align: right;\n",
       "    }\n",
       "</style>\n",
       "<table border=\"1\" class=\"dataframe\">\n",
       "  <thead>\n",
       "    <tr style=\"text-align: right;\">\n",
       "      <th></th>\n",
       "      <th>total_amount_claims</th>\n",
       "    </tr>\n",
       "  </thead>\n",
       "  <tbody>\n",
       "    <tr>\n",
       "      <th>0</th>\n",
       "      <td>7953</td>\n",
       "    </tr>\n",
       "    <tr>\n",
       "      <th>1</th>\n",
       "      <td>52824</td>\n",
       "    </tr>\n",
       "    <tr>\n",
       "      <th>2</th>\n",
       "      <td>144926</td>\n",
       "    </tr>\n",
       "    <tr>\n",
       "      <th>3</th>\n",
       "      <td>334429</td>\n",
       "    </tr>\n",
       "    <tr>\n",
       "      <th>4</th>\n",
       "      <td>202143</td>\n",
       "    </tr>\n",
       "    <tr>\n",
       "      <th>...</th>\n",
       "      <td>...</td>\n",
       "    </tr>\n",
       "    <tr>\n",
       "      <th>127</th>\n",
       "      <td>745803</td>\n",
       "    </tr>\n",
       "    <tr>\n",
       "      <th>128</th>\n",
       "      <td>677139</td>\n",
       "    </tr>\n",
       "    <tr>\n",
       "      <th>129</th>\n",
       "      <td>1184838</td>\n",
       "    </tr>\n",
       "    <tr>\n",
       "      <th>130</th>\n",
       "      <td>1130230</td>\n",
       "    </tr>\n",
       "    <tr>\n",
       "      <th>131</th>\n",
       "      <td>1174264</td>\n",
       "    </tr>\n",
       "  </tbody>\n",
       "</table>\n",
       "<p>132 rows × 1 columns</p>\n",
       "</div>"
      ],
      "text/plain": [
       "     total_amount_claims\n",
       "0                   7953\n",
       "1                  52824\n",
       "2                 144926\n",
       "3                 334429\n",
       "4                 202143\n",
       "..                   ...\n",
       "127               745803\n",
       "128               677139\n",
       "129              1184838\n",
       "130              1130230\n",
       "131              1174264\n",
       "\n",
       "[132 rows x 1 columns]"
      ]
     },
     "execution_count": 4,
     "metadata": {},
     "output_type": "execute_result"
    }
   ],
   "source": [
    "data"
   ]
  },
  {
   "cell_type": "code",
   "execution_count": 5,
   "id": "after-marriage",
   "metadata": {},
   "outputs": [
    {
     "name": "stdout",
     "output_type": "stream",
     "text": [
      "min:  7953\n",
      "max:  1184838\n"
     ]
    }
   ],
   "source": [
    "print(\"min: \",data['total_amount_claims'].min())\n",
    "print(\"max: \",data['total_amount_claims'].max())"
   ]
  },
  {
   "cell_type": "code",
   "execution_count": 6,
   "id": "local-framing",
   "metadata": {},
   "outputs": [
    {
     "data": {
      "text/plain": [
       "(132, 1)"
      ]
     },
     "execution_count": 6,
     "metadata": {},
     "output_type": "execute_result"
    }
   ],
   "source": [
    "data.shape"
   ]
  },
  {
   "cell_type": "code",
   "execution_count": 7,
   "id": "severe-church",
   "metadata": {},
   "outputs": [],
   "source": [
    "min_ = data['total_amount_claims'].min()\n",
    "max_ = data['total_amount_claims'].max()\n",
    "\n",
    "data['total_amount_claims'] = [((x - min_) / (max_ - min_)) for x in data['total_amount_claims']]"
   ]
  },
  {
   "cell_type": "code",
   "execution_count": 8,
   "id": "competitive-border",
   "metadata": {},
   "outputs": [
    {
     "data": {
      "text/html": [
       "<div>\n",
       "<style scoped>\n",
       "    .dataframe tbody tr th:only-of-type {\n",
       "        vertical-align: middle;\n",
       "    }\n",
       "\n",
       "    .dataframe tbody tr th {\n",
       "        vertical-align: top;\n",
       "    }\n",
       "\n",
       "    .dataframe thead th {\n",
       "        text-align: right;\n",
       "    }\n",
       "</style>\n",
       "<table border=\"1\" class=\"dataframe\">\n",
       "  <thead>\n",
       "    <tr style=\"text-align: right;\">\n",
       "      <th></th>\n",
       "      <th>total_amount_claims</th>\n",
       "    </tr>\n",
       "  </thead>\n",
       "  <tbody>\n",
       "    <tr>\n",
       "      <th>0</th>\n",
       "      <td>0.000000</td>\n",
       "    </tr>\n",
       "    <tr>\n",
       "      <th>1</th>\n",
       "      <td>0.038127</td>\n",
       "    </tr>\n",
       "    <tr>\n",
       "      <th>2</th>\n",
       "      <td>0.116386</td>\n",
       "    </tr>\n",
       "    <tr>\n",
       "      <th>3</th>\n",
       "      <td>0.277407</td>\n",
       "    </tr>\n",
       "    <tr>\n",
       "      <th>4</th>\n",
       "      <td>0.165003</td>\n",
       "    </tr>\n",
       "    <tr>\n",
       "      <th>...</th>\n",
       "      <td>...</td>\n",
       "    </tr>\n",
       "    <tr>\n",
       "      <th>127</th>\n",
       "      <td>0.626952</td>\n",
       "    </tr>\n",
       "    <tr>\n",
       "      <th>128</th>\n",
       "      <td>0.568608</td>\n",
       "    </tr>\n",
       "    <tr>\n",
       "      <th>129</th>\n",
       "      <td>1.000000</td>\n",
       "    </tr>\n",
       "    <tr>\n",
       "      <th>130</th>\n",
       "      <td>0.953600</td>\n",
       "    </tr>\n",
       "    <tr>\n",
       "      <th>131</th>\n",
       "      <td>0.991015</td>\n",
       "    </tr>\n",
       "  </tbody>\n",
       "</table>\n",
       "<p>132 rows × 1 columns</p>\n",
       "</div>"
      ],
      "text/plain": [
       "     total_amount_claims\n",
       "0               0.000000\n",
       "1               0.038127\n",
       "2               0.116386\n",
       "3               0.277407\n",
       "4               0.165003\n",
       "..                   ...\n",
       "127             0.626952\n",
       "128             0.568608\n",
       "129             1.000000\n",
       "130             0.953600\n",
       "131             0.991015\n",
       "\n",
       "[132 rows x 1 columns]"
      ]
     },
     "execution_count": 8,
     "metadata": {},
     "output_type": "execute_result"
    }
   ],
   "source": [
    "data"
   ]
  },
  {
   "cell_type": "markdown",
   "id": "devoted-tobago",
   "metadata": {},
   "source": [
    "### Split data"
   ]
  },
  {
   "cell_type": "code",
   "execution_count": 9,
   "id": "turned-might",
   "metadata": {},
   "outputs": [],
   "source": [
    "len_ = int(0.8*data.shape[0])\n",
    "\n",
    "data_train = data[:len_]\n",
    "data_test = data[len_:]"
   ]
  },
  {
   "cell_type": "code",
   "execution_count": 10,
   "id": "biblical-directory",
   "metadata": {},
   "outputs": [
    {
     "name": "stdout",
     "output_type": "stream",
     "text": [
      "(105, 1)\n",
      "(27, 1)\n"
     ]
    }
   ],
   "source": [
    "print(data_train.shape)\n",
    "print(data_test.shape)"
   ]
  },
  {
   "cell_type": "markdown",
   "id": "spatial-breach",
   "metadata": {},
   "source": [
    "### Sequences"
   ]
  },
  {
   "cell_type": "code",
   "execution_count": 11,
   "id": "choice-directive",
   "metadata": {},
   "outputs": [],
   "source": [
    "def subsample_sequence(data, length):\n",
    "    \n",
    "    last_possible = data.shape[0] - length\n",
    "    \n",
    "    random_start = np.random.randint(0, last_possible)\n",
    "    data_sample = data[random_start: random_start+length]\n",
    "    \n",
    "    return data_sample"
   ]
  },
  {
   "cell_type": "code",
   "execution_count": 12,
   "id": "equipped-favor",
   "metadata": {},
   "outputs": [
    {
     "data": {
      "text/html": [
       "<div>\n",
       "<style scoped>\n",
       "    .dataframe tbody tr th:only-of-type {\n",
       "        vertical-align: middle;\n",
       "    }\n",
       "\n",
       "    .dataframe tbody tr th {\n",
       "        vertical-align: top;\n",
       "    }\n",
       "\n",
       "    .dataframe thead th {\n",
       "        text-align: right;\n",
       "    }\n",
       "</style>\n",
       "<table border=\"1\" class=\"dataframe\">\n",
       "  <thead>\n",
       "    <tr style=\"text-align: right;\">\n",
       "      <th></th>\n",
       "      <th>total_amount_claims</th>\n",
       "    </tr>\n",
       "  </thead>\n",
       "  <tbody>\n",
       "    <tr>\n",
       "      <th>63</th>\n",
       "      <td>0.410833</td>\n",
       "    </tr>\n",
       "    <tr>\n",
       "      <th>64</th>\n",
       "      <td>0.178367</td>\n",
       "    </tr>\n",
       "    <tr>\n",
       "      <th>65</th>\n",
       "      <td>0.268165</td>\n",
       "    </tr>\n",
       "    <tr>\n",
       "      <th>66</th>\n",
       "      <td>0.166795</td>\n",
       "    </tr>\n",
       "    <tr>\n",
       "      <th>67</th>\n",
       "      <td>0.439251</td>\n",
       "    </tr>\n",
       "    <tr>\n",
       "      <th>68</th>\n",
       "      <td>0.115211</td>\n",
       "    </tr>\n",
       "    <tr>\n",
       "      <th>69</th>\n",
       "      <td>0.058512</td>\n",
       "    </tr>\n",
       "    <tr>\n",
       "      <th>70</th>\n",
       "      <td>0.046785</td>\n",
       "    </tr>\n",
       "    <tr>\n",
       "      <th>71</th>\n",
       "      <td>0.196962</td>\n",
       "    </tr>\n",
       "    <tr>\n",
       "      <th>72</th>\n",
       "      <td>0.518347</td>\n",
       "    </tr>\n",
       "  </tbody>\n",
       "</table>\n",
       "</div>"
      ],
      "text/plain": [
       "    total_amount_claims\n",
       "63             0.410833\n",
       "64             0.178367\n",
       "65             0.268165\n",
       "66             0.166795\n",
       "67             0.439251\n",
       "68             0.115211\n",
       "69             0.058512\n",
       "70             0.046785\n",
       "71             0.196962\n",
       "72             0.518347"
      ]
     },
     "execution_count": 12,
     "metadata": {},
     "output_type": "execute_result"
    }
   ],
   "source": [
    "data_subsample = subsample_sequence(data, 10)\n",
    "data_subsample"
   ]
  },
  {
   "cell_type": "code",
   "execution_count": 13,
   "id": "biblical-bones",
   "metadata": {},
   "outputs": [],
   "source": [
    "def fillna(X, data_mean):\n",
    "    # Replace with NaN of the other hours. \n",
    "    na = X.mean()\n",
    "    \n",
    "    # If the other hours are also nans, then replace with mean value of the dataframe\n",
    "    na.fillna(data_mean)\n",
    "    return na\n",
    "\n",
    "def split_subsample_sequence(data, length, data_mean=None):\n",
    "    # Little trick to improve the time\n",
    "    if data_mean is None:\n",
    "        data_mean = data.mean()\n",
    "              \n",
    "    data_subsample = subsample_sequence(data, length)\n",
    "    y_sample = data_subsample.iloc[data_subsample.shape[0]-1]['total_amount_claims']\n",
    "    \n",
    "    if y_sample != y_sample: # A value is not equal to itself only for NaN. So it will be True if y_sample is nan\n",
    "        X_sample, y_sample = split_subsample_sequence(data, length, data_mean)\n",
    "        return np.array(X_sample), np.array(y_sample)\n",
    "    \n",
    "    X_sample = data_subsample[0:data_subsample.shape[0]-1]\n",
    "    X_sample = X_sample.fillna(fillna(X_sample, data_mean))\n",
    "    X_sample = X_sample.values\n",
    "    \n",
    "    return np.array(X_sample), np.array(y_sample)"
   ]
  },
  {
   "cell_type": "code",
   "execution_count": 14,
   "id": "subtle-strike",
   "metadata": {},
   "outputs": [],
   "source": [
    "def get_X_y(data, number_of_sequences, length):\n",
    "    X, y = [], []\n",
    "\n",
    "    for i in range(number_of_sequences):\n",
    "        xi, yi = split_subsample_sequence(data, length)\n",
    "        X.append(xi)\n",
    "        y.append(yi)\n",
    "        \n",
    "    X = np.array(X)\n",
    "    y = np.array(y)\n",
    "        \n",
    "    return X, y"
   ]
  },
  {
   "cell_type": "code",
   "execution_count": 15,
   "id": "substantial-fraction",
   "metadata": {},
   "outputs": [],
   "source": [
    "X_train, y_train = get_X_y(data_train, 80, 10)\n",
    "X_test, y_test = get_X_y(data_test, 20, 10)"
   ]
  },
  {
   "cell_type": "code",
   "execution_count": 16,
   "id": "bearing-decrease",
   "metadata": {},
   "outputs": [],
   "source": [
    "# !pip install tensorflow"
   ]
  },
  {
   "cell_type": "code",
   "execution_count": 17,
   "id": "imported-tower",
   "metadata": {},
   "outputs": [
    {
     "name": "stdout",
     "output_type": "stream",
     "text": [
      "X train size:(80, 9, 1)\n",
      "X test size:(20, 9, 1)\n",
      "y train size:(80,)\n",
      "y test size:(20,)\n"
     ]
    }
   ],
   "source": [
    "print(f'X train size:{X_train.shape}')\n",
    "print(f'X test size:{X_test.shape}')\n",
    "print(f'y train size:{y_train.shape}')\n",
    "print(f'y test size:{y_test.shape}')"
   ]
  },
  {
   "cell_type": "code",
   "execution_count": 18,
   "id": "aggressive-white",
   "metadata": {},
   "outputs": [],
   "source": [
    "from tensorflow.keras import models\n",
    "from tensorflow.keras import layers\n",
    "from tensorflow.keras import optimizers\n",
    "\n",
    "model = models.Sequential()\n",
    "\n",
    "model.add(layers.LSTM(32, activation='tanh', return_sequences=False))\n",
    "model.add(layers.Dense(16, activation='relu'))\n",
    "model.add(layers.Dense(8, activation='relu'))\n",
    "\n",
    "model.add(layers.Dense(1, activation='linear'))"
   ]
  },
  {
   "cell_type": "code",
   "execution_count": 19,
   "id": "induced-premium",
   "metadata": {},
   "outputs": [],
   "source": [
    "model.compile(optimizer='RMSprop',\n",
    "            loss='MeanSquaredError',\n",
    "            metrics=['mse', 'mae', 'mape'])"
   ]
  },
  {
   "cell_type": "code",
   "execution_count": 20,
   "id": "engaged-garbage",
   "metadata": {},
   "outputs": [
    {
     "name": "stdout",
     "output_type": "stream",
     "text": [
      "Epoch 1/200\n",
      "2/2 [==============================] - 3s 1s/step - loss: 0.0719 - mse: 0.0719 - mae: 0.2359 - mape: 103.8745 - val_loss: 0.0603 - val_mse: 0.0603 - val_mae: 0.2093 - val_mape: 96.1383\n",
      "Epoch 2/200\n",
      "2/2 [==============================] - 0s 64ms/step - loss: 0.0722 - mse: 0.0722 - mae: 0.2349 - mape: 95.7089 - val_loss: 0.0560 - val_mse: 0.0560 - val_mae: 0.1988 - val_mape: 88.8430\n",
      "Epoch 3/200\n",
      "2/2 [==============================] - 0s 88ms/step - loss: 0.0632 - mse: 0.0632 - mae: 0.2171 - mape: 88.8869 - val_loss: 0.0517 - val_mse: 0.0517 - val_mae: 0.1877 - val_mape: 81.0677\n",
      "Epoch 4/200\n",
      "2/2 [==============================] - 0s 78ms/step - loss: 0.0592 - mse: 0.0592 - mae: 0.2083 - mape: 82.8473 - val_loss: 0.0491 - val_mse: 0.0491 - val_mae: 0.1807 - val_mape: 76.2663\n",
      "Epoch 5/200\n",
      "2/2 [==============================] - 0s 79ms/step - loss: 0.0589 - mse: 0.0589 - mae: 0.2061 - mape: 77.8475 - val_loss: 0.0460 - val_mse: 0.0460 - val_mae: 0.1717 - val_mape: 69.9620\n",
      "Epoch 6/200\n",
      "2/2 [==============================] - 0s 73ms/step - loss: 0.0508 - mse: 0.0508 - mae: 0.1862 - mape: 71.6300 - val_loss: 0.0431 - val_mse: 0.0431 - val_mae: 0.1636 - val_mape: 65.0935\n",
      "Epoch 7/200\n",
      "2/2 [==============================] - 0s 59ms/step - loss: 0.0511 - mse: 0.0511 - mae: 0.1883 - mape: 69.9126 - val_loss: 0.0403 - val_mse: 0.0403 - val_mae: 0.1558 - val_mape: 61.2322\n",
      "Epoch 8/200\n",
      "2/2 [==============================] - 0s 71ms/step - loss: 0.0469 - mse: 0.0469 - mae: 0.1736 - mape: 64.5197 - val_loss: 0.0375 - val_mse: 0.0375 - val_mae: 0.1475 - val_mape: 57.2108\n",
      "Epoch 9/200\n",
      "2/2 [==============================] - 0s 51ms/step - loss: 0.0403 - mse: 0.0403 - mae: 0.1629 - mape: 61.8113 - val_loss: 0.0345 - val_mse: 0.0345 - val_mae: 0.1397 - val_mape: 54.6727\n",
      "Epoch 10/200\n",
      "2/2 [==============================] - 0s 74ms/step - loss: 0.0415 - mse: 0.0415 - mae: 0.1635 - mape: 60.2089 - val_loss: 0.0318 - val_mse: 0.0318 - val_mae: 0.1332 - val_mape: 53.5790\n",
      "Epoch 11/200\n",
      "2/2 [==============================] - 0s 72ms/step - loss: 0.0382 - mse: 0.0382 - mae: 0.1564 - mape: 58.3901 - val_loss: 0.0290 - val_mse: 0.0290 - val_mae: 0.1256 - val_mape: 52.5715\n",
      "Epoch 12/200\n",
      "2/2 [==============================] - 0s 178ms/step - loss: 0.0352 - mse: 0.0352 - mae: 0.1459 - mape: 56.3863 - val_loss: 0.0260 - val_mse: 0.0260 - val_mae: 0.1188 - val_mape: 53.4252\n",
      "Epoch 13/200\n",
      "2/2 [==============================] - 0s 106ms/step - loss: 0.0286 - mse: 0.0286 - mae: 0.1311 - mape: 54.6887 - val_loss: 0.0232 - val_mse: 0.0232 - val_mae: 0.1128 - val_mape: 55.5976\n",
      "Epoch 14/200\n",
      "2/2 [==============================] - 0s 64ms/step - loss: 0.0287 - mse: 0.0287 - mae: 0.1287 - mape: 54.5890 - val_loss: 0.0208 - val_mse: 0.0208 - val_mae: 0.1065 - val_mape: 57.7596\n",
      "Epoch 15/200\n",
      "2/2 [==============================] - 0s 63ms/step - loss: 0.0240 - mse: 0.0240 - mae: 0.1130 - mape: 50.1785 - val_loss: 0.0189 - val_mse: 0.0189 - val_mae: 0.0996 - val_mape: 60.2433\n",
      "Epoch 16/200\n",
      "2/2 [==============================] - 0s 163ms/step - loss: 0.0221 - mse: 0.0221 - mae: 0.1073 - mape: 54.6269 - val_loss: 0.0177 - val_mse: 0.0177 - val_mae: 0.0958 - val_mape: 64.2150\n",
      "Epoch 17/200\n",
      "2/2 [==============================] - 0s 95ms/step - loss: 0.0180 - mse: 0.0180 - mae: 0.0989 - mape: 53.2453 - val_loss: 0.0171 - val_mse: 0.0171 - val_mae: 0.0959 - val_mape: 70.1059\n",
      "Epoch 18/200\n",
      "2/2 [==============================] - 0s 71ms/step - loss: 0.0162 - mse: 0.0162 - mae: 0.0973 - mape: 61.7427 - val_loss: 0.0170 - val_mse: 0.0170 - val_mae: 0.0976 - val_mape: 75.7868\n",
      "Epoch 19/200\n",
      "2/2 [==============================] - 0s 79ms/step - loss: 0.0153 - mse: 0.0153 - mae: 0.0966 - mape: 66.8475 - val_loss: 0.0173 - val_mse: 0.0173 - val_mae: 0.0990 - val_mape: 80.2484\n",
      "Epoch 20/200\n",
      "2/2 [==============================] - 0s 63ms/step - loss: 0.0165 - mse: 0.0165 - mae: 0.1023 - mape: 63.2315 - val_loss: 0.0170 - val_mse: 0.0170 - val_mae: 0.0980 - val_mape: 77.3180\n",
      "Epoch 21/200\n",
      "2/2 [==============================] - 0s 94ms/step - loss: 0.0140 - mse: 0.0140 - mae: 0.0931 - mape: 64.2418 - val_loss: 0.0174 - val_mse: 0.0174 - val_mae: 0.0996 - val_mape: 82.5264\n",
      "Epoch 22/200\n",
      "2/2 [==============================] - 0s 228ms/step - loss: 0.0144 - mse: 0.0144 - mae: 0.0974 - mape: 67.0307 - val_loss: 0.0174 - val_mse: 0.0174 - val_mae: 0.0993 - val_mape: 81.4164\n",
      "Epoch 23/200\n",
      "2/2 [==============================] - 0s 82ms/step - loss: 0.0159 - mse: 0.0159 - mae: 0.0998 - mape: 70.9363 - val_loss: 0.0172 - val_mse: 0.0172 - val_mae: 0.0989 - val_mape: 80.8352\n",
      "Epoch 24/200\n",
      "2/2 [==============================] - 0s 78ms/step - loss: 0.0148 - mse: 0.0148 - mae: 0.0983 - mape: 72.1766 - val_loss: 0.0178 - val_mse: 0.0178 - val_mae: 0.1005 - val_mape: 85.2425\n",
      "Epoch 25/200\n",
      "2/2 [==============================] - 0s 65ms/step - loss: 0.0159 - mse: 0.0159 - mae: 0.1028 - mape: 70.9707 - val_loss: 0.0172 - val_mse: 0.0172 - val_mae: 0.0986 - val_mape: 79.9614\n",
      "Epoch 26/200\n",
      "2/2 [==============================] - 0s 75ms/step - loss: 0.0158 - mse: 0.0158 - mae: 0.1009 - mape: 72.4916 - val_loss: 0.0176 - val_mse: 0.0176 - val_mae: 0.0999 - val_mape: 83.4144\n",
      "Epoch 27/200\n",
      "2/2 [==============================] - 0s 72ms/step - loss: 0.0165 - mse: 0.0165 - mae: 0.1051 - mape: 73.4130 - val_loss: 0.0171 - val_mse: 0.0171 - val_mae: 0.0978 - val_mape: 76.7923\n",
      "Epoch 28/200\n",
      "2/2 [==============================] - 0s 69ms/step - loss: 0.0141 - mse: 0.0141 - mae: 0.0935 - mape: 61.8637 - val_loss: 0.0177 - val_mse: 0.0177 - val_mae: 0.1001 - val_mape: 84.0159\n",
      "Epoch 29/200\n",
      "2/2 [==============================] - 0s 66ms/step - loss: 0.0143 - mse: 0.0143 - mae: 0.0964 - mape: 70.8982 - val_loss: 0.0179 - val_mse: 0.0179 - val_mae: 0.1005 - val_mape: 85.3057\n",
      "Epoch 30/200\n",
      "2/2 [==============================] - 0s 58ms/step - loss: 0.0155 - mse: 0.0155 - mae: 0.1001 - mape: 70.1830 - val_loss: 0.0177 - val_mse: 0.0177 - val_mae: 0.0999 - val_mape: 83.6942\n",
      "Epoch 31/200\n",
      "2/2 [==============================] - 0s 66ms/step - loss: 0.0147 - mse: 0.0147 - mae: 0.0986 - mape: 70.1925 - val_loss: 0.0172 - val_mse: 0.0172 - val_mae: 0.0985 - val_mape: 79.4357\n",
      "Epoch 32/200\n",
      "2/2 [==============================] - 0s 77ms/step - loss: 0.0152 - mse: 0.0152 - mae: 0.1004 - mape: 75.3164 - val_loss: 0.0179 - val_mse: 0.0179 - val_mae: 0.1005 - val_mape: 84.9425\n",
      "Epoch 33/200\n",
      "2/2 [==============================] - 0s 76ms/step - loss: 0.0150 - mse: 0.0150 - mae: 0.0995 - mape: 72.9719 - val_loss: 0.0182 - val_mse: 0.0182 - val_mae: 0.1027 - val_mape: 87.4581\n",
      "Epoch 34/200\n",
      "2/2 [==============================] - 0s 63ms/step - loss: 0.0157 - mse: 0.0157 - mae: 0.1033 - mape: 74.7880 - val_loss: 0.0173 - val_mse: 0.0173 - val_mae: 0.0987 - val_mape: 80.0444\n",
      "Epoch 35/200\n",
      "2/2 [==============================] - 0s 71ms/step - loss: 0.0156 - mse: 0.0156 - mae: 0.0999 - mape: 70.9969 - val_loss: 0.0180 - val_mse: 0.0180 - val_mae: 0.1013 - val_mape: 85.6329\n",
      "Epoch 36/200\n",
      "2/2 [==============================] - 0s 70ms/step - loss: 0.0157 - mse: 0.0157 - mae: 0.1015 - mape: 68.6765 - val_loss: 0.0170 - val_mse: 0.0170 - val_mae: 0.0974 - val_mape: 75.8772\n",
      "Epoch 37/200\n",
      "2/2 [==============================] - 0s 71ms/step - loss: 0.0155 - mse: 0.0155 - mae: 0.0970 - mape: 62.3623 - val_loss: 0.0173 - val_mse: 0.0173 - val_mae: 0.0986 - val_mape: 78.9769\n",
      "Epoch 38/200\n",
      "2/2 [==============================] - 0s 84ms/step - loss: 0.0147 - mse: 0.0147 - mae: 0.0980 - mape: 70.3126 - val_loss: 0.0175 - val_mse: 0.0175 - val_mae: 0.0992 - val_mape: 80.8541\n",
      "Epoch 39/200\n",
      "2/2 [==============================] - 0s 62ms/step - loss: 0.0148 - mse: 0.0148 - mae: 0.0978 - mape: 65.5861 - val_loss: 0.0172 - val_mse: 0.0172 - val_mae: 0.0979 - val_mape: 76.9591\n",
      "Epoch 40/200\n",
      "2/2 [==============================] - 0s 181ms/step - loss: 0.0142 - mse: 0.0142 - mae: 0.0954 - mape: 65.3268 - val_loss: 0.0177 - val_mse: 0.0177 - val_mae: 0.0996 - val_mape: 82.1899\n",
      "Epoch 41/200\n",
      "2/2 [==============================] - 0s 131ms/step - loss: 0.0153 - mse: 0.0153 - mae: 0.0980 - mape: 66.6208 - val_loss: 0.0171 - val_mse: 0.0171 - val_mae: 0.0974 - val_mape: 76.1578\n",
      "Epoch 42/200\n",
      "2/2 [==============================] - 0s 87ms/step - loss: 0.0154 - mse: 0.0154 - mae: 0.0998 - mape: 67.6830 - val_loss: 0.0172 - val_mse: 0.0172 - val_mae: 0.0979 - val_mape: 76.9813\n",
      "Epoch 43/200\n",
      "2/2 [==============================] - 0s 214ms/step - loss: 0.0137 - mse: 0.0137 - mae: 0.0923 - mape: 62.8596 - val_loss: 0.0177 - val_mse: 0.0177 - val_mae: 0.0996 - val_mape: 83.0775\n",
      "Epoch 44/200\n",
      "2/2 [==============================] - 0s 67ms/step - loss: 0.0140 - mse: 0.0140 - mae: 0.0933 - mape: 68.8223 - val_loss: 0.0182 - val_mse: 0.0182 - val_mae: 0.1026 - val_mape: 86.9395\n",
      "Epoch 45/200\n",
      "2/2 [==============================] - 0s 177ms/step - loss: 0.0141 - mse: 0.0141 - mae: 0.0981 - mape: 71.9847 - val_loss: 0.0178 - val_mse: 0.0178 - val_mae: 0.1000 - val_mape: 83.5700\n",
      "Epoch 46/200\n",
      "2/2 [==============================] - 0s 95ms/step - loss: 0.0140 - mse: 0.0140 - mae: 0.0949 - mape: 69.4363 - val_loss: 0.0180 - val_mse: 0.0180 - val_mae: 0.1017 - val_mape: 85.6395\n",
      "Epoch 47/200\n",
      "2/2 [==============================] - 0s 71ms/step - loss: 0.0135 - mse: 0.0135 - mae: 0.0917 - mape: 67.8339 - val_loss: 0.0180 - val_mse: 0.0180 - val_mae: 0.1012 - val_mape: 84.8704\n",
      "Epoch 48/200\n",
      "2/2 [==============================] - 0s 90ms/step - loss: 0.0144 - mse: 0.0144 - mae: 0.0983 - mape: 65.3535 - val_loss: 0.0172 - val_mse: 0.0172 - val_mae: 0.0973 - val_mape: 76.1732\n",
      "Epoch 49/200\n",
      "2/2 [==============================] - 0s 167ms/step - loss: 0.0134 - mse: 0.0134 - mae: 0.0927 - mape: 66.2176 - val_loss: 0.0179 - val_mse: 0.0179 - val_mae: 0.1009 - val_mape: 84.0613\n",
      "Epoch 50/200\n",
      "2/2 [==============================] - 0s 83ms/step - loss: 0.0162 - mse: 0.0162 - mae: 0.1029 - mape: 77.6842 - val_loss: 0.0182 - val_mse: 0.0182 - val_mae: 0.1029 - val_mape: 86.4804\n",
      "Epoch 51/200\n",
      "2/2 [==============================] - 0s 60ms/step - loss: 0.0144 - mse: 0.0144 - mae: 0.0997 - mape: 71.1345 - val_loss: 0.0173 - val_mse: 0.0173 - val_mae: 0.0977 - val_mape: 76.7461\n",
      "Epoch 52/200\n",
      "2/2 [==============================] - 0s 59ms/step - loss: 0.0142 - mse: 0.0142 - mae: 0.0925 - mape: 65.6525 - val_loss: 0.0183 - val_mse: 0.0183 - val_mae: 0.1035 - val_mape: 86.7902\n",
      "Epoch 53/200\n",
      "2/2 [==============================] - 0s 72ms/step - loss: 0.0159 - mse: 0.0159 - mae: 0.1030 - mape: 75.4347 - val_loss: 0.0177 - val_mse: 0.0177 - val_mae: 0.0998 - val_mape: 82.0843\n",
      "Epoch 54/200\n",
      "2/2 [==============================] - 0s 68ms/step - loss: 0.0173 - mse: 0.0173 - mae: 0.1081 - mape: 70.9879 - val_loss: 0.0173 - val_mse: 0.0173 - val_mae: 0.0979 - val_mape: 76.8040\n",
      "Epoch 55/200\n",
      "2/2 [==============================] - 0s 192ms/step - loss: 0.0154 - mse: 0.0154 - mae: 0.0983 - mape: 67.9957 - val_loss: 0.0176 - val_mse: 0.0176 - val_mae: 0.0988 - val_mape: 80.3627\n",
      "Epoch 56/200\n",
      "2/2 [==============================] - 0s 137ms/step - loss: 0.0145 - mse: 0.0145 - mae: 0.0973 - mape: 72.4358 - val_loss: 0.0177 - val_mse: 0.0177 - val_mae: 0.0997 - val_mape: 82.2075\n",
      "Epoch 57/200\n",
      "2/2 [==============================] - 0s 60ms/step - loss: 0.0162 - mse: 0.0162 - mae: 0.1024 - mape: 68.3396 - val_loss: 0.0172 - val_mse: 0.0172 - val_mae: 0.0968 - val_mape: 74.3803\n",
      "Epoch 58/200\n",
      "2/2 [==============================] - 0s 75ms/step - loss: 0.0174 - mse: 0.0174 - mae: 0.1056 - mape: 68.3589 - val_loss: 0.0173 - val_mse: 0.0173 - val_mae: 0.0973 - val_mape: 76.0355\n",
      "Epoch 59/200\n",
      "2/2 [==============================] - 0s 88ms/step - loss: 0.0148 - mse: 0.0148 - mae: 0.0938 - mape: 64.8353 - val_loss: 0.0177 - val_mse: 0.0177 - val_mae: 0.0994 - val_mape: 81.2667\n",
      "Epoch 60/200\n",
      "2/2 [==============================] - 0s 66ms/step - loss: 0.0150 - mse: 0.0150 - mae: 0.0979 - mape: 67.1262 - val_loss: 0.0175 - val_mse: 0.0175 - val_mae: 0.0981 - val_mape: 78.7292\n",
      "Epoch 61/200\n",
      "2/2 [==============================] - 0s 180ms/step - loss: 0.0138 - mse: 0.0138 - mae: 0.0945 - mape: 66.5876 - val_loss: 0.0180 - val_mse: 0.0180 - val_mae: 0.1017 - val_mape: 84.1471\n",
      "Epoch 62/200\n",
      "2/2 [==============================] - 0s 107ms/step - loss: 0.0137 - mse: 0.0137 - mae: 0.0950 - mape: 65.0204 - val_loss: 0.0174 - val_mse: 0.0174 - val_mae: 0.0977 - val_mape: 77.3830\n",
      "Epoch 63/200\n",
      "2/2 [==============================] - 0s 87ms/step - loss: 0.0147 - mse: 0.0147 - mae: 0.0957 - mape: 65.6934 - val_loss: 0.0183 - val_mse: 0.0183 - val_mae: 0.1034 - val_mape: 85.9380\n",
      "Epoch 64/200\n",
      "2/2 [==============================] - 0s 69ms/step - loss: 0.0155 - mse: 0.0155 - mae: 0.1020 - mape: 74.4403 - val_loss: 0.0173 - val_mse: 0.0173 - val_mae: 0.0971 - val_mape: 75.5123\n",
      "Epoch 65/200\n",
      "2/2 [==============================] - 0s 73ms/step - loss: 0.0154 - mse: 0.0154 - mae: 0.0985 - mape: 64.5731 - val_loss: 0.0174 - val_mse: 0.0174 - val_mae: 0.0974 - val_mape: 76.5209\n",
      "Epoch 66/200\n",
      "2/2 [==============================] - 0s 63ms/step - loss: 0.0146 - mse: 0.0146 - mae: 0.0947 - mape: 72.8000 - val_loss: 0.0181 - val_mse: 0.0181 - val_mae: 0.1021 - val_mape: 84.4612\n",
      "Epoch 67/200\n",
      "2/2 [==============================] - 0s 72ms/step - loss: 0.0133 - mse: 0.0133 - mae: 0.0923 - mape: 66.9264 - val_loss: 0.0179 - val_mse: 0.0179 - val_mae: 0.1008 - val_mape: 82.6722\n",
      "Epoch 68/200\n",
      "2/2 [==============================] - 0s 72ms/step - loss: 0.0129 - mse: 0.0129 - mae: 0.0910 - mape: 65.4852 - val_loss: 0.0178 - val_mse: 0.0178 - val_mae: 0.0998 - val_mape: 81.4380\n"
     ]
    }
   ],
   "source": [
    "from tensorflow.keras.callbacks import EarlyStopping\n",
    "\n",
    "es = EarlyStopping(patience=50, restore_best_weights=False)\n",
    "\n",
    "history = model.fit(X_train, y_train,\n",
    "                validation_split=0.2,\n",
    "                epochs=200,\n",
    "                verbose=1,\n",
    "                batch_size=32,\n",
    "                callbacks=[es]\n",
    "                )"
   ]
  },
  {
   "cell_type": "code",
   "execution_count": 21,
   "id": "worthy-sheffield",
   "metadata": {},
   "outputs": [
    {
     "name": "stdout",
     "output_type": "stream",
     "text": [
      "Model: \"sequential\"\n",
      "_________________________________________________________________\n",
      "Layer (type)                 Output Shape              Param #   \n",
      "=================================================================\n",
      "lstm (LSTM)                  (None, 32)                4352      \n",
      "_________________________________________________________________\n",
      "dense (Dense)                (None, 16)                528       \n",
      "_________________________________________________________________\n",
      "dense_1 (Dense)              (None, 8)                 136       \n",
      "_________________________________________________________________\n",
      "dense_2 (Dense)              (None, 1)                 9         \n",
      "=================================================================\n",
      "Total params: 5,025\n",
      "Trainable params: 5,025\n",
      "Non-trainable params: 0\n",
      "_________________________________________________________________\n"
     ]
    }
   ],
   "source": [
    "model.summary()"
   ]
  },
  {
   "cell_type": "code",
   "execution_count": 22,
   "id": "absolute-intermediate",
   "metadata": {},
   "outputs": [
    {
     "name": "stdout",
     "output_type": "stream",
     "text": [
      "Model Mean Squeared Error 0.0587\n",
      "Model Mean Absolute Error 0.1953\n",
      "Model Mean Absolute Porcentual Error 30.2405\n"
     ]
    }
   ],
   "source": [
    "model_eval = model.evaluate(X_test, y_test, verbose=0)\n",
    "print(f'Model Mean Squeared Error {model_eval[1]:.4f}')\n",
    "print(f'Model Mean Absolute Error {model_eval[2]:.4f}')\n",
    "print(f'Model Mean Absolute Porcentual Error {model_eval[3]:.4f}')"
   ]
  },
  {
   "cell_type": "code",
   "execution_count": 23,
   "id": "thorough-accordance",
   "metadata": {},
   "outputs": [],
   "source": [
    "# tf.keras.losses.MAPE(y_true, y_pred)"
   ]
  },
  {
   "cell_type": "markdown",
   "id": "interior-transsexual",
   "metadata": {},
   "source": [
    "#### Prediction"
   ]
  },
  {
   "cell_type": "code",
   "execution_count": 23,
   "id": "reliable-flush",
   "metadata": {
    "tags": []
   },
   "outputs": [],
   "source": [
    "y_pred = model.predict(X_test)"
   ]
  },
  {
   "cell_type": "code",
   "execution_count": 24,
   "id": "egyptian-gilbert",
   "metadata": {},
   "outputs": [
    {
     "data": {
      "text/plain": [
       "(20, 1)"
      ]
     },
     "execution_count": 24,
     "metadata": {},
     "output_type": "execute_result"
    }
   ],
   "source": [
    "y_pred.shape"
   ]
  },
  {
   "cell_type": "code",
   "execution_count": 25,
   "id": "annoying-breathing",
   "metadata": {},
   "outputs": [
    {
     "data": {
      "text/plain": [
       "array([[0.3485594 ],\n",
       "       [0.43995297],\n",
       "       [0.32195133],\n",
       "       [0.3607194 ],\n",
       "       [0.44397822],\n",
       "       [0.391921  ],\n",
       "       [0.39082262],\n",
       "       [0.29989937],\n",
       "       [0.3243222 ],\n",
       "       [0.43995297],\n",
       "       [0.29989937],\n",
       "       [0.3342672 ],\n",
       "       [0.4163283 ],\n",
       "       [0.3243222 ],\n",
       "       [0.40793657],\n",
       "       [0.32195133],\n",
       "       [0.46158063],\n",
       "       [0.47700176],\n",
       "       [0.40793654],\n",
       "       [0.41632828]], dtype=float32)"
      ]
     },
     "execution_count": 25,
     "metadata": {},
     "output_type": "execute_result"
    }
   ],
   "source": [
    "y_pred"
   ]
  },
  {
   "cell_type": "code",
   "execution_count": 26,
   "id": "sustained-translator",
   "metadata": {},
   "outputs": [
    {
     "data": {
      "image/png": "[encoded data removed]",
      "text/plain": [
       "<Figure size 720x360 with 1 Axes>"
      ]
     },
     "metadata": {
      "needs_background": "light"
     },
     "output_type": "display_data"
    }
   ],
   "source": [
    "plt.figure(figsize=(10,5))\n",
    "plt.plot(y_test,label = 'Test')\n",
    "plt.plot(y_pred, label = 'Prediction')\n",
    "plt.legend(loc='best')\n",
    "plt.show()"
   ]
  },
  {
   "cell_type": "markdown",
   "id": "fluid-profile",
   "metadata": {},
   "source": [
    "### Reversion"
   ]
  },
  {
   "cell_type": "code",
   "execution_count": 28,
   "id": "aging-planner",
   "metadata": {},
   "outputs": [],
   "source": [
    "# def rev_min_max_func(scaled_val):\n",
    "#     max_val = max(df['target'])\n",
    "#     min_val = min(df['target'])\n",
    "#     og_val = (scaled_val*(max_val - min_val)) + min_val\n",
    "#     return og_val\n",
    "# df['pred_target'] = scaled_labeled_df['pred_scaled_target'].apply(lambda x: rev_min_max_func(x))"
   ]
  },
  {
   "cell_type": "code",
   "execution_count": 29,
   "id": "intellectual-intervention",
   "metadata": {},
   "outputs": [],
   "source": [
    "data['total_amount_claims'] = [((x*(max_ - min_)) + min_) for x in data['total_amount_claims']]"
   ]
  },
  {
   "cell_type": "code",
   "execution_count": 30,
   "id": "electrical-advertiser",
   "metadata": {},
   "outputs": [
    {
     "data": {
      "text/plain": [
       "0        16683.0\n",
       "1       201774.0\n",
       "2       263661.0\n",
       "3       799703.0\n",
       "4       900305.0\n",
       "         ...    \n",
       "127    1949930.0\n",
       "128    1725225.0\n",
       "129    2232202.0\n",
       "130    2666662.0\n",
       "131    2111986.0\n",
       "Name: total_amount_claims, Length: 132, dtype: float64"
      ]
     },
     "execution_count": 30,
     "metadata": {},
     "output_type": "execute_result"
    }
   ],
   "source": [
    "data['total_amount_claims']"
   ]
  },
  {
   "cell_type": "code",
   "execution_count": 31,
   "id": "lovely-warning",
   "metadata": {},
   "outputs": [],
   "source": [
    "y_pred = [((x*(max_ - min_)) + min_) for x in y_pred]"
   ]
  },
  {
   "cell_type": "code",
   "execution_count": 32,
   "id": "adolescent-packing",
   "metadata": {},
   "outputs": [
    {
     "data": {
      "text/plain": [
       "[array([1197923.37540248]),\n",
       " array([1144926.68906584]),\n",
       " array([1747292.39377677]),\n",
       " array([1789145.47509402]),\n",
       " array([1035516.51912847]),\n",
       " array([1035516.51912847]),\n",
       " array([1197923.37540248]),\n",
       " array([1028893.55233473]),\n",
       " array([1197923.37540248]),\n",
       " array([1197923.37540248]),\n",
       " array([1197923.37540248]),\n",
       " array([987968.67040369]),\n",
       " array([1789145.47509402]),\n",
       " array([1147499.71178368]),\n",
       " array([1308933.5105713]),\n",
       " array([1308933.5105713]),\n",
       " array([1587282.12888998]),\n",
       " array([1149542.88768095]),\n",
       " array([987968.67040369]),\n",
       " array([1147499.79075921])]"
      ]
     },
     "execution_count": 32,
     "metadata": {},
     "output_type": "execute_result"
    }
   ],
   "source": [
    "y_pred"
   ]
  },
  {
   "cell_type": "code",
   "execution_count": 33,
   "id": "seeing-youth",
   "metadata": {},
   "outputs": [
    {
     "data": {
      "image/png": "[encoded data removed]",
      "text/plain": [
       "<Figure size 720x360 with 1 Axes>"
      ]
     },
     "metadata": {
      "needs_background": "light"
     },
     "output_type": "display_data"
    }
   ],
   "source": [
    "plt.figure(figsize=(10,5))\n",
    "plt.plot(data['total_amount_claims'],label = 'Serie completa')\n",
    "plt.plot(y_pred, label = 'Prediction')\n",
    "plt.legend(loc='best')\n",
    "plt.show()"
   ]
  },
  {
   "cell_type": "code",
   "execution_count": 34,
   "id": "wired-publicity",
   "metadata": {},
   "outputs": [],
   "source": [
    "data_orig = pd.read_excel('../raw_data/weekly_data_clean.xlsx', engine='openpyxl')"
   ]
  },
  {
   "cell_type": "code",
   "execution_count": 35,
   "id": "universal-escape",
   "metadata": {},
   "outputs": [],
   "source": [
    "data_orig = data_orig.drop(columns='Unnamed: 0')"
   ]
  },
  {
   "cell_type": "code",
   "execution_count": 36,
   "id": "differential-field",
   "metadata": {},
   "outputs": [
    {
     "data": {
      "text/html": [
       "<div>\n",
       "<style scoped>\n",
       "    .dataframe tbody tr th:only-of-type {\n",
       "        vertical-align: middle;\n",
       "    }\n",
       "\n",
       "    .dataframe tbody tr th {\n",
       "        vertical-align: top;\n",
       "    }\n",
       "\n",
       "    .dataframe thead th {\n",
       "        text-align: right;\n",
       "    }\n",
       "</style>\n",
       "<table border=\"1\" class=\"dataframe\">\n",
       "  <thead>\n",
       "    <tr style=\"text-align: right;\">\n",
       "      <th></th>\n",
       "      <th>date_issue</th>\n",
       "      <th>total_amount_claims</th>\n",
       "    </tr>\n",
       "  </thead>\n",
       "  <tbody>\n",
       "    <tr>\n",
       "      <th>0</th>\n",
       "      <td>2018-09-03</td>\n",
       "      <td>16683</td>\n",
       "    </tr>\n",
       "    <tr>\n",
       "      <th>1</th>\n",
       "      <td>2018-09-10</td>\n",
       "      <td>201774</td>\n",
       "    </tr>\n",
       "    <tr>\n",
       "      <th>2</th>\n",
       "      <td>2018-09-17</td>\n",
       "      <td>263661</td>\n",
       "    </tr>\n",
       "    <tr>\n",
       "      <th>3</th>\n",
       "      <td>2018-09-24</td>\n",
       "      <td>799703</td>\n",
       "    </tr>\n",
       "    <tr>\n",
       "      <th>4</th>\n",
       "      <td>2018-10-01</td>\n",
       "      <td>900305</td>\n",
       "    </tr>\n",
       "    <tr>\n",
       "      <th>...</th>\n",
       "      <td>...</td>\n",
       "      <td>...</td>\n",
       "    </tr>\n",
       "    <tr>\n",
       "      <th>127</th>\n",
       "      <td>2021-02-08</td>\n",
       "      <td>1949930</td>\n",
       "    </tr>\n",
       "    <tr>\n",
       "      <th>128</th>\n",
       "      <td>2021-02-15</td>\n",
       "      <td>1725225</td>\n",
       "    </tr>\n",
       "    <tr>\n",
       "      <th>129</th>\n",
       "      <td>2021-02-22</td>\n",
       "      <td>2232202</td>\n",
       "    </tr>\n",
       "    <tr>\n",
       "      <th>130</th>\n",
       "      <td>2021-03-01</td>\n",
       "      <td>2666662</td>\n",
       "    </tr>\n",
       "    <tr>\n",
       "      <th>131</th>\n",
       "      <td>2021-03-08</td>\n",
       "      <td>2111986</td>\n",
       "    </tr>\n",
       "  </tbody>\n",
       "</table>\n",
       "<p>132 rows × 2 columns</p>\n",
       "</div>"
      ],
      "text/plain": [
       "    date_issue  total_amount_claims\n",
       "0   2018-09-03                16683\n",
       "1   2018-09-10               201774\n",
       "2   2018-09-17               263661\n",
       "3   2018-09-24               799703\n",
       "4   2018-10-01               900305\n",
       "..         ...                  ...\n",
       "127 2021-02-08              1949930\n",
       "128 2021-02-15              1725225\n",
       "129 2021-02-22              2232202\n",
       "130 2021-03-01              2666662\n",
       "131 2021-03-08              2111986\n",
       "\n",
       "[132 rows x 2 columns]"
      ]
     },
     "execution_count": 36,
     "metadata": {},
     "output_type": "execute_result"
    }
   ],
   "source": [
    "data_orig"
   ]
  },
  {
   "cell_type": "code",
   "execution_count": 37,
   "id": "excess-logic",
   "metadata": {},
   "outputs": [],
   "source": [
    "data['total_amount_claims'].index = pd.to_datetime(data_orig.iloc[:, 0]) #relaciona indices"
   ]
  },
  {
   "cell_type": "code",
   "execution_count": 38,
   "id": "crazy-retirement",
   "metadata": {},
   "outputs": [
    {
     "data": {
      "text/html": [
       "<div>\n",
       "<style scoped>\n",
       "    .dataframe tbody tr th:only-of-type {\n",
       "        vertical-align: middle;\n",
       "    }\n",
       "\n",
       "    .dataframe tbody tr th {\n",
       "        vertical-align: top;\n",
       "    }\n",
       "\n",
       "    .dataframe thead th {\n",
       "        text-align: right;\n",
       "    }\n",
       "</style>\n",
       "<table border=\"1\" class=\"dataframe\">\n",
       "  <thead>\n",
       "    <tr style=\"text-align: right;\">\n",
       "      <th></th>\n",
       "      <th>date_issue</th>\n",
       "      <th>total_amount_claims</th>\n",
       "    </tr>\n",
       "  </thead>\n",
       "  <tbody>\n",
       "    <tr>\n",
       "      <th>0</th>\n",
       "      <td>2018-09-03</td>\n",
       "      <td>16683.0</td>\n",
       "    </tr>\n",
       "    <tr>\n",
       "      <th>1</th>\n",
       "      <td>2018-09-10</td>\n",
       "      <td>201774.0</td>\n",
       "    </tr>\n",
       "    <tr>\n",
       "      <th>2</th>\n",
       "      <td>2018-09-17</td>\n",
       "      <td>263661.0</td>\n",
       "    </tr>\n",
       "    <tr>\n",
       "      <th>3</th>\n",
       "      <td>2018-09-24</td>\n",
       "      <td>799703.0</td>\n",
       "    </tr>\n",
       "    <tr>\n",
       "      <th>4</th>\n",
       "      <td>2018-10-01</td>\n",
       "      <td>900305.0</td>\n",
       "    </tr>\n",
       "    <tr>\n",
       "      <th>...</th>\n",
       "      <td>...</td>\n",
       "      <td>...</td>\n",
       "    </tr>\n",
       "    <tr>\n",
       "      <th>127</th>\n",
       "      <td>2021-02-08</td>\n",
       "      <td>1949930.0</td>\n",
       "    </tr>\n",
       "    <tr>\n",
       "      <th>128</th>\n",
       "      <td>2021-02-15</td>\n",
       "      <td>1725225.0</td>\n",
       "    </tr>\n",
       "    <tr>\n",
       "      <th>129</th>\n",
       "      <td>2021-02-22</td>\n",
       "      <td>2232202.0</td>\n",
       "    </tr>\n",
       "    <tr>\n",
       "      <th>130</th>\n",
       "      <td>2021-03-01</td>\n",
       "      <td>2666662.0</td>\n",
       "    </tr>\n",
       "    <tr>\n",
       "      <th>131</th>\n",
       "      <td>2021-03-08</td>\n",
       "      <td>2111986.0</td>\n",
       "    </tr>\n",
       "  </tbody>\n",
       "</table>\n",
       "<p>132 rows × 2 columns</p>\n",
       "</div>"
      ],
      "text/plain": [
       "    date_issue  total_amount_claims\n",
       "0   2018-09-03              16683.0\n",
       "1   2018-09-10             201774.0\n",
       "2   2018-09-17             263661.0\n",
       "3   2018-09-24             799703.0\n",
       "4   2018-10-01             900305.0\n",
       "..         ...                  ...\n",
       "127 2021-02-08            1949930.0\n",
       "128 2021-02-15            1725225.0\n",
       "129 2021-02-22            2232202.0\n",
       "130 2021-03-01            2666662.0\n",
       "131 2021-03-08            2111986.0\n",
       "\n",
       "[132 rows x 2 columns]"
      ]
     },
     "execution_count": 38,
     "metadata": {},
     "output_type": "execute_result"
    }
   ],
   "source": [
    "data['total_amount_claims'].reset_index()"
   ]
  },
  {
   "cell_type": "code",
   "execution_count": 39,
   "id": "developed-retirement",
   "metadata": {},
   "outputs": [
    {
     "data": {
      "text/html": [
       "<div>\n",
       "<style scoped>\n",
       "    .dataframe tbody tr th:only-of-type {\n",
       "        vertical-align: middle;\n",
       "    }\n",
       "\n",
       "    .dataframe tbody tr th {\n",
       "        vertical-align: top;\n",
       "    }\n",
       "\n",
       "    .dataframe thead th {\n",
       "        text-align: right;\n",
       "    }\n",
       "</style>\n",
       "<table border=\"1\" class=\"dataframe\">\n",
       "  <thead>\n",
       "    <tr style=\"text-align: right;\">\n",
       "      <th></th>\n",
       "      <th>y_pred</th>\n",
       "    </tr>\n",
       "  </thead>\n",
       "  <tbody>\n",
       "    <tr>\n",
       "      <th>0</th>\n",
       "      <td>1.197923e+06</td>\n",
       "    </tr>\n",
       "    <tr>\n",
       "      <th>1</th>\n",
       "      <td>1.144927e+06</td>\n",
       "    </tr>\n",
       "    <tr>\n",
       "      <th>2</th>\n",
       "      <td>1.747292e+06</td>\n",
       "    </tr>\n",
       "    <tr>\n",
       "      <th>3</th>\n",
       "      <td>1.789145e+06</td>\n",
       "    </tr>\n",
       "    <tr>\n",
       "      <th>4</th>\n",
       "      <td>1.035517e+06</td>\n",
       "    </tr>\n",
       "    <tr>\n",
       "      <th>...</th>\n",
       "      <td>...</td>\n",
       "    </tr>\n",
       "    <tr>\n",
       "      <th>127</th>\n",
       "      <td>NaN</td>\n",
       "    </tr>\n",
       "    <tr>\n",
       "      <th>128</th>\n",
       "      <td>NaN</td>\n",
       "    </tr>\n",
       "    <tr>\n",
       "      <th>129</th>\n",
       "      <td>NaN</td>\n",
       "    </tr>\n",
       "    <tr>\n",
       "      <th>130</th>\n",
       "      <td>NaN</td>\n",
       "    </tr>\n",
       "    <tr>\n",
       "      <th>131</th>\n",
       "      <td>NaN</td>\n",
       "    </tr>\n",
       "  </tbody>\n",
       "</table>\n",
       "<p>132 rows × 1 columns</p>\n",
       "</div>"
      ],
      "text/plain": [
       "           y_pred\n",
       "0    1.197923e+06\n",
       "1    1.144927e+06\n",
       "2    1.747292e+06\n",
       "3    1.789145e+06\n",
       "4    1.035517e+06\n",
       "..            ...\n",
       "127           NaN\n",
       "128           NaN\n",
       "129           NaN\n",
       "130           NaN\n",
       "131           NaN\n",
       "\n",
       "[132 rows x 1 columns]"
      ]
     },
     "execution_count": 39,
     "metadata": {},
     "output_type": "execute_result"
    }
   ],
   "source": [
    "data['y_pred'] = pd.DataFrame(y_pred)\n",
    "data[['y_pred']]"
   ]
  },
  {
   "cell_type": "code",
   "execution_count": 40,
   "id": "informed-retailer",
   "metadata": {},
   "outputs": [
    {
     "data": {
      "text/plain": [
       "105"
      ]
     },
     "execution_count": 40,
     "metadata": {},
     "output_type": "execute_result"
    }
   ],
   "source": [
    "len_ = int(0.8*data.shape[0])\n",
    "len_\n",
    "# data_train = data[:len_]\n",
    "# data_test = data[len_:]"
   ]
  },
  {
   "cell_type": "code",
   "execution_count": 41,
   "id": "ultimate-latest",
   "metadata": {},
   "outputs": [
    {
     "ename": "ValueError",
     "evalue": "Length mismatch: Expected axis has 132 elements, new values have 27 elements",
     "output_type": "error",
     "traceback": [
      "\u001b[0;31m---------------------------------------------------------------------------\u001b[0m",
      "\u001b[0;31mValueError\u001b[0m                                Traceback (most recent call last)",
      "\u001b[0;32m<ipython-input-41-01130c394573>\u001b[0m in \u001b[0;36m<module>\u001b[0;34m\u001b[0m\n\u001b[0;32m----> 1\u001b[0;31m \u001b[0mdata\u001b[0m\u001b[0;34m[\u001b[0m\u001b[0;34m[\u001b[0m\u001b[0;34m'y_pred'\u001b[0m\u001b[0;34m]\u001b[0m\u001b[0;34m]\u001b[0m\u001b[0;34m.\u001b[0m\u001b[0mindex\u001b[0m \u001b[0;34m=\u001b[0m \u001b[0mpd\u001b[0m\u001b[0;34m.\u001b[0m\u001b[0mto_datetime\u001b[0m\u001b[0;34m(\u001b[0m\u001b[0mdata_orig\u001b[0m\u001b[0;34m.\u001b[0m\u001b[0miloc\u001b[0m\u001b[0;34m[\u001b[0m\u001b[0;36m105\u001b[0m\u001b[0;34m:\u001b[0m\u001b[0;34m,\u001b[0m \u001b[0;36m0\u001b[0m\u001b[0;34m]\u001b[0m\u001b[0;34m)\u001b[0m\u001b[0;34m\u001b[0m\u001b[0;34m\u001b[0m\u001b[0m\n\u001b[0m",
      "\u001b[0;32m~/.pyenv/versions/3.8.6/envs/Insurance_claiming_forecasting/lib/python3.8/site-packages/pandas/core/generic.py\u001b[0m in \u001b[0;36m__setattr__\u001b[0;34m(self, name, value)\u001b[0m\n\u001b[1;32m   5476\u001b[0m         \u001b[0;32mtry\u001b[0m\u001b[0;34m:\u001b[0m\u001b[0;34m\u001b[0m\u001b[0;34m\u001b[0m\u001b[0m\n\u001b[1;32m   5477\u001b[0m             \u001b[0mobject\u001b[0m\u001b[0;34m.\u001b[0m\u001b[0m__getattribute__\u001b[0m\u001b[0;34m(\u001b[0m\u001b[0mself\u001b[0m\u001b[0;34m,\u001b[0m \u001b[0mname\u001b[0m\u001b[0;34m)\u001b[0m\u001b[0;34m\u001b[0m\u001b[0;34m\u001b[0m\u001b[0m\n\u001b[0;32m-> 5478\u001b[0;31m             \u001b[0;32mreturn\u001b[0m \u001b[0mobject\u001b[0m\u001b[0;34m.\u001b[0m\u001b[0m__setattr__\u001b[0m\u001b[0;34m(\u001b[0m\u001b[0mself\u001b[0m\u001b[0;34m,\u001b[0m \u001b[0mname\u001b[0m\u001b[0;34m,\u001b[0m \u001b[0mvalue\u001b[0m\u001b[0;34m)\u001b[0m\u001b[0;34m\u001b[0m\u001b[0;34m\u001b[0m\u001b[0m\n\u001b[0m\u001b[1;32m   5479\u001b[0m         \u001b[0;32mexcept\u001b[0m \u001b[0mAttributeError\u001b[0m\u001b[0;34m:\u001b[0m\u001b[0;34m\u001b[0m\u001b[0;34m\u001b[0m\u001b[0m\n\u001b[1;32m   5480\u001b[0m             \u001b[0;32mpass\u001b[0m\u001b[0;34m\u001b[0m\u001b[0;34m\u001b[0m\u001b[0m\n",
      "\u001b[0;32mpandas/_libs/properties.pyx\u001b[0m in \u001b[0;36mpandas._libs.properties.AxisProperty.__set__\u001b[0;34m()\u001b[0m\n",
      "\u001b[0;32m~/.pyenv/versions/3.8.6/envs/Insurance_claiming_forecasting/lib/python3.8/site-packages/pandas/core/generic.py\u001b[0m in \u001b[0;36m_set_axis\u001b[0;34m(self, axis, labels)\u001b[0m\n\u001b[1;32m    668\u001b[0m     \u001b[0;32mdef\u001b[0m \u001b[0m_set_axis\u001b[0m\u001b[0;34m(\u001b[0m\u001b[0mself\u001b[0m\u001b[0;34m,\u001b[0m \u001b[0maxis\u001b[0m\u001b[0;34m:\u001b[0m \u001b[0mint\u001b[0m\u001b[0;34m,\u001b[0m \u001b[0mlabels\u001b[0m\u001b[0;34m:\u001b[0m \u001b[0mIndex\u001b[0m\u001b[0;34m)\u001b[0m \u001b[0;34m->\u001b[0m \u001b[0;32mNone\u001b[0m\u001b[0;34m:\u001b[0m\u001b[0;34m\u001b[0m\u001b[0;34m\u001b[0m\u001b[0m\n\u001b[1;32m    669\u001b[0m         \u001b[0mlabels\u001b[0m \u001b[0;34m=\u001b[0m \u001b[0mensure_index\u001b[0m\u001b[0;34m(\u001b[0m\u001b[0mlabels\u001b[0m\u001b[0;34m)\u001b[0m\u001b[0;34m\u001b[0m\u001b[0;34m\u001b[0m\u001b[0m\n\u001b[0;32m--> 670\u001b[0;31m         \u001b[0mself\u001b[0m\u001b[0;34m.\u001b[0m\u001b[0m_mgr\u001b[0m\u001b[0;34m.\u001b[0m\u001b[0mset_axis\u001b[0m\u001b[0;34m(\u001b[0m\u001b[0maxis\u001b[0m\u001b[0;34m,\u001b[0m \u001b[0mlabels\u001b[0m\u001b[0;34m)\u001b[0m\u001b[0;34m\u001b[0m\u001b[0;34m\u001b[0m\u001b[0m\n\u001b[0m\u001b[1;32m    671\u001b[0m         \u001b[0mself\u001b[0m\u001b[0;34m.\u001b[0m\u001b[0m_clear_item_cache\u001b[0m\u001b[0;34m(\u001b[0m\u001b[0;34m)\u001b[0m\u001b[0;34m\u001b[0m\u001b[0;34m\u001b[0m\u001b[0m\n\u001b[1;32m    672\u001b[0m \u001b[0;34m\u001b[0m\u001b[0m\n",
      "\u001b[0;32m~/.pyenv/versions/3.8.6/envs/Insurance_claiming_forecasting/lib/python3.8/site-packages/pandas/core/internals/managers.py\u001b[0m in \u001b[0;36mset_axis\u001b[0;34m(self, axis, new_labels)\u001b[0m\n\u001b[1;32m    218\u001b[0m \u001b[0;34m\u001b[0m\u001b[0m\n\u001b[1;32m    219\u001b[0m         \u001b[0;32mif\u001b[0m \u001b[0mnew_len\u001b[0m \u001b[0;34m!=\u001b[0m \u001b[0mold_len\u001b[0m\u001b[0;34m:\u001b[0m\u001b[0;34m\u001b[0m\u001b[0;34m\u001b[0m\u001b[0m\n\u001b[0;32m--> 220\u001b[0;31m             raise ValueError(\n\u001b[0m\u001b[1;32m    221\u001b[0m                 \u001b[0;34mf\"Length mismatch: Expected axis has {old_len} elements, new \"\u001b[0m\u001b[0;34m\u001b[0m\u001b[0;34m\u001b[0m\u001b[0m\n\u001b[1;32m    222\u001b[0m                 \u001b[0;34mf\"values have {new_len} elements\"\u001b[0m\u001b[0;34m\u001b[0m\u001b[0;34m\u001b[0m\u001b[0m\n",
      "\u001b[0;31mValueError\u001b[0m: Length mismatch: Expected axis has 132 elements, new values have 27 elements"
     ]
    }
   ],
   "source": [
    "data[['y_pred']].index = pd.to_datetime(data_orig.iloc[105:, 0])"
   ]
  },
  {
   "cell_type": "code",
   "execution_count": null,
   "id": "alpha-bridge",
   "metadata": {},
   "outputs": [],
   "source": []
  }
 ],
 "metadata": {
  "kernelspec": {
   "display_name": "Python 3",
   "language": "python",
   "name": "python3"
  },
  "language_info": {
   "codemirror_mode": {
    "name": "ipython",
    "version": 3
   },
   "file_extension": ".py",
   "mimetype": "text/x-python",
   "name": "python",
   "nbconvert_exporter": "python",
   "pygments_lexer": "ipython3",
   "version": "3.8.6"
  }
 },
 "nbformat": 4,
 "nbformat_minor": 5
}
