{
 "cells": [
  {
   "cell_type": "markdown",
   "id": "brilliant-yahoo",
   "metadata": {},
   "source": [
    "# RNN - Insurance"
   ]
  },
  {
   "cell_type": "code",
   "execution_count": 1,
   "id": "narrow-heart",
   "metadata": {},
   "outputs": [],
   "source": [
    "import pandas as pd\n",
    "import numpy as np\n",
    "import matplotlib.pyplot as plt"
   ]
  },
  {
   "cell_type": "code",
   "execution_count": 2,
   "id": "unique-teddy",
   "metadata": {},
   "outputs": [],
   "source": [
    "data = pd.read_excel('../raw_data/daily_data_clean.xlsx', engine='openpyxl')"
   ]
  },
  {
   "cell_type": "code",
   "execution_count": 3,
   "id": "similar-animal",
   "metadata": {},
   "outputs": [],
   "source": [
    "data = data.drop(columns=['Unnamed: 0', 'date_issue'])"
   ]
  },
  {
   "cell_type": "code",
   "execution_count": 4,
   "id": "prostate-fight",
   "metadata": {},
   "outputs": [
    {
     "data": {
      "text/html": [
       "<div>\n",
       "<style scoped>\n",
       "    .dataframe tbody tr th:only-of-type {\n",
       "        vertical-align: middle;\n",
       "    }\n",
       "\n",
       "    .dataframe tbody tr th {\n",
       "        vertical-align: top;\n",
       "    }\n",
       "\n",
       "    .dataframe thead th {\n",
       "        text-align: right;\n",
       "    }\n",
       "</style>\n",
       "<table border=\"1\" class=\"dataframe\">\n",
       "  <thead>\n",
       "    <tr style=\"text-align: right;\">\n",
       "      <th></th>\n",
       "      <th>total_amount_claims</th>\n",
       "    </tr>\n",
       "  </thead>\n",
       "  <tbody>\n",
       "    <tr>\n",
       "      <th>0</th>\n",
       "      <td>168</td>\n",
       "    </tr>\n",
       "    <tr>\n",
       "      <th>1</th>\n",
       "      <td>346</td>\n",
       "    </tr>\n",
       "    <tr>\n",
       "      <th>2</th>\n",
       "      <td>16169</td>\n",
       "    </tr>\n",
       "    <tr>\n",
       "      <th>3</th>\n",
       "      <td>28529</td>\n",
       "    </tr>\n",
       "    <tr>\n",
       "      <th>4</th>\n",
       "      <td>64135</td>\n",
       "    </tr>\n",
       "    <tr>\n",
       "      <th>...</th>\n",
       "      <td>...</td>\n",
       "    </tr>\n",
       "    <tr>\n",
       "      <th>915</th>\n",
       "      <td>350720</td>\n",
       "    </tr>\n",
       "    <tr>\n",
       "      <th>916</th>\n",
       "      <td>293427</td>\n",
       "    </tr>\n",
       "    <tr>\n",
       "      <th>917</th>\n",
       "      <td>333658</td>\n",
       "    </tr>\n",
       "    <tr>\n",
       "      <th>918</th>\n",
       "      <td>139824</td>\n",
       "    </tr>\n",
       "    <tr>\n",
       "      <th>919</th>\n",
       "      <td>111107</td>\n",
       "    </tr>\n",
       "  </tbody>\n",
       "</table>\n",
       "<p>920 rows × 1 columns</p>\n",
       "</div>"
      ],
      "text/plain": [
       "     total_amount_claims\n",
       "0                    168\n",
       "1                    346\n",
       "2                  16169\n",
       "3                  28529\n",
       "4                  64135\n",
       "..                   ...\n",
       "915               350720\n",
       "916               293427\n",
       "917               333658\n",
       "918               139824\n",
       "919               111107\n",
       "\n",
       "[920 rows x 1 columns]"
      ]
     },
     "execution_count": 4,
     "metadata": {},
     "output_type": "execute_result"
    }
   ],
   "source": [
    "data"
   ]
  },
  {
   "cell_type": "code",
   "execution_count": 5,
   "id": "associate-wilderness",
   "metadata": {},
   "outputs": [
    {
     "name": "stdout",
     "output_type": "stream",
     "text": [
      "min:  31\n",
      "max:  713904\n"
     ]
    }
   ],
   "source": [
    "print(\"min: \",data['total_amount_claims'].min())\n",
    "print(\"max: \",data['total_amount_claims'].max())"
   ]
  },
  {
   "cell_type": "code",
   "execution_count": 4,
   "id": "arctic-saskatchewan",
   "metadata": {},
   "outputs": [
    {
     "data": {
      "text/plain": [
       "date_issue             2018-09-30 00:00:00\n",
       "total_amount_claims                 686066\n",
       "dtype: object"
      ]
     },
     "execution_count": 4,
     "metadata": {},
     "output_type": "execute_result"
    }
   ],
   "source": [
    "# data_sept_18 = data[data['date_issue'] < '2018-10-01']\n",
    "# data_sept_18.max()"
   ]
  },
  {
   "cell_type": "code",
   "execution_count": 5,
   "id": "special-motorcycle",
   "metadata": {},
   "outputs": [
    {
     "data": {
      "text/plain": [
       "date_issue             2018-10-31 00:00:00\n",
       "total_amount_claims                 334808\n",
       "dtype: object"
      ]
     },
     "execution_count": 5,
     "metadata": {},
     "output_type": "execute_result"
    }
   ],
   "source": [
    "# data_oct_18 = data[(data['date_issue'] < '2018-11-01') & (data['date_issue']>'2018-10-01')]\n",
    "# data_oct_18.max()"
   ]
  },
  {
   "cell_type": "code",
   "execution_count": 6,
   "id": "separated-router",
   "metadata": {},
   "outputs": [
    {
     "data": {
      "text/plain": [
       "(920, 1)"
      ]
     },
     "execution_count": 6,
     "metadata": {},
     "output_type": "execute_result"
    }
   ],
   "source": [
    "data.shape"
   ]
  },
  {
   "cell_type": "code",
   "execution_count": 7,
   "id": "mediterranean-husband",
   "metadata": {},
   "outputs": [],
   "source": [
    "min_ = data['total_amount_claims'].min()\n",
    "max_ = data['total_amount_claims'].max()\n",
    "\n",
    "data['total_amount_claims'] = [((x - min_) / (max_ - min_)) for x in data['total_amount_claims']]"
   ]
  },
  {
   "cell_type": "code",
   "execution_count": 8,
   "id": "starting-exhibition",
   "metadata": {},
   "outputs": [
    {
     "data": {
      "text/html": [
       "<div>\n",
       "<style scoped>\n",
       "    .dataframe tbody tr th:only-of-type {\n",
       "        vertical-align: middle;\n",
       "    }\n",
       "\n",
       "    .dataframe tbody tr th {\n",
       "        vertical-align: top;\n",
       "    }\n",
       "\n",
       "    .dataframe thead th {\n",
       "        text-align: right;\n",
       "    }\n",
       "</style>\n",
       "<table border=\"1\" class=\"dataframe\">\n",
       "  <thead>\n",
       "    <tr style=\"text-align: right;\">\n",
       "      <th></th>\n",
       "      <th>total_amount_claims</th>\n",
       "    </tr>\n",
       "  </thead>\n",
       "  <tbody>\n",
       "    <tr>\n",
       "      <th>0</th>\n",
       "      <td>0.000192</td>\n",
       "    </tr>\n",
       "    <tr>\n",
       "      <th>1</th>\n",
       "      <td>0.000441</td>\n",
       "    </tr>\n",
       "    <tr>\n",
       "      <th>2</th>\n",
       "      <td>0.022606</td>\n",
       "    </tr>\n",
       "    <tr>\n",
       "      <th>3</th>\n",
       "      <td>0.039920</td>\n",
       "    </tr>\n",
       "    <tr>\n",
       "      <th>4</th>\n",
       "      <td>0.089797</td>\n",
       "    </tr>\n",
       "    <tr>\n",
       "      <th>...</th>\n",
       "      <td>...</td>\n",
       "    </tr>\n",
       "    <tr>\n",
       "      <th>915</th>\n",
       "      <td>0.491248</td>\n",
       "    </tr>\n",
       "    <tr>\n",
       "      <th>916</th>\n",
       "      <td>0.410992</td>\n",
       "    </tr>\n",
       "    <tr>\n",
       "      <th>917</th>\n",
       "      <td>0.467348</td>\n",
       "    </tr>\n",
       "    <tr>\n",
       "      <th>918</th>\n",
       "      <td>0.195823</td>\n",
       "    </tr>\n",
       "    <tr>\n",
       "      <th>919</th>\n",
       "      <td>0.155596</td>\n",
       "    </tr>\n",
       "  </tbody>\n",
       "</table>\n",
       "<p>920 rows × 1 columns</p>\n",
       "</div>"
      ],
      "text/plain": [
       "     total_amount_claims\n",
       "0               0.000192\n",
       "1               0.000441\n",
       "2               0.022606\n",
       "3               0.039920\n",
       "4               0.089797\n",
       "..                   ...\n",
       "915             0.491248\n",
       "916             0.410992\n",
       "917             0.467348\n",
       "918             0.195823\n",
       "919             0.155596\n",
       "\n",
       "[920 rows x 1 columns]"
      ]
     },
     "execution_count": 8,
     "metadata": {},
     "output_type": "execute_result"
    }
   ],
   "source": [
    "data"
   ]
  },
  {
   "cell_type": "markdown",
   "id": "accessible-teacher",
   "metadata": {},
   "source": [
    "### Split data"
   ]
  },
  {
   "cell_type": "code",
   "execution_count": 9,
   "id": "equal-blocking",
   "metadata": {},
   "outputs": [],
   "source": [
    "len_ = int(0.8*data.shape[0])\n",
    "\n",
    "data_train = data[:len_]\n",
    "data_test = data[len_:]"
   ]
  },
  {
   "cell_type": "code",
   "execution_count": 10,
   "id": "chronic-target",
   "metadata": {},
   "outputs": [
    {
     "name": "stdout",
     "output_type": "stream",
     "text": [
      "(736, 1)\n",
      "(184, 1)\n"
     ]
    }
   ],
   "source": [
    "print(data_train.shape)\n",
    "print(data_test.shape)"
   ]
  },
  {
   "cell_type": "markdown",
   "id": "enhanced-webmaster",
   "metadata": {},
   "source": [
    "### Sequences"
   ]
  },
  {
   "cell_type": "code",
   "execution_count": 11,
   "id": "military-ecology",
   "metadata": {},
   "outputs": [],
   "source": [
    "def subsample_sequence(data, length):\n",
    "    \n",
    "    last_possible = data.shape[0] - length\n",
    "    \n",
    "    random_start = np.random.randint(0, last_possible)\n",
    "    data_sample = data[random_start: random_start+length]\n",
    "    \n",
    "    return data_sample"
   ]
  },
  {
   "cell_type": "code",
   "execution_count": 12,
   "id": "dominant-olive",
   "metadata": {},
   "outputs": [
    {
     "data": {
      "text/html": [
       "<div>\n",
       "<style scoped>\n",
       "    .dataframe tbody tr th:only-of-type {\n",
       "        vertical-align: middle;\n",
       "    }\n",
       "\n",
       "    .dataframe tbody tr th {\n",
       "        vertical-align: top;\n",
       "    }\n",
       "\n",
       "    .dataframe thead th {\n",
       "        text-align: right;\n",
       "    }\n",
       "</style>\n",
       "<table border=\"1\" class=\"dataframe\">\n",
       "  <thead>\n",
       "    <tr style=\"text-align: right;\">\n",
       "      <th></th>\n",
       "      <th>total_amount_claims</th>\n",
       "    </tr>\n",
       "  </thead>\n",
       "  <tbody>\n",
       "    <tr>\n",
       "      <th>815</th>\n",
       "      <td>0.256701</td>\n",
       "    </tr>\n",
       "    <tr>\n",
       "      <th>816</th>\n",
       "      <td>0.338060</td>\n",
       "    </tr>\n",
       "    <tr>\n",
       "      <th>817</th>\n",
       "      <td>0.352937</td>\n",
       "    </tr>\n",
       "    <tr>\n",
       "      <th>818</th>\n",
       "      <td>0.224158</td>\n",
       "    </tr>\n",
       "    <tr>\n",
       "      <th>819</th>\n",
       "      <td>0.279838</td>\n",
       "    </tr>\n",
       "    <tr>\n",
       "      <th>820</th>\n",
       "      <td>0.184629</td>\n",
       "    </tr>\n",
       "    <tr>\n",
       "      <th>821</th>\n",
       "      <td>0.391025</td>\n",
       "    </tr>\n",
       "    <tr>\n",
       "      <th>822</th>\n",
       "      <td>0.276109</td>\n",
       "    </tr>\n",
       "    <tr>\n",
       "      <th>823</th>\n",
       "      <td>0.277287</td>\n",
       "    </tr>\n",
       "    <tr>\n",
       "      <th>824</th>\n",
       "      <td>0.209670</td>\n",
       "    </tr>\n",
       "  </tbody>\n",
       "</table>\n",
       "</div>"
      ],
      "text/plain": [
       "     total_amount_claims\n",
       "815             0.256701\n",
       "816             0.338060\n",
       "817             0.352937\n",
       "818             0.224158\n",
       "819             0.279838\n",
       "820             0.184629\n",
       "821             0.391025\n",
       "822             0.276109\n",
       "823             0.277287\n",
       "824             0.209670"
      ]
     },
     "execution_count": 12,
     "metadata": {},
     "output_type": "execute_result"
    }
   ],
   "source": [
    "data_subsample = subsample_sequence(data, 10)\n",
    "data_subsample"
   ]
  },
  {
   "cell_type": "code",
   "execution_count": 13,
   "id": "greek-vector",
   "metadata": {},
   "outputs": [],
   "source": [
    "def fillna(X, data_mean):\n",
    "    # Replace with NaN of the other hours. \n",
    "    na = X.mean()\n",
    "    \n",
    "    # If the other hours are also nans, then replace with mean value of the dataframe\n",
    "    na.fillna(data_mean)\n",
    "    return na\n",
    "\n",
    "def split_subsample_sequence(data, length, data_mean=None):\n",
    "    # Little trick to improve the time\n",
    "    if data_mean is None:\n",
    "        data_mean = data.mean()\n",
    "              \n",
    "    data_subsample = subsample_sequence(data, length)\n",
    "    y_sample = data_subsample.iloc[data_subsample.shape[0]-1]['total_amount_claims']\n",
    "    \n",
    "    if y_sample != y_sample: # A value is not equal to itself only for NaN. So it will be True if y_sample is nan\n",
    "        X_sample, y_sample = split_subsample_sequence(data, length, data_mean)\n",
    "        return np.array(X_sample), np.array(y_sample)\n",
    "    \n",
    "    X_sample = data_subsample[0:data_subsample.shape[0]-1]\n",
    "    X_sample = X_sample.fillna(fillna(X_sample, data_mean))\n",
    "    X_sample = X_sample.values\n",
    "    \n",
    "    return np.array(X_sample), np.array(y_sample)"
   ]
  },
  {
   "cell_type": "code",
   "execution_count": 14,
   "id": "expressed-phone",
   "metadata": {},
   "outputs": [],
   "source": [
    "def get_X_y(data, number_of_sequences, length):\n",
    "    X, y = [], []\n",
    "\n",
    "    for i in range(number_of_sequences):\n",
    "        xi, yi = split_subsample_sequence(data, length)\n",
    "        X.append(xi)\n",
    "        y.append(yi)\n",
    "        \n",
    "    X = np.array(X)\n",
    "    y = np.array(y)\n",
    "        \n",
    "    return X, y"
   ]
  },
  {
   "cell_type": "code",
   "execution_count": 26,
   "id": "narrative-screen",
   "metadata": {},
   "outputs": [],
   "source": [
    "X_train, y_train = get_X_y(data_train, 500, 30)\n",
    "X_test, y_test = get_X_y(data_test, 100, 30)"
   ]
  },
  {
   "cell_type": "code",
   "execution_count": null,
   "id": "dangerous-norway",
   "metadata": {},
   "outputs": [],
   "source": [
    "# !pip install tensorflow"
   ]
  },
  {
   "cell_type": "code",
   "execution_count": 27,
   "id": "beautiful-thomas",
   "metadata": {},
   "outputs": [
    {
     "name": "stdout",
     "output_type": "stream",
     "text": [
      "X train size:(500, 29, 1)\n",
      "X test size:(100, 29, 1)\n",
      "y train size:(500,)\n",
      "y test size:(100,)\n"
     ]
    }
   ],
   "source": [
    "print(f'X train size:{X_train.shape}')\n",
    "print(f'X test size:{X_test.shape}')\n",
    "print(f'y train size:{y_train.shape}')\n",
    "print(f'y test size:{y_test.shape}')"
   ]
  },
  {
   "cell_type": "code",
   "execution_count": null,
   "id": "circular-ceiling",
   "metadata": {},
   "outputs": [],
   "source": [
    "X_train"
   ]
  },
  {
   "cell_type": "code",
   "execution_count": 28,
   "id": "polish-minute",
   "metadata": {},
   "outputs": [],
   "source": [
    "from tensorflow.keras import models\n",
    "from tensorflow.keras import layers\n",
    "\n",
    "model = models.Sequential()\n",
    "\n",
    "model.add(layers.LSTM(20, activation='tanh'))\n",
    "model.add(layers.Dense(5, activation='relu'))\n",
    "model.add(layers.Dense(1, activation='linear'))"
   ]
  },
  {
   "cell_type": "code",
   "execution_count": 29,
   "id": "infrared-vegetable",
   "metadata": {},
   "outputs": [],
   "source": [
    "model.compile(loss='mse', \n",
    "              optimizer='rmsprop', \n",
    "              metrics=['mae', 'mape'])"
   ]
  },
  {
   "cell_type": "code",
   "execution_count": 30,
   "id": "formal-valentine",
   "metadata": {},
   "outputs": [
    {
     "name": "stdout",
     "output_type": "stream",
     "text": [
      "Epoch 1/100\n",
      "25/25 [==============================] - 3s 41ms/step - loss: 0.0164 - mae: 0.0835 - mape: 266.9972 - val_loss: 0.0141 - val_mae: 0.0784 - val_mape: 449.3033\n",
      "Epoch 2/100\n",
      "25/25 [==============================] - 0s 16ms/step - loss: 0.0124 - mae: 0.0768 - mape: 485.7995 - val_loss: 0.0137 - val_mae: 0.0742 - val_mape: 385.7747\n",
      "Epoch 3/100\n",
      "25/25 [==============================] - 0s 14ms/step - loss: 0.0149 - mae: 0.0742 - mape: 430.6113 - val_loss: 0.0143 - val_mae: 0.0739 - val_mape: 289.1373\n",
      "Epoch 4/100\n",
      "25/25 [==============================] - 0s 15ms/step - loss: 0.0097 - mae: 0.0653 - mape: 414.9932 - val_loss: 0.0125 - val_mae: 0.0730 - val_mape: 386.3169\n",
      "Epoch 5/100\n",
      "25/25 [==============================] - 0s 15ms/step - loss: 0.0143 - mae: 0.0731 - mape: 467.0925 - val_loss: 0.0138 - val_mae: 0.0733 - val_mape: 269.3215\n",
      "Epoch 6/100\n",
      "25/25 [==============================] - 0s 15ms/step - loss: 0.0100 - mae: 0.0662 - mape: 322.0569 - val_loss: 0.0122 - val_mae: 0.0734 - val_mape: 396.5304\n",
      "Epoch 7/100\n",
      "25/25 [==============================] - 0s 17ms/step - loss: 0.0110 - mae: 0.0647 - mape: 388.4434 - val_loss: 0.0119 - val_mae: 0.0717 - val_mape: 364.3386\n",
      "Epoch 8/100\n",
      "25/25 [==============================] - 0s 14ms/step - loss: 0.0120 - mae: 0.0704 - mape: 414.2454 - val_loss: 0.0127 - val_mae: 0.0713 - val_mape: 302.0501\n",
      "Epoch 9/100\n",
      "25/25 [==============================] - 0s 15ms/step - loss: 0.0120 - mae: 0.0677 - mape: 314.2855 - val_loss: 0.0124 - val_mae: 0.0709 - val_mape: 325.1481\n",
      "Epoch 10/100\n",
      "25/25 [==============================] - 0s 15ms/step - loss: 0.0096 - mae: 0.0676 - mape: 422.8137 - val_loss: 0.0123 - val_mae: 0.0709 - val_mape: 326.8976\n",
      "Restoring model weights from the end of the best epoch.\n",
      "Epoch 00010: early stopping\n"
     ]
    }
   ],
   "source": [
    "from tensorflow.keras.callbacks import EarlyStopping\n",
    "\n",
    "es = EarlyStopping(monitor='val_loss', mode='min', verbose=1, patience=3, restore_best_weights=True)\n",
    "\n",
    "history = model.fit(X_train, y_train,\n",
    "            validation_split=0.2,\n",
    "            epochs=100, \n",
    "            batch_size=16,\n",
    "            callbacks=[es])"
   ]
  },
  {
   "cell_type": "code",
   "execution_count": 31,
   "id": "sapphire-yukon",
   "metadata": {},
   "outputs": [
    {
     "name": "stdout",
     "output_type": "stream",
     "text": [
      "Model: \"sequential_1\"\n",
      "_________________________________________________________________\n",
      "Layer (type)                 Output Shape              Param #   \n",
      "=================================================================\n",
      "lstm_1 (LSTM)                (None, 20)                1760      \n",
      "_________________________________________________________________\n",
      "dense_2 (Dense)              (None, 5)                 105       \n",
      "_________________________________________________________________\n",
      "dense_3 (Dense)              (None, 1)                 6         \n",
      "=================================================================\n",
      "Total params: 1,871\n",
      "Trainable params: 1,871\n",
      "Non-trainable params: 0\n",
      "_________________________________________________________________\n"
     ]
    }
   ],
   "source": [
    "model.summary()"
   ]
  },
  {
   "cell_type": "code",
   "execution_count": 32,
   "id": "convinced-subcommittee",
   "metadata": {},
   "outputs": [
    {
     "name": "stdout",
     "output_type": "stream",
     "text": [
      "Model Mean Absolute Error 0.1169\n",
      "Model Mean Absolute Porcentual Error 55.7532\n"
     ]
    }
   ],
   "source": [
    "model_eval = model.evaluate(X_test, y_test, verbose=0)\n",
    "print(f'Model Mean Absolute Error {model_eval[1]:.4f}')\n",
    "print(f'Model Mean Absolute Porcentual Error {model_eval[2]:.4f}')"
   ]
  },
  {
   "cell_type": "code",
   "execution_count": null,
   "id": "sought-uncle",
   "metadata": {},
   "outputs": [],
   "source": [
    "# tf.keras.losses.MAPE(\n",
    "#     y_true, y_pred\n",
    "# )"
   ]
  },
  {
   "cell_type": "markdown",
   "id": "perfect-mustang",
   "metadata": {},
   "source": [
    "#### Prediction"
   ]
  },
  {
   "cell_type": "code",
   "execution_count": 33,
   "id": "active-observation",
   "metadata": {
    "tags": []
   },
   "outputs": [],
   "source": [
    "predict = model.predict(X_test)"
   ]
  },
  {
   "cell_type": "code",
   "execution_count": 34,
   "id": "premier-newman",
   "metadata": {},
   "outputs": [
    {
     "data": {
      "text/plain": [
       "array([[0.24312711],\n",
       "       [0.27108467],\n",
       "       [0.35764173],\n",
       "       [0.24719729],\n",
       "       [0.2549387 ],\n",
       "       [0.3489181 ],\n",
       "       [0.3942797 ],\n",
       "       [0.26300493],\n",
       "       [0.26300493],\n",
       "       [0.25205803],\n",
       "       [0.35468993],\n",
       "       [0.36447686],\n",
       "       [0.35243675],\n",
       "       [0.2641001 ],\n",
       "       [0.369903  ],\n",
       "       [0.26300493],\n",
       "       [0.28531978],\n",
       "       [0.27108467],\n",
       "       [0.26651087],\n",
       "       [0.25844154],\n",
       "       [0.26292005],\n",
       "       [0.3791258 ],\n",
       "       [0.3546786 ],\n",
       "       [0.2638147 ],\n",
       "       [0.24127091],\n",
       "       [0.26485988],\n",
       "       [0.26637736],\n",
       "       [0.22870083],\n",
       "       [0.3546786 ],\n",
       "       [0.26159796],\n",
       "       [0.20288703],\n",
       "       [0.23760629],\n",
       "       [0.3546786 ],\n",
       "       [0.26667777],\n",
       "       [0.21870291],\n",
       "       [0.20685267],\n",
       "       [0.45756176],\n",
       "       [0.35007855],\n",
       "       [0.34293452],\n",
       "       [0.2401365 ],\n",
       "       [0.20330295],\n",
       "       [0.23760627],\n",
       "       [0.32362542],\n",
       "       [0.27018037],\n",
       "       [0.23750004],\n",
       "       [0.34467646],\n",
       "       [0.19850928],\n",
       "       [0.2017963 ],\n",
       "       [0.21627778],\n",
       "       [0.2606004 ],\n",
       "       [0.27018037],\n",
       "       [0.26558962],\n",
       "       [0.20330295],\n",
       "       [0.22870083],\n",
       "       [0.2017963 ],\n",
       "       [0.23485158],\n",
       "       [0.26656008],\n",
       "       [0.23588872],\n",
       "       [0.2467439 ],\n",
       "       [0.40744862],\n",
       "       [0.27387443],\n",
       "       [0.2008371 ],\n",
       "       [0.2684418 ],\n",
       "       [0.26381472],\n",
       "       [0.36112335],\n",
       "       [0.25844154],\n",
       "       [0.44328436],\n",
       "       [0.26702422],\n",
       "       [0.2516264 ],\n",
       "       [0.4306601 ],\n",
       "       [0.26654467],\n",
       "       [0.24127091],\n",
       "       [0.20330295],\n",
       "       [0.23485158],\n",
       "       [0.22692794],\n",
       "       [0.1977528 ],\n",
       "       [0.20330295],\n",
       "       [0.20170705],\n",
       "       [0.1946018 ],\n",
       "       [0.19166085],\n",
       "       [0.24226767],\n",
       "       [0.18951306],\n",
       "       [0.35873285],\n",
       "       [0.27387443],\n",
       "       [0.25205803],\n",
       "       [0.3546786 ],\n",
       "       [0.20685267],\n",
       "       [0.27711803],\n",
       "       [0.25871614],\n",
       "       [0.2401365 ],\n",
       "       [0.26055226],\n",
       "       [0.2608447 ],\n",
       "       [0.2729049 ],\n",
       "       [0.23185341],\n",
       "       [0.2401365 ],\n",
       "       [0.32362545],\n",
       "       [0.36112335],\n",
       "       [0.2674691 ],\n",
       "       [0.3942797 ],\n",
       "       [0.2516264 ]], dtype=float32)"
      ]
     },
     "execution_count": 34,
     "metadata": {},
     "output_type": "execute_result"
    }
   ],
   "source": [
    "predict"
   ]
  },
  {
   "cell_type": "code",
   "execution_count": 35,
   "id": "martial-sphere",
   "metadata": {},
   "outputs": [
    {
     "data": {
      "image/png": "[encoded data removed]",
      "text/plain": [
       "<Figure size 1080x720 with 1 Axes>"
      ]
     },
     "metadata": {
      "needs_background": "light"
     },
     "output_type": "display_data"
    }
   ],
   "source": [
    "plt.figure(figsize=(15,10))\n",
    "plt.plot(y_test,label = 'Test')\n",
    "plt.plot(predict, label = 'Prediction')\n",
    "plt.legend(loc='best')\n",
    "plt.show()"
   ]
  },
  {
   "cell_type": "code",
   "execution_count": null,
   "id": "bulgarian-request",
   "metadata": {},
   "outputs": [],
   "source": []
  }
 ],
 "metadata": {
  "kernelspec": {
   "display_name": "Python 3",
   "language": "python",
   "name": "python3"
  },
  "language_info": {
   "codemirror_mode": {
    "name": "ipython",
    "version": 3
   },
   "file_extension": ".py",
   "mimetype": "text/x-python",
   "name": "python",
   "nbconvert_exporter": "python",
   "pygments_lexer": "ipython3",
   "version": "3.8.6"
  }
 },
 "nbformat": 4,
 "nbformat_minor": 5
}
